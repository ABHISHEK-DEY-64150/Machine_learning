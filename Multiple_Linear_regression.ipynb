{
  "nbformat": 4,
  "nbformat_minor": 0,
  "metadata": {
    "colab": {
      "provenance": [],
      "authorship_tag": "ABX9TyM2UXsnlEfI132OUO5jgfvr",
      "include_colab_link": true
    },
    "kernelspec": {
      "name": "python3",
      "display_name": "Python 3"
    },
    "language_info": {
      "name": "python"
    }
  },
  "cells": [
    {
      "cell_type": "markdown",
      "metadata": {
        "id": "view-in-github",
        "colab_type": "text"
      },
      "source": [
        "<a href=\"https://colab.research.google.com/github/ABHISHEK-DEY-64150/Machine_learning/blob/main/Multiple_Linear_regression.ipynb\" target=\"_parent\"><img src=\"https://colab.research.google.com/assets/colab-badge.svg\" alt=\"Open In Colab\"/></a>"
      ]
    },
    {
      "cell_type": "code",
      "execution_count": null,
      "metadata": {
        "id": "tJrwKK7C7oJe"
      },
      "outputs": [],
      "source": [
        "import numpy as np\n",
        "import pandas as pd\n",
        "import matplotlib.pyplot as plt"
      ]
    },
    {
      "cell_type": "code",
      "source": [
        "x = [[2,800],[2,1000],[3,1200],[3,1400],[3,1500], [4,1800], [4,2000], [5,2500]]\n",
        "y = [2000,3000,4000,4200,4500,5000,5500,6500]"
      ],
      "metadata": {
        "id": "UOKmeiDW7x8K"
      },
      "execution_count": null,
      "outputs": []
    },
    {
      "cell_type": "code",
      "source": [
        "#Loading The Rooms,Area and Price into pandas DataFrame\n",
        "\n",
        "df = pd.DataFrame(x,columns = ['Rooms','Area'])\n",
        "df['Price(k BDT)'] = pd.Series(y)\n",
        "df"
      ],
      "metadata": {
        "colab": {
          "base_uri": "https://localhost:8080/",
          "height": 300
        },
        "id": "NGoAy6mn71Oz",
        "outputId": "d7cec47a-d242-4f38-8da1-b0713abbd4cc"
      },
      "execution_count": null,
      "outputs": [
        {
          "output_type": "execute_result",
          "data": {
            "text/plain": [
              "   Rooms  Area  Price(k BDT)\n",
              "0      2   800          2000\n",
              "1      2  1000          3000\n",
              "2      3  1200          4000\n",
              "3      3  1400          4200\n",
              "4      3  1500          4500\n",
              "5      4  1800          5000\n",
              "6      4  2000          5500\n",
              "7      5  2500          6500"
            ],
            "text/html": [
              "\n",
              "  <div id=\"df-c6b6a8e3-e492-46aa-9472-e9a1864c99fd\">\n",
              "    <div class=\"colab-df-container\">\n",
              "      <div>\n",
              "<style scoped>\n",
              "    .dataframe tbody tr th:only-of-type {\n",
              "        vertical-align: middle;\n",
              "    }\n",
              "\n",
              "    .dataframe tbody tr th {\n",
              "        vertical-align: top;\n",
              "    }\n",
              "\n",
              "    .dataframe thead th {\n",
              "        text-align: right;\n",
              "    }\n",
              "</style>\n",
              "<table border=\"1\" class=\"dataframe\">\n",
              "  <thead>\n",
              "    <tr style=\"text-align: right;\">\n",
              "      <th></th>\n",
              "      <th>Rooms</th>\n",
              "      <th>Area</th>\n",
              "      <th>Price(k BDT)</th>\n",
              "    </tr>\n",
              "  </thead>\n",
              "  <tbody>\n",
              "    <tr>\n",
              "      <th>0</th>\n",
              "      <td>2</td>\n",
              "      <td>800</td>\n",
              "      <td>2000</td>\n",
              "    </tr>\n",
              "    <tr>\n",
              "      <th>1</th>\n",
              "      <td>2</td>\n",
              "      <td>1000</td>\n",
              "      <td>3000</td>\n",
              "    </tr>\n",
              "    <tr>\n",
              "      <th>2</th>\n",
              "      <td>3</td>\n",
              "      <td>1200</td>\n",
              "      <td>4000</td>\n",
              "    </tr>\n",
              "    <tr>\n",
              "      <th>3</th>\n",
              "      <td>3</td>\n",
              "      <td>1400</td>\n",
              "      <td>4200</td>\n",
              "    </tr>\n",
              "    <tr>\n",
              "      <th>4</th>\n",
              "      <td>3</td>\n",
              "      <td>1500</td>\n",
              "      <td>4500</td>\n",
              "    </tr>\n",
              "    <tr>\n",
              "      <th>5</th>\n",
              "      <td>4</td>\n",
              "      <td>1800</td>\n",
              "      <td>5000</td>\n",
              "    </tr>\n",
              "    <tr>\n",
              "      <th>6</th>\n",
              "      <td>4</td>\n",
              "      <td>2000</td>\n",
              "      <td>5500</td>\n",
              "    </tr>\n",
              "    <tr>\n",
              "      <th>7</th>\n",
              "      <td>5</td>\n",
              "      <td>2500</td>\n",
              "      <td>6500</td>\n",
              "    </tr>\n",
              "  </tbody>\n",
              "</table>\n",
              "</div>\n",
              "      <button class=\"colab-df-convert\" onclick=\"convertToInteractive('df-c6b6a8e3-e492-46aa-9472-e9a1864c99fd')\"\n",
              "              title=\"Convert this dataframe to an interactive table.\"\n",
              "              style=\"display:none;\">\n",
              "        \n",
              "  <svg xmlns=\"http://www.w3.org/2000/svg\" height=\"24px\"viewBox=\"0 0 24 24\"\n",
              "       width=\"24px\">\n",
              "    <path d=\"M0 0h24v24H0V0z\" fill=\"none\"/>\n",
              "    <path d=\"M18.56 5.44l.94 2.06.94-2.06 2.06-.94-2.06-.94-.94-2.06-.94 2.06-2.06.94zm-11 1L8.5 8.5l.94-2.06 2.06-.94-2.06-.94L8.5 2.5l-.94 2.06-2.06.94zm10 10l.94 2.06.94-2.06 2.06-.94-2.06-.94-.94-2.06-.94 2.06-2.06.94z\"/><path d=\"M17.41 7.96l-1.37-1.37c-.4-.4-.92-.59-1.43-.59-.52 0-1.04.2-1.43.59L10.3 9.45l-7.72 7.72c-.78.78-.78 2.05 0 2.83L4 21.41c.39.39.9.59 1.41.59.51 0 1.02-.2 1.41-.59l7.78-7.78 2.81-2.81c.8-.78.8-2.07 0-2.86zM5.41 20L4 18.59l7.72-7.72 1.47 1.35L5.41 20z\"/>\n",
              "  </svg>\n",
              "      </button>\n",
              "      \n",
              "  <style>\n",
              "    .colab-df-container {\n",
              "      display:flex;\n",
              "      flex-wrap:wrap;\n",
              "      gap: 12px;\n",
              "    }\n",
              "\n",
              "    .colab-df-convert {\n",
              "      background-color: #E8F0FE;\n",
              "      border: none;\n",
              "      border-radius: 50%;\n",
              "      cursor: pointer;\n",
              "      display: none;\n",
              "      fill: #1967D2;\n",
              "      height: 32px;\n",
              "      padding: 0 0 0 0;\n",
              "      width: 32px;\n",
              "    }\n",
              "\n",
              "    .colab-df-convert:hover {\n",
              "      background-color: #E2EBFA;\n",
              "      box-shadow: 0px 1px 2px rgba(60, 64, 67, 0.3), 0px 1px 3px 1px rgba(60, 64, 67, 0.15);\n",
              "      fill: #174EA6;\n",
              "    }\n",
              "\n",
              "    [theme=dark] .colab-df-convert {\n",
              "      background-color: #3B4455;\n",
              "      fill: #D2E3FC;\n",
              "    }\n",
              "\n",
              "    [theme=dark] .colab-df-convert:hover {\n",
              "      background-color: #434B5C;\n",
              "      box-shadow: 0px 1px 3px 1px rgba(0, 0, 0, 0.15);\n",
              "      filter: drop-shadow(0px 1px 2px rgba(0, 0, 0, 0.3));\n",
              "      fill: #FFFFFF;\n",
              "    }\n",
              "  </style>\n",
              "\n",
              "      <script>\n",
              "        const buttonEl =\n",
              "          document.querySelector('#df-c6b6a8e3-e492-46aa-9472-e9a1864c99fd button.colab-df-convert');\n",
              "        buttonEl.style.display =\n",
              "          google.colab.kernel.accessAllowed ? 'block' : 'none';\n",
              "\n",
              "        async function convertToInteractive(key) {\n",
              "          const element = document.querySelector('#df-c6b6a8e3-e492-46aa-9472-e9a1864c99fd');\n",
              "          const dataTable =\n",
              "            await google.colab.kernel.invokeFunction('convertToInteractive',\n",
              "                                                     [key], {});\n",
              "          if (!dataTable) return;\n",
              "\n",
              "          const docLinkHtml = 'Like what you see? Visit the ' +\n",
              "            '<a target=\"_blank\" href=https://colab.research.google.com/notebooks/data_table.ipynb>data table notebook</a>'\n",
              "            + ' to learn more about interactive tables.';\n",
              "          element.innerHTML = '';\n",
              "          dataTable['output_type'] = 'display_data';\n",
              "          await google.colab.output.renderOutput(dataTable, element);\n",
              "          const docLink = document.createElement('div');\n",
              "          docLink.innerHTML = docLinkHtml;\n",
              "          element.appendChild(docLink);\n",
              "        }\n",
              "      </script>\n",
              "    </div>\n",
              "  </div>\n",
              "  "
            ]
          },
          "metadata": {},
          "execution_count": 314
        }
      ]
    },
    {
      "cell_type": "code",
      "source": [
        "#Price vs Area scatter plot\n",
        "\n",
        "plt.scatter(df['Area'],df['Price(k BDT)'])\n",
        "plt.title(\"Scatter Plot\")\n",
        "plt.xlabel('Area')\n",
        "plt.ylabel('Prices')\n",
        "plt.show()"
      ],
      "metadata": {
        "colab": {
          "base_uri": "https://localhost:8080/",
          "height": 621
        },
        "id": "926LAklv8GcY",
        "outputId": "ff52e386-4210-4827-bf78-d9081e40b8c9"
      },
      "execution_count": null,
      "outputs": [
        {
          "output_type": "display_data",
          "data": {
            "text/plain": [
              "<Figure size 1080x720 with 1 Axes>"
            ],
            "image/png": "[encoded data removed]"
          },
          "metadata": {
            "needs_background": "light"
          }
        }
      ]
    },
    {
      "cell_type": "code",
      "source": [
        "# Price vs Number of Rooms scatter plot\n",
        "plt.title(\"Scatter Plot\")\n",
        "plt.xlabel('Rooms')\n",
        "plt.ylabel('Prices')\n",
        "plt.scatter(df['Rooms'],df['Price(k BDT)'])\n",
        "plt.show()"
      ],
      "metadata": {
        "colab": {
          "base_uri": "https://localhost:8080/",
          "height": 621
        },
        "id": "QMmV4CSK8fLy",
        "outputId": "9d8293c2-c623-4d18-a664-7b2a587307e0"
      },
      "execution_count": null,
      "outputs": [
        {
          "output_type": "display_data",
          "data": {
            "text/plain": [
              "<Figure size 1080x720 with 1 Axes>"
            ],
            "image/png": "[encoded data removed]"
          },
          "metadata": {
            "needs_background": "light"
          }
        }
      ]
    },
    {
      "cell_type": "code",
      "source": [
        "#Using multiple linear regression\n",
        "\n",
        "# Y = beta0+beta1*x1+beta2*x2\n",
        "\n",
        "#here x1 represents the number of rooms & x2 represents the Area.Y represents the predicted prices.\n",
        "\n",
        "X = df.values[:,0:2]\n",
        "Y = df.values[:,2:]\n",
        "print('Features matrix = ',X)\n",
        "print('Actual price matrix = ',Y)\n",
        "\n",
        "#The number of train data\n",
        "\n",
        "m = len(Y)\n",
        "print('The number of training data = ',m)"
      ],
      "metadata": {
        "colab": {
          "base_uri": "https://localhost:8080/"
        },
        "id": "UaQ_3cNj8mE6",
        "outputId": "20e089aa-428b-4d27-beb0-0e39414ab171"
      },
      "execution_count": null,
      "outputs": [
        {
          "output_type": "stream",
          "name": "stdout",
          "text": [
            "Features matrix =  [[   2  800]\n",
            " [   2 1000]\n",
            " [   3 1200]\n",
            " [   3 1400]\n",
            " [   3 1500]\n",
            " [   4 1800]\n",
            " [   4 2000]\n",
            " [   5 2500]]\n",
            "Actual price matrix =  [[2000]\n",
            " [3000]\n",
            " [4000]\n",
            " [4200]\n",
            " [4500]\n",
            " [5000]\n",
            " [5500]\n",
            " [6500]]\n",
            "The number of training data =  8\n"
          ]
        }
      ]
    },
    {
      "cell_type": "code",
      "source": [
        "#Feature normalization\n",
        "\n",
        "#mean of every features or independant variables\n",
        "\n",
        "mean = np.mean(X,axis = 0)\n",
        "print('The mean of predictors or each columns = ',mean)\n",
        "\n",
        "#standered daviation of each features\n",
        "\n",
        "std = np.std(X, axis= 0, ddof = 1)\n",
        "\n",
        "print('standered daviation of each column = ',std)\n",
        "\n",
        "X_normalized_value = (X - mean)/std\n",
        "\n",
        "X = X_normalized_value\n",
        "\n",
        "print('The normalized feature values = ',X_normalized_value)"
      ],
      "metadata": {
        "colab": {
          "base_uri": "https://localhost:8080/"
        },
        "id": "HnU53Pkt84Il",
        "outputId": "a7ff2af6-6f4b-4c48-bb6a-5f2272a26ed3"
      },
      "execution_count": null,
      "outputs": [
        {
          "output_type": "stream",
          "name": "stdout",
          "text": [
            "The mean of predictors or each columns =  [   3.25 1525.  ]\n",
            "standered daviation of each column =  [  1.03509834 557.41751472]\n",
            "The normalized feature values =  [[-1.20761473 -1.30064087]\n",
            " [-1.20761473 -0.94184339]\n",
            " [-0.24152295 -0.58304591]\n",
            " [-0.24152295 -0.22424843]\n",
            " [-0.24152295 -0.04484969]\n",
            " [ 0.72456884  0.49334654]\n",
            " [ 0.72456884  0.85214402]\n",
            " [ 1.69066062  1.74913772]]\n"
          ]
        }
      ]
    },
    {
      "cell_type": "code",
      "source": [
        "X = np.hstack((np.ones((m,1)), X))\n",
        "print(X)"
      ],
      "metadata": {
        "colab": {
          "base_uri": "https://localhost:8080/"
        },
        "id": "lnXzzAgiHclT",
        "outputId": "670bb4e6-efe6-485d-9aac-f159993a7eed"
      },
      "execution_count": null,
      "outputs": [
        {
          "output_type": "stream",
          "name": "stdout",
          "text": [
            "[[ 1.         -1.20761473 -1.30064087]\n",
            " [ 1.         -1.20761473 -0.94184339]\n",
            " [ 1.         -0.24152295 -0.58304591]\n",
            " [ 1.         -0.24152295 -0.22424843]\n",
            " [ 1.         -0.24152295 -0.04484969]\n",
            " [ 1.          0.72456884  0.49334654]\n",
            " [ 1.          0.72456884  0.85214402]\n",
            " [ 1.          1.69066062  1.74913772]]\n"
          ]
        }
      ]
    },
    {
      "cell_type": "code",
      "source": [
        "# Gradient Descent Optimization\n",
        "\n",
        "beta = np.zeros(3)\n",
        "iterations = 6000\n",
        "n = .002\n",
        "\n",
        "cost = []\n",
        "\n",
        "for i in range(iterations):\n",
        "  pred = X.dot(beta)\n",
        "  err = np.subtract(pred,y)\n",
        "  beta = beta - (n / m) * X.transpose().dot(err)\n",
        "  sqrErr = np.square(err)\n",
        "  J = 1/(2 * m) * err.transpose().dot(err)\n",
        "  cost.append(J)\n"
      ],
      "metadata": {
        "id": "NaRWWhOrAupU"
      },
      "execution_count": null,
      "outputs": []
    },
    {
      "cell_type": "code",
      "source": [
        "print('The final value of beta would be = ',beta)"
      ],
      "metadata": {
        "colab": {
          "base_uri": "https://localhost:8080/"
        },
        "id": "cYV8Ma4ZK9a7",
        "outputId": "253a1eff-5c55-4f9c-e5a8-8b33af63dae9"
      },
      "execution_count": null,
      "outputs": [
        {
          "output_type": "stream",
          "name": "stdout",
          "text": [
            "The final value of beta would be =  [4337.4736678   604.17891979  776.15859206]\n"
          ]
        }
      ]
    },
    {
      "cell_type": "code",
      "source": [
        "#Plot for the changes in error\n",
        "\n",
        "plt.plot(range(1, iterations +1), cost, color ='red')\n",
        "plt.rcParams[\"figure.figsize\"] = (15,10)\n",
        "plt.xlabel(\"Number of iterations\")\n",
        "plt.ylabel(\"cost (J)\")\n",
        "plt.title(\"Convergence of gradient descent\")\n",
        "plt.show()"
      ],
      "metadata": {
        "colab": {
          "base_uri": "https://localhost:8080/",
          "height": 621
        },
        "id": "LIP22y-aLThQ",
        "outputId": "62f9159b-4fc6-478b-d844-ebef1f941626"
      },
      "execution_count": null,
      "outputs": [
        {
          "output_type": "display_data",
          "data": {
            "text/plain": [
              "<Figure size 1080x720 with 1 Axes>"
            ],
            "image/png": "[encoded data removed]"
          },
          "metadata": {
            "needs_background": "light"
          }
        }
      ]
    },
    {
      "cell_type": "code",
      "source": [
        "#Generating test data\n",
        "\n",
        "normalize_test_data = ((np.array([8, 2500]) - mean) / std)\n",
        "normalize_test_data = np.hstack((np.ones(1), normalize_test_data))\n",
        "price = normalize_test_data.dot(beta)\n",
        "print('Predicted price of a 8 rooms and 2500 sqare feet house would be = ', price)"
      ],
      "metadata": {
        "colab": {
          "base_uri": "https://localhost:8080/"
        },
        "id": "9PKJTBjZPwyK",
        "outputId": "958c273f-f11a-4760-fec3-2545a9d736d2"
      },
      "execution_count": null,
      "outputs": [
        {
          "output_type": "stream",
          "name": "stdout",
          "text": [
            "Predicted price of a 8 rooms and 2500 sqare feet house would be =  8467.620313903608\n"
          ]
        }
      ]
    },
    {
      "cell_type": "code",
      "source": [
        "#Showing the predicted prices for the given dataset\n",
        "\n",
        "Price = X.dot(beta)\n",
        "\n",
        "print('Predicted prices according to the multiple liear model = ',Price)"
      ],
      "metadata": {
        "colab": {
          "base_uri": "https://localhost:8080/"
        },
        "id": "Xpft1EvjQoKZ",
        "outputId": "b142aaa6-6fe8-4feb-c461-ddd4a027c7d4"
      },
      "execution_count": null,
      "outputs": [
        {
          "output_type": "stream",
          "name": "stdout",
          "text": [
            "Predicted prices according to the multiple liear model =  [2598.35472077 2876.83846825 3739.01450565 4017.49825314 4156.74012688\n",
            " 5158.15803803 5436.64178551 6716.54344414]\n"
          ]
        }
      ]
    },
    {
      "cell_type": "code",
      "source": [
        "#Calculating erros in predicted values with the real prices\n",
        "\n",
        "error = np.subtract(Price, y)\n",
        "print(error)"
      ],
      "metadata": {
        "colab": {
          "base_uri": "https://localhost:8080/"
        },
        "id": "lUR1da3tQ72B",
        "outputId": "164b716a-c669-403e-b308-c163d9bcf424"
      },
      "execution_count": null,
      "outputs": [
        {
          "output_type": "stream",
          "name": "stdout",
          "text": [
            "[ 598.35472077 -123.16153175 -260.98549435 -182.50174686 -343.25987312\n",
            "  158.15803803  -63.35821449  216.54344414]\n"
          ]
        }
      ]
    },
    {
      "cell_type": "code",
      "source": [
        "#Squared errors \n",
        "\n",
        "sqrError = np.square(error)\n",
        "print(sqrError)"
      ],
      "metadata": {
        "colab": {
          "base_uri": "https://localhost:8080/"
        },
        "id": "DOFgPMx3RgN6",
        "outputId": "f84d0d4f-d9cf-457f-95e4-ad62ab96592d"
      },
      "execution_count": null,
      "outputs": [
        {
          "output_type": "stream",
          "name": "stdout",
          "text": [
            "[358028.37186295  15168.76290305  68113.42825877  33306.88760756\n",
            " 117827.34049418  25013.9649925    4014.26334327  46891.06320049]\n"
          ]
        }
      ]
    },
    {
      "cell_type": "code",
      "source": [
        "# Calculating the cost\n",
        "\n",
        "J = 1 / (2 * m) * np.sum(sqrError)\n",
        "print('The loss = ',J)"
      ],
      "metadata": {
        "colab": {
          "base_uri": "https://localhost:8080/"
        },
        "id": "j1siCVLiRyp_",
        "outputId": "22f065d1-5524-4f80-b8b5-fdf51a760f6d"
      },
      "execution_count": null,
      "outputs": [
        {
          "output_type": "stream",
          "name": "stdout",
          "text": [
            "The loss =  41772.755166423194\n"
          ]
        }
      ]
    },
    {
      "cell_type": "code",
      "source": [
        "#Implementing multiple_Linear Regression using python library\n",
        "\n",
        "from sklearn import linear_model\n",
        "from sklearn import metrics"
      ],
      "metadata": {
        "id": "Ak9w8iBhSGLW"
      },
      "execution_count": null,
      "outputs": []
    },
    {
      "cell_type": "code",
      "source": [
        "df2 = pd.DataFrame(x,columns = ['Rooms','Area'])\n",
        "df2['Price'] = pd.Series(y)\n",
        "reg = linear_model.LinearRegression()\n",
        "reg.fit(df2[['Rooms', 'Area']], df2.Price)\n",
        "df2"
      ],
      "metadata": {
        "colab": {
          "base_uri": "https://localhost:8080/",
          "height": 300
        },
        "id": "sBAFaMtFSakx",
        "outputId": "dff72f1d-b7f8-4653-975b-ae7e533b2a60"
      },
      "execution_count": null,
      "outputs": [
        {
          "output_type": "execute_result",
          "data": {
            "text/plain": [
              "   Rooms  Area  Price\n",
              "0      2   800   2000\n",
              "1      2  1000   3000\n",
              "2      3  1200   4000\n",
              "3      3  1400   4200\n",
              "4      3  1500   4500\n",
              "5      4  1800   5000\n",
              "6      4  2000   5500\n",
              "7      5  2500   6500"
            ],
            "text/html": [
              "\n",
              "  <div id=\"df-3fc2919b-f269-4f2d-a141-ed1c984591e9\">\n",
              "    <div class=\"colab-df-container\">\n",
              "      <div>\n",
              "<style scoped>\n",
              "    .dataframe tbody tr th:only-of-type {\n",
              "        vertical-align: middle;\n",
              "    }\n",
              "\n",
              "    .dataframe tbody tr th {\n",
              "        vertical-align: top;\n",
              "    }\n",
              "\n",
              "    .dataframe thead th {\n",
              "        text-align: right;\n",
              "    }\n",
              "</style>\n",
              "<table border=\"1\" class=\"dataframe\">\n",
              "  <thead>\n",
              "    <tr style=\"text-align: right;\">\n",
              "      <th></th>\n",
              "      <th>Rooms</th>\n",
              "      <th>Area</th>\n",
              "      <th>Price</th>\n",
              "    </tr>\n",
              "  </thead>\n",
              "  <tbody>\n",
              "    <tr>\n",
              "      <th>0</th>\n",
              "      <td>2</td>\n",
              "      <td>800</td>\n",
              "      <td>2000</td>\n",
              "    </tr>\n",
              "    <tr>\n",
              "      <th>1</th>\n",
              "      <td>2</td>\n",
              "      <td>1000</td>\n",
              "      <td>3000</td>\n",
              "    </tr>\n",
              "    <tr>\n",
              "      <th>2</th>\n",
              "      <td>3</td>\n",
              "      <td>1200</td>\n",
              "      <td>4000</td>\n",
              "    </tr>\n",
              "    <tr>\n",
              "      <th>3</th>\n",
              "      <td>3</td>\n",
              "      <td>1400</td>\n",
              "      <td>4200</td>\n",
              "    </tr>\n",
              "    <tr>\n",
              "      <th>4</th>\n",
              "      <td>3</td>\n",
              "      <td>1500</td>\n",
              "      <td>4500</td>\n",
              "    </tr>\n",
              "    <tr>\n",
              "      <th>5</th>\n",
              "      <td>4</td>\n",
              "      <td>1800</td>\n",
              "      <td>5000</td>\n",
              "    </tr>\n",
              "    <tr>\n",
              "      <th>6</th>\n",
              "      <td>4</td>\n",
              "      <td>2000</td>\n",
              "      <td>5500</td>\n",
              "    </tr>\n",
              "    <tr>\n",
              "      <th>7</th>\n",
              "      <td>5</td>\n",
              "      <td>2500</td>\n",
              "      <td>6500</td>\n",
              "    </tr>\n",
              "  </tbody>\n",
              "</table>\n",
              "</div>\n",
              "      <button class=\"colab-df-convert\" onclick=\"convertToInteractive('df-3fc2919b-f269-4f2d-a141-ed1c984591e9')\"\n",
              "              title=\"Convert this dataframe to an interactive table.\"\n",
              "              style=\"display:none;\">\n",
              "        \n",
              "  <svg xmlns=\"http://www.w3.org/2000/svg\" height=\"24px\"viewBox=\"0 0 24 24\"\n",
              "       width=\"24px\">\n",
              "    <path d=\"M0 0h24v24H0V0z\" fill=\"none\"/>\n",
              "    <path d=\"M18.56 5.44l.94 2.06.94-2.06 2.06-.94-2.06-.94-.94-2.06-.94 2.06-2.06.94zm-11 1L8.5 8.5l.94-2.06 2.06-.94-2.06-.94L8.5 2.5l-.94 2.06-2.06.94zm10 10l.94 2.06.94-2.06 2.06-.94-2.06-.94-.94-2.06-.94 2.06-2.06.94z\"/><path d=\"M17.41 7.96l-1.37-1.37c-.4-.4-.92-.59-1.43-.59-.52 0-1.04.2-1.43.59L10.3 9.45l-7.72 7.72c-.78.78-.78 2.05 0 2.83L4 21.41c.39.39.9.59 1.41.59.51 0 1.02-.2 1.41-.59l7.78-7.78 2.81-2.81c.8-.78.8-2.07 0-2.86zM5.41 20L4 18.59l7.72-7.72 1.47 1.35L5.41 20z\"/>\n",
              "  </svg>\n",
              "      </button>\n",
              "      \n",
              "  <style>\n",
              "    .colab-df-container {\n",
              "      display:flex;\n",
              "      flex-wrap:wrap;\n",
              "      gap: 12px;\n",
              "    }\n",
              "\n",
              "    .colab-df-convert {\n",
              "      background-color: #E8F0FE;\n",
              "      border: none;\n",
              "      border-radius: 50%;\n",
              "      cursor: pointer;\n",
              "      display: none;\n",
              "      fill: #1967D2;\n",
              "      height: 32px;\n",
              "      padding: 0 0 0 0;\n",
              "      width: 32px;\n",
              "    }\n",
              "\n",
              "    .colab-df-convert:hover {\n",
              "      background-color: #E2EBFA;\n",
              "      box-shadow: 0px 1px 2px rgba(60, 64, 67, 0.3), 0px 1px 3px 1px rgba(60, 64, 67, 0.15);\n",
              "      fill: #174EA6;\n",
              "    }\n",
              "\n",
              "    [theme=dark] .colab-df-convert {\n",
              "      background-color: #3B4455;\n",
              "      fill: #D2E3FC;\n",
              "    }\n",
              "\n",
              "    [theme=dark] .colab-df-convert:hover {\n",
              "      background-color: #434B5C;\n",
              "      box-shadow: 0px 1px 3px 1px rgba(0, 0, 0, 0.15);\n",
              "      filter: drop-shadow(0px 1px 2px rgba(0, 0, 0, 0.3));\n",
              "      fill: #FFFFFF;\n",
              "    }\n",
              "  </style>\n",
              "\n",
              "      <script>\n",
              "        const buttonEl =\n",
              "          document.querySelector('#df-3fc2919b-f269-4f2d-a141-ed1c984591e9 button.colab-df-convert');\n",
              "        buttonEl.style.display =\n",
              "          google.colab.kernel.accessAllowed ? 'block' : 'none';\n",
              "\n",
              "        async function convertToInteractive(key) {\n",
              "          const element = document.querySelector('#df-3fc2919b-f269-4f2d-a141-ed1c984591e9');\n",
              "          const dataTable =\n",
              "            await google.colab.kernel.invokeFunction('convertToInteractive',\n",
              "                                                     [key], {});\n",
              "          if (!dataTable) return;\n",
              "\n",
              "          const docLinkHtml = 'Like what you see? Visit the ' +\n",
              "            '<a target=\"_blank\" href=https://colab.research.google.com/notebooks/data_table.ipynb>data table notebook</a>'\n",
              "            + ' to learn more about interactive tables.';\n",
              "          element.innerHTML = '';\n",
              "          dataTable['output_type'] = 'display_data';\n",
              "          await google.colab.output.renderOutput(dataTable, element);\n",
              "          const docLink = document.createElement('div');\n",
              "          docLink.innerHTML = docLinkHtml;\n",
              "          element.appendChild(docLink);\n",
              "        }\n",
              "      </script>\n",
              "    </div>\n",
              "  </div>\n",
              "  "
            ]
          },
          "metadata": {},
          "execution_count": 329
        }
      ]
    },
    {
      "cell_type": "code",
      "source": [
        "# The values of regression coefficients\n",
        "\n",
        "print(reg.coef_)"
      ],
      "metadata": {
        "colab": {
          "base_uri": "https://localhost:8080/"
        },
        "id": "66bMqweaTMcy",
        "outputId": "036a1279-9501-44a6-9739-1ca984917940"
      },
      "execution_count": null,
      "outputs": [
        {
          "output_type": "stream",
          "name": "stdout",
          "text": [
            "[264.08450704   1.98591549]\n"
          ]
        }
      ]
    },
    {
      "cell_type": "code",
      "source": [
        "# The regression intercept\n",
        "\n",
        "print(reg.intercept_)"
      ],
      "metadata": {
        "colab": {
          "base_uri": "https://localhost:8080/"
        },
        "id": "l-ngk3PkTUd_",
        "outputId": "d58a9746-8c7f-4a86-88f2-db1acdd24e0a"
      },
      "execution_count": null,
      "outputs": [
        {
          "output_type": "stream",
          "name": "stdout",
          "text": [
            "450.7042253521149\n"
          ]
        }
      ]
    },
    {
      "cell_type": "code",
      "source": [
        "#Showing the predicted prices for the given dataset\n",
        "y_pred = reg.predict(df2[['Rooms', 'Area']])\n",
        "\n",
        "print(y_pred)"
      ],
      "metadata": {
        "colab": {
          "base_uri": "https://localhost:8080/"
        },
        "id": "ufE4TwsFTiXl",
        "outputId": "6b70b9b4-6732-45aa-f923-d890f0479f2c"
      },
      "execution_count": null,
      "outputs": [
        {
          "output_type": "stream",
          "name": "stdout",
          "text": [
            "[2567.6056338  2964.78873239 3626.05633803 4023.23943662 4221.83098592\n",
            " 5081.69014085 5478.87323944 6735.91549296]\n"
          ]
        }
      ]
    },
    {
      "cell_type": "code",
      "source": [
        "#Calculating the cost\n",
        "\n",
        "loss = metrics.mean_squared_error(y,y_pred)/2\n",
        "\n",
        "print(loss)"
      ],
      "metadata": {
        "colab": {
          "base_uri": "https://localhost:8080/"
        },
        "id": "2ZTPLArgT5zJ",
        "outputId": "13fda530-060d-4038-a6a1-19f575ea4735"
      },
      "execution_count": null,
      "outputs": [
        {
          "output_type": "stream",
          "name": "stdout",
          "text": [
            "39665.49295774645\n"
          ]
        }
      ]
    },
    {
      "cell_type": "markdown",
      "source": [
        "We see that the cost using the python library is 39665.49 and using our model of multiple linear regression cost is 41772.755\n",
        "The Python library regression model works better than our model in predicting the price."
      ],
      "metadata": {
        "id": "JtrXYpiIURbM"
      }
    }
  ]
}