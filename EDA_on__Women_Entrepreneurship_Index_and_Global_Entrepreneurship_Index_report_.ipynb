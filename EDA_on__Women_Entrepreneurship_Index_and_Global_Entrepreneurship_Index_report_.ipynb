{
  "nbformat": 4,
  "nbformat_minor": 0,
  "metadata": {
    "colab": {
      "provenance": [],
      "toc_visible": true,
      "authorship_tag": "ABX9TyMAsAwTVzlKcjJCOusQrI4W",
      "include_colab_link": true
    },
    "kernelspec": {
      "name": "python3",
      "display_name": "Python 3"
    }
  },
  "cells": [
    {
      "cell_type": "markdown",
      "metadata": {
        "id": "view-in-github",
        "colab_type": "text"
      },
      "source": [
        "<a href=\"https://colab.research.google.com/github/ABHISHEK-DEY-64150/Machine_learning_projects/blob/main/EDA_on__Women_Entrepreneurship_Index_and_Global_Entrepreneurship_Index_report_.ipynb\" target=\"_parent\"><img src=\"https://colab.research.google.com/assets/colab-badge.svg\" alt=\"Open In Colab\"/></a>"
      ]
    },
    {
      "cell_type": "markdown",
      "metadata": {
        "id": "EZCetdVtqIHh"
      },
      "source": [
        "# **Abhishek Dey**\n",
        "\n",
        "# **Reg.: 2017331021**\n",
        "\n",
        "\n",
        "# **CSE345(Data Science)**\n",
        "\n",
        "**/--Assignment On EDA about Woman Enterprenureship & Labor force around the world.(according to Women Entrepreneurship Index and Global Entrepreneurship Index report published in 2015.)--\\**\n",
        "\n",
        "\n",
        "\n",
        "\n",
        "\n",
        "\n",
        "\n",
        "**Step-1)**\n",
        "\n",
        "The dataset is about Woman Enterpreneureship in developing and developed countries around the world.The data has 51 rows & 5 colums.\n",
        "The dataypes in the dataset includes strings,boolean,floats mainly.\n",
        "It has no missing values.\n",
        "\n",
        "**Step-2)**\n",
        "\n",
        "The independent variables are 'Country' & 'Level of Development'.On the contrary the dependent variables are 'Enterprenureship Index','Woman Enterpreneureship Index' & 'Female Labor Force rate'.\n",
        "\n",
        "**Step-3)**\n",
        "\n",
        "Some questions that can be asked...\n",
        "\n",
        "Q1--How are the Enterpreneurship Index for the developed & developing countries?Is it greater in developed countries or in developing countries?\n",
        "\n",
        "Q2--Female Labor is utilized properply in the developed countries or in the developing countries?\n",
        "\n",
        "Q3--How are woman participating in the national economy for developed & developing countries?\n",
        "\n",
        "Q4--Are woman enterpreneures moving forward than  male enterpreneures?\n",
        "\n",
        "\n",
        "**Step-4)**\n",
        "\n",
        "In the dataset woman's in participation enterpreneureship and involvement in the labor force is measured.According to the given dataset we can predict the quantities for the dependent variable enterpreneureship index for other developed & developing independent variable 'countries' outside the dataset.\n",
        "\n",
        "Yes we can devide the data in subgroups like [country,Female labor force rate],[Country,Level of developement,Enterpreneurehip index/Woman Enterpreneurship index].From these subgroups we can't really detect an unseen data that belongs to a particular group.We need at least country name and level of development variable to tell a particular data that belongs to a particular group.\n",
        "\n"
      ]
    },
    {
      "cell_type": "markdown",
      "metadata": {
        "id": "KEMZgrrZWl6q"
      },
      "source": [
        "# Fetch the dataset."
      ]
    },
    {
      "cell_type": "code",
      "metadata": {
        "id": "VHGsZrZIYwPJ"
      },
      "source": [
        "import numpy as np\n",
        "import seaborn as sns\n",
        "import pandas as pd"
      ],
      "execution_count": null,
      "outputs": []
    },
    {
      "cell_type": "code",
      "metadata": {
        "colab": {
          "base_uri": "https://localhost:8080/"
        },
        "id": "8J4vxvJEqMpp",
        "outputId": "cc72ff1e-9aa6-47a6-f3c8-5701a6f9ddf1"
      },
      "source": [
        "dat = pd.read_csv('/content/Woman_Ent.csv')\n",
        "print(dat)"
      ],
      "execution_count": null,
      "outputs": [
        {
          "output_type": "stream",
          "text": [
            "                   Country  ... Female Labor Force Participation Rate\n",
            "0                  Austria  ...                                 67.10\n",
            "1                  Belgium  ...                                 58.00\n",
            "2                  Estonia  ...                                 68.50\n",
            "3                  Finland  ...                                 67.70\n",
            "4                   France  ...                                 60.60\n",
            "5                  Germany  ...                                 69.90\n",
            "6                   Greece  ...                                 42.50\n",
            "7                  Ireland  ...                                 59.40\n",
            "8                    Italy  ...                                 47.20\n",
            "9                   Latvia  ...                                 66.40\n",
            "10               Lithuania  ...                                 66.50\n",
            "11             Netherlands  ...                                 69.20\n",
            "12                Slovakia  ...                                 55.90\n",
            "13                Slovenia  ...                                 61.00\n",
            "14                   Spain  ...                                 52.70\n",
            "15                 Croatia  ...                                 60.40\n",
            "16                 Denmark  ...                                 70.30\n",
            "17                 Hungary  ...                                 57.80\n",
            "18                  Poland  ...                                 56.60\n",
            "19                  Sweden  ...                                 74.00\n",
            "20               Australia  ...                                 66.80\n",
            "21                 Iceland  ...                                 82.30\n",
            "22                   Japan  ...                                 64.70\n",
            "23                  Norway  ...                                 69.20\n",
            "24               Singapore  ...                                 59.18\n",
            "25             Switzerland  ...                                 74.70\n",
            "26                  Taiwan  ...                                 55.00\n",
            "27                 Algeria  ...                                 18.00\n",
            "28               Argentina  ...                                 47.30\n",
            "29                 Bolivia  ...                                 69.40\n",
            "30  Bosnia and Herzegovina  ...                                 51.90\n",
            "31                  Brazil  ...                                 55.90\n",
            "32                   China  ...                                 62.40\n",
            "33              Costa Rica  ...                                 59.40\n",
            "34                 Ecuador  ...                                 63.50\n",
            "35                   Egypt  ...                                 64.60\n",
            "36             El Salvador  ...                                 55.70\n",
            "37                   Ghana  ...                                 60.80\n",
            "38                   India  ...                                 61.10\n",
            "39                 Jamaica  ...                                 37.70\n",
            "40               Macedonia  ...                                 73.00\n",
            "41                Malaysia  ...                                 58.50\n",
            "42                  Mexico  ...                                 44.70\n",
            "43                  Panama  ...                                 67.90\n",
            "44                    Peru  ...                                 63.40\n",
            "45                  Russia  ...                                 65.20\n",
            "46            Saudi Arabia  ...                                 13.00\n",
            "47                Thailand  ...                                 62.00\n",
            "48                 Tunisia  ...                                 25.19\n",
            "49                  Turkey  ...                                 30.40\n",
            "50                 Uruguay  ...                                 68.00\n",
            "\n",
            "[51 rows x 5 columns]\n"
          ],
          "name": "stdout"
        }
      ]
    },
    {
      "cell_type": "markdown",
      "metadata": {
        "id": "e2UZJ9jI1QMq"
      },
      "source": [
        "# Now we are going to check for the unique values in the database"
      ]
    },
    {
      "cell_type": "code",
      "metadata": {
        "colab": {
          "base_uri": "https://localhost:8080/"
        },
        "id": "PNjna4q_zna6",
        "outputId": "1cb2bda7-6277-4591-eae8-2ea44fb8fa5f"
      },
      "source": [
        "dat.nunique()"
      ],
      "execution_count": null,
      "outputs": [
        {
          "output_type": "execute_result",
          "data": {
            "text/plain": [
              "Country                                  51\n",
              "Level of Development                      2\n",
              "Women Entrepreneurship Index             50\n",
              "Entrepreneurship Index                   49\n",
              "Female Labor Force Participation Rate    48\n",
              "dtype: int64"
            ]
          },
          "metadata": {
            "tags": []
          },
          "execution_count": 7
        }
      ]
    },
    {
      "cell_type": "markdown",
      "metadata": {
        "id": "FuUOV-rPYgcz"
      },
      "source": [
        "**Step-5)**\n",
        "\n",
        "The statistics are calculated below.\n",
        "The mean for both 'Woman enterpreneurship index' & 'Enterpreneurship index' are almost same. The standerd deviation for 'woman enterpreneurship index' is  less than  'enterpreneurship index'.This means that the mean for \"Woman enterpreneurship index\" is more reliable than \"Enterpreneurship index\". The mean in the labor participation rate for female is greater than 50%(58.48%) & standered deviation is       13.86~14. The less the std ,the more the statistical value can be taken into consideration.The std is quite higher in this case which says there are less woman enterpreneures in the developing countries compared to the developed countries. The min Enterpreneurship Index is 24.8 & woman enterpreneurship index is 25.3 which describes the situation of enterpreneurship in some developing countries are very low resulting an economic inconsistancy.The maximum value for woman enterpreneurship index is 74.8 which denotes that a developed country has the maximum number of female enterpreneurs.The range gives us an idea that developed countries have an index greater than 55-60 & developing countries have less than 50."
      ]
    },
    {
      "cell_type": "code",
      "metadata": {
        "colab": {
          "base_uri": "https://localhost:8080/",
          "height": 284
        },
        "id": "-M4CLZs8ZXKq",
        "outputId": "b2b3a344-07e9-4a5a-cb29-33d79e8b9e25"
      },
      "source": [
        "dat.describe()"
      ],
      "execution_count": null,
      "outputs": [
        {
          "output_type": "execute_result",
          "data": {
            "text/html": [
              "<div>\n",
              "<style scoped>\n",
              "    .dataframe tbody tr th:only-of-type {\n",
              "        vertical-align: middle;\n",
              "    }\n",
              "\n",
              "    .dataframe tbody tr th {\n",
              "        vertical-align: top;\n",
              "    }\n",
              "\n",
              "    .dataframe thead th {\n",
              "        text-align: right;\n",
              "    }\n",
              "</style>\n",
              "<table border=\"1\" class=\"dataframe\">\n",
              "  <thead>\n",
              "    <tr style=\"text-align: right;\">\n",
              "      <th></th>\n",
              "      <th>Women Entrepreneurship Index</th>\n",
              "      <th>Entrepreneurship Index</th>\n",
              "      <th>Female Labor Force Participation Rate</th>\n",
              "    </tr>\n",
              "  </thead>\n",
              "  <tbody>\n",
              "    <tr>\n",
              "      <th>count</th>\n",
              "      <td>51.000000</td>\n",
              "      <td>51.000000</td>\n",
              "      <td>51.000000</td>\n",
              "    </tr>\n",
              "    <tr>\n",
              "      <th>mean</th>\n",
              "      <td>47.835294</td>\n",
              "      <td>47.241176</td>\n",
              "      <td>58.481765</td>\n",
              "    </tr>\n",
              "    <tr>\n",
              "      <th>std</th>\n",
              "      <td>14.268480</td>\n",
              "      <td>16.193149</td>\n",
              "      <td>13.864567</td>\n",
              "    </tr>\n",
              "    <tr>\n",
              "      <th>min</th>\n",
              "      <td>25.300000</td>\n",
              "      <td>24.800000</td>\n",
              "      <td>13.000000</td>\n",
              "    </tr>\n",
              "    <tr>\n",
              "      <th>25%</th>\n",
              "      <td>36.350000</td>\n",
              "      <td>31.900000</td>\n",
              "      <td>55.800000</td>\n",
              "    </tr>\n",
              "    <tr>\n",
              "      <th>50%</th>\n",
              "      <td>44.500000</td>\n",
              "      <td>42.700000</td>\n",
              "      <td>61.000000</td>\n",
              "    </tr>\n",
              "    <tr>\n",
              "      <th>75%</th>\n",
              "      <td>59.150000</td>\n",
              "      <td>65.400000</td>\n",
              "      <td>67.400000</td>\n",
              "    </tr>\n",
              "    <tr>\n",
              "      <th>max</th>\n",
              "      <td>74.800000</td>\n",
              "      <td>77.600000</td>\n",
              "      <td>82.300000</td>\n",
              "    </tr>\n",
              "  </tbody>\n",
              "</table>\n",
              "</div>"
            ],
            "text/plain": [
              "       Women Entrepreneurship Index  ...  Female Labor Force Participation Rate\n",
              "count                     51.000000  ...                              51.000000\n",
              "mean                      47.835294  ...                              58.481765\n",
              "std                       14.268480  ...                              13.864567\n",
              "min                       25.300000  ...                              13.000000\n",
              "25%                       36.350000  ...                              55.800000\n",
              "50%                       44.500000  ...                              61.000000\n",
              "75%                       59.150000  ...                              67.400000\n",
              "max                       74.800000  ...                              82.300000\n",
              "\n",
              "[8 rows x 3 columns]"
            ]
          },
          "metadata": {
            "tags": []
          },
          "execution_count": 13
        }
      ]
    },
    {
      "cell_type": "markdown",
      "metadata": {
        "id": "Z0WBT79GaUa1"
      },
      "source": [
        "**Step-6)**\n",
        "\n",
        "--Below is the scatter plot for Enterpreneurship Index for developed & developing countries."
      ]
    },
    {
      "cell_type": "code",
      "metadata": {
        "colab": {
          "base_uri": "https://localhost:8080/",
          "height": 299
        },
        "id": "sSQUJsga2KWs",
        "outputId": "27b368ec-a1ff-466a-8e5c-83e4f549513f"
      },
      "source": [
        "sns.scatterplot(x='Country',y='Entrepreneurship Index',hue='Level of Development',data=dat)"
      ],
      "execution_count": null,
      "outputs": [
        {
          "output_type": "execute_result",
          "data": {
            "text/plain": [
              "<matplotlib.axes._subplots.AxesSubplot at 0x7f19c9320978>"
            ]
          },
          "metadata": {
            "tags": []
          },
          "execution_count": 9
        },
        {
          "output_type": "display_data",
          "data": {
            "image/png": "[encoded data removed]",
            "text/plain": [
              "<Figure size 432x288 with 1 Axes>"
            ]
          },
          "metadata": {
            "tags": [],
            "needs_background": "light"
          }
        }
      ]
    },
    {
      "cell_type": "markdown",
      "metadata": {
        "id": "d51FA6FfcUfA"
      },
      "source": [
        "The above plot depicts that developing countries have a lower Index(almost below 50). On the contrary developed countries have an index higher than 50."
      ]
    },
    {
      "cell_type": "markdown",
      "metadata": {
        "id": "DM7IXPP8RLPU"
      },
      "source": [
        "\n",
        "\n",
        "--Below is the scatterplot for Woman Enterpreneurship Index plot.\n"
      ]
    },
    {
      "cell_type": "code",
      "metadata": {
        "colab": {
          "base_uri": "https://localhost:8080/",
          "height": 296
        },
        "id": "iseeafwoc9Tu",
        "outputId": "1bea7832-a338-4a35-ea67-9e214f76a6c7"
      },
      "source": [
        "sns.scatterplot(x='Country',y='Women Entrepreneurship Index',hue='Level of Development',data=dat)"
      ],
      "execution_count": null,
      "outputs": [
        {
          "output_type": "execute_result",
          "data": {
            "text/plain": [
              "<matplotlib.axes._subplots.AxesSubplot at 0x7f19c793d550>"
            ]
          },
          "metadata": {
            "tags": []
          },
          "execution_count": 15
        },
        {
          "output_type": "display_data",
          "data": {
            "image/png": "[encoded data removed]",
            "text/plain": [
              "<Figure size 432x288 with 1 Axes>"
            ]
          },
          "metadata": {
            "tags": [],
            "needs_background": "light"
          }
        }
      ]
    },
    {
      "cell_type": "markdown",
      "metadata": {
        "id": "kIshYiwBdP4G"
      },
      "source": [
        "\n",
        "\n",
        "\n",
        "\n",
        "From the above plot we observe that Enterpreneurship index for woman is very much low (below almost 40) in the developing countries where in the developed countries it's beyond almost 55."
      ]
    },
    {
      "cell_type": "markdown",
      "metadata": {
        "id": "esWENqRLTlV9"
      },
      "source": [
        "\n",
        "\n",
        "--Below is the scatterplot for Female Labor Force rate."
      ]
    },
    {
      "cell_type": "code",
      "metadata": {
        "colab": {
          "base_uri": "https://localhost:8080/",
          "height": 296
        },
        "id": "EmPr9gjFfi7d",
        "outputId": "6b4bfaaa-e7e8-456d-f703-daa9dd958abd"
      },
      "source": [
        "sns.scatterplot(x='Country',y='Female Labor Force Participation Rate',hue='Level of Development',data=dat)"
      ],
      "execution_count": null,
      "outputs": [
        {
          "output_type": "execute_result",
          "data": {
            "text/plain": [
              "<matplotlib.axes._subplots.AxesSubplot at 0x7f19c7575c18>"
            ]
          },
          "metadata": {
            "tags": []
          },
          "execution_count": 17
        },
        {
          "output_type": "display_data",
          "data": {
            "image/png": "[encoded data removed]",
            "text/plain": [
              "<Figure size 432x288 with 1 Axes>"
            ]
          },
          "metadata": {
            "tags": [],
            "needs_background": "light"
          }
        }
      ]
    },
    {
      "cell_type": "markdown",
      "metadata": {
        "id": "jxRvU1mVgDYZ"
      },
      "source": [
        "From the above graph we can observe that Female Labor force is being utilized in both the developed & developing countries though in some developing countries the rate is still very low."
      ]
    },
    {
      "cell_type": "markdown",
      "metadata": {
        "id": "NZV1xjFwl0wJ"
      },
      "source": [
        "--Below are the boxplots for the variables."
      ]
    },
    {
      "cell_type": "code",
      "metadata": {
        "colab": {
          "base_uri": "https://localhost:8080/",
          "height": 296
        },
        "id": "9E7Zle_rTq_1",
        "outputId": "f25e67b7-86a1-4f6e-a783-17026d0ad556"
      },
      "source": [
        "sns.boxplot(x='Female Labor Force Participation Rate',data=dat)\n"
      ],
      "execution_count": null,
      "outputs": [
        {
          "output_type": "execute_result",
          "data": {
            "text/plain": [
              "<matplotlib.axes._subplots.AxesSubplot at 0x7f19bf51dcf8>"
            ]
          },
          "metadata": {
            "tags": []
          },
          "execution_count": 23
        },
        {
          "output_type": "display_data",
          "data": {
            "image/png": "[encoded data removed]",
            "text/plain": [
              "<Figure size 432x288 with 1 Axes>"
            ]
          },
          "metadata": {
            "tags": [],
            "needs_background": "light"
          }
        }
      ]
    },
    {
      "cell_type": "code",
      "metadata": {
        "colab": {
          "base_uri": "https://localhost:8080/",
          "height": 296
        },
        "id": "LnNXUh2nlYDB",
        "outputId": "11713cf0-f9e6-4ad0-b8f4-f81d2e7e18fa"
      },
      "source": [
        "sns.boxplot(x='Women Entrepreneurship Index',data=dat)"
      ],
      "execution_count": null,
      "outputs": [
        {
          "output_type": "execute_result",
          "data": {
            "text/plain": [
              "<matplotlib.axes._subplots.AxesSubplot at 0x7f19bf55c4a8>"
            ]
          },
          "metadata": {
            "tags": []
          },
          "execution_count": 24
        },
        {
          "output_type": "display_data",
          "data": {
            "image/png": "[encoded data removed]",
            "text/plain": [
              "<Figure size 432x288 with 1 Axes>"
            ]
          },
          "metadata": {
            "tags": [],
            "needs_background": "light"
          }
        }
      ]
    },
    {
      "cell_type": "code",
      "metadata": {
        "colab": {
          "base_uri": "https://localhost:8080/",
          "height": 296
        },
        "id": "jXEDHkyHlnqN",
        "outputId": "e841978b-9a51-428e-fe1f-49df2a7c2677"
      },
      "source": [
        "sns.boxplot(x='Entrepreneurship Index',data=dat)"
      ],
      "execution_count": null,
      "outputs": [
        {
          "output_type": "execute_result",
          "data": {
            "text/plain": [
              "<matplotlib.axes._subplots.AxesSubplot at 0x7f19bf484438>"
            ]
          },
          "metadata": {
            "tags": []
          },
          "execution_count": 25
        },
        {
          "output_type": "display_data",
          "data": {
            "image/png": "[encoded data removed]",
            "text/plain": [
              "<Figure size 432x288 with 1 Axes>"
            ]
          },
          "metadata": {
            "tags": [],
            "needs_background": "light"
          }
        }
      ]
    },
    {
      "cell_type": "markdown",
      "metadata": {
        "id": "aSpfx5InT_6A"
      },
      "source": [
        "--Below is the  Histogram for Woman Enterpreneurship Index."
      ]
    },
    {
      "cell_type": "code",
      "metadata": {
        "colab": {
          "base_uri": "https://localhost:8080/",
          "height": 296
        },
        "id": "OXShkt7tUFnz",
        "outputId": "5a492577-3c70-4398-afae-983ed40206ca"
      },
      "source": [
        "sns.histplot(dat['Women Entrepreneurship Index'],bins=5)"
      ],
      "execution_count": null,
      "outputs": [
        {
          "output_type": "execute_result",
          "data": {
            "text/plain": [
              "<matplotlib.axes._subplots.AxesSubplot at 0x7f19bf349940>"
            ]
          },
          "metadata": {
            "tags": []
          },
          "execution_count": 26
        },
        {
          "output_type": "display_data",
          "data": {
            "image/png": "[encoded data removed]",
            "text/plain": [
              "<Figure size 432x288 with 1 Axes>"
            ]
          },
          "metadata": {
            "tags": [],
            "needs_background": "light"
          }
        }
      ]
    },
    {
      "cell_type": "markdown",
      "metadata": {
        "id": "tajd6mOPmQmN"
      },
      "source": [
        "It describes the highest number of countries is 16 having Woman Enterpreneurship Index in the rage from 35-45."
      ]
    },
    {
      "cell_type": "markdown",
      "metadata": {
        "id": "dH2pQeh2Ujt4"
      },
      "source": [
        "--Below is the Histogram for Female Lebor force participation rate ."
      ]
    },
    {
      "cell_type": "code",
      "metadata": {
        "colab": {
          "base_uri": "https://localhost:8080/",
          "height": 296
        },
        "id": "yNZYDBKoUoHA",
        "outputId": "c0f02bad-c5db-45be-b02c-9deebc5e70fa"
      },
      "source": [
        "sns.histplot(dat['Female Labor Force Participation Rate'],bins=5)\n"
      ],
      "execution_count": null,
      "outputs": [
        {
          "output_type": "execute_result",
          "data": {
            "text/plain": [
              "<matplotlib.axes._subplots.AxesSubplot at 0x7f19bc9b9e48>"
            ]
          },
          "metadata": {
            "tags": []
          },
          "execution_count": 28
        },
        {
          "output_type": "display_data",
          "data": {
            "image/png": "[encoded data removed]",
            "text/plain": [
              "<Figure size 432x288 with 1 Axes>"
            ]
          },
          "metadata": {
            "tags": [],
            "needs_background": "light"
          }
        }
      ]
    },
    {
      "cell_type": "markdown",
      "metadata": {
        "id": "s3TBiCT9nKmk"
      },
      "source": [
        "The highest number of countries is 30 having a higher rate of Labor rate in the range of 55-65.\n",
        "\n",
        "\n",
        "\n",
        "\n",
        "\n"
      ]
    },
    {
      "cell_type": "markdown",
      "metadata": {
        "id": "QkhMAmRvqCDz"
      },
      "source": [
        "**Step-7)**\n",
        "\n",
        "Seeing above we can have a visual idea about the data, how they are distributed,the average,median,mode etc.From the scatterplot we can have a clear view of the different indexes for the developed and developing countries.From the boxplot we can have the idea of min,max,median,mean.From histogram we can have an idea of the mode for indexes.\n",
        "\n",
        "\n",
        "\n",
        "\n",
        "\n",
        "**Step-8)**\n",
        "\n",
        "\n",
        "\n",
        "From the graphs we can see that both the developed & developing countries are utilizing their female labor force.But the in the developing countries the woman enterpreneurship index as well as enterpreneurship index are lower than the developed countries.We also see the mean for woman enterpreneurship index & enterpreneurship index are same but that doesn't describe the whole scenario quite well as the standered deviation is quite high because of the low indexes in the developing countries.What is more satisfactory that the female labor force rate is quite good in both the developed & developing countries.So in order for the developing countries to enhance their economoy is to create better friendly environment for the women so that they can participate well in the national economy leading the country to a better position than before."
      ]
    }
  ]
}