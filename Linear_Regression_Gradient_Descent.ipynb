{
  "nbformat": 4,
  "nbformat_minor": 0,
  "metadata": {
    "colab": {
      "provenance": [],
      "authorship_tag": "ABX9TyPmRnxkWNBOknuQuPb8L14p",
      "include_colab_link": true
    },
    "kernelspec": {
      "name": "python3",
      "display_name": "Python 3"
    },
    "language_info": {
      "name": "python"
    }
  },
  "cells": [
    {
      "cell_type": "markdown",
      "metadata": {
        "id": "view-in-github",
        "colab_type": "text"
      },
      "source": [
        "<a href=\"https://colab.research.google.com/github/ABHISHEK-DEY-64150/Machine_learning/blob/main/Linear_Regression_Gradient_Descent.ipynb\" target=\"_parent\"><img src=\"https://colab.research.google.com/assets/colab-badge.svg\" alt=\"Open In Colab\"/></a>"
      ]
    },
    {
      "cell_type": "code",
      "execution_count": 1,
      "metadata": {
        "id": "ekvcbHFIsEh4"
      },
      "outputs": [],
      "source": [
        "import numpy as np\n",
        "import pandas as pd\n",
        "import matplotlib.pyplot as plt\n",
        "from sklearn.model_selection import train_test_split\n",
        "from sklearn.linear_model import LinearRegression\n"
      ]
    },
    {
      "cell_type": "code",
      "source": [
        "Unit = [10, 12, 13, 15, 19, 23, 25, 27, 32, 34, 37, 40, 42, 45]\n",
        "Price = [20, 24, 22, 26, 33, 32, 38, 44, 45, 51, 53, 55, 60, 55]"
      ],
      "metadata": {
        "id": "WtCOnIxqsn47"
      },
      "execution_count": 2,
      "outputs": []
    },
    {
      "cell_type": "code",
      "source": [
        "price = np.array(Price)\n",
        "unit = np.array(Unit)"
      ],
      "metadata": {
        "id": "EeW30C9Ds0Rp"
      },
      "execution_count": 3,
      "outputs": []
    },
    {
      "cell_type": "code",
      "source": [
        "lu = len(unit)\n",
        "lp = len(price)\n",
        "print(lu)\n",
        "print(lp)"
      ],
      "metadata": {
        "colab": {
          "base_uri": "https://localhost:8080/"
        },
        "id": "wC4eIwfBtCOB",
        "outputId": "66768d57-3980-4064-ead1-7f654221aca2"
      },
      "execution_count": 4,
      "outputs": [
        {
          "output_type": "stream",
          "name": "stdout",
          "text": [
            "14\n",
            "14\n"
          ]
        }
      ]
    },
    {
      "cell_type": "code",
      "source": [
        "plt.figure(figsize=(10, 8))\n",
        "plt.scatter(price,unit,color='blue')\n",
        "\n"
      ],
      "metadata": {
        "colab": {
          "base_uri": "https://localhost:8080/",
          "height": 500
        },
        "id": "-qfHsXbxtgrW",
        "outputId": "c20345b1-36a5-4f3a-aed8-e63c567cea33"
      },
      "execution_count": 5,
      "outputs": [
        {
          "output_type": "execute_result",
          "data": {
            "text/plain": [
              "<matplotlib.collections.PathCollection at 0x7f28657621f0>"
            ]
          },
          "metadata": {},
          "execution_count": 5
        },
        {
          "output_type": "display_data",
          "data": {
            "text/plain": [
              "<Figure size 720x576 with 1 Axes>"
            ],
            "image/png": "[encoded data removed]"
          },
          "metadata": {
            "needs_background": "light"
          }
        }
      ]
    },
    {
      "cell_type": "code",
      "source": [
        "# Gradient Descent calculation\n",
        "\n",
        "m = 0\n",
        "c = 0\n",
        "\n",
        "it = 100000\n",
        "\n",
        "lr = .00001\n",
        "cost1 = []\n",
        "\n",
        "n = float(len(unit))\n",
        "\n",
        "for i in range(it):\n",
        "  Y = m*unit + c\n",
        "  cost1.append((1/n)*sum([val**2 for val in (price - Y)])) \n",
        "  dm =  (-2/n)*sum(unit*(price - Y))\n",
        "  dc = (-2/n) * sum(price - Y)\n",
        "\n",
        "  m = m - lr*dm\n",
        "  c = c - lr*dc\n",
        "\n",
        "\n",
        "print(m)\n",
        "print(c)\n",
        "\n",
        "\n"
      ],
      "metadata": {
        "colab": {
          "base_uri": "https://localhost:8080/"
        },
        "id": "L6mMxoqptz8I",
        "outputId": "362fb487-62ee-41f4-c73d-0b632ad8d8a0"
      },
      "execution_count": 6,
      "outputs": [
        {
          "output_type": "stream",
          "name": "stdout",
          "text": [
            "1.3581177966663387\n",
            "2.52009483968528\n"
          ]
        }
      ]
    },
    {
      "cell_type": "code",
      "source": [
        "#regression line drawing\n",
        "\n",
        "Y = m*unit +c\n",
        "\n",
        "plt.figure(figsize=(10, 8))\n",
        "plt.scatter(unit,price,color='blue')\n",
        "\n",
        "plt.plot([min(unit),max(unit)],[min(Y),max(Y)],color='red')\n",
        "\n"
      ],
      "metadata": {
        "colab": {
          "base_uri": "https://localhost:8080/",
          "height": 500
        },
        "id": "5yidBWeZyA6v",
        "outputId": "ed79a6fe-b1a1-4379-f729-0fb9925678f1"
      },
      "execution_count": 7,
      "outputs": [
        {
          "output_type": "execute_result",
          "data": {
            "text/plain": [
              "[<matplotlib.lines.Line2D at 0x7f2864ef3ac0>]"
            ]
          },
          "metadata": {},
          "execution_count": 7
        },
        {
          "output_type": "display_data",
          "data": {
            "text/plain": [
              "<Figure size 720x576 with 1 Axes>"
            ],
            "image/png": "[encoded data removed]"
          },
          "metadata": {
            "needs_background": "light"
          }
        }
      ]
    },
    {
      "cell_type": "code",
      "source": [
        "#Total cost/loss calculation\n",
        "Y = m*unit +c\n",
        "cost = 0\n",
        "cost = (1/n)*sum([val**2 for val in (price - Y)])\n",
        "\n",
        "print(cost)"
      ],
      "metadata": {
        "colab": {
          "base_uri": "https://localhost:8080/"
        },
        "id": "94rT7ovzzGUe",
        "outputId": "6f5d2839-034f-403d-b5de-6c197b13522c"
      },
      "execution_count": 8,
      "outputs": [
        {
          "output_type": "stream",
          "name": "stdout",
          "text": [
            "13.568349554434905\n"
          ]
        }
      ]
    },
    {
      "cell_type": "code",
      "source": [
        "#plotting cost function\n",
        "\n",
        "# print(cost1)\n",
        "\n",
        "plt.figure(figsize=(10, 8))\n",
        "plt.plot(cost1)"
      ],
      "metadata": {
        "colab": {
          "base_uri": "https://localhost:8080/",
          "height": 500
        },
        "id": "iUO9u86p1bbG",
        "outputId": "77e861e0-32e8-40c3-9a7b-25d7f121603a"
      },
      "execution_count": 15,
      "outputs": [
        {
          "output_type": "execute_result",
          "data": {
            "text/plain": [
              "[<matplotlib.lines.Line2D at 0x7f286356cb80>]"
            ]
          },
          "metadata": {},
          "execution_count": 15
        },
        {
          "output_type": "display_data",
          "data": {
            "text/plain": [
              "<Figure size 720x576 with 1 Axes>"
            ],
            "image/png": "[encoded data removed]"
          },
          "metadata": {
            "needs_background": "light"
          }
        }
      ]
    },
    {
      "cell_type": "code",
      "source": [
        "#defining test data\n",
        "\n",
        "invest = np.array([1000,15000,600,5800,9600,56400,50000,45000,60000,68000,70000,85000,15000,35000,78000])\n",
        "y_pred = m*invest + c \n",
        "print(y_pred)\n"
      ],
      "metadata": {
        "colab": {
          "base_uri": "https://localhost:8080/"
        },
        "id": "fCbdX4k36UyU",
        "outputId": "9437eabb-8523-4d47-ac4f-b6d386dc4a7f"
      },
      "execution_count": 10,
      "outputs": [
        {
          "output_type": "stream",
          "name": "stdout",
          "text": [
            "[  1360.63789151  20374.28704483    817.39077284   7879.6033155\n",
            "  13040.45094284  76600.36382682  67908.40992816  61117.82094482\n",
            "  81489.58789482  92354.53026815  95070.76586148 115442.53281148\n",
            "  20374.28704483  47536.64297816 105935.70823481]\n"
          ]
        }
      ]
    },
    {
      "cell_type": "code",
      "source": [
        "plt.figure(figsize=(10, 8))\n",
        "plt.scatter(y_pred,invest,color='red')\n",
        "plt.plot(y_pred,invest)"
      ],
      "metadata": {
        "colab": {
          "base_uri": "https://localhost:8080/",
          "height": 500
        },
        "id": "UncJbbJP9cCY",
        "outputId": "d33f8e3e-a127-4193-eaa0-85a4ab008b39"
      },
      "execution_count": 11,
      "outputs": [
        {
          "output_type": "execute_result",
          "data": {
            "text/plain": [
              "[<matplotlib.lines.Line2D at 0x7f2863641790>]"
            ]
          },
          "metadata": {},
          "execution_count": 11
        },
        {
          "output_type": "display_data",
          "data": {
            "text/plain": [
              "<Figure size 720x576 with 1 Axes>"
            ],
            "image/png": "[encoded data removed]"
          },
          "metadata": {
            "needs_background": "light"
          }
        }
      ]
    },
    {
      "cell_type": "code",
      "source": [
        "# Linear Regression using python library\n",
        "\n",
        "\n",
        "lig = LinearRegression()\n",
        "\n",
        "unit = unit.reshape(-1,1)\n",
        "price = price.reshape(-1,1)\n",
        "\n",
        "lig.fit(unit,price)"
      ],
      "metadata": {
        "colab": {
          "base_uri": "https://localhost:8080/"
        },
        "id": "LYSTEz5C_T-C",
        "outputId": "f437823e-5ba0-436b-b3c9-1c98ae261c86"
      },
      "execution_count": 12,
      "outputs": [
        {
          "output_type": "execute_result",
          "data": {
            "text/plain": [
              "LinearRegression()"
            ]
          },
          "metadata": {},
          "execution_count": 12
        }
      ]
    },
    {
      "cell_type": "code",
      "source": [
        "y_pred = lig.predict(unit)\n",
        "lg_m = lig.coef_\n",
        "lg_c = lig.intercept_\n",
        "\n",
        "print(lg_m)\n",
        "print(lg_c)\n",
        "plt.scatter(unit, price, color ='red')\n",
        "plt.plot(unit, y_pred, color ='blue')"
      ],
      "metadata": {
        "colab": {
          "base_uri": "https://localhost:8080/",
          "height": 317
        },
        "id": "7CRMQ70FAkrq",
        "outputId": "3f3d9867-29c4-44ac-feea-c6903a0f379f"
      },
      "execution_count": 13,
      "outputs": [
        {
          "output_type": "stream",
          "name": "stdout",
          "text": [
            "[[1.14193095]]\n",
            "[9.35127324]\n"
          ]
        },
        {
          "output_type": "execute_result",
          "data": {
            "text/plain": [
              "[<matplotlib.lines.Line2D at 0x7f2864f29610>]"
            ]
          },
          "metadata": {},
          "execution_count": 13
        },
        {
          "output_type": "display_data",
          "data": {
            "text/plain": [
              "<Figure size 432x288 with 1 Axes>"
            ],
            "image/png": "[encoded data removed]"
          },
          "metadata": {
            "needs_background": "light"
          }
        }
      ]
    },
    {
      "cell_type": "code",
      "source": [
        "# Cost function calculation\n",
        "\n",
        "sz = float(len(unit))\n",
        "\n",
        "error = price - y_pred\n",
        "se = np.sum(error**2)\n",
        "mse = se/sz \n",
        "print('Cost = ', mse)"
      ],
      "metadata": {
        "colab": {
          "base_uri": "https://localhost:8080/"
        },
        "id": "hpLq9zwXCWtB",
        "outputId": "8d9829a9-52a8-4c1a-8544-9eecce3ac5bd"
      },
      "execution_count": 14,
      "outputs": [
        {
          "output_type": "stream",
          "name": "stdout",
          "text": [
            "Cost =  6.348076193451911\n"
          ]
        }
      ]
    },
    {
      "cell_type": "markdown",
      "source": [
        "Using gradient descent algorithm the error was 13.568349554434905. Using Linear regssion library the error of the Regession line is  6.34807619345191.\n",
        "\n",
        "Using Gradient descent algo the slope and intercept were 1.3581177966663387\n",
        " and 2.52009483968528 where using the python regression library the slope and intercept are 1.1419309 and 9.35127324.\n",
        "\n",
        "\n",
        "---\n",
        "\n"
      ],
      "metadata": {
        "id": "ySDP2eZ_Jzle"
      }
    }
  ]
}