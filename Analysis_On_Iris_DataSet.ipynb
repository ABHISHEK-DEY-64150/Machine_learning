{
  "nbformat": 4,
  "nbformat_minor": 0,
  "metadata": {
    "colab": {
      "provenance": [],
      "include_colab_link": true
    },
    "kernelspec": {
      "name": "python3",
      "display_name": "Python 3"
    },
    "language_info": {
      "name": "python"
    }
  },
  "cells": [
    {
      "cell_type": "markdown",
      "metadata": {
        "id": "view-in-github",
        "colab_type": "text"
      },
      "source": [
        "<a href=\"https://colab.research.google.com/github/ABHISHEK-DEY-64150/Machine_learning_projects/blob/main/Analysis_On_Iris_DataSet.ipynb\" target=\"_parent\"><img src=\"https://colab.research.google.com/assets/colab-badge.svg\" alt=\"Open In Colab\"/></a>"
      ]
    },
    {
      "cell_type": "code",
      "execution_count": null,
      "metadata": {
        "id": "5Vg1efs3Smak"
      },
      "outputs": [],
      "source": [
        "import pandas as pd\n",
        "import seaborn as sns\n",
        "import numpy as np\n",
        "from sklearn import svm, datasets\n",
        "import matplotlib.pyplot as plt\n",
        "from sklearn.model_selection import train_test_split"
      ]
    },
    {
      "cell_type": "code",
      "source": [
        "data = pd.read_csv('Iris.csv')\n",
        "data.drop(columns=data.columns[0], \n",
        "        axis=1, \n",
        "        inplace=True)\n",
        "\n",
        "data\n"
      ],
      "metadata": {
        "id": "FtdTTRK8TRQl",
        "colab": {
          "base_uri": "https://localhost:8080/",
          "height": 424
        },
        "outputId": "07d21779-1e8e-4ba6-eac7-2b44c0870eaa"
      },
      "execution_count": null,
      "outputs": [
        {
          "output_type": "execute_result",
          "data": {
            "text/plain": [
              "     SepalLengthCm  SepalWidthCm  PetalLengthCm  PetalWidthCm         Species\n",
              "0              5.1           3.5            1.4           0.2     Iris-setosa\n",
              "1              4.9           3.0            1.4           0.2     Iris-setosa\n",
              "2              4.7           3.2            1.3           0.2     Iris-setosa\n",
              "3              4.6           3.1            1.5           0.2     Iris-setosa\n",
              "4              5.0           3.6            1.4           0.2     Iris-setosa\n",
              "..             ...           ...            ...           ...             ...\n",
              "145            6.7           3.0            5.2           2.3  Iris-virginica\n",
              "146            6.3           2.5            5.0           1.9  Iris-virginica\n",
              "147            6.5           3.0            5.2           2.0  Iris-virginica\n",
              "148            6.2           3.4            5.4           2.3  Iris-virginica\n",
              "149            5.9           3.0            5.1           1.8  Iris-virginica\n",
              "\n",
              "[150 rows x 5 columns]"
            ],
            "text/html": [
              "\n",
              "  <div id=\"df-3a30d258-96bc-4f60-bd6a-7de9c17bf037\">\n",
              "    <div class=\"colab-df-container\">\n",
              "      <div>\n",
              "<style scoped>\n",
              "    .dataframe tbody tr th:only-of-type {\n",
              "        vertical-align: middle;\n",
              "    }\n",
              "\n",
              "    .dataframe tbody tr th {\n",
              "        vertical-align: top;\n",
              "    }\n",
              "\n",
              "    .dataframe thead th {\n",
              "        text-align: right;\n",
              "    }\n",
              "</style>\n",
              "<table border=\"1\" class=\"dataframe\">\n",
              "  <thead>\n",
              "    <tr style=\"text-align: right;\">\n",
              "      <th></th>\n",
              "      <th>SepalLengthCm</th>\n",
              "      <th>SepalWidthCm</th>\n",
              "      <th>PetalLengthCm</th>\n",
              "      <th>PetalWidthCm</th>\n",
              "      <th>Species</th>\n",
              "    </tr>\n",
              "  </thead>\n",
              "  <tbody>\n",
              "    <tr>\n",
              "      <th>0</th>\n",
              "      <td>5.1</td>\n",
              "      <td>3.5</td>\n",
              "      <td>1.4</td>\n",
              "      <td>0.2</td>\n",
              "      <td>Iris-setosa</td>\n",
              "    </tr>\n",
              "    <tr>\n",
              "      <th>1</th>\n",
              "      <td>4.9</td>\n",
              "      <td>3.0</td>\n",
              "      <td>1.4</td>\n",
              "      <td>0.2</td>\n",
              "      <td>Iris-setosa</td>\n",
              "    </tr>\n",
              "    <tr>\n",
              "      <th>2</th>\n",
              "      <td>4.7</td>\n",
              "      <td>3.2</td>\n",
              "      <td>1.3</td>\n",
              "      <td>0.2</td>\n",
              "      <td>Iris-setosa</td>\n",
              "    </tr>\n",
              "    <tr>\n",
              "      <th>3</th>\n",
              "      <td>4.6</td>\n",
              "      <td>3.1</td>\n",
              "      <td>1.5</td>\n",
              "      <td>0.2</td>\n",
              "      <td>Iris-setosa</td>\n",
              "    </tr>\n",
              "    <tr>\n",
              "      <th>4</th>\n",
              "      <td>5.0</td>\n",
              "      <td>3.6</td>\n",
              "      <td>1.4</td>\n",
              "      <td>0.2</td>\n",
              "      <td>Iris-setosa</td>\n",
              "    </tr>\n",
              "    <tr>\n",
              "      <th>...</th>\n",
              "      <td>...</td>\n",
              "      <td>...</td>\n",
              "      <td>...</td>\n",
              "      <td>...</td>\n",
              "      <td>...</td>\n",
              "    </tr>\n",
              "    <tr>\n",
              "      <th>145</th>\n",
              "      <td>6.7</td>\n",
              "      <td>3.0</td>\n",
              "      <td>5.2</td>\n",
              "      <td>2.3</td>\n",
              "      <td>Iris-virginica</td>\n",
              "    </tr>\n",
              "    <tr>\n",
              "      <th>146</th>\n",
              "      <td>6.3</td>\n",
              "      <td>2.5</td>\n",
              "      <td>5.0</td>\n",
              "      <td>1.9</td>\n",
              "      <td>Iris-virginica</td>\n",
              "    </tr>\n",
              "    <tr>\n",
              "      <th>147</th>\n",
              "      <td>6.5</td>\n",
              "      <td>3.0</td>\n",
              "      <td>5.2</td>\n",
              "      <td>2.0</td>\n",
              "      <td>Iris-virginica</td>\n",
              "    </tr>\n",
              "    <tr>\n",
              "      <th>148</th>\n",
              "      <td>6.2</td>\n",
              "      <td>3.4</td>\n",
              "      <td>5.4</td>\n",
              "      <td>2.3</td>\n",
              "      <td>Iris-virginica</td>\n",
              "    </tr>\n",
              "    <tr>\n",
              "      <th>149</th>\n",
              "      <td>5.9</td>\n",
              "      <td>3.0</td>\n",
              "      <td>5.1</td>\n",
              "      <td>1.8</td>\n",
              "      <td>Iris-virginica</td>\n",
              "    </tr>\n",
              "  </tbody>\n",
              "</table>\n",
              "<p>150 rows × 5 columns</p>\n",
              "</div>\n",
              "      <button class=\"colab-df-convert\" onclick=\"convertToInteractive('df-3a30d258-96bc-4f60-bd6a-7de9c17bf037')\"\n",
              "              title=\"Convert this dataframe to an interactive table.\"\n",
              "              style=\"display:none;\">\n",
              "        \n",
              "  <svg xmlns=\"http://www.w3.org/2000/svg\" height=\"24px\"viewBox=\"0 0 24 24\"\n",
              "       width=\"24px\">\n",
              "    <path d=\"M0 0h24v24H0V0z\" fill=\"none\"/>\n",
              "    <path d=\"M18.56 5.44l.94 2.06.94-2.06 2.06-.94-2.06-.94-.94-2.06-.94 2.06-2.06.94zm-11 1L8.5 8.5l.94-2.06 2.06-.94-2.06-.94L8.5 2.5l-.94 2.06-2.06.94zm10 10l.94 2.06.94-2.06 2.06-.94-2.06-.94-.94-2.06-.94 2.06-2.06.94z\"/><path d=\"M17.41 7.96l-1.37-1.37c-.4-.4-.92-.59-1.43-.59-.52 0-1.04.2-1.43.59L10.3 9.45l-7.72 7.72c-.78.78-.78 2.05 0 2.83L4 21.41c.39.39.9.59 1.41.59.51 0 1.02-.2 1.41-.59l7.78-7.78 2.81-2.81c.8-.78.8-2.07 0-2.86zM5.41 20L4 18.59l7.72-7.72 1.47 1.35L5.41 20z\"/>\n",
              "  </svg>\n",
              "      </button>\n",
              "      \n",
              "  <style>\n",
              "    .colab-df-container {\n",
              "      display:flex;\n",
              "      flex-wrap:wrap;\n",
              "      gap: 12px;\n",
              "    }\n",
              "\n",
              "    .colab-df-convert {\n",
              "      background-color: #E8F0FE;\n",
              "      border: none;\n",
              "      border-radius: 50%;\n",
              "      cursor: pointer;\n",
              "      display: none;\n",
              "      fill: #1967D2;\n",
              "      height: 32px;\n",
              "      padding: 0 0 0 0;\n",
              "      width: 32px;\n",
              "    }\n",
              "\n",
              "    .colab-df-convert:hover {\n",
              "      background-color: #E2EBFA;\n",
              "      box-shadow: 0px 1px 2px rgba(60, 64, 67, 0.3), 0px 1px 3px 1px rgba(60, 64, 67, 0.15);\n",
              "      fill: #174EA6;\n",
              "    }\n",
              "\n",
              "    [theme=dark] .colab-df-convert {\n",
              "      background-color: #3B4455;\n",
              "      fill: #D2E3FC;\n",
              "    }\n",
              "\n",
              "    [theme=dark] .colab-df-convert:hover {\n",
              "      background-color: #434B5C;\n",
              "      box-shadow: 0px 1px 3px 1px rgba(0, 0, 0, 0.15);\n",
              "      filter: drop-shadow(0px 1px 2px rgba(0, 0, 0, 0.3));\n",
              "      fill: #FFFFFF;\n",
              "    }\n",
              "  </style>\n",
              "\n",
              "      <script>\n",
              "        const buttonEl =\n",
              "          document.querySelector('#df-3a30d258-96bc-4f60-bd6a-7de9c17bf037 button.colab-df-convert');\n",
              "        buttonEl.style.display =\n",
              "          google.colab.kernel.accessAllowed ? 'block' : 'none';\n",
              "\n",
              "        async function convertToInteractive(key) {\n",
              "          const element = document.querySelector('#df-3a30d258-96bc-4f60-bd6a-7de9c17bf037');\n",
              "          const dataTable =\n",
              "            await google.colab.kernel.invokeFunction('convertToInteractive',\n",
              "                                                     [key], {});\n",
              "          if (!dataTable) return;\n",
              "\n",
              "          const docLinkHtml = 'Like what you see? Visit the ' +\n",
              "            '<a target=\"_blank\" href=https://colab.research.google.com/notebooks/data_table.ipynb>data table notebook</a>'\n",
              "            + ' to learn more about interactive tables.';\n",
              "          element.innerHTML = '';\n",
              "          dataTable['output_type'] = 'display_data';\n",
              "          await google.colab.output.renderOutput(dataTable, element);\n",
              "          const docLink = document.createElement('div');\n",
              "          docLink.innerHTML = docLinkHtml;\n",
              "          element.appendChild(docLink);\n",
              "        }\n",
              "      </script>\n",
              "    </div>\n",
              "  </div>\n",
              "  "
            ]
          },
          "metadata": {},
          "execution_count": 242
        }
      ]
    },
    {
      "cell_type": "code",
      "source": [
        "X = data.iloc[:, :-1].values;\n",
        "y = data.iloc[:,-1].values;"
      ],
      "metadata": {
        "id": "PSl3Wyl7L5Ds"
      },
      "execution_count": null,
      "outputs": []
    },
    {
      "cell_type": "code",
      "source": [
        "y\n"
      ],
      "metadata": {
        "id": "NvgCS8isNqLE",
        "colab": {
          "base_uri": "https://localhost:8080/"
        },
        "outputId": "6a595061-14fa-424f-d83c-419ef0cc4a62"
      },
      "execution_count": null,
      "outputs": [
        {
          "output_type": "execute_result",
          "data": {
            "text/plain": [
              "array(['Iris-setosa', 'Iris-setosa', 'Iris-setosa', 'Iris-setosa',\n",
              "       'Iris-setosa', 'Iris-setosa', 'Iris-setosa', 'Iris-setosa',\n",
              "       'Iris-setosa', 'Iris-setosa', 'Iris-setosa', 'Iris-setosa',\n",
              "       'Iris-setosa', 'Iris-setosa', 'Iris-setosa', 'Iris-setosa',\n",
              "       'Iris-setosa', 'Iris-setosa', 'Iris-setosa', 'Iris-setosa',\n",
              "       'Iris-setosa', 'Iris-setosa', 'Iris-setosa', 'Iris-setosa',\n",
              "       'Iris-setosa', 'Iris-setosa', 'Iris-setosa', 'Iris-setosa',\n",
              "       'Iris-setosa', 'Iris-setosa', 'Iris-setosa', 'Iris-setosa',\n",
              "       'Iris-setosa', 'Iris-setosa', 'Iris-setosa', 'Iris-setosa',\n",
              "       'Iris-setosa', 'Iris-setosa', 'Iris-setosa', 'Iris-setosa',\n",
              "       'Iris-setosa', 'Iris-setosa', 'Iris-setosa', 'Iris-setosa',\n",
              "       'Iris-setosa', 'Iris-setosa', 'Iris-setosa', 'Iris-setosa',\n",
              "       'Iris-setosa', 'Iris-setosa', 'Iris-versicolor', 'Iris-versicolor',\n",
              "       'Iris-versicolor', 'Iris-versicolor', 'Iris-versicolor',\n",
              "       'Iris-versicolor', 'Iris-versicolor', 'Iris-versicolor',\n",
              "       'Iris-versicolor', 'Iris-versicolor', 'Iris-versicolor',\n",
              "       'Iris-versicolor', 'Iris-versicolor', 'Iris-versicolor',\n",
              "       'Iris-versicolor', 'Iris-versicolor', 'Iris-versicolor',\n",
              "       'Iris-versicolor', 'Iris-versicolor', 'Iris-versicolor',\n",
              "       'Iris-versicolor', 'Iris-versicolor', 'Iris-versicolor',\n",
              "       'Iris-versicolor', 'Iris-versicolor', 'Iris-versicolor',\n",
              "       'Iris-versicolor', 'Iris-versicolor', 'Iris-versicolor',\n",
              "       'Iris-versicolor', 'Iris-versicolor', 'Iris-versicolor',\n",
              "       'Iris-versicolor', 'Iris-versicolor', 'Iris-versicolor',\n",
              "       'Iris-versicolor', 'Iris-versicolor', 'Iris-versicolor',\n",
              "       'Iris-versicolor', 'Iris-versicolor', 'Iris-versicolor',\n",
              "       'Iris-versicolor', 'Iris-versicolor', 'Iris-versicolor',\n",
              "       'Iris-versicolor', 'Iris-versicolor', 'Iris-versicolor',\n",
              "       'Iris-versicolor', 'Iris-versicolor', 'Iris-versicolor',\n",
              "       'Iris-virginica', 'Iris-virginica', 'Iris-virginica',\n",
              "       'Iris-virginica', 'Iris-virginica', 'Iris-virginica',\n",
              "       'Iris-virginica', 'Iris-virginica', 'Iris-virginica',\n",
              "       'Iris-virginica', 'Iris-virginica', 'Iris-virginica',\n",
              "       'Iris-virginica', 'Iris-virginica', 'Iris-virginica',\n",
              "       'Iris-virginica', 'Iris-virginica', 'Iris-virginica',\n",
              "       'Iris-virginica', 'Iris-virginica', 'Iris-virginica',\n",
              "       'Iris-virginica', 'Iris-virginica', 'Iris-virginica',\n",
              "       'Iris-virginica', 'Iris-virginica', 'Iris-virginica',\n",
              "       'Iris-virginica', 'Iris-virginica', 'Iris-virginica',\n",
              "       'Iris-virginica', 'Iris-virginica', 'Iris-virginica',\n",
              "       'Iris-virginica', 'Iris-virginica', 'Iris-virginica',\n",
              "       'Iris-virginica', 'Iris-virginica', 'Iris-virginica',\n",
              "       'Iris-virginica', 'Iris-virginica', 'Iris-virginica',\n",
              "       'Iris-virginica', 'Iris-virginica', 'Iris-virginica',\n",
              "       'Iris-virginica', 'Iris-virginica', 'Iris-virginica',\n",
              "       'Iris-virginica', 'Iris-virginica'], dtype=object)"
            ]
          },
          "metadata": {},
          "execution_count": 244
        }
      ]
    },
    {
      "cell_type": "markdown",
      "source": [
        "**Task 1**"
      ],
      "metadata": {
        "id": "51TC5a-tWs9-"
      }
    },
    {
      "cell_type": "code",
      "source": [
        "sns.FacetGrid(data, hue=\"Species\", size=8) \\\n",
        "   .map(plt.scatter, \"PetalLengthCm\", \"PetalWidthCm\") \\\n",
        "   .add_legend()"
      ],
      "metadata": {
        "colab": {
          "base_uri": "https://localhost:8080/",
          "height": 637
        },
        "id": "z--FaflSTQ_x",
        "outputId": "6cfe5e24-1935-4ff9-bece-08706b82a619"
      },
      "execution_count": null,
      "outputs": [
        {
          "output_type": "stream",
          "name": "stderr",
          "text": [
            "/usr/local/lib/python3.7/dist-packages/seaborn/axisgrid.py:337: UserWarning: The `size` parameter has been renamed to `height`; please update your code.\n",
            "  warnings.warn(msg, UserWarning)\n"
          ]
        },
        {
          "output_type": "execute_result",
          "data": {
            "text/plain": [
              "<seaborn.axisgrid.FacetGrid at 0x7f909955da10>"
            ]
          },
          "metadata": {},
          "execution_count": 245
        },
        {
          "output_type": "display_data",
          "data": {
            "text/plain": [
              "<Figure size 679.25x576 with 1 Axes>"
            ],
            "image/png": "[encoded data removed]"
          },
          "metadata": {
            "needs_background": "light"
          }
        }
      ]
    },
    {
      "cell_type": "code",
      "source": [
        "\n",
        "X_train, X_test, y_train, y_test = train_test_split(X, y, test_size=0.4, random_state=0)"
      ],
      "metadata": {
        "id": "abMLqxXPKcmX"
      },
      "execution_count": null,
      "outputs": []
    },
    {
      "cell_type": "code",
      "source": [
        "from sklearn.preprocessing import StandardScaler\n",
        "sc = StandardScaler()\n",
        "X_train = sc.fit_transform(X_train)\n",
        "X_test = sc.transform(X_test)"
      ],
      "metadata": {
        "id": "4tKGiZ1wLeLO"
      },
      "execution_count": null,
      "outputs": []
    },
    {
      "cell_type": "markdown",
      "source": [
        "**Task-1**"
      ],
      "metadata": {
        "id": "ZYyt0grCq4zr"
      }
    },
    {
      "cell_type": "markdown",
      "source": [
        "**K-NN**"
      ],
      "metadata": {
        "id": "WmbfHlWgrEIU"
      }
    },
    {
      "cell_type": "code",
      "source": [
        "from sklearn.neighbors import KNeighborsClassifier\n",
        "KNN_classifier = KNeighborsClassifier(n_neighbors = 7, metric = 'minkowski', p = 2)\n",
        "KNN_classifier.fit(X_train, y_train)"
      ],
      "metadata": {
        "colab": {
          "base_uri": "https://localhost:8080/"
        },
        "id": "ZGfz4lAJqkoz",
        "outputId": "a09f1db1-502d-450a-8306-af2dab03fd96"
      },
      "execution_count": null,
      "outputs": [
        {
          "output_type": "execute_result",
          "data": {
            "text/plain": [
              "KNeighborsClassifier(n_neighbors=7)"
            ]
          },
          "metadata": {},
          "execution_count": 248
        }
      ]
    },
    {
      "cell_type": "code",
      "source": [
        "y_pred = KNN_classifier.predict(X_test)\n",
        "print(np.concatenate((y_test.reshape(len(y_test),1),y_pred.reshape(len(y_pred),1)),1))"
      ],
      "metadata": {
        "id": "gwX4YCRfrbJn",
        "colab": {
          "base_uri": "https://localhost:8080/"
        },
        "outputId": "9f38fe8e-a2a8-4dc5-f0be-5fadabf3bc7d"
      },
      "execution_count": null,
      "outputs": [
        {
          "output_type": "stream",
          "name": "stdout",
          "text": [
            "[['Iris-virginica' 'Iris-virginica']\n",
            " ['Iris-versicolor' 'Iris-versicolor']\n",
            " ['Iris-setosa' 'Iris-setosa']\n",
            " ['Iris-virginica' 'Iris-virginica']\n",
            " ['Iris-setosa' 'Iris-setosa']\n",
            " ['Iris-virginica' 'Iris-virginica']\n",
            " ['Iris-setosa' 'Iris-setosa']\n",
            " ['Iris-versicolor' 'Iris-versicolor']\n",
            " ['Iris-versicolor' 'Iris-versicolor']\n",
            " ['Iris-versicolor' 'Iris-versicolor']\n",
            " ['Iris-virginica' 'Iris-virginica']\n",
            " ['Iris-versicolor' 'Iris-versicolor']\n",
            " ['Iris-versicolor' 'Iris-versicolor']\n",
            " ['Iris-versicolor' 'Iris-versicolor']\n",
            " ['Iris-versicolor' 'Iris-versicolor']\n",
            " ['Iris-setosa' 'Iris-setosa']\n",
            " ['Iris-versicolor' 'Iris-versicolor']\n",
            " ['Iris-versicolor' 'Iris-versicolor']\n",
            " ['Iris-setosa' 'Iris-setosa']\n",
            " ['Iris-setosa' 'Iris-setosa']\n",
            " ['Iris-virginica' 'Iris-virginica']\n",
            " ['Iris-versicolor' 'Iris-versicolor']\n",
            " ['Iris-setosa' 'Iris-setosa']\n",
            " ['Iris-setosa' 'Iris-setosa']\n",
            " ['Iris-virginica' 'Iris-virginica']\n",
            " ['Iris-setosa' 'Iris-setosa']\n",
            " ['Iris-setosa' 'Iris-setosa']\n",
            " ['Iris-versicolor' 'Iris-versicolor']\n",
            " ['Iris-versicolor' 'Iris-versicolor']\n",
            " ['Iris-setosa' 'Iris-setosa']\n",
            " ['Iris-virginica' 'Iris-virginica']\n",
            " ['Iris-versicolor' 'Iris-versicolor']\n",
            " ['Iris-setosa' 'Iris-setosa']\n",
            " ['Iris-virginica' 'Iris-virginica']\n",
            " ['Iris-virginica' 'Iris-virginica']\n",
            " ['Iris-versicolor' 'Iris-versicolor']\n",
            " ['Iris-setosa' 'Iris-setosa']\n",
            " ['Iris-versicolor' 'Iris-virginica']\n",
            " ['Iris-versicolor' 'Iris-versicolor']\n",
            " ['Iris-versicolor' 'Iris-versicolor']\n",
            " ['Iris-virginica' 'Iris-virginica']\n",
            " ['Iris-setosa' 'Iris-setosa']\n",
            " ['Iris-virginica' 'Iris-virginica']\n",
            " ['Iris-setosa' 'Iris-setosa']\n",
            " ['Iris-setosa' 'Iris-setosa']\n",
            " ['Iris-versicolor' 'Iris-versicolor']\n",
            " ['Iris-virginica' 'Iris-virginica']\n",
            " ['Iris-virginica' 'Iris-virginica']\n",
            " ['Iris-virginica' 'Iris-versicolor']\n",
            " ['Iris-virginica' 'Iris-virginica']\n",
            " ['Iris-versicolor' 'Iris-versicolor']\n",
            " ['Iris-virginica' 'Iris-virginica']\n",
            " ['Iris-versicolor' 'Iris-versicolor']\n",
            " ['Iris-versicolor' 'Iris-versicolor']\n",
            " ['Iris-virginica' 'Iris-virginica']\n",
            " ['Iris-virginica' 'Iris-versicolor']\n",
            " ['Iris-virginica' 'Iris-versicolor']\n",
            " ['Iris-virginica' 'Iris-virginica']\n",
            " ['Iris-versicolor' 'Iris-versicolor']\n",
            " ['Iris-virginica' 'Iris-virginica']]\n"
          ]
        }
      ]
    },
    {
      "cell_type": "code",
      "source": [
        "from sklearn.metrics import confusion_matrix, accuracy_score\n",
        "\n",
        "print(\"Confusion matrix for K-NN\\n\")\n",
        "\n",
        "cm = pd.DataFrame(\n",
        "    confusion_matrix(y_test, y_pred, labels=['Iris-versicolor', 'Iris-virginica','Iris-setosa']), \n",
        ")\n",
        "print(cm)\n",
        "\n",
        "\n",
        "accuracy_score(y_test, y_pred)"
      ],
      "metadata": {
        "colab": {
          "base_uri": "https://localhost:8080/"
        },
        "id": "YihOzKEpsCic",
        "outputId": "1c63b3b3-cdea-4529-ebe0-6fc2cad65ade"
      },
      "execution_count": null,
      "outputs": [
        {
          "output_type": "stream",
          "name": "stdout",
          "text": [
            "Confusion matrix for K-NN\n",
            "\n",
            "    0   1   2\n",
            "0  22   1   0\n",
            "1   3  18   0\n",
            "2   0   0  16\n"
          ]
        },
        {
          "output_type": "execute_result",
          "data": {
            "text/plain": [
              "0.9333333333333333"
            ]
          },
          "metadata": {},
          "execution_count": 250
        }
      ]
    },
    {
      "cell_type": "markdown",
      "source": [
        "**Decision Tree**"
      ],
      "metadata": {
        "id": "ecb-2PPJyWDd"
      }
    },
    {
      "cell_type": "code",
      "source": [
        "from sklearn.tree import DecisionTreeClassifier\n",
        "DT_classifier = DecisionTreeClassifier(criterion = 'entropy',random_state=0, max_depth=5)\n",
        "DT_classifier.fit(X_train, y_train)"
      ],
      "metadata": {
        "colab": {
          "base_uri": "https://localhost:8080/"
        },
        "id": "VS_1HSQ0ybAN",
        "outputId": "97694e64-fd59-42ee-935e-e07c45f5884f"
      },
      "execution_count": null,
      "outputs": [
        {
          "output_type": "execute_result",
          "data": {
            "text/plain": [
              "DecisionTreeClassifier(criterion='entropy', max_depth=5, random_state=0)"
            ]
          },
          "metadata": {},
          "execution_count": 251
        }
      ]
    },
    {
      "cell_type": "code",
      "source": [
        "y_pred = DT_classifier.predict(X_test)\n",
        "print(np.concatenate((y_test.reshape(len(y_test),1),y_pred.reshape(len(y_pred),1)),1))"
      ],
      "metadata": {
        "colab": {
          "base_uri": "https://localhost:8080/"
        },
        "id": "3MmeI-gozlEQ",
        "outputId": "f08c0a97-816e-45ac-d139-1013dce0c9c9"
      },
      "execution_count": null,
      "outputs": [
        {
          "output_type": "stream",
          "name": "stdout",
          "text": [
            "[['Iris-virginica' 'Iris-virginica']\n",
            " ['Iris-versicolor' 'Iris-versicolor']\n",
            " ['Iris-setosa' 'Iris-setosa']\n",
            " ['Iris-virginica' 'Iris-virginica']\n",
            " ['Iris-setosa' 'Iris-setosa']\n",
            " ['Iris-virginica' 'Iris-virginica']\n",
            " ['Iris-setosa' 'Iris-setosa']\n",
            " ['Iris-versicolor' 'Iris-versicolor']\n",
            " ['Iris-versicolor' 'Iris-versicolor']\n",
            " ['Iris-versicolor' 'Iris-versicolor']\n",
            " ['Iris-virginica' 'Iris-virginica']\n",
            " ['Iris-versicolor' 'Iris-versicolor']\n",
            " ['Iris-versicolor' 'Iris-versicolor']\n",
            " ['Iris-versicolor' 'Iris-versicolor']\n",
            " ['Iris-versicolor' 'Iris-versicolor']\n",
            " ['Iris-setosa' 'Iris-setosa']\n",
            " ['Iris-versicolor' 'Iris-versicolor']\n",
            " ['Iris-versicolor' 'Iris-versicolor']\n",
            " ['Iris-setosa' 'Iris-setosa']\n",
            " ['Iris-setosa' 'Iris-setosa']\n",
            " ['Iris-virginica' 'Iris-virginica']\n",
            " ['Iris-versicolor' 'Iris-versicolor']\n",
            " ['Iris-setosa' 'Iris-setosa']\n",
            " ['Iris-setosa' 'Iris-setosa']\n",
            " ['Iris-virginica' 'Iris-virginica']\n",
            " ['Iris-setosa' 'Iris-setosa']\n",
            " ['Iris-setosa' 'Iris-setosa']\n",
            " ['Iris-versicolor' 'Iris-versicolor']\n",
            " ['Iris-versicolor' 'Iris-versicolor']\n",
            " ['Iris-setosa' 'Iris-setosa']\n",
            " ['Iris-virginica' 'Iris-virginica']\n",
            " ['Iris-versicolor' 'Iris-versicolor']\n",
            " ['Iris-setosa' 'Iris-setosa']\n",
            " ['Iris-virginica' 'Iris-virginica']\n",
            " ['Iris-virginica' 'Iris-virginica']\n",
            " ['Iris-versicolor' 'Iris-versicolor']\n",
            " ['Iris-setosa' 'Iris-setosa']\n",
            " ['Iris-versicolor' 'Iris-virginica']\n",
            " ['Iris-versicolor' 'Iris-versicolor']\n",
            " ['Iris-versicolor' 'Iris-versicolor']\n",
            " ['Iris-virginica' 'Iris-virginica']\n",
            " ['Iris-setosa' 'Iris-setosa']\n",
            " ['Iris-virginica' 'Iris-virginica']\n",
            " ['Iris-setosa' 'Iris-setosa']\n",
            " ['Iris-setosa' 'Iris-setosa']\n",
            " ['Iris-versicolor' 'Iris-versicolor']\n",
            " ['Iris-virginica' 'Iris-virginica']\n",
            " ['Iris-virginica' 'Iris-virginica']\n",
            " ['Iris-virginica' 'Iris-versicolor']\n",
            " ['Iris-virginica' 'Iris-virginica']\n",
            " ['Iris-versicolor' 'Iris-versicolor']\n",
            " ['Iris-virginica' 'Iris-virginica']\n",
            " ['Iris-versicolor' 'Iris-versicolor']\n",
            " ['Iris-versicolor' 'Iris-versicolor']\n",
            " ['Iris-virginica' 'Iris-virginica']\n",
            " ['Iris-virginica' 'Iris-virginica']\n",
            " ['Iris-virginica' 'Iris-versicolor']\n",
            " ['Iris-virginica' 'Iris-virginica']\n",
            " ['Iris-versicolor' 'Iris-versicolor']\n",
            " ['Iris-virginica' 'Iris-virginica']]\n"
          ]
        }
      ]
    },
    {
      "cell_type": "code",
      "source": [
        "from sklearn.metrics import confusion_matrix, accuracy_score\n",
        "\n",
        "print(\"Confusion matrix for Decision Tree\\n\")\n",
        "\n",
        "cm = pd.DataFrame(\n",
        "    confusion_matrix(y_test, y_pred, labels=['Iris-versicolor', 'Iris-virginica','Iris-setosa']), \n",
        ")\n",
        "print(cm)\n",
        "\n",
        "\n",
        "accuracy_score(y_test, y_pred)"
      ],
      "metadata": {
        "colab": {
          "base_uri": "https://localhost:8080/"
        },
        "id": "VS6MLK5BzqLe",
        "outputId": "abb49d48-1f5f-4795-d671-911539494e0f"
      },
      "execution_count": null,
      "outputs": [
        {
          "output_type": "stream",
          "name": "stdout",
          "text": [
            "Confusion matrix for Decision Tree\n",
            "\n",
            "    0   1   2\n",
            "0  22   1   0\n",
            "1   2  19   0\n",
            "2   0   0  16\n"
          ]
        },
        {
          "output_type": "execute_result",
          "data": {
            "text/plain": [
              "0.95"
            ]
          },
          "metadata": {},
          "execution_count": 253
        }
      ]
    },
    {
      "cell_type": "markdown",
      "source": [
        "**Random Forest**"
      ],
      "metadata": {
        "id": "9hoi9t-U1rpf"
      }
    },
    {
      "cell_type": "code",
      "source": [
        "from sklearn.ensemble import RandomForestClassifier\n",
        "RF_classifier = RandomForestClassifier(n_estimators = 5, random_state = 0)\n",
        "RF_classifier.fit(X_train, y_train)"
      ],
      "metadata": {
        "colab": {
          "base_uri": "https://localhost:8080/"
        },
        "id": "jW6FZO9c1ute",
        "outputId": "aee131db-2a9d-4964-834e-bb5ee147b166"
      },
      "execution_count": null,
      "outputs": [
        {
          "output_type": "execute_result",
          "data": {
            "text/plain": [
              "RandomForestClassifier(n_estimators=5, random_state=0)"
            ]
          },
          "metadata": {},
          "execution_count": 254
        }
      ]
    },
    {
      "cell_type": "code",
      "source": [
        "y_pred = RF_classifier.predict(X_test)\n",
        "print(np.concatenate((y_test.reshape(len(y_test),1),y_pred.reshape(len(y_pred),1)),1))"
      ],
      "metadata": {
        "id": "Gy3ADptE3KwG",
        "colab": {
          "base_uri": "https://localhost:8080/"
        },
        "outputId": "9e896498-0f53-4c77-fbcb-e78ecbe3abc0"
      },
      "execution_count": null,
      "outputs": [
        {
          "output_type": "stream",
          "name": "stdout",
          "text": [
            "[['Iris-virginica' 'Iris-virginica']\n",
            " ['Iris-versicolor' 'Iris-versicolor']\n",
            " ['Iris-setosa' 'Iris-setosa']\n",
            " ['Iris-virginica' 'Iris-virginica']\n",
            " ['Iris-setosa' 'Iris-setosa']\n",
            " ['Iris-virginica' 'Iris-virginica']\n",
            " ['Iris-setosa' 'Iris-setosa']\n",
            " ['Iris-versicolor' 'Iris-versicolor']\n",
            " ['Iris-versicolor' 'Iris-versicolor']\n",
            " ['Iris-versicolor' 'Iris-versicolor']\n",
            " ['Iris-virginica' 'Iris-virginica']\n",
            " ['Iris-versicolor' 'Iris-versicolor']\n",
            " ['Iris-versicolor' 'Iris-versicolor']\n",
            " ['Iris-versicolor' 'Iris-versicolor']\n",
            " ['Iris-versicolor' 'Iris-versicolor']\n",
            " ['Iris-setosa' 'Iris-setosa']\n",
            " ['Iris-versicolor' 'Iris-versicolor']\n",
            " ['Iris-versicolor' 'Iris-versicolor']\n",
            " ['Iris-setosa' 'Iris-setosa']\n",
            " ['Iris-setosa' 'Iris-setosa']\n",
            " ['Iris-virginica' 'Iris-virginica']\n",
            " ['Iris-versicolor' 'Iris-versicolor']\n",
            " ['Iris-setosa' 'Iris-setosa']\n",
            " ['Iris-setosa' 'Iris-setosa']\n",
            " ['Iris-virginica' 'Iris-virginica']\n",
            " ['Iris-setosa' 'Iris-setosa']\n",
            " ['Iris-setosa' 'Iris-setosa']\n",
            " ['Iris-versicolor' 'Iris-versicolor']\n",
            " ['Iris-versicolor' 'Iris-versicolor']\n",
            " ['Iris-setosa' 'Iris-setosa']\n",
            " ['Iris-virginica' 'Iris-virginica']\n",
            " ['Iris-versicolor' 'Iris-versicolor']\n",
            " ['Iris-setosa' 'Iris-setosa']\n",
            " ['Iris-virginica' 'Iris-virginica']\n",
            " ['Iris-virginica' 'Iris-virginica']\n",
            " ['Iris-versicolor' 'Iris-versicolor']\n",
            " ['Iris-setosa' 'Iris-setosa']\n",
            " ['Iris-versicolor' 'Iris-versicolor']\n",
            " ['Iris-versicolor' 'Iris-versicolor']\n",
            " ['Iris-versicolor' 'Iris-versicolor']\n",
            " ['Iris-virginica' 'Iris-virginica']\n",
            " ['Iris-setosa' 'Iris-setosa']\n",
            " ['Iris-virginica' 'Iris-virginica']\n",
            " ['Iris-setosa' 'Iris-setosa']\n",
            " ['Iris-setosa' 'Iris-setosa']\n",
            " ['Iris-versicolor' 'Iris-versicolor']\n",
            " ['Iris-virginica' 'Iris-virginica']\n",
            " ['Iris-virginica' 'Iris-virginica']\n",
            " ['Iris-virginica' 'Iris-versicolor']\n",
            " ['Iris-virginica' 'Iris-virginica']\n",
            " ['Iris-versicolor' 'Iris-versicolor']\n",
            " ['Iris-virginica' 'Iris-virginica']\n",
            " ['Iris-versicolor' 'Iris-versicolor']\n",
            " ['Iris-versicolor' 'Iris-versicolor']\n",
            " ['Iris-virginica' 'Iris-virginica']\n",
            " ['Iris-virginica' 'Iris-versicolor']\n",
            " ['Iris-virginica' 'Iris-versicolor']\n",
            " ['Iris-virginica' 'Iris-virginica']\n",
            " ['Iris-versicolor' 'Iris-versicolor']\n",
            " ['Iris-virginica' 'Iris-virginica']]\n"
          ]
        }
      ]
    },
    {
      "cell_type": "code",
      "source": [
        "from sklearn.metrics import confusion_matrix, accuracy_score\n",
        "\n",
        "print(\"Confusion matrix for Random Forest\\n\")\n",
        "\n",
        "cm = pd.DataFrame(\n",
        "    confusion_matrix(y_test, y_pred, labels=['Iris-versicolor', 'Iris-virginica','Iris-setosa']), \n",
        ")\n",
        "print(cm)\n",
        "\n",
        "\n",
        "accuracy_score(y_test, y_pred)"
      ],
      "metadata": {
        "colab": {
          "base_uri": "https://localhost:8080/"
        },
        "id": "f2KOO5wo3PUN",
        "outputId": "d476b86d-8c79-46ba-a6b4-14e4847ee1a3"
      },
      "execution_count": null,
      "outputs": [
        {
          "output_type": "stream",
          "name": "stdout",
          "text": [
            "Confusion matrix for Random Forest\n",
            "\n",
            "    0   1   2\n",
            "0  23   0   0\n",
            "1   3  18   0\n",
            "2   0   0  16\n"
          ]
        },
        {
          "output_type": "execute_result",
          "data": {
            "text/plain": [
              "0.95"
            ]
          },
          "metadata": {},
          "execution_count": 256
        }
      ]
    },
    {
      "cell_type": "markdown",
      "source": [
        "**Naive Bayes**"
      ],
      "metadata": {
        "id": "KRL86k06nFtn"
      }
    },
    {
      "cell_type": "code",
      "source": [
        "from sklearn.naive_bayes import GaussianNB\n",
        "NB_classifier = GaussianNB()\n",
        "NB_classifier.fit(X_train, y_train)"
      ],
      "metadata": {
        "colab": {
          "base_uri": "https://localhost:8080/"
        },
        "id": "JvmnKTrWnFYx",
        "outputId": "b2af958f-407d-4077-b577-0b0f82cb7324"
      },
      "execution_count": null,
      "outputs": [
        {
          "output_type": "execute_result",
          "data": {
            "text/plain": [
              "GaussianNB()"
            ]
          },
          "metadata": {},
          "execution_count": 257
        }
      ]
    },
    {
      "cell_type": "code",
      "source": [
        "y_pred = NB_classifier.predict(X_test)\n",
        "print(np.concatenate((y_test.reshape(len(y_test),1),y_pred.reshape(len(y_pred),1)),1))"
      ],
      "metadata": {
        "colab": {
          "base_uri": "https://localhost:8080/"
        },
        "id": "npziTv4OnT-Q",
        "outputId": "a3feec52-32cf-4436-8d53-7c8f81d917b3"
      },
      "execution_count": null,
      "outputs": [
        {
          "output_type": "stream",
          "name": "stdout",
          "text": [
            "[['Iris-virginica' 'Iris-virginica']\n",
            " ['Iris-versicolor' 'Iris-versicolor']\n",
            " ['Iris-setosa' 'Iris-setosa']\n",
            " ['Iris-virginica' 'Iris-virginica']\n",
            " ['Iris-setosa' 'Iris-setosa']\n",
            " ['Iris-virginica' 'Iris-virginica']\n",
            " ['Iris-setosa' 'Iris-setosa']\n",
            " ['Iris-versicolor' 'Iris-versicolor']\n",
            " ['Iris-versicolor' 'Iris-versicolor']\n",
            " ['Iris-versicolor' 'Iris-versicolor']\n",
            " ['Iris-virginica' 'Iris-versicolor']\n",
            " ['Iris-versicolor' 'Iris-versicolor']\n",
            " ['Iris-versicolor' 'Iris-versicolor']\n",
            " ['Iris-versicolor' 'Iris-versicolor']\n",
            " ['Iris-versicolor' 'Iris-versicolor']\n",
            " ['Iris-setosa' 'Iris-setosa']\n",
            " ['Iris-versicolor' 'Iris-versicolor']\n",
            " ['Iris-versicolor' 'Iris-versicolor']\n",
            " ['Iris-setosa' 'Iris-setosa']\n",
            " ['Iris-setosa' 'Iris-setosa']\n",
            " ['Iris-virginica' 'Iris-virginica']\n",
            " ['Iris-versicolor' 'Iris-versicolor']\n",
            " ['Iris-setosa' 'Iris-setosa']\n",
            " ['Iris-setosa' 'Iris-setosa']\n",
            " ['Iris-virginica' 'Iris-virginica']\n",
            " ['Iris-setosa' 'Iris-setosa']\n",
            " ['Iris-setosa' 'Iris-setosa']\n",
            " ['Iris-versicolor' 'Iris-versicolor']\n",
            " ['Iris-versicolor' 'Iris-versicolor']\n",
            " ['Iris-setosa' 'Iris-setosa']\n",
            " ['Iris-virginica' 'Iris-virginica']\n",
            " ['Iris-versicolor' 'Iris-versicolor']\n",
            " ['Iris-setosa' 'Iris-setosa']\n",
            " ['Iris-virginica' 'Iris-virginica']\n",
            " ['Iris-virginica' 'Iris-virginica']\n",
            " ['Iris-versicolor' 'Iris-versicolor']\n",
            " ['Iris-setosa' 'Iris-setosa']\n",
            " ['Iris-versicolor' 'Iris-versicolor']\n",
            " ['Iris-versicolor' 'Iris-versicolor']\n",
            " ['Iris-versicolor' 'Iris-versicolor']\n",
            " ['Iris-virginica' 'Iris-virginica']\n",
            " ['Iris-setosa' 'Iris-setosa']\n",
            " ['Iris-virginica' 'Iris-virginica']\n",
            " ['Iris-setosa' 'Iris-setosa']\n",
            " ['Iris-setosa' 'Iris-setosa']\n",
            " ['Iris-versicolor' 'Iris-versicolor']\n",
            " ['Iris-virginica' 'Iris-virginica']\n",
            " ['Iris-virginica' 'Iris-virginica']\n",
            " ['Iris-virginica' 'Iris-versicolor']\n",
            " ['Iris-virginica' 'Iris-virginica']\n",
            " ['Iris-versicolor' 'Iris-versicolor']\n",
            " ['Iris-virginica' 'Iris-virginica']\n",
            " ['Iris-versicolor' 'Iris-versicolor']\n",
            " ['Iris-versicolor' 'Iris-versicolor']\n",
            " ['Iris-virginica' 'Iris-virginica']\n",
            " ['Iris-virginica' 'Iris-versicolor']\n",
            " ['Iris-virginica' 'Iris-versicolor']\n",
            " ['Iris-virginica' 'Iris-virginica']\n",
            " ['Iris-versicolor' 'Iris-versicolor']\n",
            " ['Iris-virginica' 'Iris-virginica']]\n"
          ]
        }
      ]
    },
    {
      "cell_type": "code",
      "source": [
        "from sklearn.metrics import confusion_matrix, accuracy_score\n",
        "\n",
        "print(\"Confusion matrix for Naive Bayes: \\n\")\n",
        "\n",
        "cm = pd.DataFrame(\n",
        "    confusion_matrix(y_test, y_pred, labels=['Iris-versicolor', 'Iris-virginica','Iris-setosa']), \n",
        ")\n",
        "print(cm)\n",
        "\n",
        "\n",
        "accuracy_score(y_test, y_pred)"
      ],
      "metadata": {
        "colab": {
          "base_uri": "https://localhost:8080/"
        },
        "id": "bLitu_nJnU3R",
        "outputId": "f2542d7b-737b-41c6-bfa9-30ae4671eab6"
      },
      "execution_count": null,
      "outputs": [
        {
          "output_type": "stream",
          "name": "stdout",
          "text": [
            "Confusion matrix for Naive Bayes: \n",
            "\n",
            "    0   1   2\n",
            "0  23   0   0\n",
            "1   4  17   0\n",
            "2   0   0  16\n"
          ]
        },
        {
          "output_type": "execute_result",
          "data": {
            "text/plain": [
              "0.9333333333333333"
            ]
          },
          "metadata": {},
          "execution_count": 259
        }
      ]
    },
    {
      "cell_type": "markdown",
      "source": [
        "**Logistic Regression**"
      ],
      "metadata": {
        "id": "Afzv6g1VnhXy"
      }
    },
    {
      "cell_type": "code",
      "source": [
        "from sklearn.linear_model import LogisticRegression\n",
        "LR_classifier = LogisticRegression(random_state = 0)\n",
        "LR_classifier.fit(X_train, y_train)"
      ],
      "metadata": {
        "colab": {
          "base_uri": "https://localhost:8080/"
        },
        "id": "8jCnGcJPnk5H",
        "outputId": "2c571511-bcec-46a7-bdac-190fbba3a7af"
      },
      "execution_count": null,
      "outputs": [
        {
          "output_type": "execute_result",
          "data": {
            "text/plain": [
              "LogisticRegression(random_state=0)"
            ]
          },
          "metadata": {},
          "execution_count": 260
        }
      ]
    },
    {
      "cell_type": "code",
      "source": [
        "y_pred = LR_classifier.predict(X_test)\n",
        "print(np.concatenate((y_test.reshape(len(y_test),1),y_pred.reshape(len(y_pred),1)),1))"
      ],
      "metadata": {
        "id": "7G68W1RmnwhY",
        "colab": {
          "base_uri": "https://localhost:8080/"
        },
        "outputId": "e23a7bbe-aed5-485a-c6cd-b9f5ae7a153e"
      },
      "execution_count": null,
      "outputs": [
        {
          "output_type": "stream",
          "name": "stdout",
          "text": [
            "[['Iris-virginica' 'Iris-virginica']\n",
            " ['Iris-versicolor' 'Iris-versicolor']\n",
            " ['Iris-setosa' 'Iris-setosa']\n",
            " ['Iris-virginica' 'Iris-virginica']\n",
            " ['Iris-setosa' 'Iris-setosa']\n",
            " ['Iris-virginica' 'Iris-virginica']\n",
            " ['Iris-setosa' 'Iris-setosa']\n",
            " ['Iris-versicolor' 'Iris-versicolor']\n",
            " ['Iris-versicolor' 'Iris-versicolor']\n",
            " ['Iris-versicolor' 'Iris-versicolor']\n",
            " ['Iris-virginica' 'Iris-versicolor']\n",
            " ['Iris-versicolor' 'Iris-versicolor']\n",
            " ['Iris-versicolor' 'Iris-versicolor']\n",
            " ['Iris-versicolor' 'Iris-versicolor']\n",
            " ['Iris-versicolor' 'Iris-versicolor']\n",
            " ['Iris-setosa' 'Iris-setosa']\n",
            " ['Iris-versicolor' 'Iris-versicolor']\n",
            " ['Iris-versicolor' 'Iris-versicolor']\n",
            " ['Iris-setosa' 'Iris-setosa']\n",
            " ['Iris-setosa' 'Iris-setosa']\n",
            " ['Iris-virginica' 'Iris-virginica']\n",
            " ['Iris-versicolor' 'Iris-versicolor']\n",
            " ['Iris-setosa' 'Iris-setosa']\n",
            " ['Iris-setosa' 'Iris-setosa']\n",
            " ['Iris-virginica' 'Iris-virginica']\n",
            " ['Iris-setosa' 'Iris-setosa']\n",
            " ['Iris-setosa' 'Iris-setosa']\n",
            " ['Iris-versicolor' 'Iris-versicolor']\n",
            " ['Iris-versicolor' 'Iris-versicolor']\n",
            " ['Iris-setosa' 'Iris-setosa']\n",
            " ['Iris-virginica' 'Iris-virginica']\n",
            " ['Iris-versicolor' 'Iris-versicolor']\n",
            " ['Iris-setosa' 'Iris-setosa']\n",
            " ['Iris-virginica' 'Iris-virginica']\n",
            " ['Iris-virginica' 'Iris-virginica']\n",
            " ['Iris-versicolor' 'Iris-versicolor']\n",
            " ['Iris-setosa' 'Iris-setosa']\n",
            " ['Iris-versicolor' 'Iris-versicolor']\n",
            " ['Iris-versicolor' 'Iris-versicolor']\n",
            " ['Iris-versicolor' 'Iris-versicolor']\n",
            " ['Iris-virginica' 'Iris-virginica']\n",
            " ['Iris-setosa' 'Iris-setosa']\n",
            " ['Iris-virginica' 'Iris-virginica']\n",
            " ['Iris-setosa' 'Iris-setosa']\n",
            " ['Iris-setosa' 'Iris-setosa']\n",
            " ['Iris-versicolor' 'Iris-versicolor']\n",
            " ['Iris-virginica' 'Iris-virginica']\n",
            " ['Iris-virginica' 'Iris-virginica']\n",
            " ['Iris-virginica' 'Iris-versicolor']\n",
            " ['Iris-virginica' 'Iris-virginica']\n",
            " ['Iris-versicolor' 'Iris-versicolor']\n",
            " ['Iris-virginica' 'Iris-virginica']\n",
            " ['Iris-versicolor' 'Iris-versicolor']\n",
            " ['Iris-versicolor' 'Iris-versicolor']\n",
            " ['Iris-virginica' 'Iris-virginica']\n",
            " ['Iris-virginica' 'Iris-versicolor']\n",
            " ['Iris-virginica' 'Iris-versicolor']\n",
            " ['Iris-virginica' 'Iris-virginica']\n",
            " ['Iris-versicolor' 'Iris-versicolor']\n",
            " ['Iris-virginica' 'Iris-virginica']]\n"
          ]
        }
      ]
    },
    {
      "cell_type": "code",
      "source": [
        "from sklearn.metrics import confusion_matrix, accuracy_score\n",
        "\n",
        "print(\"Confusion matrix for Logistic Regression: \\n\")\n",
        "\n",
        "cm = pd.DataFrame(\n",
        "    confusion_matrix(y_test, y_pred, labels=['Iris-versicolor', 'Iris-virginica','Iris-setosa']), \n",
        ")\n",
        "print(cm)\n",
        "\n",
        "\n",
        "accuracy_score(y_test, y_pred)"
      ],
      "metadata": {
        "colab": {
          "base_uri": "https://localhost:8080/"
        },
        "id": "Tv8CYgFJnzfZ",
        "outputId": "0270cb41-7221-48ae-b058-9d8c72fe30c7"
      },
      "execution_count": null,
      "outputs": [
        {
          "output_type": "stream",
          "name": "stdout",
          "text": [
            "Confusion matrix for Logistic Regression: \n",
            "\n",
            "    0   1   2\n",
            "0  23   0   0\n",
            "1   4  17   0\n",
            "2   0   0  16\n"
          ]
        },
        {
          "output_type": "execute_result",
          "data": {
            "text/plain": [
              "0.9333333333333333"
            ]
          },
          "metadata": {},
          "execution_count": 262
        }
      ]
    },
    {
      "cell_type": "markdown",
      "source": [
        "**Multilayer Neural Network**"
      ],
      "metadata": {
        "id": "bRJ-EEJstQC6"
      }
    },
    {
      "cell_type": "code",
      "source": [
        "from sklearn.neural_network import MLPClassifier\n",
        "MLN_classifier = MLPClassifier( learning_rate='adaptive', learning_rate_init=0.005,random_state=1, max_iter=10000)\n",
        "MLN_classifier.fit(X_train, y_train)"
      ],
      "metadata": {
        "id": "aJEvxpibtPnR",
        "colab": {
          "base_uri": "https://localhost:8080/"
        },
        "outputId": "412f05dc-edac-4908-a317-30f92c3329c4"
      },
      "execution_count": null,
      "outputs": [
        {
          "output_type": "execute_result",
          "data": {
            "text/plain": [
              "MLPClassifier(learning_rate='adaptive', learning_rate_init=0.005,\n",
              "              max_iter=10000, random_state=1)"
            ]
          },
          "metadata": {},
          "execution_count": 263
        }
      ]
    },
    {
      "cell_type": "code",
      "source": [
        "y_pred = MLN_classifier.predict(X_test)\n",
        "print(np.concatenate((y_test.reshape(len(y_test),1),y_pred.reshape(len(y_pred),1)),1))"
      ],
      "metadata": {
        "id": "jAyLW-yIt-k8",
        "colab": {
          "base_uri": "https://localhost:8080/"
        },
        "outputId": "bb0ae281-9b08-4e63-fbe8-8afb02fa8c24"
      },
      "execution_count": null,
      "outputs": [
        {
          "output_type": "stream",
          "name": "stdout",
          "text": [
            "[['Iris-virginica' 'Iris-virginica']\n",
            " ['Iris-versicolor' 'Iris-versicolor']\n",
            " ['Iris-setosa' 'Iris-setosa']\n",
            " ['Iris-virginica' 'Iris-virginica']\n",
            " ['Iris-setosa' 'Iris-setosa']\n",
            " ['Iris-virginica' 'Iris-virginica']\n",
            " ['Iris-setosa' 'Iris-setosa']\n",
            " ['Iris-versicolor' 'Iris-versicolor']\n",
            " ['Iris-versicolor' 'Iris-versicolor']\n",
            " ['Iris-versicolor' 'Iris-versicolor']\n",
            " ['Iris-virginica' 'Iris-virginica']\n",
            " ['Iris-versicolor' 'Iris-versicolor']\n",
            " ['Iris-versicolor' 'Iris-versicolor']\n",
            " ['Iris-versicolor' 'Iris-versicolor']\n",
            " ['Iris-versicolor' 'Iris-versicolor']\n",
            " ['Iris-setosa' 'Iris-setosa']\n",
            " ['Iris-versicolor' 'Iris-versicolor']\n",
            " ['Iris-versicolor' 'Iris-versicolor']\n",
            " ['Iris-setosa' 'Iris-setosa']\n",
            " ['Iris-setosa' 'Iris-setosa']\n",
            " ['Iris-virginica' 'Iris-virginica']\n",
            " ['Iris-versicolor' 'Iris-versicolor']\n",
            " ['Iris-setosa' 'Iris-setosa']\n",
            " ['Iris-setosa' 'Iris-setosa']\n",
            " ['Iris-virginica' 'Iris-virginica']\n",
            " ['Iris-setosa' 'Iris-setosa']\n",
            " ['Iris-setosa' 'Iris-setosa']\n",
            " ['Iris-versicolor' 'Iris-versicolor']\n",
            " ['Iris-versicolor' 'Iris-versicolor']\n",
            " ['Iris-setosa' 'Iris-setosa']\n",
            " ['Iris-virginica' 'Iris-virginica']\n",
            " ['Iris-versicolor' 'Iris-versicolor']\n",
            " ['Iris-setosa' 'Iris-setosa']\n",
            " ['Iris-virginica' 'Iris-virginica']\n",
            " ['Iris-virginica' 'Iris-virginica']\n",
            " ['Iris-versicolor' 'Iris-versicolor']\n",
            " ['Iris-setosa' 'Iris-setosa']\n",
            " ['Iris-versicolor' 'Iris-virginica']\n",
            " ['Iris-versicolor' 'Iris-versicolor']\n",
            " ['Iris-versicolor' 'Iris-versicolor']\n",
            " ['Iris-virginica' 'Iris-virginica']\n",
            " ['Iris-setosa' 'Iris-setosa']\n",
            " ['Iris-virginica' 'Iris-virginica']\n",
            " ['Iris-setosa' 'Iris-setosa']\n",
            " ['Iris-setosa' 'Iris-setosa']\n",
            " ['Iris-versicolor' 'Iris-versicolor']\n",
            " ['Iris-virginica' 'Iris-virginica']\n",
            " ['Iris-virginica' 'Iris-virginica']\n",
            " ['Iris-virginica' 'Iris-versicolor']\n",
            " ['Iris-virginica' 'Iris-virginica']\n",
            " ['Iris-versicolor' 'Iris-versicolor']\n",
            " ['Iris-virginica' 'Iris-virginica']\n",
            " ['Iris-versicolor' 'Iris-versicolor']\n",
            " ['Iris-versicolor' 'Iris-versicolor']\n",
            " ['Iris-virginica' 'Iris-virginica']\n",
            " ['Iris-virginica' 'Iris-versicolor']\n",
            " ['Iris-virginica' 'Iris-virginica']\n",
            " ['Iris-virginica' 'Iris-virginica']\n",
            " ['Iris-versicolor' 'Iris-versicolor']\n",
            " ['Iris-virginica' 'Iris-virginica']]\n"
          ]
        }
      ]
    },
    {
      "cell_type": "code",
      "source": [
        "from sklearn.metrics import confusion_matrix, accuracy_score\n",
        "\n",
        "print(\"Confusion matrix for MultiLayer Nural network: \\n\")\n",
        "\n",
        "cm = pd.DataFrame(\n",
        "    confusion_matrix(y_test, y_pred, labels=['Iris-versicolor', 'Iris-virginica','Iris-setosa']), \n",
        ")\n",
        "print(cm)\n",
        "\n",
        "\n",
        "accuracy_score(y_test, y_pred)"
      ],
      "metadata": {
        "colab": {
          "base_uri": "https://localhost:8080/"
        },
        "id": "mcJ3bYKxuC0o",
        "outputId": "82685315-a254-42ef-ae7e-3e0fb9496b4e"
      },
      "execution_count": null,
      "outputs": [
        {
          "output_type": "stream",
          "name": "stdout",
          "text": [
            "Confusion matrix for MultiLayer Nural network: \n",
            "\n",
            "    0   1   2\n",
            "0  22   1   0\n",
            "1   2  19   0\n",
            "2   0   0  16\n"
          ]
        },
        {
          "output_type": "execute_result",
          "data": {
            "text/plain": [
              "0.95"
            ]
          },
          "metadata": {},
          "execution_count": 265
        }
      ]
    },
    {
      "cell_type": "markdown",
      "source": [
        "**SVM**"
      ],
      "metadata": {
        "id": "WlHsMKD6A_UM"
      }
    },
    {
      "cell_type": "code",
      "source": [
        "from sklearn import svm\n",
        "from sklearn.metrics import confusion_matrix\n",
        "SV_classifier = svm.SVC(kernel = 'linear',C = 1)\n",
        "SV_classifier.fit(X_train, y_train)\n",
        "\n",
        "y_pred = SV_classifier.predict(X_test)\n",
        "\n",
        "cm = pd.DataFrame(\n",
        "    confusion_matrix(y_test, y_pred, labels=['Iris-versicolor', 'Iris-virginica','Iris-setosa']), \n",
        ")\n",
        "\n",
        "\n",
        "print(\"Model accuray for SVM\")\n",
        "print(SV_classifier.score(X_test,y_test))\n",
        "\n",
        "print(\"Confusion matrix for SVM network: \\n\")\n",
        "\n",
        "print(cm)\n"
      ],
      "metadata": {
        "colab": {
          "base_uri": "https://localhost:8080/"
        },
        "id": "4wtTv5v7BCwH",
        "outputId": "c5cc5f5d-a514-4026-eba2-eff7177474df"
      },
      "execution_count": null,
      "outputs": [
        {
          "output_type": "stream",
          "name": "stdout",
          "text": [
            "Model accuray for SVM\n",
            "0.9333333333333333\n",
            "Confusion matrix for SVM network: \n",
            "\n",
            "    0   1   2\n",
            "0  22   1   0\n",
            "1   3  18   0\n",
            "2   0   0  16\n"
          ]
        }
      ]
    },
    {
      "cell_type": "markdown",
      "source": [
        "**Task-3**"
      ],
      "metadata": {
        "id": "l7HDgkQ894vO"
      }
    },
    {
      "cell_type": "markdown",
      "source": [
        "**SVM-Plot**"
      ],
      "metadata": {
        "id": "flXuvhjkwzsZ"
      }
    },
    {
      "cell_type": "code",
      "source": [
        "from sklearn import svm\n",
        "import numpy as np\n",
        "import pylab as pl\n",
        "from sklearn import svm, datasets\n",
        "\n",
        "iris = datasets.load_iris()\n",
        "\n",
        "#for SepalLength and SepalWidth\n",
        "\n",
        "\n",
        "X = iris.data[:, :2]\n",
        "y = iris.target\n",
        "\n",
        "h = 0.02\n",
        "C = 1.0\n",
        "\n",
        "SV_classifier = svm.SVC(kernel='linear', C=C).fit(X, y)\n",
        "\n",
        "\n",
        "x_min, x_max = X[:,0].min()-1, X[:,0].max()+1\n",
        "y_min, y_max = X[:,1].min()-1, X[:,1].max()+1\n",
        "xx, yy = np.meshgrid(np.arange(x_min, x_max, h),\n",
        "                     np.arange(y_min, y_max, h))\n",
        "\n",
        "pl.set_cmap(pl.cm.Paired)\n",
        "\n",
        "Z = SV_classifier.predict(np.c_[xx.ravel(), yy.ravel()])\n",
        "\n",
        "Z = Z.reshape(xx.shape)\n",
        "pl.set_cmap(pl.cm.Paired)\n",
        "plt.contourf(xx, yy, Z, cmap=plt.cm.coolwarm, alpha=0.8)\n",
        "pl.axis('tight')\n",
        "\n",
        "plt.title(\"Decision boundary for SVM multiclass regression\")\n",
        "plt.scatter(X[:, 0], X[:, 1], c=y, cmap=plt.cm.coolwarm)\n",
        "\n",
        "plt.xlabel('Sepal length')\n",
        "plt.ylabel('Sepal width')\n",
        "plt.xlim(xx.min(), xx.max())\n",
        "plt.ylim(yy.min(), yy.max())\n",
        "plt.xticks(())\n",
        "plt.yticks(())\n",
        "\n",
        "\n",
        "\n"
      ],
      "metadata": {
        "colab": {
          "base_uri": "https://localhost:8080/",
          "height": 295
        },
        "id": "ms3viFKVw1we",
        "outputId": "5a885a97-44f1-400c-cfa2-6c5a1b2e9362"
      },
      "execution_count": null,
      "outputs": [
        {
          "output_type": "execute_result",
          "data": {
            "text/plain": [
              "([], <a list of 0 Text major ticklabel objects>)"
            ]
          },
          "metadata": {},
          "execution_count": 267
        },
        {
          "output_type": "display_data",
          "data": {
            "text/plain": [
              "<Figure size 432x288 with 1 Axes>"
            ],
            "image/png": "[encoded data removed]"
          },
          "metadata": {}
        }
      ]
    },
    {
      "cell_type": "code",
      "source": [
        "from sklearn import svm\n",
        "import numpy as np\n",
        "import pylab as pl\n",
        "from sklearn import svm, datasets\n",
        "\n",
        "iris = datasets.load_iris()\n",
        "\n",
        "#for PetalLength and PetalWidth\n",
        "\n",
        "\n",
        "X = iris.data[:, 2:]\n",
        "y = iris.target\n",
        "\n",
        "h = 0.02\n",
        "C = 5\n",
        "\n",
        "SV_classifier = svm.SVC(kernel='linear', C=C).fit(X, y)\n",
        "\n",
        "\n",
        "x_min, x_max = X[:,0].min()-1, X[:,0].max()+1\n",
        "y_min, y_max = X[:,1].min()-1, X[:,1].max()+1\n",
        "xx, yy = np.meshgrid(np.arange(x_min, x_max, h),\n",
        "                     np.arange(y_min, y_max, h))\n",
        "\n",
        "pl.set_cmap(pl.cm.Paired)\n",
        "\n",
        "Z = SV_classifier.predict(np.c_[xx.ravel(), yy.ravel()])\n",
        "\n",
        "Z = Z.reshape(xx.shape)\n",
        "pl.set_cmap(pl.cm.Paired)\n",
        "plt.contourf(xx, yy, Z, cmap=plt.cm.coolwarm, alpha=0.8)\n",
        "pl.axis('tight')\n",
        "\n",
        "plt.title(\"Decision boundary for SVM multiclass regression\")\n",
        "plt.scatter(X[:, 0], X[:, 1], c=y, cmap=plt.cm.coolwarm)\n",
        "\n",
        "plt.xlabel('Petal length')\n",
        "plt.ylabel('Petal width')\n",
        "plt.xlim(xx.min(), xx.max())\n",
        "plt.ylim(yy.min(), yy.max())\n",
        "plt.xticks(())\n",
        "plt.yticks(())\n",
        "\n",
        "\n",
        "\n"
      ],
      "metadata": {
        "colab": {
          "base_uri": "https://localhost:8080/",
          "height": 295
        },
        "id": "ZlCLauyGARV_",
        "outputId": "43a23b43-11c2-4e99-8e27-9830e99e8c3c"
      },
      "execution_count": null,
      "outputs": [
        {
          "output_type": "execute_result",
          "data": {
            "text/plain": [
              "([], <a list of 0 Text major ticklabel objects>)"
            ]
          },
          "metadata": {},
          "execution_count": 268
        },
        {
          "output_type": "display_data",
          "data": {
            "text/plain": [
              "<Figure size 432x288 with 1 Axes>"
            ],
            "image/png": "[encoded data removed]"
          },
          "metadata": {}
        }
      ]
    },
    {
      "cell_type": "markdown",
      "source": [
        "**Logistic-Plot**"
      ],
      "metadata": {
        "id": "eAu4RuEACKir"
      }
    },
    {
      "cell_type": "code",
      "source": [
        "from sklearn.linear_model import LogisticRegression\n",
        "import numpy as np\n",
        "import pylab as pl\n",
        "from sklearn import svm, datasets\n",
        "from matplotlib import pyplot as plt\n",
        "from matplotlib.colors import ListedColormap\n",
        "\n",
        "iris = datasets.load_iris()\n",
        "\n",
        "#for PetalLength and PetalWidth\n",
        "\n",
        "\n",
        "X = iris.data[:, 2:]\n",
        "y = iris.target\n",
        "\n",
        "LR = LogisticRegression(multi_class='multinomial', random_state=42, max_iter=500)\n",
        "\n",
        "LR.fit(X, y)\n",
        "\n",
        "h = .02\n",
        "\n",
        "\n",
        "x_min, x_max = X[:,0].min()-1, X[:,0].max()+1\n",
        "y_min, y_max = X[:,1].min()-1, X[:,1].max()+1\n",
        "xx, yy = np.meshgrid(np.arange(x_min, x_max, h),\n",
        "                     np.arange(y_min, y_max, h))\n",
        "\n",
        "pl.set_cmap(pl.cm.Paired)\n",
        "\n",
        "Z = LR.predict(np.c_[xx.ravel(), yy.ravel()])\n",
        "\n",
        "Z = Z.reshape(xx.shape)\n",
        "pl.set_cmap(pl.cm.Paired)\n",
        "plt.contourf(xx, yy, Z, cmap=plt.cm.coolwarm, alpha=0.8)\n",
        "plt.scatter(X[:, 0], X[:, 1], c=y, cmap=plt.cm.coolwarm)\n",
        "\n",
        "plt.title(\"Decision boundary for Logistic multiclass regression\")\n",
        "plt.xlabel('Petal length')\n",
        "plt.ylabel('Petal width')\n",
        "plt.xlim(xx.min(), xx.max())\n",
        "plt.ylim(yy.min(), yy.max())\n",
        "plt.xticks(())\n",
        "plt.yticks(())\n",
        "plt.show()\n",
        "\n",
        "\n",
        "\n",
        "\n"
      ],
      "metadata": {
        "colab": {
          "base_uri": "https://localhost:8080/",
          "height": 278
        },
        "id": "jcLeHqHHCOsq",
        "outputId": "75f6d4d0-f505-4fcb-c3f4-32f4e37a48e0"
      },
      "execution_count": null,
      "outputs": [
        {
          "output_type": "display_data",
          "data": {
            "text/plain": [
              "<Figure size 432x288 with 1 Axes>"
            ],
            "image/png": "[encoded data removed]"
          },
          "metadata": {}
        }
      ]
    },
    {
      "cell_type": "code",
      "source": [
        "from sklearn.linear_model import LogisticRegression\n",
        "import numpy as np\n",
        "import pylab as pl\n",
        "from sklearn import svm, datasets\n",
        "from matplotlib import pyplot as plt\n",
        "from matplotlib.colors import ListedColormap\n",
        "\n",
        "iris = datasets.load_iris()\n",
        "\n",
        "#for SepalLength and SepalWidth\n",
        "\n",
        "\n",
        "X = iris.data[:, :2]\n",
        "y = iris.target\n",
        "\n",
        "LR = LogisticRegression(multi_class='multinomial', random_state=42, max_iter=500)\n",
        "\n",
        "LR.fit(X, y)\n",
        "\n",
        "h = .02\n",
        "\n",
        "\n",
        "x_min, x_max = X[:,0].min()-1, X[:,0].max()+1\n",
        "y_min, y_max = X[:,1].min()-1, X[:,1].max()+1\n",
        "xx, yy = np.meshgrid(np.arange(x_min, x_max, h),\n",
        "                     np.arange(y_min, y_max, h))\n",
        "\n",
        "pl.set_cmap(pl.cm.Paired)\n",
        "\n",
        "Z = LR.predict(np.c_[xx.ravel(), yy.ravel()])\n",
        "\n",
        "Z = Z.reshape(xx.shape)\n",
        "pl.set_cmap(pl.cm.Paired)\n",
        "plt.contourf(xx, yy, Z, cmap=plt.cm.coolwarm, alpha=0.8)\n",
        "plt.scatter(X[:, 0], X[:, 1], c=y, cmap=plt.cm.coolwarm)\n",
        "\n",
        "plt.title(\"Decision boundary for Logistic multiclass regression\")\n",
        "plt.xlabel('Sepal length')\n",
        "plt.ylabel('Sepal width')\n",
        "plt.xlim(xx.min(), xx.max())\n",
        "plt.ylim(yy.min(), yy.max())\n",
        "plt.xticks(())\n",
        "plt.yticks(())\n",
        "plt.show()\n",
        "\n",
        "\n",
        "\n",
        "\n"
      ],
      "metadata": {
        "colab": {
          "base_uri": "https://localhost:8080/",
          "height": 278
        },
        "id": "75JSuFNzE9xh",
        "outputId": "abbcdef7-4e7e-463d-e479-8b30037c892b"
      },
      "execution_count": null,
      "outputs": [
        {
          "output_type": "display_data",
          "data": {
            "text/plain": [
              "<Figure size 432x288 with 1 Axes>"
            ],
            "image/png": "[encoded data removed]"
          },
          "metadata": {}
        }
      ]
    },
    {
      "cell_type": "markdown",
      "source": [
        "**Task-4**\\\n",
        "**Tuning Hyperparamters**"
      ],
      "metadata": {
        "id": "vdcdjdBkHemt"
      }
    },
    {
      "cell_type": "markdown",
      "source": [
        "**SVM-tuning**"
      ],
      "metadata": {
        "id": "0uOHT34_Xz6z"
      }
    },
    {
      "cell_type": "code",
      "source": [
        "from sklearn.model_selection import GridSearchCV\n",
        "from sklearn.svm import SVC\n",
        "\n",
        "#defining parameter range\n",
        "\n",
        "param_grid = {'C': [0.1, 1, 10, 100, 1000],\n",
        "              'gamma': [1, 0.1, 0.01, 0.001, 0.0001],\n",
        "              'kernel': [\"linear\", \"poly\", \"sigmoid\",\"rbf\"]}\n",
        " \n",
        "grid = GridSearchCV(SVC(), param_grid, refit = True, verbose = 3)\n",
        " \n",
        "grid.fit(X_train, y_train)\n",
        "\n",
        "\n",
        "print(\"Accuracy of the tuned model: %.4f\" %grid.best_score_)\n",
        "print(grid.best_params_) "
      ],
      "metadata": {
        "colab": {
          "base_uri": "https://localhost:8080/"
        },
        "id": "oLkAn1T7XybE",
        "outputId": "5f086223-eb68-4455-ce50-0ec52486d3f9"
      },
      "execution_count": null,
      "outputs": [
        {
          "output_type": "stream",
          "name": "stdout",
          "text": [
            "Fitting 5 folds for each of 100 candidates, totalling 500 fits\n",
            "[CV 1/5] END .....C=0.1, gamma=1, kernel=linear;, score=0.944 total time=   0.0s\n",
            "[CV 2/5] END .....C=0.1, gamma=1, kernel=linear;, score=0.944 total time=   0.0s\n",
            "[CV 3/5] END .....C=0.1, gamma=1, kernel=linear;, score=0.944 total time=   0.0s\n",
            "[CV 4/5] END .....C=0.1, gamma=1, kernel=linear;, score=0.944 total time=   0.0s\n",
            "[CV 5/5] END .....C=0.1, gamma=1, kernel=linear;, score=0.889 total time=   0.0s\n",
            "[CV 1/5] END .......C=0.1, gamma=1, kernel=poly;, score=0.944 total time=   0.0s\n",
            "[CV 2/5] END .......C=0.1, gamma=1, kernel=poly;, score=1.000 total time=   0.0s\n",
            "[CV 3/5] END .......C=0.1, gamma=1, kernel=poly;, score=0.944 total time=   0.0s\n",
            "[CV 4/5] END .......C=0.1, gamma=1, kernel=poly;, score=0.944 total time=   0.0s\n",
            "[CV 5/5] END .......C=0.1, gamma=1, kernel=poly;, score=1.000 total time=   0.0s\n",
            "[CV 1/5] END ....C=0.1, gamma=1, kernel=sigmoid;, score=0.833 total time=   0.0s\n",
            "[CV 2/5] END ....C=0.1, gamma=1, kernel=sigmoid;, score=0.889 total time=   0.0s\n",
            "[CV 3/5] END ....C=0.1, gamma=1, kernel=sigmoid;, score=0.722 total time=   0.0s\n",
            "[CV 4/5] END ....C=0.1, gamma=1, kernel=sigmoid;, score=0.833 total time=   0.0s\n",
            "[CV 5/5] END ....C=0.1, gamma=1, kernel=sigmoid;, score=0.833 total time=   0.0s\n",
            "[CV 1/5] END ........C=0.1, gamma=1, kernel=rbf;, score=0.944 total time=   0.0s\n",
            "[CV 2/5] END ........C=0.1, gamma=1, kernel=rbf;, score=0.722 total time=   0.0s\n",
            "[CV 3/5] END ........C=0.1, gamma=1, kernel=rbf;, score=0.889 total time=   0.0s\n",
            "[CV 4/5] END ........C=0.1, gamma=1, kernel=rbf;, score=0.944 total time=   0.0s\n",
            "[CV 5/5] END ........C=0.1, gamma=1, kernel=rbf;, score=0.944 total time=   0.0s\n",
            "[CV 1/5] END ...C=0.1, gamma=0.1, kernel=linear;, score=0.944 total time=   0.0s\n",
            "[CV 2/5] END ...C=0.1, gamma=0.1, kernel=linear;, score=0.944 total time=   0.0s\n",
            "[CV 3/5] END ...C=0.1, gamma=0.1, kernel=linear;, score=0.944 total time=   0.0s\n",
            "[CV 4/5] END ...C=0.1, gamma=0.1, kernel=linear;, score=0.944 total time=   0.0s\n",
            "[CV 5/5] END ...C=0.1, gamma=0.1, kernel=linear;, score=0.889 total time=   0.0s\n",
            "[CV 1/5] END .....C=0.1, gamma=0.1, kernel=poly;, score=0.444 total time=   0.0s\n",
            "[CV 2/5] END .....C=0.1, gamma=0.1, kernel=poly;, score=0.333 total time=   0.0s\n",
            "[CV 3/5] END .....C=0.1, gamma=0.1, kernel=poly;, score=0.444 total time=   0.0s\n",
            "[CV 4/5] END .....C=0.1, gamma=0.1, kernel=poly;, score=0.556 total time=   0.0s\n",
            "[CV 5/5] END .....C=0.1, gamma=0.1, kernel=poly;, score=0.444 total time=   0.0s\n",
            "[CV 1/5] END ..C=0.1, gamma=0.1, kernel=sigmoid;, score=0.667 total time=   0.0s\n",
            "[CV 2/5] END ..C=0.1, gamma=0.1, kernel=sigmoid;, score=0.778 total time=   0.0s\n",
            "[CV 3/5] END ..C=0.1, gamma=0.1, kernel=sigmoid;, score=0.833 total time=   0.0s\n",
            "[CV 4/5] END ..C=0.1, gamma=0.1, kernel=sigmoid;, score=0.889 total time=   0.0s\n",
            "[CV 5/5] END ..C=0.1, gamma=0.1, kernel=sigmoid;, score=0.889 total time=   0.0s\n",
            "[CV 1/5] END ......C=0.1, gamma=0.1, kernel=rbf;, score=0.833 total time=   0.0s\n",
            "[CV 2/5] END ......C=0.1, gamma=0.1, kernel=rbf;, score=0.889 total time=   0.0s\n",
            "[CV 3/5] END ......C=0.1, gamma=0.1, kernel=rbf;, score=0.833 total time=   0.0s\n",
            "[CV 4/5] END ......C=0.1, gamma=0.1, kernel=rbf;, score=0.889 total time=   0.0s\n",
            "[CV 5/5] END ......C=0.1, gamma=0.1, kernel=rbf;, score=0.889 total time=   0.0s\n",
            "[CV 1/5] END ..C=0.1, gamma=0.01, kernel=linear;, score=0.944 total time=   0.0s\n",
            "[CV 2/5] END ..C=0.1, gamma=0.01, kernel=linear;, score=0.944 total time=   0.0s\n",
            "[CV 3/5] END ..C=0.1, gamma=0.01, kernel=linear;, score=0.944 total time=   0.0s\n",
            "[CV 4/5] END ..C=0.1, gamma=0.01, kernel=linear;, score=0.944 total time=   0.0s\n",
            "[CV 5/5] END ..C=0.1, gamma=0.01, kernel=linear;, score=0.889 total time=   0.0s\n",
            "[CV 1/5] END ....C=0.1, gamma=0.01, kernel=poly;, score=0.389 total time=   0.0s\n",
            "[CV 2/5] END ....C=0.1, gamma=0.01, kernel=poly;, score=0.333 total time=   0.0s\n",
            "[CV 3/5] END ....C=0.1, gamma=0.01, kernel=poly;, score=0.389 total time=   0.0s\n",
            "[CV 4/5] END ....C=0.1, gamma=0.01, kernel=poly;, score=0.389 total time=   0.0s\n",
            "[CV 5/5] END ....C=0.1, gamma=0.01, kernel=poly;, score=0.389 total time=   0.0s\n",
            "[CV 1/5] END .C=0.1, gamma=0.01, kernel=sigmoid;, score=0.389 total time=   0.0s\n",
            "[CV 2/5] END .C=0.1, gamma=0.01, kernel=sigmoid;, score=0.333 total time=   0.0s\n",
            "[CV 3/5] END .C=0.1, gamma=0.01, kernel=sigmoid;, score=0.389 total time=   0.0s\n",
            "[CV 4/5] END .C=0.1, gamma=0.01, kernel=sigmoid;, score=0.389 total time=   0.0s\n",
            "[CV 5/5] END .C=0.1, gamma=0.01, kernel=sigmoid;, score=0.389 total time=   0.0s\n",
            "[CV 1/5] END .....C=0.1, gamma=0.01, kernel=rbf;, score=0.389 total time=   0.0s\n",
            "[CV 2/5] END .....C=0.1, gamma=0.01, kernel=rbf;, score=0.333 total time=   0.0s\n",
            "[CV 3/5] END .....C=0.1, gamma=0.01, kernel=rbf;, score=0.389 total time=   0.0s\n",
            "[CV 4/5] END .....C=0.1, gamma=0.01, kernel=rbf;, score=0.389 total time=   0.0s\n",
            "[CV 5/5] END .....C=0.1, gamma=0.01, kernel=rbf;, score=0.389 total time=   0.0s\n",
            "[CV 1/5] END .C=0.1, gamma=0.001, kernel=linear;, score=0.944 total time=   0.0s\n",
            "[CV 2/5] END .C=0.1, gamma=0.001, kernel=linear;, score=0.944 total time=   0.0s\n",
            "[CV 3/5] END .C=0.1, gamma=0.001, kernel=linear;, score=0.944 total time=   0.0s\n",
            "[CV 4/5] END .C=0.1, gamma=0.001, kernel=linear;, score=0.944 total time=   0.0s\n",
            "[CV 5/5] END .C=0.1, gamma=0.001, kernel=linear;, score=0.889 total time=   0.0s\n",
            "[CV 1/5] END ...C=0.1, gamma=0.001, kernel=poly;, score=0.389 total time=   0.0s\n",
            "[CV 2/5] END ...C=0.1, gamma=0.001, kernel=poly;, score=0.333 total time=   0.0s\n",
            "[CV 3/5] END ...C=0.1, gamma=0.001, kernel=poly;, score=0.389 total time=   0.0s\n",
            "[CV 4/5] END ...C=0.1, gamma=0.001, kernel=poly;, score=0.389 total time=   0.0s\n",
            "[CV 5/5] END ...C=0.1, gamma=0.001, kernel=poly;, score=0.389 total time=   0.0s\n",
            "[CV 1/5] END C=0.1, gamma=0.001, kernel=sigmoid;, score=0.389 total time=   0.0s\n",
            "[CV 2/5] END C=0.1, gamma=0.001, kernel=sigmoid;, score=0.333 total time=   0.0s\n",
            "[CV 3/5] END C=0.1, gamma=0.001, kernel=sigmoid;, score=0.389 total time=   0.0s\n",
            "[CV 4/5] END C=0.1, gamma=0.001, kernel=sigmoid;, score=0.389 total time=   0.0s\n",
            "[CV 5/5] END C=0.1, gamma=0.001, kernel=sigmoid;, score=0.389 total time=   0.0s\n",
            "[CV 1/5] END ....C=0.1, gamma=0.001, kernel=rbf;, score=0.389 total time=   0.0s\n",
            "[CV 2/5] END ....C=0.1, gamma=0.001, kernel=rbf;, score=0.333 total time=   0.0s\n",
            "[CV 3/5] END ....C=0.1, gamma=0.001, kernel=rbf;, score=0.389 total time=   0.0s\n",
            "[CV 4/5] END ....C=0.1, gamma=0.001, kernel=rbf;, score=0.389 total time=   0.0s\n",
            "[CV 5/5] END ....C=0.1, gamma=0.001, kernel=rbf;, score=0.389 total time=   0.0s\n",
            "[CV 1/5] END C=0.1, gamma=0.0001, kernel=linear;, score=0.944 total time=   0.0s\n",
            "[CV 2/5] END C=0.1, gamma=0.0001, kernel=linear;, score=0.944 total time=   0.0s\n",
            "[CV 3/5] END C=0.1, gamma=0.0001, kernel=linear;, score=0.944 total time=   0.0s\n",
            "[CV 4/5] END C=0.1, gamma=0.0001, kernel=linear;, score=0.944 total time=   0.0s\n",
            "[CV 5/5] END C=0.1, gamma=0.0001, kernel=linear;, score=0.889 total time=   0.0s\n",
            "[CV 1/5] END ..C=0.1, gamma=0.0001, kernel=poly;, score=0.389 total time=   0.0s\n",
            "[CV 2/5] END ..C=0.1, gamma=0.0001, kernel=poly;, score=0.333 total time=   0.0s\n",
            "[CV 3/5] END ..C=0.1, gamma=0.0001, kernel=poly;, score=0.389 total time=   0.0s\n",
            "[CV 4/5] END ..C=0.1, gamma=0.0001, kernel=poly;, score=0.389 total time=   0.0s\n",
            "[CV 5/5] END ..C=0.1, gamma=0.0001, kernel=poly;, score=0.389 total time=   0.0s\n",
            "[CV 1/5] END C=0.1, gamma=0.0001, kernel=sigmoid;, score=0.389 total time=   0.0s\n",
            "[CV 2/5] END C=0.1, gamma=0.0001, kernel=sigmoid;, score=0.333 total time=   0.0s\n",
            "[CV 3/5] END C=0.1, gamma=0.0001, kernel=sigmoid;, score=0.389 total time=   0.0s\n",
            "[CV 4/5] END C=0.1, gamma=0.0001, kernel=sigmoid;, score=0.389 total time=   0.0s\n",
            "[CV 5/5] END C=0.1, gamma=0.0001, kernel=sigmoid;, score=0.389 total time=   0.0s\n",
            "[CV 1/5] END ...C=0.1, gamma=0.0001, kernel=rbf;, score=0.389 total time=   0.0s\n",
            "[CV 2/5] END ...C=0.1, gamma=0.0001, kernel=rbf;, score=0.333 total time=   0.0s\n",
            "[CV 3/5] END ...C=0.1, gamma=0.0001, kernel=rbf;, score=0.389 total time=   0.0s\n",
            "[CV 4/5] END ...C=0.1, gamma=0.0001, kernel=rbf;, score=0.389 total time=   0.0s\n",
            "[CV 5/5] END ...C=0.1, gamma=0.0001, kernel=rbf;, score=0.389 total time=   0.0s\n",
            "[CV 1/5] END .......C=1, gamma=1, kernel=linear;, score=1.000 total time=   0.0s\n",
            "[CV 2/5] END .......C=1, gamma=1, kernel=linear;, score=1.000 total time=   0.0s\n",
            "[CV 3/5] END .......C=1, gamma=1, kernel=linear;, score=1.000 total time=   0.0s\n",
            "[CV 4/5] END .......C=1, gamma=1, kernel=linear;, score=0.944 total time=   0.0s\n",
            "[CV 5/5] END .......C=1, gamma=1, kernel=linear;, score=0.944 total time=   0.0s\n",
            "[CV 1/5] END .........C=1, gamma=1, kernel=poly;, score=0.944 total time=   0.0s\n",
            "[CV 2/5] END .........C=1, gamma=1, kernel=poly;, score=1.000 total time=   0.0s\n",
            "[CV 3/5] END .........C=1, gamma=1, kernel=poly;, score=0.944 total time=   0.0s\n",
            "[CV 4/5] END .........C=1, gamma=1, kernel=poly;, score=0.833 total time=   0.0s\n",
            "[CV 5/5] END .........C=1, gamma=1, kernel=poly;, score=0.944 total time=   0.0s\n",
            "[CV 1/5] END ......C=1, gamma=1, kernel=sigmoid;, score=0.833 total time=   0.0s\n",
            "[CV 2/5] END ......C=1, gamma=1, kernel=sigmoid;, score=0.611 total time=   0.0s\n",
            "[CV 3/5] END ......C=1, gamma=1, kernel=sigmoid;, score=0.722 total time=   0.0s\n",
            "[CV 4/5] END ......C=1, gamma=1, kernel=sigmoid;, score=0.722 total time=   0.0s\n",
            "[CV 5/5] END ......C=1, gamma=1, kernel=sigmoid;, score=0.833 total time=   0.0s\n",
            "[CV 1/5] END ..........C=1, gamma=1, kernel=rbf;, score=1.000 total time=   0.0s\n",
            "[CV 2/5] END ..........C=1, gamma=1, kernel=rbf;, score=0.944 total time=   0.0s\n",
            "[CV 3/5] END ..........C=1, gamma=1, kernel=rbf;, score=1.000 total time=   0.0s\n",
            "[CV 4/5] END ..........C=1, gamma=1, kernel=rbf;, score=0.944 total time=   0.0s\n",
            "[CV 5/5] END ..........C=1, gamma=1, kernel=rbf;, score=0.944 total time=   0.0s\n",
            "[CV 1/5] END .....C=1, gamma=0.1, kernel=linear;, score=1.000 total time=   0.0s\n",
            "[CV 2/5] END .....C=1, gamma=0.1, kernel=linear;, score=1.000 total time=   0.0s\n",
            "[CV 3/5] END .....C=1, gamma=0.1, kernel=linear;, score=1.000 total time=   0.0s\n",
            "[CV 4/5] END .....C=1, gamma=0.1, kernel=linear;, score=0.944 total time=   0.0s\n",
            "[CV 5/5] END .....C=1, gamma=0.1, kernel=linear;, score=0.944 total time=   0.0s\n",
            "[CV 1/5] END .......C=1, gamma=0.1, kernel=poly;, score=0.833 total time=   0.0s\n",
            "[CV 2/5] END .......C=1, gamma=0.1, kernel=poly;, score=0.778 total time=   0.0s\n",
            "[CV 3/5] END .......C=1, gamma=0.1, kernel=poly;, score=0.778 total time=   0.0s\n",
            "[CV 4/5] END .......C=1, gamma=0.1, kernel=poly;, score=0.889 total time=   0.0s\n",
            "[CV 5/5] END .......C=1, gamma=0.1, kernel=poly;, score=0.722 total time=   0.0s\n",
            "[CV 1/5] END ....C=1, gamma=0.1, kernel=sigmoid;, score=0.944 total time=   0.0s\n",
            "[CV 2/5] END ....C=1, gamma=0.1, kernel=sigmoid;, score=0.944 total time=   0.0s\n",
            "[CV 3/5] END ....C=1, gamma=0.1, kernel=sigmoid;, score=0.944 total time=   0.0s\n",
            "[CV 4/5] END ....C=1, gamma=0.1, kernel=sigmoid;, score=0.944 total time=   0.0s\n",
            "[CV 5/5] END ....C=1, gamma=0.1, kernel=sigmoid;, score=0.944 total time=   0.0s\n",
            "[CV 1/5] END ........C=1, gamma=0.1, kernel=rbf;, score=1.000 total time=   0.0s\n",
            "[CV 2/5] END ........C=1, gamma=0.1, kernel=rbf;, score=1.000 total time=   0.0s\n",
            "[CV 3/5] END ........C=1, gamma=0.1, kernel=rbf;, score=0.944 total time=   0.0s\n",
            "[CV 4/5] END ........C=1, gamma=0.1, kernel=rbf;, score=0.944 total time=   0.0s\n",
            "[CV 5/5] END ........C=1, gamma=0.1, kernel=rbf;, score=0.944 total time=   0.0s\n",
            "[CV 1/5] END ....C=1, gamma=0.01, kernel=linear;, score=1.000 total time=   0.0s\n",
            "[CV 2/5] END ....C=1, gamma=0.01, kernel=linear;, score=1.000 total time=   0.0s\n",
            "[CV 3/5] END ....C=1, gamma=0.01, kernel=linear;, score=1.000 total time=   0.0s\n",
            "[CV 4/5] END ....C=1, gamma=0.01, kernel=linear;, score=0.944 total time=   0.0s\n",
            "[CV 5/5] END ....C=1, gamma=0.01, kernel=linear;, score=0.944 total time=   0.0s\n",
            "[CV 1/5] END ......C=1, gamma=0.01, kernel=poly;, score=0.389 total time=   0.0s\n",
            "[CV 2/5] END ......C=1, gamma=0.01, kernel=poly;, score=0.333 total time=   0.0s\n",
            "[CV 3/5] END ......C=1, gamma=0.01, kernel=poly;, score=0.389 total time=   0.0s\n",
            "[CV 4/5] END ......C=1, gamma=0.01, kernel=poly;, score=0.389 total time=   0.0s\n",
            "[CV 5/5] END ......C=1, gamma=0.01, kernel=poly;, score=0.389 total time=   0.0s\n",
            "[CV 1/5] END ...C=1, gamma=0.01, kernel=sigmoid;, score=0.667 total time=   0.0s\n",
            "[CV 2/5] END ...C=1, gamma=0.01, kernel=sigmoid;, score=0.778 total time=   0.0s\n",
            "[CV 3/5] END ...C=1, gamma=0.01, kernel=sigmoid;, score=0.833 total time=   0.0s\n",
            "[CV 4/5] END ...C=1, gamma=0.01, kernel=sigmoid;, score=0.889 total time=   0.0s\n",
            "[CV 5/5] END ...C=1, gamma=0.01, kernel=sigmoid;, score=0.889 total time=   0.0s\n",
            "[CV 1/5] END .......C=1, gamma=0.01, kernel=rbf;, score=0.889 total time=   0.0s\n",
            "[CV 2/5] END .......C=1, gamma=0.01, kernel=rbf;, score=0.944 total time=   0.0s\n",
            "[CV 3/5] END .......C=1, gamma=0.01, kernel=rbf;, score=0.944 total time=   0.0s\n",
            "[CV 4/5] END .......C=1, gamma=0.01, kernel=rbf;, score=0.944 total time=   0.0s\n",
            "[CV 5/5] END .......C=1, gamma=0.01, kernel=rbf;, score=0.889 total time=   0.0s\n",
            "[CV 1/5] END ...C=1, gamma=0.001, kernel=linear;, score=1.000 total time=   0.0s\n",
            "[CV 2/5] END ...C=1, gamma=0.001, kernel=linear;, score=1.000 total time=   0.0s\n",
            "[CV 3/5] END ...C=1, gamma=0.001, kernel=linear;, score=1.000 total time=   0.0s\n",
            "[CV 4/5] END ...C=1, gamma=0.001, kernel=linear;, score=0.944 total time=   0.0s\n",
            "[CV 5/5] END ...C=1, gamma=0.001, kernel=linear;, score=0.944 total time=   0.0s\n",
            "[CV 1/5] END .....C=1, gamma=0.001, kernel=poly;, score=0.389 total time=   0.0s\n",
            "[CV 2/5] END .....C=1, gamma=0.001, kernel=poly;, score=0.333 total time=   0.0s\n",
            "[CV 3/5] END .....C=1, gamma=0.001, kernel=poly;, score=0.389 total time=   0.0s\n",
            "[CV 4/5] END .....C=1, gamma=0.001, kernel=poly;, score=0.389 total time=   0.0s\n",
            "[CV 5/5] END .....C=1, gamma=0.001, kernel=poly;, score=0.389 total time=   0.0s\n",
            "[CV 1/5] END ..C=1, gamma=0.001, kernel=sigmoid;, score=0.389 total time=   0.0s\n",
            "[CV 2/5] END ..C=1, gamma=0.001, kernel=sigmoid;, score=0.333 total time=   0.0s\n",
            "[CV 3/5] END ..C=1, gamma=0.001, kernel=sigmoid;, score=0.389 total time=   0.0s\n",
            "[CV 4/5] END ..C=1, gamma=0.001, kernel=sigmoid;, score=0.389 total time=   0.0s\n",
            "[CV 5/5] END ..C=1, gamma=0.001, kernel=sigmoid;, score=0.389 total time=   0.0s\n",
            "[CV 1/5] END ......C=1, gamma=0.001, kernel=rbf;, score=0.389 total time=   0.0s\n",
            "[CV 2/5] END ......C=1, gamma=0.001, kernel=rbf;, score=0.333 total time=   0.0s\n",
            "[CV 3/5] END ......C=1, gamma=0.001, kernel=rbf;, score=0.389 total time=   0.0s\n",
            "[CV 4/5] END ......C=1, gamma=0.001, kernel=rbf;, score=0.389 total time=   0.0s\n",
            "[CV 5/5] END ......C=1, gamma=0.001, kernel=rbf;, score=0.389 total time=   0.0s\n",
            "[CV 1/5] END ..C=1, gamma=0.0001, kernel=linear;, score=1.000 total time=   0.0s\n",
            "[CV 2/5] END ..C=1, gamma=0.0001, kernel=linear;, score=1.000 total time=   0.0s\n",
            "[CV 3/5] END ..C=1, gamma=0.0001, kernel=linear;, score=1.000 total time=   0.0s\n",
            "[CV 4/5] END ..C=1, gamma=0.0001, kernel=linear;, score=0.944 total time=   0.0s\n",
            "[CV 5/5] END ..C=1, gamma=0.0001, kernel=linear;, score=0.944 total time=   0.0s\n",
            "[CV 1/5] END ....C=1, gamma=0.0001, kernel=poly;, score=0.389 total time=   0.0s\n",
            "[CV 2/5] END ....C=1, gamma=0.0001, kernel=poly;, score=0.333 total time=   0.0s\n",
            "[CV 3/5] END ....C=1, gamma=0.0001, kernel=poly;, score=0.389 total time=   0.0s\n",
            "[CV 4/5] END ....C=1, gamma=0.0001, kernel=poly;, score=0.389 total time=   0.0s\n",
            "[CV 5/5] END ....C=1, gamma=0.0001, kernel=poly;, score=0.389 total time=   0.0s\n",
            "[CV 1/5] END .C=1, gamma=0.0001, kernel=sigmoid;, score=0.389 total time=   0.0s\n",
            "[CV 2/5] END .C=1, gamma=0.0001, kernel=sigmoid;, score=0.333 total time=   0.0s\n",
            "[CV 3/5] END .C=1, gamma=0.0001, kernel=sigmoid;, score=0.389 total time=   0.0s\n",
            "[CV 4/5] END .C=1, gamma=0.0001, kernel=sigmoid;, score=0.389 total time=   0.0s\n",
            "[CV 5/5] END .C=1, gamma=0.0001, kernel=sigmoid;, score=0.389 total time=   0.0s\n",
            "[CV 1/5] END .....C=1, gamma=0.0001, kernel=rbf;, score=0.389 total time=   0.0s\n",
            "[CV 2/5] END .....C=1, gamma=0.0001, kernel=rbf;, score=0.333 total time=   0.0s\n",
            "[CV 3/5] END .....C=1, gamma=0.0001, kernel=rbf;, score=0.389 total time=   0.0s\n",
            "[CV 4/5] END .....C=1, gamma=0.0001, kernel=rbf;, score=0.389 total time=   0.0s\n",
            "[CV 5/5] END .....C=1, gamma=0.0001, kernel=rbf;, score=0.389 total time=   0.0s\n",
            "[CV 1/5] END ......C=10, gamma=1, kernel=linear;, score=1.000 total time=   0.0s\n",
            "[CV 2/5] END ......C=10, gamma=1, kernel=linear;, score=1.000 total time=   0.0s\n",
            "[CV 3/5] END ......C=10, gamma=1, kernel=linear;, score=0.944 total time=   0.0s\n",
            "[CV 4/5] END ......C=10, gamma=1, kernel=linear;, score=0.944 total time=   0.0s\n",
            "[CV 5/5] END ......C=10, gamma=1, kernel=linear;, score=0.944 total time=   0.0s\n",
            "[CV 1/5] END ........C=10, gamma=1, kernel=poly;, score=1.000 total time=   0.0s\n",
            "[CV 2/5] END ........C=10, gamma=1, kernel=poly;, score=1.000 total time=   0.0s\n",
            "[CV 3/5] END ........C=10, gamma=1, kernel=poly;, score=0.944 total time=   0.0s\n",
            "[CV 4/5] END ........C=10, gamma=1, kernel=poly;, score=0.833 total time=   0.0s\n",
            "[CV 5/5] END ........C=10, gamma=1, kernel=poly;, score=0.944 total time=   0.0s\n",
            "[CV 1/5] END .....C=10, gamma=1, kernel=sigmoid;, score=0.722 total time=   0.0s\n",
            "[CV 2/5] END .....C=10, gamma=1, kernel=sigmoid;, score=0.833 total time=   0.0s\n",
            "[CV 3/5] END .....C=10, gamma=1, kernel=sigmoid;, score=0.778 total time=   0.0s\n",
            "[CV 4/5] END .....C=10, gamma=1, kernel=sigmoid;, score=0.722 total time=   0.0s\n",
            "[CV 5/5] END .....C=10, gamma=1, kernel=sigmoid;, score=0.667 total time=   0.0s\n",
            "[CV 1/5] END .........C=10, gamma=1, kernel=rbf;, score=1.000 total time=   0.0s\n",
            "[CV 2/5] END .........C=10, gamma=1, kernel=rbf;, score=0.944 total time=   0.0s\n",
            "[CV 3/5] END .........C=10, gamma=1, kernel=rbf;, score=0.944 total time=   0.0s\n",
            "[CV 4/5] END .........C=10, gamma=1, kernel=rbf;, score=0.944 total time=   0.0s\n",
            "[CV 5/5] END .........C=10, gamma=1, kernel=rbf;, score=0.944 total time=   0.0s\n",
            "[CV 1/5] END ....C=10, gamma=0.1, kernel=linear;, score=1.000 total time=   0.0s\n",
            "[CV 2/5] END ....C=10, gamma=0.1, kernel=linear;, score=1.000 total time=   0.0s\n",
            "[CV 3/5] END ....C=10, gamma=0.1, kernel=linear;, score=0.944 total time=   0.0s\n",
            "[CV 4/5] END ....C=10, gamma=0.1, kernel=linear;, score=0.944 total time=   0.0s\n",
            "[CV 5/5] END ....C=10, gamma=0.1, kernel=linear;, score=0.944 total time=   0.0s\n",
            "[CV 1/5] END ......C=10, gamma=0.1, kernel=poly;, score=0.833 total time=   0.0s\n",
            "[CV 2/5] END ......C=10, gamma=0.1, kernel=poly;, score=0.944 total time=   0.0s\n",
            "[CV 3/5] END ......C=10, gamma=0.1, kernel=poly;, score=0.944 total time=   0.0s\n",
            "[CV 4/5] END ......C=10, gamma=0.1, kernel=poly;, score=0.944 total time=   0.0s\n",
            "[CV 5/5] END ......C=10, gamma=0.1, kernel=poly;, score=0.889 total time=   0.0s\n",
            "[CV 1/5] END ...C=10, gamma=0.1, kernel=sigmoid;, score=1.000 total time=   0.0s\n",
            "[CV 2/5] END ...C=10, gamma=0.1, kernel=sigmoid;, score=1.000 total time=   0.0s\n",
            "[CV 3/5] END ...C=10, gamma=0.1, kernel=sigmoid;, score=1.000 total time=   0.0s\n",
            "[CV 4/5] END ...C=10, gamma=0.1, kernel=sigmoid;, score=0.944 total time=   0.0s\n",
            "[CV 5/5] END ...C=10, gamma=0.1, kernel=sigmoid;, score=0.944 total time=   0.0s\n",
            "[CV 1/5] END .......C=10, gamma=0.1, kernel=rbf;, score=1.000 total time=   0.0s\n",
            "[CV 2/5] END .......C=10, gamma=0.1, kernel=rbf;, score=1.000 total time=   0.0s\n",
            "[CV 3/5] END .......C=10, gamma=0.1, kernel=rbf;, score=1.000 total time=   0.0s\n",
            "[CV 4/5] END .......C=10, gamma=0.1, kernel=rbf;, score=0.944 total time=   0.0s\n",
            "[CV 5/5] END .......C=10, gamma=0.1, kernel=rbf;, score=0.944 total time=   0.0s\n",
            "[CV 1/5] END ...C=10, gamma=0.01, kernel=linear;, score=1.000 total time=   0.0s\n",
            "[CV 2/5] END ...C=10, gamma=0.01, kernel=linear;, score=1.000 total time=   0.0s\n",
            "[CV 3/5] END ...C=10, gamma=0.01, kernel=linear;, score=0.944 total time=   0.0s\n",
            "[CV 4/5] END ...C=10, gamma=0.01, kernel=linear;, score=0.944 total time=   0.0s\n",
            "[CV 5/5] END ...C=10, gamma=0.01, kernel=linear;, score=0.944 total time=   0.0s\n",
            "[CV 1/5] END .....C=10, gamma=0.01, kernel=poly;, score=0.389 total time=   0.0s\n",
            "[CV 2/5] END .....C=10, gamma=0.01, kernel=poly;, score=0.333 total time=   0.0s\n",
            "[CV 3/5] END .....C=10, gamma=0.01, kernel=poly;, score=0.389 total time=   0.0s\n",
            "[CV 4/5] END .....C=10, gamma=0.01, kernel=poly;, score=0.389 total time=   0.0s\n",
            "[CV 5/5] END .....C=10, gamma=0.01, kernel=poly;, score=0.389 total time=   0.0s\n",
            "[CV 1/5] END ..C=10, gamma=0.01, kernel=sigmoid;, score=0.944 total time=   0.0s\n",
            "[CV 2/5] END ..C=10, gamma=0.01, kernel=sigmoid;, score=0.944 total time=   0.0s\n",
            "[CV 3/5] END ..C=10, gamma=0.01, kernel=sigmoid;, score=0.944 total time=   0.0s\n",
            "[CV 4/5] END ..C=10, gamma=0.01, kernel=sigmoid;, score=0.944 total time=   0.0s\n",
            "[CV 5/5] END ..C=10, gamma=0.01, kernel=sigmoid;, score=0.889 total time=   0.0s\n",
            "[CV 1/5] END ......C=10, gamma=0.01, kernel=rbf;, score=1.000 total time=   0.0s\n",
            "[CV 2/5] END ......C=10, gamma=0.01, kernel=rbf;, score=1.000 total time=   0.0s\n",
            "[CV 3/5] END ......C=10, gamma=0.01, kernel=rbf;, score=1.000 total time=   0.0s\n",
            "[CV 4/5] END ......C=10, gamma=0.01, kernel=rbf;, score=0.944 total time=   0.0s\n",
            "[CV 5/5] END ......C=10, gamma=0.01, kernel=rbf;, score=0.944 total time=   0.0s\n",
            "[CV 1/5] END ..C=10, gamma=0.001, kernel=linear;, score=1.000 total time=   0.0s\n",
            "[CV 2/5] END ..C=10, gamma=0.001, kernel=linear;, score=1.000 total time=   0.0s\n",
            "[CV 3/5] END ..C=10, gamma=0.001, kernel=linear;, score=0.944 total time=   0.0s\n",
            "[CV 4/5] END ..C=10, gamma=0.001, kernel=linear;, score=0.944 total time=   0.0s\n",
            "[CV 5/5] END ..C=10, gamma=0.001, kernel=linear;, score=0.944 total time=   0.0s\n",
            "[CV 1/5] END ....C=10, gamma=0.001, kernel=poly;, score=0.389 total time=   0.0s\n",
            "[CV 2/5] END ....C=10, gamma=0.001, kernel=poly;, score=0.333 total time=   0.0s\n",
            "[CV 3/5] END ....C=10, gamma=0.001, kernel=poly;, score=0.389 total time=   0.0s\n",
            "[CV 4/5] END ....C=10, gamma=0.001, kernel=poly;, score=0.389 total time=   0.0s\n",
            "[CV 5/5] END ....C=10, gamma=0.001, kernel=poly;, score=0.389 total time=   0.0s\n",
            "[CV 1/5] END .C=10, gamma=0.001, kernel=sigmoid;, score=0.667 total time=   0.0s\n",
            "[CV 2/5] END .C=10, gamma=0.001, kernel=sigmoid;, score=0.778 total time=   0.0s\n",
            "[CV 3/5] END .C=10, gamma=0.001, kernel=sigmoid;, score=0.833 total time=   0.0s\n",
            "[CV 4/5] END .C=10, gamma=0.001, kernel=sigmoid;, score=0.889 total time=   0.0s\n",
            "[CV 5/5] END .C=10, gamma=0.001, kernel=sigmoid;, score=0.889 total time=   0.0s\n",
            "[CV 1/5] END .....C=10, gamma=0.001, kernel=rbf;, score=0.889 total time=   0.0s\n",
            "[CV 2/5] END .....C=10, gamma=0.001, kernel=rbf;, score=0.944 total time=   0.0s\n",
            "[CV 3/5] END .....C=10, gamma=0.001, kernel=rbf;, score=0.944 total time=   0.0s\n",
            "[CV 4/5] END .....C=10, gamma=0.001, kernel=rbf;, score=0.944 total time=   0.0s\n",
            "[CV 5/5] END .....C=10, gamma=0.001, kernel=rbf;, score=0.889 total time=   0.0s\n",
            "[CV 1/5] END .C=10, gamma=0.0001, kernel=linear;, score=1.000 total time=   0.0s\n",
            "[CV 2/5] END .C=10, gamma=0.0001, kernel=linear;, score=1.000 total time=   0.0s\n",
            "[CV 3/5] END .C=10, gamma=0.0001, kernel=linear;, score=0.944 total time=   0.0s\n",
            "[CV 4/5] END .C=10, gamma=0.0001, kernel=linear;, score=0.944 total time=   0.0s\n",
            "[CV 5/5] END .C=10, gamma=0.0001, kernel=linear;, score=0.944 total time=   0.0s\n",
            "[CV 1/5] END ...C=10, gamma=0.0001, kernel=poly;, score=0.389 total time=   0.0s\n",
            "[CV 2/5] END ...C=10, gamma=0.0001, kernel=poly;, score=0.333 total time=   0.0s\n",
            "[CV 3/5] END ...C=10, gamma=0.0001, kernel=poly;, score=0.389 total time=   0.0s\n",
            "[CV 4/5] END ...C=10, gamma=0.0001, kernel=poly;, score=0.389 total time=   0.0s\n",
            "[CV 5/5] END ...C=10, gamma=0.0001, kernel=poly;, score=0.389 total time=   0.0s\n",
            "[CV 1/5] END C=10, gamma=0.0001, kernel=sigmoid;, score=0.389 total time=   0.0s\n",
            "[CV 2/5] END C=10, gamma=0.0001, kernel=sigmoid;, score=0.333 total time=   0.0s\n",
            "[CV 3/5] END C=10, gamma=0.0001, kernel=sigmoid;, score=0.389 total time=   0.0s\n",
            "[CV 4/5] END C=10, gamma=0.0001, kernel=sigmoid;, score=0.389 total time=   0.0s\n",
            "[CV 5/5] END C=10, gamma=0.0001, kernel=sigmoid;, score=0.389 total time=   0.0s\n",
            "[CV 1/5] END ....C=10, gamma=0.0001, kernel=rbf;, score=0.389 total time=   0.0s\n",
            "[CV 2/5] END ....C=10, gamma=0.0001, kernel=rbf;, score=0.333 total time=   0.0s\n",
            "[CV 3/5] END ....C=10, gamma=0.0001, kernel=rbf;, score=0.389 total time=   0.0s\n",
            "[CV 4/5] END ....C=10, gamma=0.0001, kernel=rbf;, score=0.389 total time=   0.0s\n",
            "[CV 5/5] END ....C=10, gamma=0.0001, kernel=rbf;, score=0.389 total time=   0.0s\n",
            "[CV 1/5] END .....C=100, gamma=1, kernel=linear;, score=1.000 total time=   0.0s\n",
            "[CV 2/5] END .....C=100, gamma=1, kernel=linear;, score=1.000 total time=   0.0s\n",
            "[CV 3/5] END .....C=100, gamma=1, kernel=linear;, score=1.000 total time=   0.0s\n",
            "[CV 4/5] END .....C=100, gamma=1, kernel=linear;, score=0.944 total time=   0.0s\n",
            "[CV 5/5] END .....C=100, gamma=1, kernel=linear;, score=0.944 total time=   0.0s\n",
            "[CV 1/5] END .......C=100, gamma=1, kernel=poly;, score=1.000 total time=   0.0s\n",
            "[CV 2/5] END .......C=100, gamma=1, kernel=poly;, score=1.000 total time=   0.0s\n",
            "[CV 3/5] END .......C=100, gamma=1, kernel=poly;, score=0.944 total time=   0.0s\n",
            "[CV 4/5] END .......C=100, gamma=1, kernel=poly;, score=0.833 total time=   0.0s\n",
            "[CV 5/5] END .......C=100, gamma=1, kernel=poly;, score=0.944 total time=   0.0s\n",
            "[CV 1/5] END ....C=100, gamma=1, kernel=sigmoid;, score=0.722 total time=   0.0s\n",
            "[CV 2/5] END ....C=100, gamma=1, kernel=sigmoid;, score=0.889 total time=   0.0s\n",
            "[CV 3/5] END ....C=100, gamma=1, kernel=sigmoid;, score=0.722 total time=   0.0s\n",
            "[CV 4/5] END ....C=100, gamma=1, kernel=sigmoid;, score=0.722 total time=   0.0s\n",
            "[CV 5/5] END ....C=100, gamma=1, kernel=sigmoid;, score=0.611 total time=   0.0s\n",
            "[CV 1/5] END ........C=100, gamma=1, kernel=rbf;, score=1.000 total time=   0.0s\n",
            "[CV 2/5] END ........C=100, gamma=1, kernel=rbf;, score=0.944 total time=   0.0s\n",
            "[CV 3/5] END ........C=100, gamma=1, kernel=rbf;, score=0.944 total time=   0.0s\n",
            "[CV 4/5] END ........C=100, gamma=1, kernel=rbf;, score=0.944 total time=   0.0s\n",
            "[CV 5/5] END ........C=100, gamma=1, kernel=rbf;, score=0.944 total time=   0.0s\n",
            "[CV 1/5] END ...C=100, gamma=0.1, kernel=linear;, score=1.000 total time=   0.0s\n",
            "[CV 2/5] END ...C=100, gamma=0.1, kernel=linear;, score=1.000 total time=   0.0s\n",
            "[CV 3/5] END ...C=100, gamma=0.1, kernel=linear;, score=1.000 total time=   0.0s\n",
            "[CV 4/5] END ...C=100, gamma=0.1, kernel=linear;, score=0.944 total time=   0.0s\n",
            "[CV 5/5] END ...C=100, gamma=0.1, kernel=linear;, score=0.944 total time=   0.0s\n",
            "[CV 1/5] END .....C=100, gamma=0.1, kernel=poly;, score=0.944 total time=   0.0s\n",
            "[CV 2/5] END .....C=100, gamma=0.1, kernel=poly;, score=1.000 total time=   0.0s\n",
            "[CV 3/5] END .....C=100, gamma=0.1, kernel=poly;, score=0.944 total time=   0.0s\n",
            "[CV 4/5] END .....C=100, gamma=0.1, kernel=poly;, score=0.944 total time=   0.0s\n",
            "[CV 5/5] END .....C=100, gamma=0.1, kernel=poly;, score=1.000 total time=   0.0s\n",
            "[CV 1/5] END ..C=100, gamma=0.1, kernel=sigmoid;, score=1.000 total time=   0.0s\n",
            "[CV 2/5] END ..C=100, gamma=0.1, kernel=sigmoid;, score=1.000 total time=   0.0s\n",
            "[CV 3/5] END ..C=100, gamma=0.1, kernel=sigmoid;, score=0.944 total time=   0.0s\n",
            "[CV 4/5] END ..C=100, gamma=0.1, kernel=sigmoid;, score=1.000 total time=   0.0s\n",
            "[CV 5/5] END ..C=100, gamma=0.1, kernel=sigmoid;, score=0.944 total time=   0.0s\n",
            "[CV 1/5] END ......C=100, gamma=0.1, kernel=rbf;, score=1.000 total time=   0.0s\n",
            "[CV 2/5] END ......C=100, gamma=0.1, kernel=rbf;, score=0.944 total time=   0.0s\n",
            "[CV 3/5] END ......C=100, gamma=0.1, kernel=rbf;, score=0.944 total time=   0.0s\n",
            "[CV 4/5] END ......C=100, gamma=0.1, kernel=rbf;, score=0.889 total time=   0.0s\n",
            "[CV 5/5] END ......C=100, gamma=0.1, kernel=rbf;, score=0.944 total time=   0.0s\n",
            "[CV 1/5] END ..C=100, gamma=0.01, kernel=linear;, score=1.000 total time=   0.0s\n",
            "[CV 2/5] END ..C=100, gamma=0.01, kernel=linear;, score=1.000 total time=   0.0s\n",
            "[CV 3/5] END ..C=100, gamma=0.01, kernel=linear;, score=1.000 total time=   0.0s\n",
            "[CV 4/5] END ..C=100, gamma=0.01, kernel=linear;, score=0.944 total time=   0.0s\n",
            "[CV 5/5] END ..C=100, gamma=0.01, kernel=linear;, score=0.944 total time=   0.0s\n",
            "[CV 1/5] END ....C=100, gamma=0.01, kernel=poly;, score=0.444 total time=   0.0s\n",
            "[CV 2/5] END ....C=100, gamma=0.01, kernel=poly;, score=0.333 total time=   0.0s\n",
            "[CV 3/5] END ....C=100, gamma=0.01, kernel=poly;, score=0.444 total time=   0.0s\n",
            "[CV 4/5] END ....C=100, gamma=0.01, kernel=poly;, score=0.556 total time=   0.0s\n",
            "[CV 5/5] END ....C=100, gamma=0.01, kernel=poly;, score=0.444 total time=   0.0s\n",
            "[CV 1/5] END .C=100, gamma=0.01, kernel=sigmoid;, score=1.000 total time=   0.0s\n",
            "[CV 2/5] END .C=100, gamma=0.01, kernel=sigmoid;, score=1.000 total time=   0.0s\n",
            "[CV 3/5] END .C=100, gamma=0.01, kernel=sigmoid;, score=1.000 total time=   0.0s\n",
            "[CV 4/5] END .C=100, gamma=0.01, kernel=sigmoid;, score=0.944 total time=   0.0s\n",
            "[CV 5/5] END .C=100, gamma=0.01, kernel=sigmoid;, score=0.944 total time=   0.0s\n",
            "[CV 1/5] END .....C=100, gamma=0.01, kernel=rbf;, score=1.000 total time=   0.0s\n",
            "[CV 2/5] END .....C=100, gamma=0.01, kernel=rbf;, score=1.000 total time=   0.0s\n",
            "[CV 3/5] END .....C=100, gamma=0.01, kernel=rbf;, score=1.000 total time=   0.0s\n",
            "[CV 4/5] END .....C=100, gamma=0.01, kernel=rbf;, score=0.944 total time=   0.0s\n",
            "[CV 5/5] END .....C=100, gamma=0.01, kernel=rbf;, score=0.944 total time=   0.0s\n",
            "[CV 1/5] END .C=100, gamma=0.001, kernel=linear;, score=1.000 total time=   0.0s\n",
            "[CV 2/5] END .C=100, gamma=0.001, kernel=linear;, score=1.000 total time=   0.0s\n",
            "[CV 3/5] END .C=100, gamma=0.001, kernel=linear;, score=1.000 total time=   0.0s\n",
            "[CV 4/5] END .C=100, gamma=0.001, kernel=linear;, score=0.944 total time=   0.0s\n",
            "[CV 5/5] END .C=100, gamma=0.001, kernel=linear;, score=0.944 total time=   0.0s\n",
            "[CV 1/5] END ...C=100, gamma=0.001, kernel=poly;, score=0.389 total time=   0.0s\n",
            "[CV 2/5] END ...C=100, gamma=0.001, kernel=poly;, score=0.333 total time=   0.0s\n",
            "[CV 3/5] END ...C=100, gamma=0.001, kernel=poly;, score=0.389 total time=   0.0s\n",
            "[CV 4/5] END ...C=100, gamma=0.001, kernel=poly;, score=0.389 total time=   0.0s\n",
            "[CV 5/5] END ...C=100, gamma=0.001, kernel=poly;, score=0.389 total time=   0.0s\n",
            "[CV 1/5] END C=100, gamma=0.001, kernel=sigmoid;, score=0.944 total time=   0.0s\n",
            "[CV 2/5] END C=100, gamma=0.001, kernel=sigmoid;, score=0.944 total time=   0.0s\n",
            "[CV 3/5] END C=100, gamma=0.001, kernel=sigmoid;, score=0.944 total time=   0.0s\n",
            "[CV 4/5] END C=100, gamma=0.001, kernel=sigmoid;, score=0.944 total time=   0.0s\n",
            "[CV 5/5] END C=100, gamma=0.001, kernel=sigmoid;, score=0.889 total time=   0.0s\n",
            "[CV 1/5] END ....C=100, gamma=0.001, kernel=rbf;, score=1.000 total time=   0.0s\n",
            "[CV 2/5] END ....C=100, gamma=0.001, kernel=rbf;, score=1.000 total time=   0.0s\n",
            "[CV 3/5] END ....C=100, gamma=0.001, kernel=rbf;, score=1.000 total time=   0.0s\n",
            "[CV 4/5] END ....C=100, gamma=0.001, kernel=rbf;, score=0.889 total time=   0.0s\n",
            "[CV 5/5] END ....C=100, gamma=0.001, kernel=rbf;, score=0.944 total time=   0.0s\n",
            "[CV 1/5] END C=100, gamma=0.0001, kernel=linear;, score=1.000 total time=   0.0s\n",
            "[CV 2/5] END C=100, gamma=0.0001, kernel=linear;, score=1.000 total time=   0.0s\n",
            "[CV 3/5] END C=100, gamma=0.0001, kernel=linear;, score=1.000 total time=   0.0s\n",
            "[CV 4/5] END C=100, gamma=0.0001, kernel=linear;, score=0.944 total time=   0.0s\n",
            "[CV 5/5] END C=100, gamma=0.0001, kernel=linear;, score=0.944 total time=   0.0s\n",
            "[CV 1/5] END ..C=100, gamma=0.0001, kernel=poly;, score=0.389 total time=   0.0s\n",
            "[CV 2/5] END ..C=100, gamma=0.0001, kernel=poly;, score=0.333 total time=   0.0s\n",
            "[CV 3/5] END ..C=100, gamma=0.0001, kernel=poly;, score=0.389 total time=   0.0s\n",
            "[CV 4/5] END ..C=100, gamma=0.0001, kernel=poly;, score=0.389 total time=   0.0s\n",
            "[CV 5/5] END ..C=100, gamma=0.0001, kernel=poly;, score=0.389 total time=   0.0s\n",
            "[CV 1/5] END C=100, gamma=0.0001, kernel=sigmoid;, score=0.667 total time=   0.0s\n",
            "[CV 2/5] END C=100, gamma=0.0001, kernel=sigmoid;, score=0.778 total time=   0.0s\n",
            "[CV 3/5] END C=100, gamma=0.0001, kernel=sigmoid;, score=0.833 total time=   0.0s\n",
            "[CV 4/5] END C=100, gamma=0.0001, kernel=sigmoid;, score=0.889 total time=   0.0s\n",
            "[CV 5/5] END C=100, gamma=0.0001, kernel=sigmoid;, score=0.889 total time=   0.0s\n",
            "[CV 1/5] END ...C=100, gamma=0.0001, kernel=rbf;, score=0.889 total time=   0.0s\n",
            "[CV 2/5] END ...C=100, gamma=0.0001, kernel=rbf;, score=0.944 total time=   0.0s\n",
            "[CV 3/5] END ...C=100, gamma=0.0001, kernel=rbf;, score=0.944 total time=   0.0s\n",
            "[CV 4/5] END ...C=100, gamma=0.0001, kernel=rbf;, score=0.944 total time=   0.0s\n",
            "[CV 5/5] END ...C=100, gamma=0.0001, kernel=rbf;, score=0.889 total time=   0.0s\n",
            "[CV 1/5] END ....C=1000, gamma=1, kernel=linear;, score=1.000 total time=   0.0s\n",
            "[CV 2/5] END ....C=1000, gamma=1, kernel=linear;, score=1.000 total time=   0.0s\n",
            "[CV 3/5] END ....C=1000, gamma=1, kernel=linear;, score=0.944 total time=   0.0s\n",
            "[CV 4/5] END ....C=1000, gamma=1, kernel=linear;, score=0.944 total time=   0.0s\n",
            "[CV 5/5] END ....C=1000, gamma=1, kernel=linear;, score=0.944 total time=   0.0s\n",
            "[CV 1/5] END ......C=1000, gamma=1, kernel=poly;, score=1.000 total time=   0.0s\n",
            "[CV 2/5] END ......C=1000, gamma=1, kernel=poly;, score=1.000 total time=   0.0s\n",
            "[CV 3/5] END ......C=1000, gamma=1, kernel=poly;, score=0.944 total time=   0.0s\n",
            "[CV 4/5] END ......C=1000, gamma=1, kernel=poly;, score=0.833 total time=   0.0s\n",
            "[CV 5/5] END ......C=1000, gamma=1, kernel=poly;, score=0.944 total time=   0.0s\n",
            "[CV 1/5] END ...C=1000, gamma=1, kernel=sigmoid;, score=0.611 total time=   0.0s\n",
            "[CV 2/5] END ...C=1000, gamma=1, kernel=sigmoid;, score=0.778 total time=   0.0s\n",
            "[CV 3/5] END ...C=1000, gamma=1, kernel=sigmoid;, score=0.722 total time=   0.0s\n",
            "[CV 4/5] END ...C=1000, gamma=1, kernel=sigmoid;, score=0.722 total time=   0.0s\n",
            "[CV 5/5] END ...C=1000, gamma=1, kernel=sigmoid;, score=0.611 total time=   0.0s\n",
            "[CV 1/5] END .......C=1000, gamma=1, kernel=rbf;, score=1.000 total time=   0.0s\n",
            "[CV 2/5] END .......C=1000, gamma=1, kernel=rbf;, score=0.944 total time=   0.0s\n",
            "[CV 3/5] END .......C=1000, gamma=1, kernel=rbf;, score=0.944 total time=   0.0s\n",
            "[CV 4/5] END .......C=1000, gamma=1, kernel=rbf;, score=0.944 total time=   0.0s\n",
            "[CV 5/5] END .......C=1000, gamma=1, kernel=rbf;, score=0.944 total time=   0.0s\n",
            "[CV 1/5] END ..C=1000, gamma=0.1, kernel=linear;, score=1.000 total time=   0.0s\n",
            "[CV 2/5] END ..C=1000, gamma=0.1, kernel=linear;, score=1.000 total time=   0.0s\n",
            "[CV 3/5] END ..C=1000, gamma=0.1, kernel=linear;, score=0.944 total time=   0.0s\n",
            "[CV 4/5] END ..C=1000, gamma=0.1, kernel=linear;, score=0.944 total time=   0.0s\n",
            "[CV 5/5] END ..C=1000, gamma=0.1, kernel=linear;, score=0.944 total time=   0.0s\n",
            "[CV 1/5] END ....C=1000, gamma=0.1, kernel=poly;, score=0.944 total time=   0.0s\n",
            "[CV 2/5] END ....C=1000, gamma=0.1, kernel=poly;, score=1.000 total time=   0.0s\n",
            "[CV 3/5] END ....C=1000, gamma=0.1, kernel=poly;, score=0.944 total time=   0.0s\n",
            "[CV 4/5] END ....C=1000, gamma=0.1, kernel=poly;, score=0.833 total time=   0.0s\n",
            "[CV 5/5] END ....C=1000, gamma=0.1, kernel=poly;, score=0.944 total time=   0.0s\n",
            "[CV 1/5] END .C=1000, gamma=0.1, kernel=sigmoid;, score=0.944 total time=   0.0s\n",
            "[CV 2/5] END .C=1000, gamma=0.1, kernel=sigmoid;, score=1.000 total time=   0.0s\n",
            "[CV 3/5] END .C=1000, gamma=0.1, kernel=sigmoid;, score=1.000 total time=   0.0s\n",
            "[CV 4/5] END .C=1000, gamma=0.1, kernel=sigmoid;, score=0.944 total time=   0.0s\n",
            "[CV 5/5] END .C=1000, gamma=0.1, kernel=sigmoid;, score=0.889 total time=   0.0s\n",
            "[CV 1/5] END .....C=1000, gamma=0.1, kernel=rbf;, score=1.000 total time=   0.0s\n",
            "[CV 2/5] END .....C=1000, gamma=0.1, kernel=rbf;, score=1.000 total time=   0.0s\n",
            "[CV 3/5] END .....C=1000, gamma=0.1, kernel=rbf;, score=0.944 total time=   0.0s\n",
            "[CV 4/5] END .....C=1000, gamma=0.1, kernel=rbf;, score=0.889 total time=   0.0s\n",
            "[CV 5/5] END .....C=1000, gamma=0.1, kernel=rbf;, score=0.944 total time=   0.0s\n",
            "[CV 1/5] END .C=1000, gamma=0.01, kernel=linear;, score=1.000 total time=   0.0s\n",
            "[CV 2/5] END .C=1000, gamma=0.01, kernel=linear;, score=1.000 total time=   0.0s\n",
            "[CV 3/5] END .C=1000, gamma=0.01, kernel=linear;, score=0.944 total time=   0.0s\n",
            "[CV 4/5] END .C=1000, gamma=0.01, kernel=linear;, score=0.944 total time=   0.0s\n",
            "[CV 5/5] END .C=1000, gamma=0.01, kernel=linear;, score=0.944 total time=   0.0s\n",
            "[CV 1/5] END ...C=1000, gamma=0.01, kernel=poly;, score=0.833 total time=   0.0s\n",
            "[CV 2/5] END ...C=1000, gamma=0.01, kernel=poly;, score=0.778 total time=   0.0s\n",
            "[CV 3/5] END ...C=1000, gamma=0.01, kernel=poly;, score=0.778 total time=   0.0s\n",
            "[CV 4/5] END ...C=1000, gamma=0.01, kernel=poly;, score=0.889 total time=   0.0s\n",
            "[CV 5/5] END ...C=1000, gamma=0.01, kernel=poly;, score=0.722 total time=   0.0s\n",
            "[CV 1/5] END C=1000, gamma=0.01, kernel=sigmoid;, score=1.000 total time=   0.0s\n",
            "[CV 2/5] END C=1000, gamma=0.01, kernel=sigmoid;, score=1.000 total time=   0.0s\n",
            "[CV 3/5] END C=1000, gamma=0.01, kernel=sigmoid;, score=0.944 total time=   0.0s\n",
            "[CV 4/5] END C=1000, gamma=0.01, kernel=sigmoid;, score=0.944 total time=   0.0s\n",
            "[CV 5/5] END C=1000, gamma=0.01, kernel=sigmoid;, score=0.944 total time=   0.0s\n",
            "[CV 1/5] END ....C=1000, gamma=0.01, kernel=rbf;, score=0.944 total time=   0.0s\n",
            "[CV 2/5] END ....C=1000, gamma=0.01, kernel=rbf;, score=1.000 total time=   0.0s\n",
            "[CV 3/5] END ....C=1000, gamma=0.01, kernel=rbf;, score=0.944 total time=   0.0s\n",
            "[CV 4/5] END ....C=1000, gamma=0.01, kernel=rbf;, score=0.889 total time=   0.0s\n",
            "[CV 5/5] END ....C=1000, gamma=0.01, kernel=rbf;, score=0.944 total time=   0.0s\n",
            "[CV 1/5] END C=1000, gamma=0.001, kernel=linear;, score=1.000 total time=   0.0s\n",
            "[CV 2/5] END C=1000, gamma=0.001, kernel=linear;, score=1.000 total time=   0.0s\n",
            "[CV 3/5] END C=1000, gamma=0.001, kernel=linear;, score=0.944 total time=   0.0s\n",
            "[CV 4/5] END C=1000, gamma=0.001, kernel=linear;, score=0.944 total time=   0.0s\n",
            "[CV 5/5] END C=1000, gamma=0.001, kernel=linear;, score=0.944 total time=   0.0s\n",
            "[CV 1/5] END ..C=1000, gamma=0.001, kernel=poly;, score=0.389 total time=   0.0s\n",
            "[CV 2/5] END ..C=1000, gamma=0.001, kernel=poly;, score=0.333 total time=   0.0s\n",
            "[CV 3/5] END ..C=1000, gamma=0.001, kernel=poly;, score=0.389 total time=   0.0s\n",
            "[CV 4/5] END ..C=1000, gamma=0.001, kernel=poly;, score=0.389 total time=   0.0s\n",
            "[CV 5/5] END ..C=1000, gamma=0.001, kernel=poly;, score=0.389 total time=   0.0s\n",
            "[CV 1/5] END C=1000, gamma=0.001, kernel=sigmoid;, score=1.000 total time=   0.0s\n",
            "[CV 2/5] END C=1000, gamma=0.001, kernel=sigmoid;, score=1.000 total time=   0.0s\n",
            "[CV 3/5] END C=1000, gamma=0.001, kernel=sigmoid;, score=1.000 total time=   0.0s\n",
            "[CV 4/5] END C=1000, gamma=0.001, kernel=sigmoid;, score=0.944 total time=   0.0s\n",
            "[CV 5/5] END C=1000, gamma=0.001, kernel=sigmoid;, score=0.944 total time=   0.0s\n",
            "[CV 1/5] END ...C=1000, gamma=0.001, kernel=rbf;, score=1.000 total time=   0.0s\n",
            "[CV 2/5] END ...C=1000, gamma=0.001, kernel=rbf;, score=1.000 total time=   0.0s\n",
            "[CV 3/5] END ...C=1000, gamma=0.001, kernel=rbf;, score=1.000 total time=   0.0s\n",
            "[CV 4/5] END ...C=1000, gamma=0.001, kernel=rbf;, score=0.944 total time=   0.0s\n",
            "[CV 5/5] END ...C=1000, gamma=0.001, kernel=rbf;, score=0.944 total time=   0.0s\n",
            "[CV 1/5] END C=1000, gamma=0.0001, kernel=linear;, score=1.000 total time=   0.0s\n",
            "[CV 2/5] END C=1000, gamma=0.0001, kernel=linear;, score=1.000 total time=   0.0s\n",
            "[CV 3/5] END C=1000, gamma=0.0001, kernel=linear;, score=0.944 total time=   0.0s\n",
            "[CV 4/5] END C=1000, gamma=0.0001, kernel=linear;, score=0.944 total time=   0.0s\n",
            "[CV 5/5] END C=1000, gamma=0.0001, kernel=linear;, score=0.944 total time=   0.0s\n",
            "[CV 1/5] END .C=1000, gamma=0.0001, kernel=poly;, score=0.389 total time=   0.0s\n",
            "[CV 2/5] END .C=1000, gamma=0.0001, kernel=poly;, score=0.333 total time=   0.0s\n",
            "[CV 3/5] END .C=1000, gamma=0.0001, kernel=poly;, score=0.389 total time=   0.0s\n",
            "[CV 4/5] END .C=1000, gamma=0.0001, kernel=poly;, score=0.389 total time=   0.0s\n",
            "[CV 5/5] END .C=1000, gamma=0.0001, kernel=poly;, score=0.389 total time=   0.0s\n",
            "[CV 1/5] END C=1000, gamma=0.0001, kernel=sigmoid;, score=0.944 total time=   0.0s\n",
            "[CV 2/5] END C=1000, gamma=0.0001, kernel=sigmoid;, score=0.944 total time=   0.0s\n",
            "[CV 3/5] END C=1000, gamma=0.0001, kernel=sigmoid;, score=0.944 total time=   0.0s\n",
            "[CV 4/5] END C=1000, gamma=0.0001, kernel=sigmoid;, score=0.944 total time=   0.0s\n",
            "[CV 5/5] END C=1000, gamma=0.0001, kernel=sigmoid;, score=0.889 total time=   0.0s\n",
            "[CV 1/5] END ..C=1000, gamma=0.0001, kernel=rbf;, score=1.000 total time=   0.0s\n",
            "[CV 2/5] END ..C=1000, gamma=0.0001, kernel=rbf;, score=1.000 total time=   0.0s\n",
            "[CV 3/5] END ..C=1000, gamma=0.0001, kernel=rbf;, score=1.000 total time=   0.0s\n",
            "[CV 4/5] END ..C=1000, gamma=0.0001, kernel=rbf;, score=0.944 total time=   0.0s\n",
            "[CV 5/5] END ..C=1000, gamma=0.0001, kernel=rbf;, score=0.944 total time=   0.0s\n",
            "Accuracy of the tuned model: 0.9778\n",
            "{'C': 1, 'gamma': 1, 'kernel': 'linear'}\n"
          ]
        }
      ]
    },
    {
      "cell_type": "code",
      "source": [
        "# Tuning on test data\n",
        "\n",
        "from sklearn.metrics import classification_report, confusion_matrix \n",
        "\n",
        "grid_predictions = grid.predict(X_test)\n",
        "print(sns.heatmap(confusion_matrix(y_test,grid_predictions),annot=True))\n",
        "print(classification_report(y_test,grid_predictions))"
      ],
      "metadata": {
        "colab": {
          "base_uri": "https://localhost:8080/",
          "height": 456
        },
        "id": "-DJk6umabi3z",
        "outputId": "eb025274-86ce-4bba-8207-4760cee8413f"
      },
      "execution_count": null,
      "outputs": [
        {
          "output_type": "stream",
          "name": "stdout",
          "text": [
            "AxesSubplot(0.125,0.125;0.62x0.755)\n",
            "                 precision    recall  f1-score   support\n",
            "\n",
            "    Iris-setosa       1.00      1.00      1.00        16\n",
            "Iris-versicolor       0.88      0.96      0.92        23\n",
            " Iris-virginica       0.95      0.86      0.90        21\n",
            "\n",
            "       accuracy                           0.93        60\n",
            "      macro avg       0.94      0.94      0.94        60\n",
            "   weighted avg       0.94      0.93      0.93        60\n",
            "\n"
          ]
        },
        {
          "output_type": "display_data",
          "data": {
            "text/plain": [
              "<Figure size 432x288 with 2 Axes>"
            ],
            "image/png": "[encoded data removed]"
          },
          "metadata": {
            "needs_background": "light"
          }
        }
      ]
    },
    {
      "cell_type": "markdown",
      "source": [
        "**KNN-Tuning**"
      ],
      "metadata": {
        "id": "YmAh7tsjp2ZV"
      }
    },
    {
      "cell_type": "code",
      "source": [
        "\n",
        "param_grid = {\"n_neighbors\": list(range(1, 51)),\n",
        "              \"weights\": [\"uniform\", \"distance\"],\n",
        "              \"p\": [1, 2]\n",
        "              }        \n",
        "  \n",
        "grid = GridSearchCV(KNeighborsClassifier(), param_grid, refit = True, verbose = 3)\n",
        "\n",
        "\n",
        "grid.fit(X_train,y_train)       \n",
        "\n",
        "print(\"Accuracy of the tuned model: %.4f\" %grid.best_score_)\n",
        "print(grid.best_params_)\n"
      ],
      "metadata": {
        "colab": {
          "base_uri": "https://localhost:8080/"
        },
        "id": "vjyN-PRSpg3x",
        "outputId": "f3fd8979-5280-40da-c7e4-0f6fcbd41ffe"
      },
      "execution_count": null,
      "outputs": [
        {
          "output_type": "stream",
          "name": "stdout",
          "text": [
            "Fitting 5 folds for each of 200 candidates, totalling 1000 fits\n",
            "[CV 1/5] END n_neighbors=1, p=1, weights=uniform;, score=1.000 total time=   0.0s\n",
            "[CV 2/5] END n_neighbors=1, p=1, weights=uniform;, score=1.000 total time=   0.0s\n",
            "[CV 3/5] END n_neighbors=1, p=1, weights=uniform;, score=1.000 total time=   0.0s\n",
            "[CV 4/5] END n_neighbors=1, p=1, weights=uniform;, score=1.000 total time=   0.0s\n",
            "[CV 5/5] END n_neighbors=1, p=1, weights=uniform;, score=0.944 total time=   0.0s\n",
            "[CV 1/5] END n_neighbors=1, p=1, weights=distance;, score=1.000 total time=   0.0s\n",
            "[CV 2/5] END n_neighbors=1, p=1, weights=distance;, score=1.000 total time=   0.0s\n",
            "[CV 3/5] END n_neighbors=1, p=1, weights=distance;, score=1.000 total time=   0.0s\n",
            "[CV 4/5] END n_neighbors=1, p=1, weights=distance;, score=1.000 total time=   0.0s\n",
            "[CV 5/5] END n_neighbors=1, p=1, weights=distance;, score=0.944 total time=   0.0s\n",
            "[CV 1/5] END n_neighbors=1, p=2, weights=uniform;, score=1.000 total time=   0.0s\n",
            "[CV 2/5] END n_neighbors=1, p=2, weights=uniform;, score=0.944 total time=   0.0s\n",
            "[CV 3/5] END n_neighbors=1, p=2, weights=uniform;, score=1.000 total time=   0.0s\n",
            "[CV 4/5] END n_neighbors=1, p=2, weights=uniform;, score=1.000 total time=   0.0s\n",
            "[CV 5/5] END n_neighbors=1, p=2, weights=uniform;, score=0.944 total time=   0.0s\n",
            "[CV 1/5] END n_neighbors=1, p=2, weights=distance;, score=1.000 total time=   0.0s\n",
            "[CV 2/5] END n_neighbors=1, p=2, weights=distance;, score=0.944 total time=   0.0s\n",
            "[CV 3/5] END n_neighbors=1, p=2, weights=distance;, score=1.000 total time=   0.0s\n",
            "[CV 4/5] END n_neighbors=1, p=2, weights=distance;, score=1.000 total time=   0.0s\n",
            "[CV 5/5] END n_neighbors=1, p=2, weights=distance;, score=0.944 total time=   0.0s\n",
            "[CV 1/5] END n_neighbors=2, p=1, weights=uniform;, score=0.944 total time=   0.0s\n",
            "[CV 2/5] END n_neighbors=2, p=1, weights=uniform;, score=1.000 total time=   0.0s\n",
            "[CV 3/5] END n_neighbors=2, p=1, weights=uniform;, score=1.000 total time=   0.0s\n",
            "[CV 4/5] END n_neighbors=2, p=1, weights=uniform;, score=0.944 total time=   0.0s\n",
            "[CV 5/5] END n_neighbors=2, p=1, weights=uniform;, score=0.944 total time=   0.0s\n",
            "[CV 1/5] END n_neighbors=2, p=1, weights=distance;, score=1.000 total time=   0.0s\n",
            "[CV 2/5] END n_neighbors=2, p=1, weights=distance;, score=1.000 total time=   0.0s\n",
            "[CV 3/5] END n_neighbors=2, p=1, weights=distance;, score=1.000 total time=   0.0s\n",
            "[CV 4/5] END n_neighbors=2, p=1, weights=distance;, score=1.000 total time=   0.0s\n",
            "[CV 5/5] END n_neighbors=2, p=1, weights=distance;, score=0.944 total time=   0.0s\n",
            "[CV 1/5] END n_neighbors=2, p=2, weights=uniform;, score=0.944 total time=   0.0s\n",
            "[CV 2/5] END n_neighbors=2, p=2, weights=uniform;, score=1.000 total time=   0.0s\n",
            "[CV 3/5] END n_neighbors=2, p=2, weights=uniform;, score=1.000 total time=   0.0s\n",
            "[CV 4/5] END n_neighbors=2, p=2, weights=uniform;, score=0.944 total time=   0.0s\n",
            "[CV 5/5] END n_neighbors=2, p=2, weights=uniform;, score=0.944 total time=   0.0s\n",
            "[CV 1/5] END n_neighbors=2, p=2, weights=distance;, score=1.000 total time=   0.0s\n",
            "[CV 2/5] END n_neighbors=2, p=2, weights=distance;, score=0.944 total time=   0.0s\n",
            "[CV 3/5] END n_neighbors=2, p=2, weights=distance;, score=1.000 total time=   0.0s\n",
            "[CV 4/5] END n_neighbors=2, p=2, weights=distance;, score=1.000 total time=   0.0s\n",
            "[CV 5/5] END n_neighbors=2, p=2, weights=distance;, score=0.944 total time=   0.0s\n",
            "[CV 1/5] END n_neighbors=3, p=1, weights=uniform;, score=0.944 total time=   0.0s\n",
            "[CV 2/5] END n_neighbors=3, p=1, weights=uniform;, score=1.000 total time=   0.0s\n",
            "[CV 3/5] END n_neighbors=3, p=1, weights=uniform;, score=1.000 total time=   0.0s\n",
            "[CV 4/5] END n_neighbors=3, p=1, weights=uniform;, score=0.944 total time=   0.0s\n",
            "[CV 5/5] END n_neighbors=3, p=1, weights=uniform;, score=0.944 total time=   0.0s\n",
            "[CV 1/5] END n_neighbors=3, p=1, weights=distance;, score=0.944 total time=   0.0s\n",
            "[CV 2/5] END n_neighbors=3, p=1, weights=distance;, score=1.000 total time=   0.0s\n",
            "[CV 3/5] END n_neighbors=3, p=1, weights=distance;, score=1.000 total time=   0.0s\n",
            "[CV 4/5] END n_neighbors=3, p=1, weights=distance;, score=1.000 total time=   0.0s\n",
            "[CV 5/5] END n_neighbors=3, p=1, weights=distance;, score=0.944 total time=   0.0s\n",
            "[CV 1/5] END n_neighbors=3, p=2, weights=uniform;, score=0.944 total time=   0.0s\n",
            "[CV 2/5] END n_neighbors=3, p=2, weights=uniform;, score=1.000 total time=   0.0s\n",
            "[CV 3/5] END n_neighbors=3, p=2, weights=uniform;, score=1.000 total time=   0.0s\n",
            "[CV 4/5] END n_neighbors=3, p=2, weights=uniform;, score=0.944 total time=   0.0s\n",
            "[CV 5/5] END n_neighbors=3, p=2, weights=uniform;, score=0.944 total time=   0.0s\n",
            "[CV 1/5] END n_neighbors=3, p=2, weights=distance;, score=0.944 total time=   0.0s\n",
            "[CV 2/5] END n_neighbors=3, p=2, weights=distance;, score=1.000 total time=   0.0s\n",
            "[CV 3/5] END n_neighbors=3, p=2, weights=distance;, score=1.000 total time=   0.0s\n",
            "[CV 4/5] END n_neighbors=3, p=2, weights=distance;, score=1.000 total time=   0.0s\n",
            "[CV 5/5] END n_neighbors=3, p=2, weights=distance;, score=0.944 total time=   0.0s\n",
            "[CV 1/5] END n_neighbors=4, p=1, weights=uniform;, score=1.000 total time=   0.0s\n",
            "[CV 2/5] END n_neighbors=4, p=1, weights=uniform;, score=0.944 total time=   0.0s\n",
            "[CV 3/5] END n_neighbors=4, p=1, weights=uniform;, score=0.944 total time=   0.0s\n",
            "[CV 4/5] END n_neighbors=4, p=1, weights=uniform;, score=0.944 total time=   0.0s\n",
            "[CV 5/5] END n_neighbors=4, p=1, weights=uniform;, score=0.944 total time=   0.0s\n",
            "[CV 1/5] END n_neighbors=4, p=1, weights=distance;, score=1.000 total time=   0.0s\n",
            "[CV 2/5] END n_neighbors=4, p=1, weights=distance;, score=1.000 total time=   0.0s\n",
            "[CV 3/5] END n_neighbors=4, p=1, weights=distance;, score=1.000 total time=   0.0s\n",
            "[CV 4/5] END n_neighbors=4, p=1, weights=distance;, score=1.000 total time=   0.0s\n",
            "[CV 5/5] END n_neighbors=4, p=1, weights=distance;, score=0.944 total time=   0.0s\n",
            "[CV 1/5] END n_neighbors=4, p=2, weights=uniform;, score=0.944 total time=   0.0s\n",
            "[CV 2/5] END n_neighbors=4, p=2, weights=uniform;, score=1.000 total time=   0.0s\n",
            "[CV 3/5] END n_neighbors=4, p=2, weights=uniform;, score=1.000 total time=   0.0s\n",
            "[CV 4/5] END n_neighbors=4, p=2, weights=uniform;, score=0.944 total time=   0.0s\n",
            "[CV 5/5] END n_neighbors=4, p=2, weights=uniform;, score=1.000 total time=   0.0s\n",
            "[CV 1/5] END n_neighbors=4, p=2, weights=distance;, score=0.944 total time=   0.0s\n",
            "[CV 2/5] END n_neighbors=4, p=2, weights=distance;, score=1.000 total time=   0.0s\n",
            "[CV 3/5] END n_neighbors=4, p=2, weights=distance;, score=1.000 total time=   0.0s\n",
            "[CV 4/5] END n_neighbors=4, p=2, weights=distance;, score=1.000 total time=   0.0s\n",
            "[CV 5/5] END n_neighbors=4, p=2, weights=distance;, score=0.944 total time=   0.0s\n",
            "[CV 1/5] END n_neighbors=5, p=1, weights=uniform;, score=0.944 total time=   0.0s\n",
            "[CV 2/5] END n_neighbors=5, p=1, weights=uniform;, score=1.000 total time=   0.0s\n",
            "[CV 3/5] END n_neighbors=5, p=1, weights=uniform;, score=1.000 total time=   0.0s\n",
            "[CV 4/5] END n_neighbors=5, p=1, weights=uniform;, score=1.000 total time=   0.0s\n",
            "[CV 5/5] END n_neighbors=5, p=1, weights=uniform;, score=0.944 total time=   0.0s\n",
            "[CV 1/5] END n_neighbors=5, p=1, weights=distance;, score=0.944 total time=   0.0s\n",
            "[CV 2/5] END n_neighbors=5, p=1, weights=distance;, score=1.000 total time=   0.0s\n",
            "[CV 3/5] END n_neighbors=5, p=1, weights=distance;, score=1.000 total time=   0.0s\n",
            "[CV 4/5] END n_neighbors=5, p=1, weights=distance;, score=1.000 total time=   0.0s\n",
            "[CV 5/5] END n_neighbors=5, p=1, weights=distance;, score=0.944 total time=   0.0s\n",
            "[CV 1/5] END n_neighbors=5, p=2, weights=uniform;, score=0.944 total time=   0.0s\n",
            "[CV 2/5] END n_neighbors=5, p=2, weights=uniform;, score=1.000 total time=   0.0s\n",
            "[CV 3/5] END n_neighbors=5, p=2, weights=uniform;, score=1.000 total time=   0.0s\n",
            "[CV 4/5] END n_neighbors=5, p=2, weights=uniform;, score=0.944 total time=   0.0s\n",
            "[CV 5/5] END n_neighbors=5, p=2, weights=uniform;, score=0.944 total time=   0.0s\n",
            "[CV 1/5] END n_neighbors=5, p=2, weights=distance;, score=0.944 total time=   0.0s\n",
            "[CV 2/5] END n_neighbors=5, p=2, weights=distance;, score=1.000 total time=   0.0s\n",
            "[CV 3/5] END n_neighbors=5, p=2, weights=distance;, score=1.000 total time=   0.0s\n",
            "[CV 4/5] END n_neighbors=5, p=2, weights=distance;, score=0.944 total time=   0.0s\n",
            "[CV 5/5] END n_neighbors=5, p=2, weights=distance;, score=0.944 total time=   0.0s\n",
            "[CV 1/5] END n_neighbors=6, p=1, weights=uniform;, score=1.000 total time=   0.0s\n",
            "[CV 2/5] END n_neighbors=6, p=1, weights=uniform;, score=1.000 total time=   0.0s\n",
            "[CV 3/5] END n_neighbors=6, p=1, weights=uniform;, score=1.000 total time=   0.0s\n",
            "[CV 4/5] END n_neighbors=6, p=1, weights=uniform;, score=1.000 total time=   0.0s\n",
            "[CV 5/5] END n_neighbors=6, p=1, weights=uniform;, score=0.944 total time=   0.0s\n",
            "[CV 1/5] END n_neighbors=6, p=1, weights=distance;, score=1.000 total time=   0.0s\n",
            "[CV 2/5] END n_neighbors=6, p=1, weights=distance;, score=1.000 total time=   0.0s\n",
            "[CV 3/5] END n_neighbors=6, p=1, weights=distance;, score=1.000 total time=   0.0s\n",
            "[CV 4/5] END n_neighbors=6, p=1, weights=distance;, score=1.000 total time=   0.0s\n",
            "[CV 5/5] END n_neighbors=6, p=1, weights=distance;, score=0.944 total time=   0.0s\n",
            "[CV 1/5] END n_neighbors=6, p=2, weights=uniform;, score=1.000 total time=   0.0s\n",
            "[CV 2/5] END n_neighbors=6, p=2, weights=uniform;, score=1.000 total time=   0.0s\n",
            "[CV 3/5] END n_neighbors=6, p=2, weights=uniform;, score=0.944 total time=   0.0s\n",
            "[CV 4/5] END n_neighbors=6, p=2, weights=uniform;, score=0.944 total time=   0.0s\n",
            "[CV 5/5] END n_neighbors=6, p=2, weights=uniform;, score=0.944 total time=   0.0s\n",
            "[CV 1/5] END n_neighbors=6, p=2, weights=distance;, score=1.000 total time=   0.0s\n",
            "[CV 2/5] END n_neighbors=6, p=2, weights=distance;, score=1.000 total time=   0.0s\n",
            "[CV 3/5] END n_neighbors=6, p=2, weights=distance;, score=1.000 total time=   0.0s\n",
            "[CV 4/5] END n_neighbors=6, p=2, weights=distance;, score=0.944 total time=   0.0s\n",
            "[CV 5/5] END n_neighbors=6, p=2, weights=distance;, score=0.944 total time=   0.0s\n",
            "[CV 1/5] END n_neighbors=7, p=1, weights=uniform;, score=0.944 total time=   0.0s\n",
            "[CV 2/5] END n_neighbors=7, p=1, weights=uniform;, score=1.000 total time=   0.0s\n",
            "[CV 3/5] END n_neighbors=7, p=1, weights=uniform;, score=1.000 total time=   0.0s\n",
            "[CV 4/5] END n_neighbors=7, p=1, weights=uniform;, score=1.000 total time=   0.0s\n",
            "[CV 5/5] END n_neighbors=7, p=1, weights=uniform;, score=0.944 total time=   0.0s\n",
            "[CV 1/5] END n_neighbors=7, p=1, weights=distance;, score=0.944 total time=   0.0s\n",
            "[CV 2/5] END n_neighbors=7, p=1, weights=distance;, score=1.000 total time=   0.0s\n",
            "[CV 3/5] END n_neighbors=7, p=1, weights=distance;, score=1.000 total time=   0.0s\n",
            "[CV 4/5] END n_neighbors=7, p=1, weights=distance;, score=1.000 total time=   0.0s\n",
            "[CV 5/5] END n_neighbors=7, p=1, weights=distance;, score=0.944 total time=   0.0s\n",
            "[CV 1/5] END n_neighbors=7, p=2, weights=uniform;, score=0.944 total time=   0.0s\n",
            "[CV 2/5] END n_neighbors=7, p=2, weights=uniform;, score=1.000 total time=   0.0s\n",
            "[CV 3/5] END n_neighbors=7, p=2, weights=uniform;, score=1.000 total time=   0.0s\n",
            "[CV 4/5] END n_neighbors=7, p=2, weights=uniform;, score=0.944 total time=   0.0s\n",
            "[CV 5/5] END n_neighbors=7, p=2, weights=uniform;, score=0.944 total time=   0.0s\n",
            "[CV 1/5] END n_neighbors=7, p=2, weights=distance;, score=0.944 total time=   0.0s\n",
            "[CV 2/5] END n_neighbors=7, p=2, weights=distance;, score=1.000 total time=   0.0s\n",
            "[CV 3/5] END n_neighbors=7, p=2, weights=distance;, score=1.000 total time=   0.0s\n",
            "[CV 4/5] END n_neighbors=7, p=2, weights=distance;, score=0.944 total time=   0.0s\n",
            "[CV 5/5] END n_neighbors=7, p=2, weights=distance;, score=0.944 total time=   0.0s\n",
            "[CV 1/5] END n_neighbors=8, p=1, weights=uniform;, score=1.000 total time=   0.0s\n",
            "[CV 2/5] END n_neighbors=8, p=1, weights=uniform;, score=1.000 total time=   0.0s\n",
            "[CV 3/5] END n_neighbors=8, p=1, weights=uniform;, score=1.000 total time=   0.0s\n",
            "[CV 4/5] END n_neighbors=8, p=1, weights=uniform;, score=0.944 total time=   0.0s\n",
            "[CV 5/5] END n_neighbors=8, p=1, weights=uniform;, score=0.944 total time=   0.0s\n",
            "[CV 1/5] END n_neighbors=8, p=1, weights=distance;, score=1.000 total time=   0.0s\n",
            "[CV 2/5] END n_neighbors=8, p=1, weights=distance;, score=1.000 total time=   0.0s\n",
            "[CV 3/5] END n_neighbors=8, p=1, weights=distance;, score=1.000 total time=   0.0s\n",
            "[CV 4/5] END n_neighbors=8, p=1, weights=distance;, score=1.000 total time=   0.0s\n",
            "[CV 5/5] END n_neighbors=8, p=1, weights=distance;, score=0.944 total time=   0.0s\n",
            "[CV 1/5] END n_neighbors=8, p=2, weights=uniform;, score=1.000 total time=   0.0s\n",
            "[CV 2/5] END n_neighbors=8, p=2, weights=uniform;, score=1.000 total time=   0.0s\n",
            "[CV 3/5] END n_neighbors=8, p=2, weights=uniform;, score=0.944 total time=   0.0s\n",
            "[CV 4/5] END n_neighbors=8, p=2, weights=uniform;, score=1.000 total time=   0.0s\n",
            "[CV 5/5] END n_neighbors=8, p=2, weights=uniform;, score=1.000 total time=   0.0s\n",
            "[CV 1/5] END n_neighbors=8, p=2, weights=distance;, score=1.000 total time=   0.0s\n",
            "[CV 2/5] END n_neighbors=8, p=2, weights=distance;, score=1.000 total time=   0.0s\n",
            "[CV 3/5] END n_neighbors=8, p=2, weights=distance;, score=1.000 total time=   0.0s\n",
            "[CV 4/5] END n_neighbors=8, p=2, weights=distance;, score=1.000 total time=   0.0s\n",
            "[CV 5/5] END n_neighbors=8, p=2, weights=distance;, score=0.944 total time=   0.0s\n",
            "[CV 1/5] END n_neighbors=9, p=1, weights=uniform;, score=1.000 total time=   0.0s\n",
            "[CV 2/5] END n_neighbors=9, p=1, weights=uniform;, score=1.000 total time=   0.0s\n",
            "[CV 3/5] END n_neighbors=9, p=1, weights=uniform;, score=1.000 total time=   0.0s\n",
            "[CV 4/5] END n_neighbors=9, p=1, weights=uniform;, score=0.889 total time=   0.0s\n",
            "[CV 5/5] END n_neighbors=9, p=1, weights=uniform;, score=0.944 total time=   0.0s\n",
            "[CV 1/5] END n_neighbors=9, p=1, weights=distance;, score=1.000 total time=   0.0s\n",
            "[CV 2/5] END n_neighbors=9, p=1, weights=distance;, score=1.000 total time=   0.0s\n",
            "[CV 3/5] END n_neighbors=9, p=1, weights=distance;, score=1.000 total time=   0.0s\n",
            "[CV 4/5] END n_neighbors=9, p=1, weights=distance;, score=0.944 total time=   0.0s\n",
            "[CV 5/5] END n_neighbors=9, p=1, weights=distance;, score=0.944 total time=   0.0s\n",
            "[CV 1/5] END n_neighbors=9, p=2, weights=uniform;, score=0.944 total time=   0.0s\n",
            "[CV 2/5] END n_neighbors=9, p=2, weights=uniform;, score=1.000 total time=   0.0s\n",
            "[CV 3/5] END n_neighbors=9, p=2, weights=uniform;, score=0.944 total time=   0.0s\n",
            "[CV 4/5] END n_neighbors=9, p=2, weights=uniform;, score=1.000 total time=   0.0s\n",
            "[CV 5/5] END n_neighbors=9, p=2, weights=uniform;, score=1.000 total time=   0.0s\n",
            "[CV 1/5] END n_neighbors=9, p=2, weights=distance;, score=0.944 total time=   0.0s\n",
            "[CV 2/5] END n_neighbors=9, p=2, weights=distance;, score=1.000 total time=   0.0s\n",
            "[CV 3/5] END n_neighbors=9, p=2, weights=distance;, score=1.000 total time=   0.0s\n",
            "[CV 4/5] END n_neighbors=9, p=2, weights=distance;, score=1.000 total time=   0.0s\n",
            "[CV 5/5] END n_neighbors=9, p=2, weights=distance;, score=0.944 total time=   0.0s\n",
            "[CV 1/5] END n_neighbors=10, p=1, weights=uniform;, score=0.944 total time=   0.0s\n",
            "[CV 2/5] END n_neighbors=10, p=1, weights=uniform;, score=1.000 total time=   0.0s\n",
            "[CV 3/5] END n_neighbors=10, p=1, weights=uniform;, score=1.000 total time=   0.0s\n",
            "[CV 4/5] END n_neighbors=10, p=1, weights=uniform;, score=0.889 total time=   0.0s\n",
            "[CV 5/5] END n_neighbors=10, p=1, weights=uniform;, score=1.000 total time=   0.0s\n",
            "[CV 1/5] END n_neighbors=10, p=1, weights=distance;, score=1.000 total time=   0.0s\n",
            "[CV 2/5] END n_neighbors=10, p=1, weights=distance;, score=1.000 total time=   0.0s\n",
            "[CV 3/5] END n_neighbors=10, p=1, weights=distance;, score=1.000 total time=   0.0s\n",
            "[CV 4/5] END n_neighbors=10, p=1, weights=distance;, score=0.944 total time=   0.0s\n",
            "[CV 5/5] END n_neighbors=10, p=1, weights=distance;, score=0.944 total time=   0.0s\n",
            "[CV 1/5] END n_neighbors=10, p=2, weights=uniform;, score=0.833 total time=   0.0s\n",
            "[CV 2/5] END n_neighbors=10, p=2, weights=uniform;, score=1.000 total time=   0.0s\n",
            "[CV 3/5] END n_neighbors=10, p=2, weights=uniform;, score=0.944 total time=   0.0s\n",
            "[CV 4/5] END n_neighbors=10, p=2, weights=uniform;, score=0.944 total time=   0.0s\n",
            "[CV 5/5] END n_neighbors=10, p=2, weights=uniform;, score=1.000 total time=   0.0s\n",
            "[CV 1/5] END n_neighbors=10, p=2, weights=distance;, score=0.944 total time=   0.0s\n",
            "[CV 2/5] END n_neighbors=10, p=2, weights=distance;, score=1.000 total time=   0.0s\n",
            "[CV 3/5] END n_neighbors=10, p=2, weights=distance;, score=1.000 total time=   0.0s\n",
            "[CV 4/5] END n_neighbors=10, p=2, weights=distance;, score=1.000 total time=   0.0s\n",
            "[CV 5/5] END n_neighbors=10, p=2, weights=distance;, score=1.000 total time=   0.0s\n",
            "[CV 1/5] END n_neighbors=11, p=1, weights=uniform;, score=0.944 total time=   0.0s\n",
            "[CV 2/5] END n_neighbors=11, p=1, weights=uniform;, score=1.000 total time=   0.0s\n",
            "[CV 3/5] END n_neighbors=11, p=1, weights=uniform;, score=1.000 total time=   0.0s\n",
            "[CV 4/5] END n_neighbors=11, p=1, weights=uniform;, score=0.889 total time=   0.0s\n",
            "[CV 5/5] END n_neighbors=11, p=1, weights=uniform;, score=1.000 total time=   0.0s\n",
            "[CV 1/5] END n_neighbors=11, p=1, weights=distance;, score=1.000 total time=   0.0s\n",
            "[CV 2/5] END n_neighbors=11, p=1, weights=distance;, score=1.000 total time=   0.0s\n",
            "[CV 3/5] END n_neighbors=11, p=1, weights=distance;, score=1.000 total time=   0.0s\n",
            "[CV 4/5] END n_neighbors=11, p=1, weights=distance;, score=0.944 total time=   0.0s\n",
            "[CV 5/5] END n_neighbors=11, p=1, weights=distance;, score=0.944 total time=   0.0s\n",
            "[CV 1/5] END n_neighbors=11, p=2, weights=uniform;, score=0.889 total time=   0.0s\n",
            "[CV 2/5] END n_neighbors=11, p=2, weights=uniform;, score=1.000 total time=   0.0s\n",
            "[CV 3/5] END n_neighbors=11, p=2, weights=uniform;, score=0.944 total time=   0.0s\n",
            "[CV 4/5] END n_neighbors=11, p=2, weights=uniform;, score=0.944 total time=   0.0s\n",
            "[CV 5/5] END n_neighbors=11, p=2, weights=uniform;, score=1.000 total time=   0.0s\n",
            "[CV 1/5] END n_neighbors=11, p=2, weights=distance;, score=0.944 total time=   0.0s\n",
            "[CV 2/5] END n_neighbors=11, p=2, weights=distance;, score=1.000 total time=   0.0s\n",
            "[CV 3/5] END n_neighbors=11, p=2, weights=distance;, score=1.000 total time=   0.0s\n",
            "[CV 4/5] END n_neighbors=11, p=2, weights=distance;, score=1.000 total time=   0.0s\n",
            "[CV 5/5] END n_neighbors=11, p=2, weights=distance;, score=1.000 total time=   0.0s\n",
            "[CV 1/5] END n_neighbors=12, p=1, weights=uniform;, score=0.889 total time=   0.0s\n",
            "[CV 2/5] END n_neighbors=12, p=1, weights=uniform;, score=1.000 total time=   0.0s\n",
            "[CV 3/5] END n_neighbors=12, p=1, weights=uniform;, score=0.944 total time=   0.0s\n",
            "[CV 4/5] END n_neighbors=12, p=1, weights=uniform;, score=0.889 total time=   0.0s\n",
            "[CV 5/5] END n_neighbors=12, p=1, weights=uniform;, score=0.944 total time=   0.0s\n",
            "[CV 1/5] END n_neighbors=12, p=1, weights=distance;, score=1.000 total time=   0.0s\n",
            "[CV 2/5] END n_neighbors=12, p=1, weights=distance;, score=1.000 total time=   0.0s\n",
            "[CV 3/5] END n_neighbors=12, p=1, weights=distance;, score=1.000 total time=   0.0s\n",
            "[CV 4/5] END n_neighbors=12, p=1, weights=distance;, score=0.944 total time=   0.0s\n",
            "[CV 5/5] END n_neighbors=12, p=1, weights=distance;, score=0.944 total time=   0.0s\n",
            "[CV 1/5] END n_neighbors=12, p=2, weights=uniform;, score=0.944 total time=   0.0s\n",
            "[CV 2/5] END n_neighbors=12, p=2, weights=uniform;, score=1.000 total time=   0.0s\n",
            "[CV 3/5] END n_neighbors=12, p=2, weights=uniform;, score=0.944 total time=   0.0s\n",
            "[CV 4/5] END n_neighbors=12, p=2, weights=uniform;, score=0.944 total time=   0.0s\n",
            "[CV 5/5] END n_neighbors=12, p=2, weights=uniform;, score=0.944 total time=   0.0s\n",
            "[CV 1/5] END n_neighbors=12, p=2, weights=distance;, score=1.000 total time=   0.0s\n",
            "[CV 2/5] END n_neighbors=12, p=2, weights=distance;, score=1.000 total time=   0.0s\n",
            "[CV 3/5] END n_neighbors=12, p=2, weights=distance;, score=1.000 total time=   0.0s\n",
            "[CV 4/5] END n_neighbors=12, p=2, weights=distance;, score=1.000 total time=   0.0s\n",
            "[CV 5/5] END n_neighbors=12, p=2, weights=distance;, score=1.000 total time=   0.0s\n",
            "[CV 1/5] END n_neighbors=13, p=1, weights=uniform;, score=0.944 total time=   0.0s\n",
            "[CV 2/5] END n_neighbors=13, p=1, weights=uniform;, score=1.000 total time=   0.0s\n",
            "[CV 3/5] END n_neighbors=13, p=1, weights=uniform;, score=0.944 total time=   0.0s\n",
            "[CV 4/5] END n_neighbors=13, p=1, weights=uniform;, score=0.889 total time=   0.0s\n",
            "[CV 5/5] END n_neighbors=13, p=1, weights=uniform;, score=0.944 total time=   0.0s\n",
            "[CV 1/5] END n_neighbors=13, p=1, weights=distance;, score=1.000 total time=   0.0s\n",
            "[CV 2/5] END n_neighbors=13, p=1, weights=distance;, score=1.000 total time=   0.0s\n",
            "[CV 3/5] END n_neighbors=13, p=1, weights=distance;, score=1.000 total time=   0.0s\n",
            "[CV 4/5] END n_neighbors=13, p=1, weights=distance;, score=0.944 total time=   0.0s\n",
            "[CV 5/5] END n_neighbors=13, p=1, weights=distance;, score=0.944 total time=   0.0s\n",
            "[CV 1/5] END n_neighbors=13, p=2, weights=uniform;, score=0.944 total time=   0.0s\n",
            "[CV 2/5] END n_neighbors=13, p=2, weights=uniform;, score=0.944 total time=   0.0s\n",
            "[CV 3/5] END n_neighbors=13, p=2, weights=uniform;, score=0.944 total time=   0.0s\n",
            "[CV 4/5] END n_neighbors=13, p=2, weights=uniform;, score=0.889 total time=   0.0s\n",
            "[CV 5/5] END n_neighbors=13, p=2, weights=uniform;, score=0.944 total time=   0.0s\n",
            "[CV 1/5] END n_neighbors=13, p=2, weights=distance;, score=1.000 total time=   0.0s\n",
            "[CV 2/5] END n_neighbors=13, p=2, weights=distance;, score=1.000 total time=   0.0s\n",
            "[CV 3/5] END n_neighbors=13, p=2, weights=distance;, score=1.000 total time=   0.0s\n",
            "[CV 4/5] END n_neighbors=13, p=2, weights=distance;, score=1.000 total time=   0.0s\n",
            "[CV 5/5] END n_neighbors=13, p=2, weights=distance;, score=0.944 total time=   0.0s\n",
            "[CV 1/5] END n_neighbors=14, p=1, weights=uniform;, score=0.944 total time=   0.0s\n",
            "[CV 2/5] END n_neighbors=14, p=1, weights=uniform;, score=1.000 total time=   0.0s\n",
            "[CV 3/5] END n_neighbors=14, p=1, weights=uniform;, score=0.944 total time=   0.0s\n",
            "[CV 4/5] END n_neighbors=14, p=1, weights=uniform;, score=0.889 total time=   0.0s\n",
            "[CV 5/5] END n_neighbors=14, p=1, weights=uniform;, score=0.944 total time=   0.0s\n",
            "[CV 1/5] END n_neighbors=14, p=1, weights=distance;, score=1.000 total time=   0.0s\n",
            "[CV 2/5] END n_neighbors=14, p=1, weights=distance;, score=1.000 total time=   0.0s\n",
            "[CV 3/5] END n_neighbors=14, p=1, weights=distance;, score=1.000 total time=   0.0s\n",
            "[CV 4/5] END n_neighbors=14, p=1, weights=distance;, score=0.944 total time=   0.0s\n",
            "[CV 5/5] END n_neighbors=14, p=1, weights=distance;, score=1.000 total time=   0.0s\n",
            "[CV 1/5] END n_neighbors=14, p=2, weights=uniform;, score=0.889 total time=   0.0s\n",
            "[CV 2/5] END n_neighbors=14, p=2, weights=uniform;, score=0.944 total time=   0.0s\n",
            "[CV 3/5] END n_neighbors=14, p=2, weights=uniform;, score=0.944 total time=   0.0s\n",
            "[CV 4/5] END n_neighbors=14, p=2, weights=uniform;, score=0.889 total time=   0.0s\n",
            "[CV 5/5] END n_neighbors=14, p=2, weights=uniform;, score=0.944 total time=   0.0s\n",
            "[CV 1/5] END n_neighbors=14, p=2, weights=distance;, score=1.000 total time=   0.0s\n",
            "[CV 2/5] END n_neighbors=14, p=2, weights=distance;, score=1.000 total time=   0.0s\n",
            "[CV 3/5] END n_neighbors=14, p=2, weights=distance;, score=1.000 total time=   0.0s\n",
            "[CV 4/5] END n_neighbors=14, p=2, weights=distance;, score=0.944 total time=   0.0s\n",
            "[CV 5/5] END n_neighbors=14, p=2, weights=distance;, score=0.944 total time=   0.0s\n",
            "[CV 1/5] END n_neighbors=15, p=1, weights=uniform;, score=0.944 total time=   0.0s\n",
            "[CV 2/5] END n_neighbors=15, p=1, weights=uniform;, score=0.944 total time=   0.0s\n",
            "[CV 3/5] END n_neighbors=15, p=1, weights=uniform;, score=0.944 total time=   0.0s\n",
            "[CV 4/5] END n_neighbors=15, p=1, weights=uniform;, score=0.889 total time=   0.0s\n",
            "[CV 5/5] END n_neighbors=15, p=1, weights=uniform;, score=0.944 total time=   0.0s\n",
            "[CV 1/5] END n_neighbors=15, p=1, weights=distance;, score=1.000 total time=   0.0s\n",
            "[CV 2/5] END n_neighbors=15, p=1, weights=distance;, score=1.000 total time=   0.0s\n",
            "[CV 3/5] END n_neighbors=15, p=1, weights=distance;, score=1.000 total time=   0.0s\n",
            "[CV 4/5] END n_neighbors=15, p=1, weights=distance;, score=0.889 total time=   0.0s\n",
            "[CV 5/5] END n_neighbors=15, p=1, weights=distance;, score=0.944 total time=   0.0s\n",
            "[CV 1/5] END n_neighbors=15, p=2, weights=uniform;, score=0.889 total time=   0.0s\n",
            "[CV 2/5] END n_neighbors=15, p=2, weights=uniform;, score=0.944 total time=   0.0s\n",
            "[CV 3/5] END n_neighbors=15, p=2, weights=uniform;, score=0.944 total time=   0.0s\n",
            "[CV 4/5] END n_neighbors=15, p=2, weights=uniform;, score=0.889 total time=   0.0s\n",
            "[CV 5/5] END n_neighbors=15, p=2, weights=uniform;, score=0.944 total time=   0.0s\n",
            "[CV 1/5] END n_neighbors=15, p=2, weights=distance;, score=1.000 total time=   0.0s\n",
            "[CV 2/5] END n_neighbors=15, p=2, weights=distance;, score=1.000 total time=   0.0s\n",
            "[CV 3/5] END n_neighbors=15, p=2, weights=distance;, score=1.000 total time=   0.0s\n",
            "[CV 4/5] END n_neighbors=15, p=2, weights=distance;, score=0.944 total time=   0.0s\n",
            "[CV 5/5] END n_neighbors=15, p=2, weights=distance;, score=0.944 total time=   0.0s\n",
            "[CV 1/5] END n_neighbors=16, p=1, weights=uniform;, score=0.944 total time=   0.0s\n",
            "[CV 2/5] END n_neighbors=16, p=1, weights=uniform;, score=0.944 total time=   0.0s\n",
            "[CV 3/5] END n_neighbors=16, p=1, weights=uniform;, score=0.944 total time=   0.0s\n",
            "[CV 4/5] END n_neighbors=16, p=1, weights=uniform;, score=0.889 total time=   0.0s\n",
            "[CV 5/5] END n_neighbors=16, p=1, weights=uniform;, score=0.944 total time=   0.0s\n",
            "[CV 1/5] END n_neighbors=16, p=1, weights=distance;, score=1.000 total time=   0.0s\n",
            "[CV 2/5] END n_neighbors=16, p=1, weights=distance;, score=1.000 total time=   0.0s\n",
            "[CV 3/5] END n_neighbors=16, p=1, weights=distance;, score=1.000 total time=   0.0s\n",
            "[CV 4/5] END n_neighbors=16, p=1, weights=distance;, score=0.944 total time=   0.0s\n",
            "[CV 5/5] END n_neighbors=16, p=1, weights=distance;, score=0.944 total time=   0.0s\n",
            "[CV 1/5] END n_neighbors=16, p=2, weights=uniform;, score=0.889 total time=   0.0s\n",
            "[CV 2/5] END n_neighbors=16, p=2, weights=uniform;, score=0.944 total time=   0.0s\n",
            "[CV 3/5] END n_neighbors=16, p=2, weights=uniform;, score=0.944 total time=   0.0s\n",
            "[CV 4/5] END n_neighbors=16, p=2, weights=uniform;, score=0.889 total time=   0.0s\n",
            "[CV 5/5] END n_neighbors=16, p=2, weights=uniform;, score=0.944 total time=   0.0s\n",
            "[CV 1/5] END n_neighbors=16, p=2, weights=distance;, score=1.000 total time=   0.0s\n",
            "[CV 2/5] END n_neighbors=16, p=2, weights=distance;, score=1.000 total time=   0.0s\n",
            "[CV 3/5] END n_neighbors=16, p=2, weights=distance;, score=1.000 total time=   0.0s\n",
            "[CV 4/5] END n_neighbors=16, p=2, weights=distance;, score=0.944 total time=   0.0s\n",
            "[CV 5/5] END n_neighbors=16, p=2, weights=distance;, score=1.000 total time=   0.0s\n",
            "[CV 1/5] END n_neighbors=17, p=1, weights=uniform;, score=0.944 total time=   0.0s\n",
            "[CV 2/5] END n_neighbors=17, p=1, weights=uniform;, score=0.944 total time=   0.0s\n",
            "[CV 3/5] END n_neighbors=17, p=1, weights=uniform;, score=0.944 total time=   0.0s\n",
            "[CV 4/5] END n_neighbors=17, p=1, weights=uniform;, score=0.889 total time=   0.0s\n",
            "[CV 5/5] END n_neighbors=17, p=1, weights=uniform;, score=0.944 total time=   0.0s\n",
            "[CV 1/5] END n_neighbors=17, p=1, weights=distance;, score=1.000 total time=   0.0s\n",
            "[CV 2/5] END n_neighbors=17, p=1, weights=distance;, score=1.000 total time=   0.0s\n",
            "[CV 3/5] END n_neighbors=17, p=1, weights=distance;, score=1.000 total time=   0.0s\n",
            "[CV 4/5] END n_neighbors=17, p=1, weights=distance;, score=0.944 total time=   0.0s\n",
            "[CV 5/5] END n_neighbors=17, p=1, weights=distance;, score=0.944 total time=   0.0s\n",
            "[CV 1/5] END n_neighbors=17, p=2, weights=uniform;, score=0.889 total time=   0.0s\n",
            "[CV 2/5] END n_neighbors=17, p=2, weights=uniform;, score=0.944 total time=   0.0s\n",
            "[CV 3/5] END n_neighbors=17, p=2, weights=uniform;, score=0.944 total time=   0.0s\n",
            "[CV 4/5] END n_neighbors=17, p=2, weights=uniform;, score=0.889 total time=   0.0s\n",
            "[CV 5/5] END n_neighbors=17, p=2, weights=uniform;, score=0.944 total time=   0.0s\n",
            "[CV 1/5] END n_neighbors=17, p=2, weights=distance;, score=1.000 total time=   0.0s\n",
            "[CV 2/5] END n_neighbors=17, p=2, weights=distance;, score=1.000 total time=   0.0s\n",
            "[CV 3/5] END n_neighbors=17, p=2, weights=distance;, score=0.944 total time=   0.0s\n",
            "[CV 4/5] END n_neighbors=17, p=2, weights=distance;, score=0.944 total time=   0.0s\n",
            "[CV 5/5] END n_neighbors=17, p=2, weights=distance;, score=1.000 total time=   0.0s\n",
            "[CV 1/5] END n_neighbors=18, p=1, weights=uniform;, score=0.889 total time=   0.0s\n",
            "[CV 2/5] END n_neighbors=18, p=1, weights=uniform;, score=0.944 total time=   0.0s\n",
            "[CV 3/5] END n_neighbors=18, p=1, weights=uniform;, score=0.944 total time=   0.0s\n",
            "[CV 4/5] END n_neighbors=18, p=1, weights=uniform;, score=0.889 total time=   0.0s\n",
            "[CV 5/5] END n_neighbors=18, p=1, weights=uniform;, score=0.944 total time=   0.0s\n",
            "[CV 1/5] END n_neighbors=18, p=1, weights=distance;, score=1.000 total time=   0.0s\n",
            "[CV 2/5] END n_neighbors=18, p=1, weights=distance;, score=1.000 total time=   0.0s\n",
            "[CV 3/5] END n_neighbors=18, p=1, weights=distance;, score=0.944 total time=   0.0s\n",
            "[CV 4/5] END n_neighbors=18, p=1, weights=distance;, score=0.944 total time=   0.0s\n",
            "[CV 5/5] END n_neighbors=18, p=1, weights=distance;, score=0.944 total time=   0.0s\n",
            "[CV 1/5] END n_neighbors=18, p=2, weights=uniform;, score=0.889 total time=   0.0s\n",
            "[CV 2/5] END n_neighbors=18, p=2, weights=uniform;, score=0.944 total time=   0.0s\n",
            "[CV 3/5] END n_neighbors=18, p=2, weights=uniform;, score=0.944 total time=   0.0s\n",
            "[CV 4/5] END n_neighbors=18, p=2, weights=uniform;, score=0.889 total time=   0.0s\n",
            "[CV 5/5] END n_neighbors=18, p=2, weights=uniform;, score=0.944 total time=   0.0s\n",
            "[CV 1/5] END n_neighbors=18, p=2, weights=distance;, score=1.000 total time=   0.0s\n",
            "[CV 2/5] END n_neighbors=18, p=2, weights=distance;, score=1.000 total time=   0.0s\n",
            "[CV 3/5] END n_neighbors=18, p=2, weights=distance;, score=0.944 total time=   0.0s\n",
            "[CV 4/5] END n_neighbors=18, p=2, weights=distance;, score=0.944 total time=   0.0s\n",
            "[CV 5/5] END n_neighbors=18, p=2, weights=distance;, score=1.000 total time=   0.0s\n",
            "[CV 1/5] END n_neighbors=19, p=1, weights=uniform;, score=0.944 total time=   0.0s\n",
            "[CV 2/5] END n_neighbors=19, p=1, weights=uniform;, score=0.944 total time=   0.0s\n",
            "[CV 3/5] END n_neighbors=19, p=1, weights=uniform;, score=0.944 total time=   0.0s\n",
            "[CV 4/5] END n_neighbors=19, p=1, weights=uniform;, score=0.889 total time=   0.0s\n",
            "[CV 5/5] END n_neighbors=19, p=1, weights=uniform;, score=0.889 total time=   0.0s\n",
            "[CV 1/5] END n_neighbors=19, p=1, weights=distance;, score=1.000 total time=   0.0s\n",
            "[CV 2/5] END n_neighbors=19, p=1, weights=distance;, score=1.000 total time=   0.0s\n",
            "[CV 3/5] END n_neighbors=19, p=1, weights=distance;, score=0.944 total time=   0.0s\n",
            "[CV 4/5] END n_neighbors=19, p=1, weights=distance;, score=0.889 total time=   0.0s\n",
            "[CV 5/5] END n_neighbors=19, p=1, weights=distance;, score=0.944 total time=   0.0s\n",
            "[CV 1/5] END n_neighbors=19, p=2, weights=uniform;, score=0.889 total time=   0.0s\n",
            "[CV 2/5] END n_neighbors=19, p=2, weights=uniform;, score=0.944 total time=   0.0s\n",
            "[CV 3/5] END n_neighbors=19, p=2, weights=uniform;, score=0.889 total time=   0.0s\n",
            "[CV 4/5] END n_neighbors=19, p=2, weights=uniform;, score=0.889 total time=   0.0s\n",
            "[CV 5/5] END n_neighbors=19, p=2, weights=uniform;, score=0.944 total time=   0.0s\n",
            "[CV 1/5] END n_neighbors=19, p=2, weights=distance;, score=1.000 total time=   0.0s\n",
            "[CV 2/5] END n_neighbors=19, p=2, weights=distance;, score=0.944 total time=   0.0s\n",
            "[CV 3/5] END n_neighbors=19, p=2, weights=distance;, score=0.944 total time=   0.0s\n",
            "[CV 4/5] END n_neighbors=19, p=2, weights=distance;, score=0.944 total time=   0.0s\n",
            "[CV 5/5] END n_neighbors=19, p=2, weights=distance;, score=1.000 total time=   0.0s\n",
            "[CV 1/5] END n_neighbors=20, p=1, weights=uniform;, score=0.889 total time=   0.0s\n",
            "[CV 2/5] END n_neighbors=20, p=1, weights=uniform;, score=0.944 total time=   0.0s\n",
            "[CV 3/5] END n_neighbors=20, p=1, weights=uniform;, score=0.944 total time=   0.0s\n",
            "[CV 4/5] END n_neighbors=20, p=1, weights=uniform;, score=0.889 total time=   0.0s\n",
            "[CV 5/5] END n_neighbors=20, p=1, weights=uniform;, score=0.944 total time=   0.0s\n",
            "[CV 1/5] END n_neighbors=20, p=1, weights=distance;, score=1.000 total time=   0.0s\n",
            "[CV 2/5] END n_neighbors=20, p=1, weights=distance;, score=1.000 total time=   0.0s\n",
            "[CV 3/5] END n_neighbors=20, p=1, weights=distance;, score=0.944 total time=   0.0s\n",
            "[CV 4/5] END n_neighbors=20, p=1, weights=distance;, score=0.944 total time=   0.0s\n",
            "[CV 5/5] END n_neighbors=20, p=1, weights=distance;, score=0.944 total time=   0.0s\n",
            "[CV 1/5] END n_neighbors=20, p=2, weights=uniform;, score=0.889 total time=   0.0s\n",
            "[CV 2/5] END n_neighbors=20, p=2, weights=uniform;, score=0.944 total time=   0.0s\n",
            "[CV 3/5] END n_neighbors=20, p=2, weights=uniform;, score=0.889 total time=   0.0s\n",
            "[CV 4/5] END n_neighbors=20, p=2, weights=uniform;, score=0.889 total time=   0.0s\n",
            "[CV 5/5] END n_neighbors=20, p=2, weights=uniform;, score=0.944 total time=   0.0s\n",
            "[CV 1/5] END n_neighbors=20, p=2, weights=distance;, score=1.000 total time=   0.0s\n",
            "[CV 2/5] END n_neighbors=20, p=2, weights=distance;, score=1.000 total time=   0.0s\n",
            "[CV 3/5] END n_neighbors=20, p=2, weights=distance;, score=0.944 total time=   0.0s\n",
            "[CV 4/5] END n_neighbors=20, p=2, weights=distance;, score=0.944 total time=   0.0s\n",
            "[CV 5/5] END n_neighbors=20, p=2, weights=distance;, score=1.000 total time=   0.0s\n",
            "[CV 1/5] END n_neighbors=21, p=1, weights=uniform;, score=0.889 total time=   0.0s\n",
            "[CV 2/5] END n_neighbors=21, p=1, weights=uniform;, score=0.944 total time=   0.0s\n",
            "[CV 3/5] END n_neighbors=21, p=1, weights=uniform;, score=0.944 total time=   0.0s\n",
            "[CV 4/5] END n_neighbors=21, p=1, weights=uniform;, score=0.889 total time=   0.0s\n",
            "[CV 5/5] END n_neighbors=21, p=1, weights=uniform;, score=0.944 total time=   0.0s\n",
            "[CV 1/5] END n_neighbors=21, p=1, weights=distance;, score=1.000 total time=   0.0s\n",
            "[CV 2/5] END n_neighbors=21, p=1, weights=distance;, score=1.000 total time=   0.0s\n",
            "[CV 3/5] END n_neighbors=21, p=1, weights=distance;, score=0.944 total time=   0.0s\n",
            "[CV 4/5] END n_neighbors=21, p=1, weights=distance;, score=0.889 total time=   0.0s\n",
            "[CV 5/5] END n_neighbors=21, p=1, weights=distance;, score=0.944 total time=   0.0s\n",
            "[CV 1/5] END n_neighbors=21, p=2, weights=uniform;, score=0.889 total time=   0.0s\n",
            "[CV 2/5] END n_neighbors=21, p=2, weights=uniform;, score=0.944 total time=   0.0s\n",
            "[CV 3/5] END n_neighbors=21, p=2, weights=uniform;, score=0.889 total time=   0.0s\n",
            "[CV 4/5] END n_neighbors=21, p=2, weights=uniform;, score=0.889 total time=   0.0s\n",
            "[CV 5/5] END n_neighbors=21, p=2, weights=uniform;, score=0.944 total time=   0.0s\n",
            "[CV 1/5] END n_neighbors=21, p=2, weights=distance;, score=1.000 total time=   0.0s\n",
            "[CV 2/5] END n_neighbors=21, p=2, weights=distance;, score=0.944 total time=   0.0s\n",
            "[CV 3/5] END n_neighbors=21, p=2, weights=distance;, score=0.944 total time=   0.0s\n",
            "[CV 4/5] END n_neighbors=21, p=2, weights=distance;, score=0.889 total time=   0.0s\n",
            "[CV 5/5] END n_neighbors=21, p=2, weights=distance;, score=1.000 total time=   0.0s\n",
            "[CV 1/5] END n_neighbors=22, p=1, weights=uniform;, score=0.889 total time=   0.0s\n",
            "[CV 2/5] END n_neighbors=22, p=1, weights=uniform;, score=1.000 total time=   0.0s\n",
            "[CV 3/5] END n_neighbors=22, p=1, weights=uniform;, score=0.944 total time=   0.0s\n",
            "[CV 4/5] END n_neighbors=22, p=1, weights=uniform;, score=0.889 total time=   0.0s\n",
            "[CV 5/5] END n_neighbors=22, p=1, weights=uniform;, score=0.944 total time=   0.0s\n",
            "[CV 1/5] END n_neighbors=22, p=1, weights=distance;, score=1.000 total time=   0.0s\n",
            "[CV 2/5] END n_neighbors=22, p=1, weights=distance;, score=1.000 total time=   0.0s\n",
            "[CV 3/5] END n_neighbors=22, p=1, weights=distance;, score=0.944 total time=   0.0s\n",
            "[CV 4/5] END n_neighbors=22, p=1, weights=distance;, score=0.889 total time=   0.0s\n",
            "[CV 5/5] END n_neighbors=22, p=1, weights=distance;, score=0.944 total time=   0.0s\n",
            "[CV 1/5] END n_neighbors=22, p=2, weights=uniform;, score=0.889 total time=   0.0s\n",
            "[CV 2/5] END n_neighbors=22, p=2, weights=uniform;, score=0.944 total time=   0.0s\n",
            "[CV 3/5] END n_neighbors=22, p=2, weights=uniform;, score=0.889 total time=   0.0s\n",
            "[CV 4/5] END n_neighbors=22, p=2, weights=uniform;, score=0.889 total time=   0.0s\n",
            "[CV 5/5] END n_neighbors=22, p=2, weights=uniform;, score=0.944 total time=   0.0s\n",
            "[CV 1/5] END n_neighbors=22, p=2, weights=distance;, score=1.000 total time=   0.0s\n",
            "[CV 2/5] END n_neighbors=22, p=2, weights=distance;, score=1.000 total time=   0.0s\n",
            "[CV 3/5] END n_neighbors=22, p=2, weights=distance;, score=0.944 total time=   0.0s\n",
            "[CV 4/5] END n_neighbors=22, p=2, weights=distance;, score=0.944 total time=   0.0s\n",
            "[CV 5/5] END n_neighbors=22, p=2, weights=distance;, score=1.000 total time=   0.0s\n",
            "[CV 1/5] END n_neighbors=23, p=1, weights=uniform;, score=0.944 total time=   0.0s\n",
            "[CV 2/5] END n_neighbors=23, p=1, weights=uniform;, score=0.944 total time=   0.0s\n",
            "[CV 3/5] END n_neighbors=23, p=1, weights=uniform;, score=0.944 total time=   0.0s\n",
            "[CV 4/5] END n_neighbors=23, p=1, weights=uniform;, score=0.889 total time=   0.0s\n",
            "[CV 5/5] END n_neighbors=23, p=1, weights=uniform;, score=0.889 total time=   0.0s\n",
            "[CV 1/5] END n_neighbors=23, p=1, weights=distance;, score=1.000 total time=   0.0s\n",
            "[CV 2/5] END n_neighbors=23, p=1, weights=distance;, score=1.000 total time=   0.0s\n",
            "[CV 3/5] END n_neighbors=23, p=1, weights=distance;, score=0.944 total time=   0.0s\n",
            "[CV 4/5] END n_neighbors=23, p=1, weights=distance;, score=0.889 total time=   0.0s\n",
            "[CV 5/5] END n_neighbors=23, p=1, weights=distance;, score=0.944 total time=   0.0s\n",
            "[CV 1/5] END n_neighbors=23, p=2, weights=uniform;, score=0.833 total time=   0.0s\n",
            "[CV 2/5] END n_neighbors=23, p=2, weights=uniform;, score=0.944 total time=   0.0s\n",
            "[CV 3/5] END n_neighbors=23, p=2, weights=uniform;, score=0.889 total time=   0.0s\n",
            "[CV 4/5] END n_neighbors=23, p=2, weights=uniform;, score=0.889 total time=   0.0s\n",
            "[CV 5/5] END n_neighbors=23, p=2, weights=uniform;, score=0.944 total time=   0.0s\n",
            "[CV 1/5] END n_neighbors=23, p=2, weights=distance;, score=1.000 total time=   0.0s\n",
            "[CV 2/5] END n_neighbors=23, p=2, weights=distance;, score=0.944 total time=   0.0s\n",
            "[CV 3/5] END n_neighbors=23, p=2, weights=distance;, score=0.944 total time=   0.0s\n",
            "[CV 4/5] END n_neighbors=23, p=2, weights=distance;, score=0.889 total time=   0.0s\n",
            "[CV 5/5] END n_neighbors=23, p=2, weights=distance;, score=0.944 total time=   0.0s\n",
            "[CV 1/5] END n_neighbors=24, p=1, weights=uniform;, score=0.889 total time=   0.0s\n",
            "[CV 2/5] END n_neighbors=24, p=1, weights=uniform;, score=0.944 total time=   0.0s\n",
            "[CV 3/5] END n_neighbors=24, p=1, weights=uniform;, score=0.944 total time=   0.0s\n",
            "[CV 4/5] END n_neighbors=24, p=1, weights=uniform;, score=0.889 total time=   0.0s\n",
            "[CV 5/5] END n_neighbors=24, p=1, weights=uniform;, score=0.889 total time=   0.0s\n",
            "[CV 1/5] END n_neighbors=24, p=1, weights=distance;, score=1.000 total time=   0.0s\n",
            "[CV 2/5] END n_neighbors=24, p=1, weights=distance;, score=1.000 total time=   0.0s\n",
            "[CV 3/5] END n_neighbors=24, p=1, weights=distance;, score=0.944 total time=   0.0s\n",
            "[CV 4/5] END n_neighbors=24, p=1, weights=distance;, score=0.944 total time=   0.0s\n",
            "[CV 5/5] END n_neighbors=24, p=1, weights=distance;, score=0.944 total time=   0.0s\n",
            "[CV 1/5] END n_neighbors=24, p=2, weights=uniform;, score=0.833 total time=   0.0s\n",
            "[CV 2/5] END n_neighbors=24, p=2, weights=uniform;, score=0.944 total time=   0.0s\n",
            "[CV 3/5] END n_neighbors=24, p=2, weights=uniform;, score=0.889 total time=   0.0s\n",
            "[CV 4/5] END n_neighbors=24, p=2, weights=uniform;, score=0.889 total time=   0.0s\n",
            "[CV 5/5] END n_neighbors=24, p=2, weights=uniform;, score=0.944 total time=   0.0s\n",
            "[CV 1/5] END n_neighbors=24, p=2, weights=distance;, score=0.944 total time=   0.0s\n",
            "[CV 2/5] END n_neighbors=24, p=2, weights=distance;, score=0.944 total time=   0.0s\n",
            "[CV 3/5] END n_neighbors=24, p=2, weights=distance;, score=0.944 total time=   0.0s\n",
            "[CV 4/5] END n_neighbors=24, p=2, weights=distance;, score=0.889 total time=   0.0s\n",
            "[CV 5/5] END n_neighbors=24, p=2, weights=distance;, score=0.944 total time=   0.0s\n",
            "[CV 1/5] END n_neighbors=25, p=1, weights=uniform;, score=0.944 total time=   0.0s\n",
            "[CV 2/5] END n_neighbors=25, p=1, weights=uniform;, score=0.944 total time=   0.0s\n",
            "[CV 3/5] END n_neighbors=25, p=1, weights=uniform;, score=0.889 total time=   0.0s\n",
            "[CV 4/5] END n_neighbors=25, p=1, weights=uniform;, score=0.889 total time=   0.0s\n",
            "[CV 5/5] END n_neighbors=25, p=1, weights=uniform;, score=0.889 total time=   0.0s\n",
            "[CV 1/5] END n_neighbors=25, p=1, weights=distance;, score=1.000 total time=   0.0s\n",
            "[CV 2/5] END n_neighbors=25, p=1, weights=distance;, score=1.000 total time=   0.0s\n",
            "[CV 3/5] END n_neighbors=25, p=1, weights=distance;, score=0.944 total time=   0.0s\n",
            "[CV 4/5] END n_neighbors=25, p=1, weights=distance;, score=0.944 total time=   0.0s\n",
            "[CV 5/5] END n_neighbors=25, p=1, weights=distance;, score=0.944 total time=   0.0s\n",
            "[CV 1/5] END n_neighbors=25, p=2, weights=uniform;, score=0.889 total time=   0.0s\n",
            "[CV 2/5] END n_neighbors=25, p=2, weights=uniform;, score=0.944 total time=   0.0s\n",
            "[CV 3/5] END n_neighbors=25, p=2, weights=uniform;, score=0.889 total time=   0.0s\n",
            "[CV 4/5] END n_neighbors=25, p=2, weights=uniform;, score=0.889 total time=   0.0s\n",
            "[CV 5/5] END n_neighbors=25, p=2, weights=uniform;, score=0.889 total time=   0.0s\n",
            "[CV 1/5] END n_neighbors=25, p=2, weights=distance;, score=0.944 total time=   0.0s\n",
            "[CV 2/5] END n_neighbors=25, p=2, weights=distance;, score=0.944 total time=   0.0s\n",
            "[CV 3/5] END n_neighbors=25, p=2, weights=distance;, score=0.944 total time=   0.0s\n",
            "[CV 4/5] END n_neighbors=25, p=2, weights=distance;, score=0.889 total time=   0.0s\n",
            "[CV 5/5] END n_neighbors=25, p=2, weights=distance;, score=0.944 total time=   0.0s\n",
            "[CV 1/5] END n_neighbors=26, p=1, weights=uniform;, score=0.944 total time=   0.0s\n",
            "[CV 2/5] END n_neighbors=26, p=1, weights=uniform;, score=0.944 total time=   0.0s\n",
            "[CV 3/5] END n_neighbors=26, p=1, weights=uniform;, score=0.944 total time=   0.0s\n",
            "[CV 4/5] END n_neighbors=26, p=1, weights=uniform;, score=0.889 total time=   0.0s\n",
            "[CV 5/5] END n_neighbors=26, p=1, weights=uniform;, score=0.889 total time=   0.0s\n",
            "[CV 1/5] END n_neighbors=26, p=1, weights=distance;, score=1.000 total time=   0.0s\n",
            "[CV 2/5] END n_neighbors=26, p=1, weights=distance;, score=1.000 total time=   0.0s\n",
            "[CV 3/5] END n_neighbors=26, p=1, weights=distance;, score=0.944 total time=   0.0s\n",
            "[CV 4/5] END n_neighbors=26, p=1, weights=distance;, score=0.944 total time=   0.0s\n",
            "[CV 5/5] END n_neighbors=26, p=1, weights=distance;, score=0.944 total time=   0.0s\n",
            "[CV 1/5] END n_neighbors=26, p=2, weights=uniform;, score=0.889 total time=   0.0s\n",
            "[CV 2/5] END n_neighbors=26, p=2, weights=uniform;, score=0.944 total time=   0.0s\n",
            "[CV 3/5] END n_neighbors=26, p=2, weights=uniform;, score=0.889 total time=   0.0s\n",
            "[CV 4/5] END n_neighbors=26, p=2, weights=uniform;, score=0.889 total time=   0.0s\n",
            "[CV 5/5] END n_neighbors=26, p=2, weights=uniform;, score=0.944 total time=   0.0s\n",
            "[CV 1/5] END n_neighbors=26, p=2, weights=distance;, score=0.944 total time=   0.0s\n",
            "[CV 2/5] END n_neighbors=26, p=2, weights=distance;, score=1.000 total time=   0.0s\n",
            "[CV 3/5] END n_neighbors=26, p=2, weights=distance;, score=0.944 total time=   0.0s\n",
            "[CV 4/5] END n_neighbors=26, p=2, weights=distance;, score=0.889 total time=   0.0s\n",
            "[CV 5/5] END n_neighbors=26, p=2, weights=distance;, score=0.944 total time=   0.0s\n",
            "[CV 1/5] END n_neighbors=27, p=1, weights=uniform;, score=0.944 total time=   0.0s\n",
            "[CV 2/5] END n_neighbors=27, p=1, weights=uniform;, score=0.944 total time=   0.0s\n",
            "[CV 3/5] END n_neighbors=27, p=1, weights=uniform;, score=0.944 total time=   0.0s\n",
            "[CV 4/5] END n_neighbors=27, p=1, weights=uniform;, score=0.889 total time=   0.0s\n",
            "[CV 5/5] END n_neighbors=27, p=1, weights=uniform;, score=0.889 total time=   0.0s\n",
            "[CV 1/5] END n_neighbors=27, p=1, weights=distance;, score=1.000 total time=   0.0s\n",
            "[CV 2/5] END n_neighbors=27, p=1, weights=distance;, score=1.000 total time=   0.0s\n",
            "[CV 3/5] END n_neighbors=27, p=1, weights=distance;, score=0.944 total time=   0.0s\n",
            "[CV 4/5] END n_neighbors=27, p=1, weights=distance;, score=0.889 total time=   0.0s\n",
            "[CV 5/5] END n_neighbors=27, p=1, weights=distance;, score=0.944 total time=   0.0s\n",
            "[CV 1/5] END n_neighbors=27, p=2, weights=uniform;, score=0.889 total time=   0.0s\n",
            "[CV 2/5] END n_neighbors=27, p=2, weights=uniform;, score=0.944 total time=   0.0s\n",
            "[CV 3/5] END n_neighbors=27, p=2, weights=uniform;, score=0.889 total time=   0.0s\n",
            "[CV 4/5] END n_neighbors=27, p=2, weights=uniform;, score=0.889 total time=   0.0s\n",
            "[CV 5/5] END n_neighbors=27, p=2, weights=uniform;, score=0.944 total time=   0.0s\n",
            "[CV 1/5] END n_neighbors=27, p=2, weights=distance;, score=0.944 total time=   0.0s\n",
            "[CV 2/5] END n_neighbors=27, p=2, weights=distance;, score=1.000 total time=   0.0s\n",
            "[CV 3/5] END n_neighbors=27, p=2, weights=distance;, score=0.944 total time=   0.0s\n",
            "[CV 4/5] END n_neighbors=27, p=2, weights=distance;, score=0.889 total time=   0.0s\n",
            "[CV 5/5] END n_neighbors=27, p=2, weights=distance;, score=0.944 total time=   0.0s\n",
            "[CV 1/5] END n_neighbors=28, p=1, weights=uniform;, score=0.944 total time=   0.0s\n",
            "[CV 2/5] END n_neighbors=28, p=1, weights=uniform;, score=0.944 total time=   0.0s\n",
            "[CV 3/5] END n_neighbors=28, p=1, weights=uniform;, score=0.944 total time=   0.0s\n",
            "[CV 4/5] END n_neighbors=28, p=1, weights=uniform;, score=0.889 total time=   0.0s\n",
            "[CV 5/5] END n_neighbors=28, p=1, weights=uniform;, score=0.889 total time=   0.0s\n",
            "[CV 1/5] END n_neighbors=28, p=1, weights=distance;, score=1.000 total time=   0.0s\n",
            "[CV 2/5] END n_neighbors=28, p=1, weights=distance;, score=1.000 total time=   0.0s\n",
            "[CV 3/5] END n_neighbors=28, p=1, weights=distance;, score=0.944 total time=   0.0s\n",
            "[CV 4/5] END n_neighbors=28, p=1, weights=distance;, score=0.944 total time=   0.0s\n",
            "[CV 5/5] END n_neighbors=28, p=1, weights=distance;, score=0.944 total time=   0.0s\n",
            "[CV 1/5] END n_neighbors=28, p=2, weights=uniform;, score=0.778 total time=   0.0s\n",
            "[CV 2/5] END n_neighbors=28, p=2, weights=uniform;, score=0.944 total time=   0.0s\n",
            "[CV 3/5] END n_neighbors=28, p=2, weights=uniform;, score=0.944 total time=   0.0s\n",
            "[CV 4/5] END n_neighbors=28, p=2, weights=uniform;, score=0.889 total time=   0.0s\n",
            "[CV 5/5] END n_neighbors=28, p=2, weights=uniform;, score=0.944 total time=   0.0s\n",
            "[CV 1/5] END n_neighbors=28, p=2, weights=distance;, score=0.944 total time=   0.0s\n",
            "[CV 2/5] END n_neighbors=28, p=2, weights=distance;, score=1.000 total time=   0.0s\n",
            "[CV 3/5] END n_neighbors=28, p=2, weights=distance;, score=0.944 total time=   0.0s\n",
            "[CV 4/5] END n_neighbors=28, p=2, weights=distance;, score=0.944 total time=   0.0s\n",
            "[CV 5/5] END n_neighbors=28, p=2, weights=distance;, score=0.944 total time=   0.0s\n",
            "[CV 1/5] END n_neighbors=29, p=1, weights=uniform;, score=0.889 total time=   0.0s\n",
            "[CV 2/5] END n_neighbors=29, p=1, weights=uniform;, score=0.944 total time=   0.0s\n",
            "[CV 3/5] END n_neighbors=29, p=1, weights=uniform;, score=0.944 total time=   0.0s\n",
            "[CV 4/5] END n_neighbors=29, p=1, weights=uniform;, score=0.889 total time=   0.0s\n",
            "[CV 5/5] END n_neighbors=29, p=1, weights=uniform;, score=0.889 total time=   0.0s\n",
            "[CV 1/5] END n_neighbors=29, p=1, weights=distance;, score=1.000 total time=   0.0s\n",
            "[CV 2/5] END n_neighbors=29, p=1, weights=distance;, score=0.944 total time=   0.0s\n",
            "[CV 3/5] END n_neighbors=29, p=1, weights=distance;, score=0.944 total time=   0.0s\n",
            "[CV 4/5] END n_neighbors=29, p=1, weights=distance;, score=0.944 total time=   0.0s\n",
            "[CV 5/5] END n_neighbors=29, p=1, weights=distance;, score=0.944 total time=   0.0s\n",
            "[CV 1/5] END n_neighbors=29, p=2, weights=uniform;, score=0.889 total time=   0.0s\n",
            "[CV 2/5] END n_neighbors=29, p=2, weights=uniform;, score=0.944 total time=   0.0s\n",
            "[CV 3/5] END n_neighbors=29, p=2, weights=uniform;, score=0.889 total time=   0.0s\n",
            "[CV 4/5] END n_neighbors=29, p=2, weights=uniform;, score=0.889 total time=   0.0s\n",
            "[CV 5/5] END n_neighbors=29, p=2, weights=uniform;, score=0.889 total time=   0.0s\n",
            "[CV 1/5] END n_neighbors=29, p=2, weights=distance;, score=0.944 total time=   0.0s\n",
            "[CV 2/5] END n_neighbors=29, p=2, weights=distance;, score=0.944 total time=   0.0s\n",
            "[CV 3/5] END n_neighbors=29, p=2, weights=distance;, score=0.944 total time=   0.0s\n",
            "[CV 4/5] END n_neighbors=29, p=2, weights=distance;, score=0.944 total time=   0.0s\n",
            "[CV 5/5] END n_neighbors=29, p=2, weights=distance;, score=0.944 total time=   0.0s\n",
            "[CV 1/5] END n_neighbors=30, p=1, weights=uniform;, score=0.889 total time=   0.0s\n",
            "[CV 2/5] END n_neighbors=30, p=1, weights=uniform;, score=0.944 total time=   0.0s\n",
            "[CV 3/5] END n_neighbors=30, p=1, weights=uniform;, score=0.944 total time=   0.0s\n",
            "[CV 4/5] END n_neighbors=30, p=1, weights=uniform;, score=0.889 total time=   0.0s\n",
            "[CV 5/5] END n_neighbors=30, p=1, weights=uniform;, score=0.944 total time=   0.0s\n",
            "[CV 1/5] END n_neighbors=30, p=1, weights=distance;, score=1.000 total time=   0.0s\n",
            "[CV 2/5] END n_neighbors=30, p=1, weights=distance;, score=1.000 total time=   0.0s\n",
            "[CV 3/5] END n_neighbors=30, p=1, weights=distance;, score=0.944 total time=   0.0s\n",
            "[CV 4/5] END n_neighbors=30, p=1, weights=distance;, score=0.944 total time=   0.0s\n",
            "[CV 5/5] END n_neighbors=30, p=1, weights=distance;, score=0.944 total time=   0.0s\n",
            "[CV 1/5] END n_neighbors=30, p=2, weights=uniform;, score=0.889 total time=   0.0s\n",
            "[CV 2/5] END n_neighbors=30, p=2, weights=uniform;, score=0.944 total time=   0.0s\n",
            "[CV 3/5] END n_neighbors=30, p=2, weights=uniform;, score=0.889 total time=   0.0s\n",
            "[CV 4/5] END n_neighbors=30, p=2, weights=uniform;, score=0.889 total time=   0.0s\n",
            "[CV 5/5] END n_neighbors=30, p=2, weights=uniform;, score=0.889 total time=   0.0s\n",
            "[CV 1/5] END n_neighbors=30, p=2, weights=distance;, score=0.944 total time=   0.0s\n",
            "[CV 2/5] END n_neighbors=30, p=2, weights=distance;, score=0.944 total time=   0.0s\n",
            "[CV 3/5] END n_neighbors=30, p=2, weights=distance;, score=0.944 total time=   0.0s\n",
            "[CV 4/5] END n_neighbors=30, p=2, weights=distance;, score=0.944 total time=   0.0s\n",
            "[CV 5/5] END n_neighbors=30, p=2, weights=distance;, score=0.944 total time=   0.0s\n",
            "[CV 1/5] END n_neighbors=31, p=1, weights=uniform;, score=0.889 total time=   0.0s\n",
            "[CV 2/5] END n_neighbors=31, p=1, weights=uniform;, score=0.944 total time=   0.0s\n",
            "[CV 3/5] END n_neighbors=31, p=1, weights=uniform;, score=0.944 total time=   0.0s\n",
            "[CV 4/5] END n_neighbors=31, p=1, weights=uniform;, score=0.944 total time=   0.0s\n",
            "[CV 5/5] END n_neighbors=31, p=1, weights=uniform;, score=0.889 total time=   0.0s\n",
            "[CV 1/5] END n_neighbors=31, p=1, weights=distance;, score=1.000 total time=   0.0s\n",
            "[CV 2/5] END n_neighbors=31, p=1, weights=distance;, score=1.000 total time=   0.0s\n",
            "[CV 3/5] END n_neighbors=31, p=1, weights=distance;, score=0.944 total time=   0.0s\n",
            "[CV 4/5] END n_neighbors=31, p=1, weights=distance;, score=0.944 total time=   0.0s\n",
            "[CV 5/5] END n_neighbors=31, p=1, weights=distance;, score=0.944 total time=   0.0s\n",
            "[CV 1/5] END n_neighbors=31, p=2, weights=uniform;, score=0.833 total time=   0.0s\n",
            "[CV 2/5] END n_neighbors=31, p=2, weights=uniform;, score=0.944 total time=   0.0s\n",
            "[CV 3/5] END n_neighbors=31, p=2, weights=uniform;, score=0.833 total time=   0.0s\n",
            "[CV 4/5] END n_neighbors=31, p=2, weights=uniform;, score=0.889 total time=   0.0s\n",
            "[CV 5/5] END n_neighbors=31, p=2, weights=uniform;, score=0.889 total time=   0.0s\n",
            "[CV 1/5] END n_neighbors=31, p=2, weights=distance;, score=0.944 total time=   0.0s\n",
            "[CV 2/5] END n_neighbors=31, p=2, weights=distance;, score=0.944 total time=   0.0s\n",
            "[CV 3/5] END n_neighbors=31, p=2, weights=distance;, score=0.944 total time=   0.0s\n",
            "[CV 4/5] END n_neighbors=31, p=2, weights=distance;, score=0.944 total time=   0.0s\n",
            "[CV 5/5] END n_neighbors=31, p=2, weights=distance;, score=0.944 total time=   0.0s\n",
            "[CV 1/5] END n_neighbors=32, p=1, weights=uniform;, score=0.889 total time=   0.0s\n",
            "[CV 2/5] END n_neighbors=32, p=1, weights=uniform;, score=0.944 total time=   0.0s\n",
            "[CV 3/5] END n_neighbors=32, p=1, weights=uniform;, score=0.944 total time=   0.0s\n",
            "[CV 4/5] END n_neighbors=32, p=1, weights=uniform;, score=0.889 total time=   0.0s\n",
            "[CV 5/5] END n_neighbors=32, p=1, weights=uniform;, score=0.889 total time=   0.0s\n",
            "[CV 1/5] END n_neighbors=32, p=1, weights=distance;, score=1.000 total time=   0.0s\n",
            "[CV 2/5] END n_neighbors=32, p=1, weights=distance;, score=1.000 total time=   0.0s\n",
            "[CV 3/5] END n_neighbors=32, p=1, weights=distance;, score=0.944 total time=   0.0s\n",
            "[CV 4/5] END n_neighbors=32, p=1, weights=distance;, score=0.944 total time=   0.0s\n",
            "[CV 5/5] END n_neighbors=32, p=1, weights=distance;, score=0.944 total time=   0.0s\n",
            "[CV 1/5] END n_neighbors=32, p=2, weights=uniform;, score=0.833 total time=   0.0s\n",
            "[CV 2/5] END n_neighbors=32, p=2, weights=uniform;, score=0.944 total time=   0.0s\n",
            "[CV 3/5] END n_neighbors=32, p=2, weights=uniform;, score=0.833 total time=   0.0s\n",
            "[CV 4/5] END n_neighbors=32, p=2, weights=uniform;, score=0.889 total time=   0.0s\n",
            "[CV 5/5] END n_neighbors=32, p=2, weights=uniform;, score=0.889 total time=   0.0s\n",
            "[CV 1/5] END n_neighbors=32, p=2, weights=distance;, score=0.944 total time=   0.0s\n",
            "[CV 2/5] END n_neighbors=32, p=2, weights=distance;, score=1.000 total time=   0.0s\n",
            "[CV 3/5] END n_neighbors=32, p=2, weights=distance;, score=0.944 total time=   0.0s\n",
            "[CV 4/5] END n_neighbors=32, p=2, weights=distance;, score=0.944 total time=   0.0s\n",
            "[CV 5/5] END n_neighbors=32, p=2, weights=distance;, score=0.944 total time=   0.0s\n",
            "[CV 1/5] END n_neighbors=33, p=1, weights=uniform;, score=0.889 total time=   0.0s\n",
            "[CV 2/5] END n_neighbors=33, p=1, weights=uniform;, score=0.944 total time=   0.0s\n",
            "[CV 3/5] END n_neighbors=33, p=1, weights=uniform;, score=0.944 total time=   0.0s\n",
            "[CV 4/5] END n_neighbors=33, p=1, weights=uniform;, score=0.944 total time=   0.0s\n",
            "[CV 5/5] END n_neighbors=33, p=1, weights=uniform;, score=0.889 total time=   0.0s\n",
            "[CV 1/5] END n_neighbors=33, p=1, weights=distance;, score=1.000 total time=   0.0s\n",
            "[CV 2/5] END n_neighbors=33, p=1, weights=distance;, score=1.000 total time=   0.0s\n",
            "[CV 3/5] END n_neighbors=33, p=1, weights=distance;, score=0.944 total time=   0.0s\n",
            "[CV 4/5] END n_neighbors=33, p=1, weights=distance;, score=0.944 total time=   0.0s\n",
            "[CV 5/5] END n_neighbors=33, p=1, weights=distance;, score=0.944 total time=   0.0s\n",
            "[CV 1/5] END n_neighbors=33, p=2, weights=uniform;, score=0.833 total time=   0.0s\n",
            "[CV 2/5] END n_neighbors=33, p=2, weights=uniform;, score=0.944 total time=   0.0s\n",
            "[CV 3/5] END n_neighbors=33, p=2, weights=uniform;, score=0.833 total time=   0.0s\n",
            "[CV 4/5] END n_neighbors=33, p=2, weights=uniform;, score=0.944 total time=   0.0s\n",
            "[CV 5/5] END n_neighbors=33, p=2, weights=uniform;, score=0.889 total time=   0.0s\n",
            "[CV 1/5] END n_neighbors=33, p=2, weights=distance;, score=0.944 total time=   0.0s\n",
            "[CV 2/5] END n_neighbors=33, p=2, weights=distance;, score=1.000 total time=   0.0s\n",
            "[CV 3/5] END n_neighbors=33, p=2, weights=distance;, score=0.944 total time=   0.0s\n",
            "[CV 4/5] END n_neighbors=33, p=2, weights=distance;, score=0.944 total time=   0.0s\n",
            "[CV 5/5] END n_neighbors=33, p=2, weights=distance;, score=0.944 total time=   0.0s\n",
            "[CV 1/5] END n_neighbors=34, p=1, weights=uniform;, score=0.944 total time=   0.0s\n",
            "[CV 2/5] END n_neighbors=34, p=1, weights=uniform;, score=0.944 total time=   0.0s\n",
            "[CV 3/5] END n_neighbors=34, p=1, weights=uniform;, score=0.944 total time=   0.0s\n",
            "[CV 4/5] END n_neighbors=34, p=1, weights=uniform;, score=0.944 total time=   0.0s\n",
            "[CV 5/5] END n_neighbors=34, p=1, weights=uniform;, score=0.944 total time=   0.0s\n",
            "[CV 1/5] END n_neighbors=34, p=1, weights=distance;, score=1.000 total time=   0.0s\n",
            "[CV 2/5] END n_neighbors=34, p=1, weights=distance;, score=1.000 total time=   0.0s\n",
            "[CV 3/5] END n_neighbors=34, p=1, weights=distance;, score=0.944 total time=   0.0s\n",
            "[CV 4/5] END n_neighbors=34, p=1, weights=distance;, score=0.944 total time=   0.0s\n",
            "[CV 5/5] END n_neighbors=34, p=1, weights=distance;, score=0.944 total time=   0.0s\n",
            "[CV 1/5] END n_neighbors=34, p=2, weights=uniform;, score=0.833 total time=   0.0s\n",
            "[CV 2/5] END n_neighbors=34, p=2, weights=uniform;, score=0.944 total time=   0.0s\n",
            "[CV 3/5] END n_neighbors=34, p=2, weights=uniform;, score=0.889 total time=   0.0s\n",
            "[CV 4/5] END n_neighbors=34, p=2, weights=uniform;, score=0.944 total time=   0.0s\n",
            "[CV 5/5] END n_neighbors=34, p=2, weights=uniform;, score=0.944 total time=   0.0s\n",
            "[CV 1/5] END n_neighbors=34, p=2, weights=distance;, score=0.944 total time=   0.0s\n",
            "[CV 2/5] END n_neighbors=34, p=2, weights=distance;, score=1.000 total time=   0.0s\n",
            "[CV 3/5] END n_neighbors=34, p=2, weights=distance;, score=0.944 total time=   0.0s\n",
            "[CV 4/5] END n_neighbors=34, p=2, weights=distance;, score=0.944 total time=   0.0s\n",
            "[CV 5/5] END n_neighbors=34, p=2, weights=distance;, score=0.944 total time=   0.0s\n",
            "[CV 1/5] END n_neighbors=35, p=1, weights=uniform;, score=0.889 total time=   0.0s\n",
            "[CV 2/5] END n_neighbors=35, p=1, weights=uniform;, score=0.944 total time=   0.0s\n",
            "[CV 3/5] END n_neighbors=35, p=1, weights=uniform;, score=0.889 total time=   0.0s\n",
            "[CV 4/5] END n_neighbors=35, p=1, weights=uniform;, score=0.944 total time=   0.0s\n",
            "[CV 5/5] END n_neighbors=35, p=1, weights=uniform;, score=0.944 total time=   0.0s\n",
            "[CV 1/5] END n_neighbors=35, p=1, weights=distance;, score=1.000 total time=   0.0s\n",
            "[CV 2/5] END n_neighbors=35, p=1, weights=distance;, score=1.000 total time=   0.0s\n",
            "[CV 3/5] END n_neighbors=35, p=1, weights=distance;, score=0.944 total time=   0.0s\n",
            "[CV 4/5] END n_neighbors=35, p=1, weights=distance;, score=0.944 total time=   0.0s\n",
            "[CV 5/5] END n_neighbors=35, p=1, weights=distance;, score=0.944 total time=   0.0s\n",
            "[CV 1/5] END n_neighbors=35, p=2, weights=uniform;, score=0.833 total time=   0.0s\n",
            "[CV 2/5] END n_neighbors=35, p=2, weights=uniform;, score=0.944 total time=   0.0s\n",
            "[CV 3/5] END n_neighbors=35, p=2, weights=uniform;, score=0.833 total time=   0.0s\n",
            "[CV 4/5] END n_neighbors=35, p=2, weights=uniform;, score=0.944 total time=   0.0s\n",
            "[CV 5/5] END n_neighbors=35, p=2, weights=uniform;, score=0.889 total time=   0.0s\n",
            "[CV 1/5] END n_neighbors=35, p=2, weights=distance;, score=0.944 total time=   0.0s\n",
            "[CV 2/5] END n_neighbors=35, p=2, weights=distance;, score=1.000 total time=   0.2s\n",
            "[CV 3/5] END n_neighbors=35, p=2, weights=distance;, score=0.944 total time=   0.0s\n",
            "[CV 4/5] END n_neighbors=35, p=2, weights=distance;, score=0.944 total time=   0.0s\n",
            "[CV 5/5] END n_neighbors=35, p=2, weights=distance;, score=0.944 total time=   0.0s\n",
            "[CV 1/5] END n_neighbors=36, p=1, weights=uniform;, score=0.889 total time=   0.0s\n",
            "[CV 2/5] END n_neighbors=36, p=1, weights=uniform;, score=0.944 total time=   0.0s\n",
            "[CV 3/5] END n_neighbors=36, p=1, weights=uniform;, score=0.944 total time=   0.0s\n",
            "[CV 4/5] END n_neighbors=36, p=1, weights=uniform;, score=0.944 total time=   0.0s\n",
            "[CV 5/5] END n_neighbors=36, p=1, weights=uniform;, score=0.944 total time=   0.0s\n",
            "[CV 1/5] END n_neighbors=36, p=1, weights=distance;, score=1.000 total time=   0.0s\n",
            "[CV 2/5] END n_neighbors=36, p=1, weights=distance;, score=1.000 total time=   0.0s\n",
            "[CV 3/5] END n_neighbors=36, p=1, weights=distance;, score=0.944 total time=   0.0s\n",
            "[CV 4/5] END n_neighbors=36, p=1, weights=distance;, score=0.944 total time=   0.0s\n",
            "[CV 5/5] END n_neighbors=36, p=1, weights=distance;, score=0.944 total time=   0.0s\n",
            "[CV 1/5] END n_neighbors=36, p=2, weights=uniform;, score=0.889 total time=   0.0s\n",
            "[CV 2/5] END n_neighbors=36, p=2, weights=uniform;, score=0.944 total time=   0.0s\n",
            "[CV 3/5] END n_neighbors=36, p=2, weights=uniform;, score=0.889 total time=   0.0s\n",
            "[CV 4/5] END n_neighbors=36, p=2, weights=uniform;, score=0.944 total time=   0.0s\n",
            "[CV 5/5] END n_neighbors=36, p=2, weights=uniform;, score=0.889 total time=   0.0s\n",
            "[CV 1/5] END n_neighbors=36, p=2, weights=distance;, score=0.944 total time=   0.0s\n",
            "[CV 2/5] END n_neighbors=36, p=2, weights=distance;, score=1.000 total time=   0.0s\n",
            "[CV 3/5] END n_neighbors=36, p=2, weights=distance;, score=0.944 total time=   0.0s\n",
            "[CV 4/5] END n_neighbors=36, p=2, weights=distance;, score=0.944 total time=   0.0s\n",
            "[CV 5/5] END n_neighbors=36, p=2, weights=distance;, score=0.944 total time=   0.0s\n",
            "[CV 1/5] END n_neighbors=37, p=1, weights=uniform;, score=0.944 total time=   0.0s\n",
            "[CV 2/5] END n_neighbors=37, p=1, weights=uniform;, score=0.944 total time=   0.0s\n",
            "[CV 3/5] END n_neighbors=37, p=1, weights=uniform;, score=0.944 total time=   0.0s\n",
            "[CV 4/5] END n_neighbors=37, p=1, weights=uniform;, score=0.944 total time=   0.0s\n",
            "[CV 5/5] END n_neighbors=37, p=1, weights=uniform;, score=0.944 total time=   0.0s\n",
            "[CV 1/5] END n_neighbors=37, p=1, weights=distance;, score=1.000 total time=   0.0s\n",
            "[CV 2/5] END n_neighbors=37, p=1, weights=distance;, score=1.000 total time=   0.0s\n",
            "[CV 3/5] END n_neighbors=37, p=1, weights=distance;, score=0.944 total time=   0.0s\n",
            "[CV 4/5] END n_neighbors=37, p=1, weights=distance;, score=0.944 total time=   0.0s\n",
            "[CV 5/5] END n_neighbors=37, p=1, weights=distance;, score=0.944 total time=   0.0s\n",
            "[CV 1/5] END n_neighbors=37, p=2, weights=uniform;, score=0.833 total time=   0.0s\n",
            "[CV 2/5] END n_neighbors=37, p=2, weights=uniform;, score=0.944 total time=   0.0s\n",
            "[CV 3/5] END n_neighbors=37, p=2, weights=uniform;, score=0.889 total time=   0.0s\n",
            "[CV 4/5] END n_neighbors=37, p=2, weights=uniform;, score=0.944 total time=   0.0s\n",
            "[CV 5/5] END n_neighbors=37, p=2, weights=uniform;, score=0.889 total time=   0.0s\n",
            "[CV 1/5] END n_neighbors=37, p=2, weights=distance;, score=0.944 total time=   0.0s\n",
            "[CV 2/5] END n_neighbors=37, p=2, weights=distance;, score=1.000 total time=   0.0s\n",
            "[CV 3/5] END n_neighbors=37, p=2, weights=distance;, score=0.944 total time=   0.0s\n",
            "[CV 4/5] END n_neighbors=37, p=2, weights=distance;, score=0.944 total time=   0.0s\n",
            "[CV 5/5] END n_neighbors=37, p=2, weights=distance;, score=0.944 total time=   0.0s\n",
            "[CV 1/5] END n_neighbors=38, p=1, weights=uniform;, score=0.944 total time=   0.0s\n",
            "[CV 2/5] END n_neighbors=38, p=1, weights=uniform;, score=0.944 total time=   0.0s\n",
            "[CV 3/5] END n_neighbors=38, p=1, weights=uniform;, score=0.944 total time=   0.0s\n",
            "[CV 4/5] END n_neighbors=38, p=1, weights=uniform;, score=0.944 total time=   0.0s\n",
            "[CV 5/5] END n_neighbors=38, p=1, weights=uniform;, score=0.944 total time=   0.0s\n",
            "[CV 1/5] END n_neighbors=38, p=1, weights=distance;, score=1.000 total time=   0.0s\n",
            "[CV 2/5] END n_neighbors=38, p=1, weights=distance;, score=1.000 total time=   0.0s\n",
            "[CV 3/5] END n_neighbors=38, p=1, weights=distance;, score=0.944 total time=   0.0s\n",
            "[CV 4/5] END n_neighbors=38, p=1, weights=distance;, score=0.944 total time=   0.0s\n",
            "[CV 5/5] END n_neighbors=38, p=1, weights=distance;, score=0.944 total time=   0.0s\n",
            "[CV 1/5] END n_neighbors=38, p=2, weights=uniform;, score=0.833 total time=   0.0s\n",
            "[CV 2/5] END n_neighbors=38, p=2, weights=uniform;, score=0.944 total time=   0.0s\n",
            "[CV 3/5] END n_neighbors=38, p=2, weights=uniform;, score=0.889 total time=   0.0s\n",
            "[CV 4/5] END n_neighbors=38, p=2, weights=uniform;, score=0.944 total time=   0.0s\n",
            "[CV 5/5] END n_neighbors=38, p=2, weights=uniform;, score=0.889 total time=   0.0s\n",
            "[CV 1/5] END n_neighbors=38, p=2, weights=distance;, score=0.944 total time=   0.0s\n",
            "[CV 2/5] END n_neighbors=38, p=2, weights=distance;, score=1.000 total time=   0.0s\n",
            "[CV 3/5] END n_neighbors=38, p=2, weights=distance;, score=0.944 total time=   0.0s\n",
            "[CV 4/5] END n_neighbors=38, p=2, weights=distance;, score=0.944 total time=   0.0s\n",
            "[CV 5/5] END n_neighbors=38, p=2, weights=distance;, score=0.944 total time=   0.0s\n",
            "[CV 1/5] END n_neighbors=39, p=1, weights=uniform;, score=1.000 total time=   0.0s\n",
            "[CV 2/5] END n_neighbors=39, p=1, weights=uniform;, score=0.944 total time=   0.0s\n",
            "[CV 3/5] END n_neighbors=39, p=1, weights=uniform;, score=0.944 total time=   0.0s\n",
            "[CV 4/5] END n_neighbors=39, p=1, weights=uniform;, score=0.944 total time=   0.0s\n",
            "[CV 5/5] END n_neighbors=39, p=1, weights=uniform;, score=0.944 total time=   0.0s\n",
            "[CV 1/5] END n_neighbors=39, p=1, weights=distance;, score=1.000 total time=   0.0s\n",
            "[CV 2/5] END n_neighbors=39, p=1, weights=distance;, score=1.000 total time=   0.0s\n",
            "[CV 3/5] END n_neighbors=39, p=1, weights=distance;, score=0.944 total time=   0.0s\n",
            "[CV 4/5] END n_neighbors=39, p=1, weights=distance;, score=0.944 total time=   0.0s\n",
            "[CV 5/5] END n_neighbors=39, p=1, weights=distance;, score=0.944 total time=   0.0s\n",
            "[CV 1/5] END n_neighbors=39, p=2, weights=uniform;, score=0.833 total time=   0.0s\n",
            "[CV 2/5] END n_neighbors=39, p=2, weights=uniform;, score=0.944 total time=   0.0s\n",
            "[CV 3/5] END n_neighbors=39, p=2, weights=uniform;, score=0.889 total time=   0.0s\n",
            "[CV 4/5] END n_neighbors=39, p=2, weights=uniform;, score=0.944 total time=   0.0s\n",
            "[CV 5/5] END n_neighbors=39, p=2, weights=uniform;, score=0.889 total time=   0.0s\n",
            "[CV 1/5] END n_neighbors=39, p=2, weights=distance;, score=0.944 total time=   0.0s\n",
            "[CV 2/5] END n_neighbors=39, p=2, weights=distance;, score=1.000 total time=   0.0s\n",
            "[CV 3/5] END n_neighbors=39, p=2, weights=distance;, score=0.944 total time=   0.0s\n",
            "[CV 4/5] END n_neighbors=39, p=2, weights=distance;, score=0.944 total time=   0.0s\n",
            "[CV 5/5] END n_neighbors=39, p=2, weights=distance;, score=0.944 total time=   0.0s\n",
            "[CV 1/5] END n_neighbors=40, p=1, weights=uniform;, score=0.944 total time=   0.0s\n",
            "[CV 2/5] END n_neighbors=40, p=1, weights=uniform;, score=0.889 total time=   0.0s\n",
            "[CV 3/5] END n_neighbors=40, p=1, weights=uniform;, score=0.944 total time=   0.0s\n",
            "[CV 4/5] END n_neighbors=40, p=1, weights=uniform;, score=0.944 total time=   0.0s\n",
            "[CV 5/5] END n_neighbors=40, p=1, weights=uniform;, score=0.944 total time=   0.0s\n",
            "[CV 1/5] END n_neighbors=40, p=1, weights=distance;, score=1.000 total time=   0.0s\n",
            "[CV 2/5] END n_neighbors=40, p=1, weights=distance;, score=1.000 total time=   0.0s\n",
            "[CV 3/5] END n_neighbors=40, p=1, weights=distance;, score=0.944 total time=   0.0s\n",
            "[CV 4/5] END n_neighbors=40, p=1, weights=distance;, score=0.944 total time=   0.0s\n",
            "[CV 5/5] END n_neighbors=40, p=1, weights=distance;, score=0.944 total time=   0.0s\n",
            "[CV 1/5] END n_neighbors=40, p=2, weights=uniform;, score=0.833 total time=   0.0s\n",
            "[CV 2/5] END n_neighbors=40, p=2, weights=uniform;, score=0.944 total time=   0.0s\n",
            "[CV 3/5] END n_neighbors=40, p=2, weights=uniform;, score=0.944 total time=   0.0s\n",
            "[CV 4/5] END n_neighbors=40, p=2, weights=uniform;, score=0.889 total time=   0.0s\n",
            "[CV 5/5] END n_neighbors=40, p=2, weights=uniform;, score=0.944 total time=   0.0s\n",
            "[CV 1/5] END n_neighbors=40, p=2, weights=distance;, score=0.944 total time=   0.0s\n",
            "[CV 2/5] END n_neighbors=40, p=2, weights=distance;, score=1.000 total time=   0.0s\n",
            "[CV 3/5] END n_neighbors=40, p=2, weights=distance;, score=0.944 total time=   0.0s\n",
            "[CV 4/5] END n_neighbors=40, p=2, weights=distance;, score=0.944 total time=   0.0s\n",
            "[CV 5/5] END n_neighbors=40, p=2, weights=distance;, score=0.944 total time=   0.0s\n",
            "[CV 1/5] END n_neighbors=41, p=1, weights=uniform;, score=1.000 total time=   0.0s\n",
            "[CV 2/5] END n_neighbors=41, p=1, weights=uniform;, score=0.944 total time=   0.0s\n",
            "[CV 3/5] END n_neighbors=41, p=1, weights=uniform;, score=0.889 total time=   0.0s\n",
            "[CV 4/5] END n_neighbors=41, p=1, weights=uniform;, score=0.944 total time=   0.0s\n",
            "[CV 5/5] END n_neighbors=41, p=1, weights=uniform;, score=0.889 total time=   0.0s\n",
            "[CV 1/5] END n_neighbors=41, p=1, weights=distance;, score=1.000 total time=   0.0s\n",
            "[CV 2/5] END n_neighbors=41, p=1, weights=distance;, score=1.000 total time=   0.0s\n",
            "[CV 3/5] END n_neighbors=41, p=1, weights=distance;, score=0.944 total time=   0.0s\n",
            "[CV 4/5] END n_neighbors=41, p=1, weights=distance;, score=0.944 total time=   0.0s\n",
            "[CV 5/5] END n_neighbors=41, p=1, weights=distance;, score=0.944 total time=   0.0s\n",
            "[CV 1/5] END n_neighbors=41, p=2, weights=uniform;, score=0.889 total time=   0.0s\n",
            "[CV 2/5] END n_neighbors=41, p=2, weights=uniform;, score=0.944 total time=   0.0s\n",
            "[CV 3/5] END n_neighbors=41, p=2, weights=uniform;, score=0.944 total time=   0.0s\n",
            "[CV 4/5] END n_neighbors=41, p=2, weights=uniform;, score=0.889 total time=   0.0s\n",
            "[CV 5/5] END n_neighbors=41, p=2, weights=uniform;, score=0.944 total time=   0.0s\n",
            "[CV 1/5] END n_neighbors=41, p=2, weights=distance;, score=0.944 total time=   0.0s\n",
            "[CV 2/5] END n_neighbors=41, p=2, weights=distance;, score=1.000 total time=   0.0s\n",
            "[CV 3/5] END n_neighbors=41, p=2, weights=distance;, score=0.944 total time=   0.0s\n",
            "[CV 4/5] END n_neighbors=41, p=2, weights=distance;, score=0.944 total time=   0.0s\n",
            "[CV 5/5] END n_neighbors=41, p=2, weights=distance;, score=0.944 total time=   0.0s\n",
            "[CV 1/5] END n_neighbors=42, p=1, weights=uniform;, score=0.889 total time=   0.0s\n",
            "[CV 2/5] END n_neighbors=42, p=1, weights=uniform;, score=0.889 total time=   0.0s\n",
            "[CV 3/5] END n_neighbors=42, p=1, weights=uniform;, score=0.889 total time=   0.0s\n",
            "[CV 4/5] END n_neighbors=42, p=1, weights=uniform;, score=0.889 total time=   0.0s\n",
            "[CV 5/5] END n_neighbors=42, p=1, weights=uniform;, score=0.944 total time=   0.0s\n",
            "[CV 1/5] END n_neighbors=42, p=1, weights=distance;, score=1.000 total time=   0.0s\n",
            "[CV 2/5] END n_neighbors=42, p=1, weights=distance;, score=1.000 total time=   0.0s\n",
            "[CV 3/5] END n_neighbors=42, p=1, weights=distance;, score=0.944 total time=   0.0s\n",
            "[CV 4/5] END n_neighbors=42, p=1, weights=distance;, score=0.944 total time=   0.0s\n",
            "[CV 5/5] END n_neighbors=42, p=1, weights=distance;, score=0.944 total time=   0.0s\n",
            "[CV 1/5] END n_neighbors=42, p=2, weights=uniform;, score=0.833 total time=   0.0s\n",
            "[CV 2/5] END n_neighbors=42, p=2, weights=uniform;, score=0.889 total time=   0.0s\n",
            "[CV 3/5] END n_neighbors=42, p=2, weights=uniform;, score=0.944 total time=   0.0s\n",
            "[CV 4/5] END n_neighbors=42, p=2, weights=uniform;, score=0.889 total time=   0.0s\n",
            "[CV 5/5] END n_neighbors=42, p=2, weights=uniform;, score=0.944 total time=   0.0s\n",
            "[CV 1/5] END n_neighbors=42, p=2, weights=distance;, score=0.944 total time=   0.0s\n",
            "[CV 2/5] END n_neighbors=42, p=2, weights=distance;, score=1.000 total time=   0.0s\n",
            "[CV 3/5] END n_neighbors=42, p=2, weights=distance;, score=0.944 total time=   0.0s\n",
            "[CV 4/5] END n_neighbors=42, p=2, weights=distance;, score=0.944 total time=   0.0s\n",
            "[CV 5/5] END n_neighbors=42, p=2, weights=distance;, score=0.944 total time=   0.0s\n",
            "[CV 1/5] END n_neighbors=43, p=1, weights=uniform;, score=1.000 total time=   0.0s\n",
            "[CV 2/5] END n_neighbors=43, p=1, weights=uniform;, score=0.944 total time=   0.0s\n",
            "[CV 3/5] END n_neighbors=43, p=1, weights=uniform;, score=0.889 total time=   0.0s\n",
            "[CV 4/5] END n_neighbors=43, p=1, weights=uniform;, score=0.944 total time=   0.0s\n",
            "[CV 5/5] END n_neighbors=43, p=1, weights=uniform;, score=0.944 total time=   0.0s\n",
            "[CV 1/5] END n_neighbors=43, p=1, weights=distance;, score=1.000 total time=   0.0s\n",
            "[CV 2/5] END n_neighbors=43, p=1, weights=distance;, score=1.000 total time=   0.0s\n",
            "[CV 3/5] END n_neighbors=43, p=1, weights=distance;, score=0.944 total time=   0.0s\n",
            "[CV 4/5] END n_neighbors=43, p=1, weights=distance;, score=0.944 total time=   0.0s\n",
            "[CV 5/5] END n_neighbors=43, p=1, weights=distance;, score=0.944 total time=   0.0s\n",
            "[CV 1/5] END n_neighbors=43, p=2, weights=uniform;, score=0.944 total time=   0.0s\n",
            "[CV 2/5] END n_neighbors=43, p=2, weights=uniform;, score=0.944 total time=   0.0s\n",
            "[CV 3/5] END n_neighbors=43, p=2, weights=uniform;, score=0.944 total time=   0.0s\n",
            "[CV 4/5] END n_neighbors=43, p=2, weights=uniform;, score=0.944 total time=   0.0s\n",
            "[CV 5/5] END n_neighbors=43, p=2, weights=uniform;, score=0.944 total time=   0.0s\n",
            "[CV 1/5] END n_neighbors=43, p=2, weights=distance;, score=0.944 total time=   0.0s\n",
            "[CV 2/5] END n_neighbors=43, p=2, weights=distance;, score=1.000 total time=   0.0s\n",
            "[CV 3/5] END n_neighbors=43, p=2, weights=distance;, score=0.944 total time=   0.0s\n",
            "[CV 4/5] END n_neighbors=43, p=2, weights=distance;, score=0.944 total time=   0.0s\n",
            "[CV 5/5] END n_neighbors=43, p=2, weights=distance;, score=0.944 total time=   0.0s\n",
            "[CV 1/5] END n_neighbors=44, p=1, weights=uniform;, score=0.944 total time=   0.0s\n",
            "[CV 2/5] END n_neighbors=44, p=1, weights=uniform;, score=0.889 total time=   0.0s\n",
            "[CV 3/5] END n_neighbors=44, p=1, weights=uniform;, score=0.944 total time=   0.0s\n",
            "[CV 4/5] END n_neighbors=44, p=1, weights=uniform;, score=0.889 total time=   0.0s\n",
            "[CV 5/5] END n_neighbors=44, p=1, weights=uniform;, score=0.944 total time=   0.0s\n",
            "[CV 1/5] END n_neighbors=44, p=1, weights=distance;, score=1.000 total time=   0.0s\n",
            "[CV 2/5] END n_neighbors=44, p=1, weights=distance;, score=1.000 total time=   0.0s\n",
            "[CV 3/5] END n_neighbors=44, p=1, weights=distance;, score=0.944 total time=   0.0s\n",
            "[CV 4/5] END n_neighbors=44, p=1, weights=distance;, score=0.944 total time=   0.0s\n",
            "[CV 5/5] END n_neighbors=44, p=1, weights=distance;, score=0.944 total time=   0.0s\n",
            "[CV 1/5] END n_neighbors=44, p=2, weights=uniform;, score=0.944 total time=   0.0s\n",
            "[CV 2/5] END n_neighbors=44, p=2, weights=uniform;, score=0.944 total time=   0.0s\n",
            "[CV 3/5] END n_neighbors=44, p=2, weights=uniform;, score=0.944 total time=   0.0s\n",
            "[CV 4/5] END n_neighbors=44, p=2, weights=uniform;, score=0.889 total time=   0.0s\n",
            "[CV 5/5] END n_neighbors=44, p=2, weights=uniform;, score=0.889 total time=   0.0s\n",
            "[CV 1/5] END n_neighbors=44, p=2, weights=distance;, score=0.944 total time=   0.0s\n",
            "[CV 2/5] END n_neighbors=44, p=2, weights=distance;, score=1.000 total time=   0.0s\n",
            "[CV 3/5] END n_neighbors=44, p=2, weights=distance;, score=0.944 total time=   0.0s\n",
            "[CV 4/5] END n_neighbors=44, p=2, weights=distance;, score=0.944 total time=   0.0s\n",
            "[CV 5/5] END n_neighbors=44, p=2, weights=distance;, score=0.944 total time=   0.0s\n",
            "[CV 1/5] END n_neighbors=45, p=1, weights=uniform;, score=0.944 total time=   0.0s\n",
            "[CV 2/5] END n_neighbors=45, p=1, weights=uniform;, score=0.889 total time=   0.0s\n",
            "[CV 3/5] END n_neighbors=45, p=1, weights=uniform;, score=0.944 total time=   0.0s\n",
            "[CV 4/5] END n_neighbors=45, p=1, weights=uniform;, score=0.889 total time=   0.0s\n",
            "[CV 5/5] END n_neighbors=45, p=1, weights=uniform;, score=0.944 total time=   0.0s\n",
            "[CV 1/5] END n_neighbors=45, p=1, weights=distance;, score=1.000 total time=   0.0s\n",
            "[CV 2/5] END n_neighbors=45, p=1, weights=distance;, score=1.000 total time=   0.0s\n",
            "[CV 3/5] END n_neighbors=45, p=1, weights=distance;, score=0.944 total time=   0.0s\n",
            "[CV 4/5] END n_neighbors=45, p=1, weights=distance;, score=0.944 total time=   0.0s\n",
            "[CV 5/5] END n_neighbors=45, p=1, weights=distance;, score=0.944 total time=   0.0s\n",
            "[CV 1/5] END n_neighbors=45, p=2, weights=uniform;, score=0.944 total time=   0.0s\n",
            "[CV 2/5] END n_neighbors=45, p=2, weights=uniform;, score=0.944 total time=   0.0s\n",
            "[CV 3/5] END n_neighbors=45, p=2, weights=uniform;, score=0.833 total time=   0.0s\n",
            "[CV 4/5] END n_neighbors=45, p=2, weights=uniform;, score=0.889 total time=   0.0s\n",
            "[CV 5/5] END n_neighbors=45, p=2, weights=uniform;, score=0.944 total time=   0.0s\n",
            "[CV 1/5] END n_neighbors=45, p=2, weights=distance;, score=0.944 total time=   0.0s\n",
            "[CV 2/5] END n_neighbors=45, p=2, weights=distance;, score=1.000 total time=   0.0s\n",
            "[CV 3/5] END n_neighbors=45, p=2, weights=distance;, score=0.944 total time=   0.0s\n",
            "[CV 4/5] END n_neighbors=45, p=2, weights=distance;, score=0.944 total time=   0.0s\n",
            "[CV 5/5] END n_neighbors=45, p=2, weights=distance;, score=0.944 total time=   0.0s\n",
            "[CV 1/5] END n_neighbors=46, p=1, weights=uniform;, score=1.000 total time=   0.0s\n",
            "[CV 2/5] END n_neighbors=46, p=1, weights=uniform;, score=0.889 total time=   0.0s\n",
            "[CV 3/5] END n_neighbors=46, p=1, weights=uniform;, score=0.889 total time=   0.0s\n",
            "[CV 4/5] END n_neighbors=46, p=1, weights=uniform;, score=0.889 total time=   0.0s\n",
            "[CV 5/5] END n_neighbors=46, p=1, weights=uniform;, score=0.944 total time=   0.0s\n",
            "[CV 1/5] END n_neighbors=46, p=1, weights=distance;, score=1.000 total time=   0.0s\n",
            "[CV 2/5] END n_neighbors=46, p=1, weights=distance;, score=1.000 total time=   0.0s\n",
            "[CV 3/5] END n_neighbors=46, p=1, weights=distance;, score=0.944 total time=   0.0s\n",
            "[CV 4/5] END n_neighbors=46, p=1, weights=distance;, score=0.944 total time=   0.0s\n",
            "[CV 5/5] END n_neighbors=46, p=1, weights=distance;, score=0.944 total time=   0.0s\n",
            "[CV 1/5] END n_neighbors=46, p=2, weights=uniform;, score=0.889 total time=   0.0s\n",
            "[CV 2/5] END n_neighbors=46, p=2, weights=uniform;, score=0.944 total time=   0.0s\n",
            "[CV 3/5] END n_neighbors=46, p=2, weights=uniform;, score=0.889 total time=   0.0s\n",
            "[CV 4/5] END n_neighbors=46, p=2, weights=uniform;, score=0.889 total time=   0.0s\n",
            "[CV 5/5] END n_neighbors=46, p=2, weights=uniform;, score=0.944 total time=   0.0s\n",
            "[CV 1/5] END n_neighbors=46, p=2, weights=distance;, score=0.944 total time=   0.0s\n",
            "[CV 2/5] END n_neighbors=46, p=2, weights=distance;, score=1.000 total time=   0.0s\n",
            "[CV 3/5] END n_neighbors=46, p=2, weights=distance;, score=0.944 total time=   0.0s\n",
            "[CV 4/5] END n_neighbors=46, p=2, weights=distance;, score=0.944 total time=   0.0s\n",
            "[CV 5/5] END n_neighbors=46, p=2, weights=distance;, score=0.944 total time=   0.0s\n",
            "[CV 1/5] END n_neighbors=47, p=1, weights=uniform;, score=0.944 total time=   0.0s\n",
            "[CV 2/5] END n_neighbors=47, p=1, weights=uniform;, score=0.889 total time=   0.0s\n",
            "[CV 3/5] END n_neighbors=47, p=1, weights=uniform;, score=0.889 total time=   0.0s\n",
            "[CV 4/5] END n_neighbors=47, p=1, weights=uniform;, score=0.889 total time=   0.0s\n",
            "[CV 5/5] END n_neighbors=47, p=1, weights=uniform;, score=1.000 total time=   0.0s\n",
            "[CV 1/5] END n_neighbors=47, p=1, weights=distance;, score=1.000 total time=   0.0s\n",
            "[CV 2/5] END n_neighbors=47, p=1, weights=distance;, score=1.000 total time=   0.0s\n",
            "[CV 3/5] END n_neighbors=47, p=1, weights=distance;, score=0.944 total time=   0.0s\n",
            "[CV 4/5] END n_neighbors=47, p=1, weights=distance;, score=0.944 total time=   0.0s\n",
            "[CV 5/5] END n_neighbors=47, p=1, weights=distance;, score=0.944 total time=   0.0s\n",
            "[CV 1/5] END n_neighbors=47, p=2, weights=uniform;, score=0.889 total time=   0.0s\n",
            "[CV 2/5] END n_neighbors=47, p=2, weights=uniform;, score=0.944 total time=   0.0s\n",
            "[CV 3/5] END n_neighbors=47, p=2, weights=uniform;, score=0.889 total time=   0.0s\n",
            "[CV 4/5] END n_neighbors=47, p=2, weights=uniform;, score=0.944 total time=   0.0s\n",
            "[CV 5/5] END n_neighbors=47, p=2, weights=uniform;, score=0.944 total time=   0.0s\n",
            "[CV 1/5] END n_neighbors=47, p=2, weights=distance;, score=0.944 total time=   0.0s\n",
            "[CV 2/5] END n_neighbors=47, p=2, weights=distance;, score=1.000 total time=   0.0s\n",
            "[CV 3/5] END n_neighbors=47, p=2, weights=distance;, score=0.944 total time=   0.0s\n",
            "[CV 4/5] END n_neighbors=47, p=2, weights=distance;, score=0.944 total time=   0.0s\n",
            "[CV 5/5] END n_neighbors=47, p=2, weights=distance;, score=0.944 total time=   0.0s\n",
            "[CV 1/5] END n_neighbors=48, p=1, weights=uniform;, score=0.944 total time=   0.0s\n",
            "[CV 2/5] END n_neighbors=48, p=1, weights=uniform;, score=0.889 total time=   0.0s\n",
            "[CV 3/5] END n_neighbors=48, p=1, weights=uniform;, score=0.889 total time=   0.0s\n",
            "[CV 4/5] END n_neighbors=48, p=1, weights=uniform;, score=0.889 total time=   0.0s\n",
            "[CV 5/5] END n_neighbors=48, p=1, weights=uniform;, score=0.944 total time=   0.0s\n",
            "[CV 1/5] END n_neighbors=48, p=1, weights=distance;, score=1.000 total time=   0.0s\n",
            "[CV 2/5] END n_neighbors=48, p=1, weights=distance;, score=1.000 total time=   0.0s\n",
            "[CV 3/5] END n_neighbors=48, p=1, weights=distance;, score=1.000 total time=   0.0s\n",
            "[CV 4/5] END n_neighbors=48, p=1, weights=distance;, score=0.944 total time=   0.0s\n",
            "[CV 5/5] END n_neighbors=48, p=1, weights=distance;, score=0.944 total time=   0.0s\n",
            "[CV 1/5] END n_neighbors=48, p=2, weights=uniform;, score=0.889 total time=   0.0s\n",
            "[CV 2/5] END n_neighbors=48, p=2, weights=uniform;, score=0.944 total time=   0.0s\n",
            "[CV 3/5] END n_neighbors=48, p=2, weights=uniform;, score=0.833 total time=   0.0s\n",
            "[CV 4/5] END n_neighbors=48, p=2, weights=uniform;, score=0.944 total time=   0.0s\n",
            "[CV 5/5] END n_neighbors=48, p=2, weights=uniform;, score=0.833 total time=   0.0s\n",
            "[CV 1/5] END n_neighbors=48, p=2, weights=distance;, score=0.944 total time=   0.0s\n",
            "[CV 2/5] END n_neighbors=48, p=2, weights=distance;, score=1.000 total time=   0.0s\n",
            "[CV 3/5] END n_neighbors=48, p=2, weights=distance;, score=0.944 total time=   0.0s\n",
            "[CV 4/5] END n_neighbors=48, p=2, weights=distance;, score=0.944 total time=   0.0s\n",
            "[CV 5/5] END n_neighbors=48, p=2, weights=distance;, score=0.944 total time=   0.0s\n",
            "[CV 1/5] END n_neighbors=49, p=1, weights=uniform;, score=0.944 total time=   0.0s\n",
            "[CV 2/5] END n_neighbors=49, p=1, weights=uniform;, score=0.889 total time=   0.0s\n",
            "[CV 3/5] END n_neighbors=49, p=1, weights=uniform;, score=0.833 total time=   0.0s\n",
            "[CV 4/5] END n_neighbors=49, p=1, weights=uniform;, score=0.833 total time=   0.0s\n",
            "[CV 5/5] END n_neighbors=49, p=1, weights=uniform;, score=0.944 total time=   0.0s\n",
            "[CV 1/5] END n_neighbors=49, p=1, weights=distance;, score=1.000 total time=   0.0s\n",
            "[CV 2/5] END n_neighbors=49, p=1, weights=distance;, score=1.000 total time=   0.0s\n",
            "[CV 3/5] END n_neighbors=49, p=1, weights=distance;, score=1.000 total time=   0.0s\n",
            "[CV 4/5] END n_neighbors=49, p=1, weights=distance;, score=0.944 total time=   0.0s\n",
            "[CV 5/5] END n_neighbors=49, p=1, weights=distance;, score=0.944 total time=   0.0s\n",
            "[CV 1/5] END n_neighbors=49, p=2, weights=uniform;, score=0.889 total time=   0.0s\n",
            "[CV 2/5] END n_neighbors=49, p=2, weights=uniform;, score=0.944 total time=   0.0s\n",
            "[CV 3/5] END n_neighbors=49, p=2, weights=uniform;, score=0.833 total time=   0.0s\n",
            "[CV 4/5] END n_neighbors=49, p=2, weights=uniform;, score=0.944 total time=   0.0s\n",
            "[CV 5/5] END n_neighbors=49, p=2, weights=uniform;, score=0.833 total time=   0.0s\n",
            "[CV 1/5] END n_neighbors=49, p=2, weights=distance;, score=0.944 total time=   0.0s\n",
            "[CV 2/5] END n_neighbors=49, p=2, weights=distance;, score=1.000 total time=   0.0s\n",
            "[CV 3/5] END n_neighbors=49, p=2, weights=distance;, score=0.944 total time=   0.0s\n",
            "[CV 4/5] END n_neighbors=49, p=2, weights=distance;, score=0.944 total time=   0.0s\n",
            "[CV 5/5] END n_neighbors=49, p=2, weights=distance;, score=0.944 total time=   0.0s\n",
            "[CV 1/5] END n_neighbors=50, p=1, weights=uniform;, score=0.944 total time=   0.0s\n",
            "[CV 2/5] END n_neighbors=50, p=1, weights=uniform;, score=0.889 total time=   0.0s\n",
            "[CV 3/5] END n_neighbors=50, p=1, weights=uniform;, score=0.833 total time=   0.0s\n",
            "[CV 4/5] END n_neighbors=50, p=1, weights=uniform;, score=0.889 total time=   0.0s\n",
            "[CV 5/5] END n_neighbors=50, p=1, weights=uniform;, score=0.944 total time=   0.0s\n",
            "[CV 1/5] END n_neighbors=50, p=1, weights=distance;, score=1.000 total time=   0.0s\n",
            "[CV 2/5] END n_neighbors=50, p=1, weights=distance;, score=1.000 total time=   0.0s\n",
            "[CV 3/5] END n_neighbors=50, p=1, weights=distance;, score=1.000 total time=   0.0s\n",
            "[CV 4/5] END n_neighbors=50, p=1, weights=distance;, score=0.944 total time=   0.0s\n",
            "[CV 5/5] END n_neighbors=50, p=1, weights=distance;, score=0.944 total time=   0.0s\n",
            "[CV 1/5] END n_neighbors=50, p=2, weights=uniform;, score=0.889 total time=   0.0s\n",
            "[CV 2/5] END n_neighbors=50, p=2, weights=uniform;, score=0.944 total time=   0.0s\n",
            "[CV 3/5] END n_neighbors=50, p=2, weights=uniform;, score=0.833 total time=   0.0s\n",
            "[CV 4/5] END n_neighbors=50, p=2, weights=uniform;, score=0.944 total time=   0.0s\n",
            "[CV 5/5] END n_neighbors=50, p=2, weights=uniform;, score=0.833 total time=   0.0s\n",
            "[CV 1/5] END n_neighbors=50, p=2, weights=distance;, score=0.944 total time=   0.0s\n",
            "[CV 2/5] END n_neighbors=50, p=2, weights=distance;, score=1.000 total time=   0.0s\n",
            "[CV 3/5] END n_neighbors=50, p=2, weights=distance;, score=0.944 total time=   0.0s\n",
            "[CV 4/5] END n_neighbors=50, p=2, weights=distance;, score=0.944 total time=   0.0s\n",
            "[CV 5/5] END n_neighbors=50, p=2, weights=distance;, score=0.944 total time=   0.0s\n",
            "Accuracy of the tuned model: 1.0000\n",
            "{'n_neighbors': 12, 'p': 2, 'weights': 'distance'}\n"
          ]
        }
      ]
    },
    {
      "cell_type": "code",
      "source": [
        "# tuning on test data\n",
        "\n",
        "from sklearn.metrics import classification_report, confusion_matrix \n",
        "\n",
        "grid_predictions = grid.predict(X_test)\n",
        "print(sns.heatmap(confusion_matrix(y_test,grid_predictions),annot=True))\n",
        "print(classification_report(y_test,grid_predictions))"
      ],
      "metadata": {
        "colab": {
          "base_uri": "https://localhost:8080/",
          "height": 456
        },
        "id": "pBnfxwtnrZ96",
        "outputId": "07f155f8-ee40-4499-c8b0-9d7d71dae94f"
      },
      "execution_count": null,
      "outputs": [
        {
          "output_type": "stream",
          "name": "stdout",
          "text": [
            "AxesSubplot(0.125,0.125;0.62x0.755)\n",
            "                 precision    recall  f1-score   support\n",
            "\n",
            "    Iris-setosa       1.00      1.00      1.00        16\n",
            "Iris-versicolor       0.85      0.96      0.90        23\n",
            " Iris-virginica       0.94      0.81      0.87        21\n",
            "\n",
            "       accuracy                           0.92        60\n",
            "      macro avg       0.93      0.92      0.92        60\n",
            "   weighted avg       0.92      0.92      0.92        60\n",
            "\n"
          ]
        },
        {
          "output_type": "display_data",
          "data": {
            "text/plain": [
              "<Figure size 432x288 with 2 Axes>"
            ],
            "image/png": "[encoded data removed]"
          },
          "metadata": {
            "needs_background": "light"
          }
        }
      ]
    },
    {
      "cell_type": "markdown",
      "source": [
        "**Random Forest - Tuning**"
      ],
      "metadata": {
        "id": "6XNr1-RbrqV8"
      }
    },
    {
      "cell_type": "code",
      "source": [
        "\n",
        "param_grid = {\n",
        "               'max_depth': [None, 2, 5],\n",
        "               'min_samples_split': [2,5] ,\n",
        "               'min_samples_leaf': [1, 5] ,\n",
        "               'max_leaf_nodes': [None, 5, 10]\n",
        "               }\n",
        "    \n",
        "  \n",
        "grid = GridSearchCV(RandomForestClassifier(), param_grid, refit = True, verbose = 3)\n",
        "\n",
        "\n",
        "grid.fit(X_train,y_train)       \n",
        "\n",
        "print(\"Accuracy of the tuned model: %.4f\" %grid.best_score_)\n",
        "print(grid.best_params_)\n"
      ],
      "metadata": {
        "colab": {
          "base_uri": "https://localhost:8080/"
        },
        "id": "XZDnkdQPruLI",
        "outputId": "e72bb26a-ca1f-4f64-aadf-defee0b4f22f"
      },
      "execution_count": null,
      "outputs": [
        {
          "output_type": "stream",
          "name": "stdout",
          "text": [
            "Fitting 5 folds for each of 36 candidates, totalling 180 fits\n",
            "[CV 1/5] END max_depth=None, max_leaf_nodes=None, min_samples_leaf=1, min_samples_split=2;, score=1.000 total time=   0.2s\n",
            "[CV 2/5] END max_depth=None, max_leaf_nodes=None, min_samples_leaf=1, min_samples_split=2;, score=1.000 total time=   0.1s\n",
            "[CV 3/5] END max_depth=None, max_leaf_nodes=None, min_samples_leaf=1, min_samples_split=2;, score=1.000 total time=   0.2s\n",
            "[CV 4/5] END max_depth=None, max_leaf_nodes=None, min_samples_leaf=1, min_samples_split=2;, score=0.889 total time=   0.1s\n",
            "[CV 5/5] END max_depth=None, max_leaf_nodes=None, min_samples_leaf=1, min_samples_split=2;, score=0.944 total time=   0.2s\n",
            "[CV 1/5] END max_depth=None, max_leaf_nodes=None, min_samples_leaf=1, min_samples_split=5;, score=1.000 total time=   0.1s\n",
            "[CV 2/5] END max_depth=None, max_leaf_nodes=None, min_samples_leaf=1, min_samples_split=5;, score=1.000 total time=   0.1s\n",
            "[CV 3/5] END max_depth=None, max_leaf_nodes=None, min_samples_leaf=1, min_samples_split=5;, score=1.000 total time=   0.1s\n",
            "[CV 4/5] END max_depth=None, max_leaf_nodes=None, min_samples_leaf=1, min_samples_split=5;, score=0.889 total time=   0.2s\n",
            "[CV 5/5] END max_depth=None, max_leaf_nodes=None, min_samples_leaf=1, min_samples_split=5;, score=0.944 total time=   0.2s\n",
            "[CV 1/5] END max_depth=None, max_leaf_nodes=None, min_samples_leaf=5, min_samples_split=2;, score=1.000 total time=   0.2s\n",
            "[CV 2/5] END max_depth=None, max_leaf_nodes=None, min_samples_leaf=5, min_samples_split=2;, score=1.000 total time=   0.1s\n",
            "[CV 3/5] END max_depth=None, max_leaf_nodes=None, min_samples_leaf=5, min_samples_split=2;, score=0.944 total time=   0.2s\n",
            "[CV 4/5] END max_depth=None, max_leaf_nodes=None, min_samples_leaf=5, min_samples_split=2;, score=0.889 total time=   0.1s\n",
            "[CV 5/5] END max_depth=None, max_leaf_nodes=None, min_samples_leaf=5, min_samples_split=2;, score=0.944 total time=   0.1s\n",
            "[CV 1/5] END max_depth=None, max_leaf_nodes=None, min_samples_leaf=5, min_samples_split=5;, score=1.000 total time=   0.2s\n",
            "[CV 2/5] END max_depth=None, max_leaf_nodes=None, min_samples_leaf=5, min_samples_split=5;, score=1.000 total time=   0.2s\n",
            "[CV 3/5] END max_depth=None, max_leaf_nodes=None, min_samples_leaf=5, min_samples_split=5;, score=0.944 total time=   0.2s\n",
            "[CV 4/5] END max_depth=None, max_leaf_nodes=None, min_samples_leaf=5, min_samples_split=5;, score=0.889 total time=   0.1s\n",
            "[CV 5/5] END max_depth=None, max_leaf_nodes=None, min_samples_leaf=5, min_samples_split=5;, score=0.944 total time=   0.2s\n",
            "[CV 1/5] END max_depth=None, max_leaf_nodes=5, min_samples_leaf=1, min_samples_split=2;, score=1.000 total time=   0.2s\n",
            "[CV 2/5] END max_depth=None, max_leaf_nodes=5, min_samples_leaf=1, min_samples_split=2;, score=1.000 total time=   0.2s\n",
            "[CV 3/5] END max_depth=None, max_leaf_nodes=5, min_samples_leaf=1, min_samples_split=2;, score=1.000 total time=   0.2s\n",
            "[CV 4/5] END max_depth=None, max_leaf_nodes=5, min_samples_leaf=1, min_samples_split=2;, score=0.889 total time=   0.1s\n",
            "[CV 5/5] END max_depth=None, max_leaf_nodes=5, min_samples_leaf=1, min_samples_split=2;, score=0.944 total time=   0.2s\n",
            "[CV 1/5] END max_depth=None, max_leaf_nodes=5, min_samples_leaf=1, min_samples_split=5;, score=1.000 total time=   0.1s\n",
            "[CV 2/5] END max_depth=None, max_leaf_nodes=5, min_samples_leaf=1, min_samples_split=5;, score=1.000 total time=   0.1s\n",
            "[CV 3/5] END max_depth=None, max_leaf_nodes=5, min_samples_leaf=1, min_samples_split=5;, score=1.000 total time=   0.1s\n",
            "[CV 4/5] END max_depth=None, max_leaf_nodes=5, min_samples_leaf=1, min_samples_split=5;, score=0.889 total time=   0.2s\n",
            "[CV 5/5] END max_depth=None, max_leaf_nodes=5, min_samples_leaf=1, min_samples_split=5;, score=0.944 total time=   0.2s\n",
            "[CV 1/5] END max_depth=None, max_leaf_nodes=5, min_samples_leaf=5, min_samples_split=2;, score=1.000 total time=   0.1s\n",
            "[CV 2/5] END max_depth=None, max_leaf_nodes=5, min_samples_leaf=5, min_samples_split=2;, score=1.000 total time=   0.1s\n",
            "[CV 3/5] END max_depth=None, max_leaf_nodes=5, min_samples_leaf=5, min_samples_split=2;, score=1.000 total time=   0.2s\n",
            "[CV 4/5] END max_depth=None, max_leaf_nodes=5, min_samples_leaf=5, min_samples_split=2;, score=0.889 total time=   0.1s\n",
            "[CV 5/5] END max_depth=None, max_leaf_nodes=5, min_samples_leaf=5, min_samples_split=2;, score=0.944 total time=   0.1s\n",
            "[CV 1/5] END max_depth=None, max_leaf_nodes=5, min_samples_leaf=5, min_samples_split=5;, score=1.000 total time=   0.1s\n",
            "[CV 2/5] END max_depth=None, max_leaf_nodes=5, min_samples_leaf=5, min_samples_split=5;, score=1.000 total time=   0.2s\n",
            "[CV 3/5] END max_depth=None, max_leaf_nodes=5, min_samples_leaf=5, min_samples_split=5;, score=1.000 total time=   0.1s\n",
            "[CV 4/5] END max_depth=None, max_leaf_nodes=5, min_samples_leaf=5, min_samples_split=5;, score=0.889 total time=   0.1s\n",
            "[CV 5/5] END max_depth=None, max_leaf_nodes=5, min_samples_leaf=5, min_samples_split=5;, score=0.944 total time=   0.1s\n",
            "[CV 1/5] END max_depth=None, max_leaf_nodes=10, min_samples_leaf=1, min_samples_split=2;, score=1.000 total time=   0.2s\n",
            "[CV 2/5] END max_depth=None, max_leaf_nodes=10, min_samples_leaf=1, min_samples_split=2;, score=1.000 total time=   0.2s\n",
            "[CV 3/5] END max_depth=None, max_leaf_nodes=10, min_samples_leaf=1, min_samples_split=2;, score=0.944 total time=   0.1s\n",
            "[CV 4/5] END max_depth=None, max_leaf_nodes=10, min_samples_leaf=1, min_samples_split=2;, score=0.889 total time=   0.1s\n",
            "[CV 5/5] END max_depth=None, max_leaf_nodes=10, min_samples_leaf=1, min_samples_split=2;, score=0.944 total time=   0.2s\n",
            "[CV 1/5] END max_depth=None, max_leaf_nodes=10, min_samples_leaf=1, min_samples_split=5;, score=1.000 total time=   0.1s\n",
            "[CV 2/5] END max_depth=None, max_leaf_nodes=10, min_samples_leaf=1, min_samples_split=5;, score=1.000 total time=   0.1s\n",
            "[CV 3/5] END max_depth=None, max_leaf_nodes=10, min_samples_leaf=1, min_samples_split=5;, score=1.000 total time=   0.1s\n",
            "[CV 4/5] END max_depth=None, max_leaf_nodes=10, min_samples_leaf=1, min_samples_split=5;, score=0.889 total time=   0.2s\n",
            "[CV 5/5] END max_depth=None, max_leaf_nodes=10, min_samples_leaf=1, min_samples_split=5;, score=0.944 total time=   0.2s\n",
            "[CV 1/5] END max_depth=None, max_leaf_nodes=10, min_samples_leaf=5, min_samples_split=2;, score=1.000 total time=   0.1s\n",
            "[CV 2/5] END max_depth=None, max_leaf_nodes=10, min_samples_leaf=5, min_samples_split=2;, score=1.000 total time=   0.1s\n",
            "[CV 3/5] END max_depth=None, max_leaf_nodes=10, min_samples_leaf=5, min_samples_split=2;, score=1.000 total time=   0.2s\n",
            "[CV 4/5] END max_depth=None, max_leaf_nodes=10, min_samples_leaf=5, min_samples_split=2;, score=0.889 total time=   0.1s\n",
            "[CV 5/5] END max_depth=None, max_leaf_nodes=10, min_samples_leaf=5, min_samples_split=2;, score=0.944 total time=   0.2s\n",
            "[CV 1/5] END max_depth=None, max_leaf_nodes=10, min_samples_leaf=5, min_samples_split=5;, score=1.000 total time=   0.1s\n",
            "[CV 2/5] END max_depth=None, max_leaf_nodes=10, min_samples_leaf=5, min_samples_split=5;, score=1.000 total time=   0.2s\n",
            "[CV 3/5] END max_depth=None, max_leaf_nodes=10, min_samples_leaf=5, min_samples_split=5;, score=0.944 total time=   0.1s\n",
            "[CV 4/5] END max_depth=None, max_leaf_nodes=10, min_samples_leaf=5, min_samples_split=5;, score=0.889 total time=   0.2s\n",
            "[CV 5/5] END max_depth=None, max_leaf_nodes=10, min_samples_leaf=5, min_samples_split=5;, score=0.944 total time=   0.1s\n",
            "[CV 1/5] END max_depth=2, max_leaf_nodes=None, min_samples_leaf=1, min_samples_split=2;, score=1.000 total time=   0.2s\n",
            "[CV 2/5] END max_depth=2, max_leaf_nodes=None, min_samples_leaf=1, min_samples_split=2;, score=1.000 total time=   0.1s\n",
            "[CV 3/5] END max_depth=2, max_leaf_nodes=None, min_samples_leaf=1, min_samples_split=2;, score=0.944 total time=   0.2s\n",
            "[CV 4/5] END max_depth=2, max_leaf_nodes=None, min_samples_leaf=1, min_samples_split=2;, score=0.889 total time=   0.2s\n",
            "[CV 5/5] END max_depth=2, max_leaf_nodes=None, min_samples_leaf=1, min_samples_split=2;, score=0.944 total time=   0.2s\n",
            "[CV 1/5] END max_depth=2, max_leaf_nodes=None, min_samples_leaf=1, min_samples_split=5;, score=1.000 total time=   0.1s\n",
            "[CV 2/5] END max_depth=2, max_leaf_nodes=None, min_samples_leaf=1, min_samples_split=5;, score=1.000 total time=   0.1s\n",
            "[CV 3/5] END max_depth=2, max_leaf_nodes=None, min_samples_leaf=1, min_samples_split=5;, score=1.000 total time=   0.1s\n",
            "[CV 4/5] END max_depth=2, max_leaf_nodes=None, min_samples_leaf=1, min_samples_split=5;, score=0.889 total time=   0.2s\n",
            "[CV 5/5] END max_depth=2, max_leaf_nodes=None, min_samples_leaf=1, min_samples_split=5;, score=0.944 total time=   0.2s\n",
            "[CV 1/5] END max_depth=2, max_leaf_nodes=None, min_samples_leaf=5, min_samples_split=2;, score=1.000 total time=   0.1s\n",
            "[CV 2/5] END max_depth=2, max_leaf_nodes=None, min_samples_leaf=5, min_samples_split=2;, score=1.000 total time=   0.1s\n",
            "[CV 3/5] END max_depth=2, max_leaf_nodes=None, min_samples_leaf=5, min_samples_split=2;, score=0.944 total time=   0.2s\n",
            "[CV 4/5] END max_depth=2, max_leaf_nodes=None, min_samples_leaf=5, min_samples_split=2;, score=0.889 total time=   0.1s\n",
            "[CV 5/5] END max_depth=2, max_leaf_nodes=None, min_samples_leaf=5, min_samples_split=2;, score=0.944 total time=   0.1s\n",
            "[CV 1/5] END max_depth=2, max_leaf_nodes=None, min_samples_leaf=5, min_samples_split=5;, score=1.000 total time=   0.1s\n",
            "[CV 2/5] END max_depth=2, max_leaf_nodes=None, min_samples_leaf=5, min_samples_split=5;, score=1.000 total time=   0.2s\n",
            "[CV 3/5] END max_depth=2, max_leaf_nodes=None, min_samples_leaf=5, min_samples_split=5;, score=1.000 total time=   0.1s\n",
            "[CV 4/5] END max_depth=2, max_leaf_nodes=None, min_samples_leaf=5, min_samples_split=5;, score=0.889 total time=   0.2s\n",
            "[CV 5/5] END max_depth=2, max_leaf_nodes=None, min_samples_leaf=5, min_samples_split=5;, score=0.944 total time=   0.2s\n",
            "[CV 1/5] END max_depth=2, max_leaf_nodes=5, min_samples_leaf=1, min_samples_split=2;, score=1.000 total time=   0.2s\n",
            "[CV 2/5] END max_depth=2, max_leaf_nodes=5, min_samples_leaf=1, min_samples_split=2;, score=1.000 total time=   0.1s\n",
            "[CV 3/5] END max_depth=2, max_leaf_nodes=5, min_samples_leaf=1, min_samples_split=2;, score=0.944 total time=   0.2s\n",
            "[CV 4/5] END max_depth=2, max_leaf_nodes=5, min_samples_leaf=1, min_samples_split=2;, score=0.889 total time=   0.1s\n",
            "[CV 5/5] END max_depth=2, max_leaf_nodes=5, min_samples_leaf=1, min_samples_split=2;, score=0.944 total time=   0.2s\n",
            "[CV 1/5] END max_depth=2, max_leaf_nodes=5, min_samples_leaf=1, min_samples_split=5;, score=1.000 total time=   0.1s\n",
            "[CV 2/5] END max_depth=2, max_leaf_nodes=5, min_samples_leaf=1, min_samples_split=5;, score=1.000 total time=   0.2s\n",
            "[CV 3/5] END max_depth=2, max_leaf_nodes=5, min_samples_leaf=1, min_samples_split=5;, score=0.944 total time=   0.2s\n",
            "[CV 4/5] END max_depth=2, max_leaf_nodes=5, min_samples_leaf=1, min_samples_split=5;, score=0.889 total time=   0.2s\n",
            "[CV 5/5] END max_depth=2, max_leaf_nodes=5, min_samples_leaf=1, min_samples_split=5;, score=0.944 total time=   0.2s\n",
            "[CV 1/5] END max_depth=2, max_leaf_nodes=5, min_samples_leaf=5, min_samples_split=2;, score=1.000 total time=   0.1s\n",
            "[CV 2/5] END max_depth=2, max_leaf_nodes=5, min_samples_leaf=5, min_samples_split=2;, score=1.000 total time=   0.1s\n",
            "[CV 3/5] END max_depth=2, max_leaf_nodes=5, min_samples_leaf=5, min_samples_split=2;, score=0.944 total time=   0.2s\n",
            "[CV 4/5] END max_depth=2, max_leaf_nodes=5, min_samples_leaf=5, min_samples_split=2;, score=0.889 total time=   0.1s\n",
            "[CV 5/5] END max_depth=2, max_leaf_nodes=5, min_samples_leaf=5, min_samples_split=2;, score=0.944 total time=   0.2s\n",
            "[CV 1/5] END max_depth=2, max_leaf_nodes=5, min_samples_leaf=5, min_samples_split=5;, score=1.000 total time=   0.2s\n",
            "[CV 2/5] END max_depth=2, max_leaf_nodes=5, min_samples_leaf=5, min_samples_split=5;, score=1.000 total time=   0.2s\n",
            "[CV 3/5] END max_depth=2, max_leaf_nodes=5, min_samples_leaf=5, min_samples_split=5;, score=0.944 total time=   0.1s\n",
            "[CV 4/5] END max_depth=2, max_leaf_nodes=5, min_samples_leaf=5, min_samples_split=5;, score=0.889 total time=   0.2s\n",
            "[CV 5/5] END max_depth=2, max_leaf_nodes=5, min_samples_leaf=5, min_samples_split=5;, score=0.944 total time=   0.2s\n",
            "[CV 1/5] END max_depth=2, max_leaf_nodes=10, min_samples_leaf=1, min_samples_split=2;, score=1.000 total time=   0.1s\n",
            "[CV 2/5] END max_depth=2, max_leaf_nodes=10, min_samples_leaf=1, min_samples_split=2;, score=1.000 total time=   0.1s\n",
            "[CV 3/5] END max_depth=2, max_leaf_nodes=10, min_samples_leaf=1, min_samples_split=2;, score=0.944 total time=   0.2s\n",
            "[CV 4/5] END max_depth=2, max_leaf_nodes=10, min_samples_leaf=1, min_samples_split=2;, score=0.889 total time=   0.1s\n",
            "[CV 5/5] END max_depth=2, max_leaf_nodes=10, min_samples_leaf=1, min_samples_split=2;, score=0.944 total time=   0.2s\n",
            "[CV 1/5] END max_depth=2, max_leaf_nodes=10, min_samples_leaf=1, min_samples_split=5;, score=1.000 total time=   0.1s\n",
            "[CV 2/5] END max_depth=2, max_leaf_nodes=10, min_samples_leaf=1, min_samples_split=5;, score=1.000 total time=   0.2s\n",
            "[CV 3/5] END max_depth=2, max_leaf_nodes=10, min_samples_leaf=1, min_samples_split=5;, score=0.944 total time=   0.1s\n",
            "[CV 4/5] END max_depth=2, max_leaf_nodes=10, min_samples_leaf=1, min_samples_split=5;, score=0.889 total time=   0.1s\n",
            "[CV 5/5] END max_depth=2, max_leaf_nodes=10, min_samples_leaf=1, min_samples_split=5;, score=0.944 total time=   0.2s\n",
            "[CV 1/5] END max_depth=2, max_leaf_nodes=10, min_samples_leaf=5, min_samples_split=2;, score=1.000 total time=   0.2s\n",
            "[CV 2/5] END max_depth=2, max_leaf_nodes=10, min_samples_leaf=5, min_samples_split=2;, score=1.000 total time=   0.2s\n",
            "[CV 3/5] END max_depth=2, max_leaf_nodes=10, min_samples_leaf=5, min_samples_split=2;, score=0.944 total time=   0.1s\n",
            "[CV 4/5] END max_depth=2, max_leaf_nodes=10, min_samples_leaf=5, min_samples_split=2;, score=0.889 total time=   0.1s\n",
            "[CV 5/5] END max_depth=2, max_leaf_nodes=10, min_samples_leaf=5, min_samples_split=2;, score=0.944 total time=   0.2s\n",
            "[CV 1/5] END max_depth=2, max_leaf_nodes=10, min_samples_leaf=5, min_samples_split=5;, score=1.000 total time=   0.1s\n",
            "[CV 2/5] END max_depth=2, max_leaf_nodes=10, min_samples_leaf=5, min_samples_split=5;, score=1.000 total time=   0.2s\n",
            "[CV 3/5] END max_depth=2, max_leaf_nodes=10, min_samples_leaf=5, min_samples_split=5;, score=0.944 total time=   0.1s\n",
            "[CV 4/5] END max_depth=2, max_leaf_nodes=10, min_samples_leaf=5, min_samples_split=5;, score=0.889 total time=   0.2s\n",
            "[CV 5/5] END max_depth=2, max_leaf_nodes=10, min_samples_leaf=5, min_samples_split=5;, score=0.944 total time=   0.1s\n",
            "[CV 1/5] END max_depth=5, max_leaf_nodes=None, min_samples_leaf=1, min_samples_split=2;, score=1.000 total time=   0.1s\n",
            "[CV 2/5] END max_depth=5, max_leaf_nodes=None, min_samples_leaf=1, min_samples_split=2;, score=1.000 total time=   0.2s\n",
            "[CV 3/5] END max_depth=5, max_leaf_nodes=None, min_samples_leaf=1, min_samples_split=2;, score=0.944 total time=   0.2s\n",
            "[CV 4/5] END max_depth=5, max_leaf_nodes=None, min_samples_leaf=1, min_samples_split=2;, score=0.889 total time=   0.1s\n",
            "[CV 5/5] END max_depth=5, max_leaf_nodes=None, min_samples_leaf=1, min_samples_split=2;, score=0.944 total time=   0.1s\n",
            "[CV 1/5] END max_depth=5, max_leaf_nodes=None, min_samples_leaf=1, min_samples_split=5;, score=1.000 total time=   0.2s\n",
            "[CV 2/5] END max_depth=5, max_leaf_nodes=None, min_samples_leaf=1, min_samples_split=5;, score=1.000 total time=   0.1s\n",
            "[CV 3/5] END max_depth=5, max_leaf_nodes=None, min_samples_leaf=1, min_samples_split=5;, score=1.000 total time=   0.1s\n",
            "[CV 4/5] END max_depth=5, max_leaf_nodes=None, min_samples_leaf=1, min_samples_split=5;, score=0.889 total time=   0.2s\n",
            "[CV 5/5] END max_depth=5, max_leaf_nodes=None, min_samples_leaf=1, min_samples_split=5;, score=0.944 total time=   0.1s\n",
            "[CV 1/5] END max_depth=5, max_leaf_nodes=None, min_samples_leaf=5, min_samples_split=2;, score=1.000 total time=   0.1s\n",
            "[CV 2/5] END max_depth=5, max_leaf_nodes=None, min_samples_leaf=5, min_samples_split=2;, score=1.000 total time=   0.1s\n",
            "[CV 3/5] END max_depth=5, max_leaf_nodes=None, min_samples_leaf=5, min_samples_split=2;, score=0.944 total time=   0.1s\n",
            "[CV 4/5] END max_depth=5, max_leaf_nodes=None, min_samples_leaf=5, min_samples_split=2;, score=0.889 total time=   0.1s\n",
            "[CV 5/5] END max_depth=5, max_leaf_nodes=None, min_samples_leaf=5, min_samples_split=2;, score=0.944 total time=   0.1s\n",
            "[CV 1/5] END max_depth=5, max_leaf_nodes=None, min_samples_leaf=5, min_samples_split=5;, score=1.000 total time=   0.2s\n",
            "[CV 2/5] END max_depth=5, max_leaf_nodes=None, min_samples_leaf=5, min_samples_split=5;, score=1.000 total time=   0.1s\n",
            "[CV 3/5] END max_depth=5, max_leaf_nodes=None, min_samples_leaf=5, min_samples_split=5;, score=0.944 total time=   0.1s\n",
            "[CV 4/5] END max_depth=5, max_leaf_nodes=None, min_samples_leaf=5, min_samples_split=5;, score=0.889 total time=   0.1s\n",
            "[CV 5/5] END max_depth=5, max_leaf_nodes=None, min_samples_leaf=5, min_samples_split=5;, score=0.944 total time=   0.1s\n",
            "[CV 1/5] END max_depth=5, max_leaf_nodes=5, min_samples_leaf=1, min_samples_split=2;, score=1.000 total time=   0.1s\n",
            "[CV 2/5] END max_depth=5, max_leaf_nodes=5, min_samples_leaf=1, min_samples_split=2;, score=1.000 total time=   0.2s\n",
            "[CV 3/5] END max_depth=5, max_leaf_nodes=5, min_samples_leaf=1, min_samples_split=2;, score=1.000 total time=   0.1s\n",
            "[CV 4/5] END max_depth=5, max_leaf_nodes=5, min_samples_leaf=1, min_samples_split=2;, score=0.889 total time=   0.2s\n",
            "[CV 5/5] END max_depth=5, max_leaf_nodes=5, min_samples_leaf=1, min_samples_split=2;, score=0.944 total time=   0.1s\n",
            "[CV 1/5] END max_depth=5, max_leaf_nodes=5, min_samples_leaf=1, min_samples_split=5;, score=1.000 total time=   0.2s\n",
            "[CV 2/5] END max_depth=5, max_leaf_nodes=5, min_samples_leaf=1, min_samples_split=5;, score=1.000 total time=   0.2s\n",
            "[CV 3/5] END max_depth=5, max_leaf_nodes=5, min_samples_leaf=1, min_samples_split=5;, score=0.944 total time=   0.2s\n",
            "[CV 4/5] END max_depth=5, max_leaf_nodes=5, min_samples_leaf=1, min_samples_split=5;, score=0.889 total time=   0.1s\n",
            "[CV 5/5] END max_depth=5, max_leaf_nodes=5, min_samples_leaf=1, min_samples_split=5;, score=0.944 total time=   0.2s\n",
            "[CV 1/5] END max_depth=5, max_leaf_nodes=5, min_samples_leaf=5, min_samples_split=2;, score=1.000 total time=   0.2s\n",
            "[CV 2/5] END max_depth=5, max_leaf_nodes=5, min_samples_leaf=5, min_samples_split=2;, score=1.000 total time=   0.2s\n",
            "[CV 3/5] END max_depth=5, max_leaf_nodes=5, min_samples_leaf=5, min_samples_split=2;, score=1.000 total time=   0.2s\n",
            "[CV 4/5] END max_depth=5, max_leaf_nodes=5, min_samples_leaf=5, min_samples_split=2;, score=0.889 total time=   0.2s\n",
            "[CV 5/5] END max_depth=5, max_leaf_nodes=5, min_samples_leaf=5, min_samples_split=2;, score=0.944 total time=   0.1s\n",
            "[CV 1/5] END max_depth=5, max_leaf_nodes=5, min_samples_leaf=5, min_samples_split=5;, score=1.000 total time=   0.2s\n",
            "[CV 2/5] END max_depth=5, max_leaf_nodes=5, min_samples_leaf=5, min_samples_split=5;, score=1.000 total time=   0.2s\n",
            "[CV 3/5] END max_depth=5, max_leaf_nodes=5, min_samples_leaf=5, min_samples_split=5;, score=1.000 total time=   0.2s\n",
            "[CV 4/5] END max_depth=5, max_leaf_nodes=5, min_samples_leaf=5, min_samples_split=5;, score=0.889 total time=   0.2s\n",
            "[CV 5/5] END max_depth=5, max_leaf_nodes=5, min_samples_leaf=5, min_samples_split=5;, score=0.944 total time=   0.2s\n",
            "[CV 1/5] END max_depth=5, max_leaf_nodes=10, min_samples_leaf=1, min_samples_split=2;, score=1.000 total time=   0.1s\n",
            "[CV 2/5] END max_depth=5, max_leaf_nodes=10, min_samples_leaf=1, min_samples_split=2;, score=1.000 total time=   0.1s\n",
            "[CV 3/5] END max_depth=5, max_leaf_nodes=10, min_samples_leaf=1, min_samples_split=2;, score=0.944 total time=   0.1s\n",
            "[CV 4/5] END max_depth=5, max_leaf_nodes=10, min_samples_leaf=1, min_samples_split=2;, score=0.889 total time=   0.2s\n",
            "[CV 5/5] END max_depth=5, max_leaf_nodes=10, min_samples_leaf=1, min_samples_split=2;, score=0.944 total time=   0.1s\n",
            "[CV 1/5] END max_depth=5, max_leaf_nodes=10, min_samples_leaf=1, min_samples_split=5;, score=1.000 total time=   0.2s\n",
            "[CV 2/5] END max_depth=5, max_leaf_nodes=10, min_samples_leaf=1, min_samples_split=5;, score=1.000 total time=   0.2s\n",
            "[CV 3/5] END max_depth=5, max_leaf_nodes=10, min_samples_leaf=1, min_samples_split=5;, score=1.000 total time=   0.1s\n",
            "[CV 4/5] END max_depth=5, max_leaf_nodes=10, min_samples_leaf=1, min_samples_split=5;, score=0.889 total time=   0.1s\n",
            "[CV 5/5] END max_depth=5, max_leaf_nodes=10, min_samples_leaf=1, min_samples_split=5;, score=0.944 total time=   0.1s\n",
            "[CV 1/5] END max_depth=5, max_leaf_nodes=10, min_samples_leaf=5, min_samples_split=2;, score=1.000 total time=   0.2s\n",
            "[CV 2/5] END max_depth=5, max_leaf_nodes=10, min_samples_leaf=5, min_samples_split=2;, score=1.000 total time=   0.2s\n",
            "[CV 3/5] END max_depth=5, max_leaf_nodes=10, min_samples_leaf=5, min_samples_split=2;, score=0.944 total time=   0.1s\n",
            "[CV 4/5] END max_depth=5, max_leaf_nodes=10, min_samples_leaf=5, min_samples_split=2;, score=0.889 total time=   0.1s\n",
            "[CV 5/5] END max_depth=5, max_leaf_nodes=10, min_samples_leaf=5, min_samples_split=2;, score=0.944 total time=   0.1s\n",
            "[CV 1/5] END max_depth=5, max_leaf_nodes=10, min_samples_leaf=5, min_samples_split=5;, score=1.000 total time=   0.2s\n",
            "[CV 2/5] END max_depth=5, max_leaf_nodes=10, min_samples_leaf=5, min_samples_split=5;, score=1.000 total time=   0.2s\n",
            "[CV 3/5] END max_depth=5, max_leaf_nodes=10, min_samples_leaf=5, min_samples_split=5;, score=0.944 total time=   0.2s\n",
            "[CV 4/5] END max_depth=5, max_leaf_nodes=10, min_samples_leaf=5, min_samples_split=5;, score=0.889 total time=   0.1s\n",
            "[CV 5/5] END max_depth=5, max_leaf_nodes=10, min_samples_leaf=5, min_samples_split=5;, score=0.944 total time=   0.1s\n",
            "Accuracy of the tuned model: 0.9667\n",
            "{'max_depth': None, 'max_leaf_nodes': None, 'min_samples_leaf': 1, 'min_samples_split': 2}\n"
          ]
        }
      ]
    },
    {
      "cell_type": "code",
      "source": [
        "# tuning on test data\n",
        "\n",
        "from sklearn.metrics import classification_report, confusion_matrix \n",
        "\n",
        "grid_predictions = grid.predict(X_test)\n",
        "print(sns.heatmap(confusion_matrix(y_test,grid_predictions),annot=True))\n",
        "print(classification_report(y_test,grid_predictions))"
      ],
      "metadata": {
        "colab": {
          "base_uri": "https://localhost:8080/",
          "height": 456
        },
        "id": "dUGuXvKktEqt",
        "outputId": "a1a3298c-ca2e-477d-ab58-f630a7b4c992"
      },
      "execution_count": null,
      "outputs": [
        {
          "output_type": "stream",
          "name": "stdout",
          "text": [
            "AxesSubplot(0.125,0.125;0.62x0.755)\n",
            "                 precision    recall  f1-score   support\n",
            "\n",
            "    Iris-setosa       1.00      1.00      1.00        16\n",
            "Iris-versicolor       0.85      0.96      0.90        23\n",
            " Iris-virginica       0.94      0.81      0.87        21\n",
            "\n",
            "       accuracy                           0.92        60\n",
            "      macro avg       0.93      0.92      0.92        60\n",
            "   weighted avg       0.92      0.92      0.92        60\n",
            "\n"
          ]
        },
        {
          "output_type": "display_data",
          "data": {
            "text/plain": [
              "<Figure size 432x288 with 2 Axes>"
            ],
            "image/png": "[encoded data removed]"
          },
          "metadata": {
            "needs_background": "light"
          }
        }
      ]
    },
    {
      "cell_type": "markdown",
      "source": [
        "**Task - 5**"
      ],
      "metadata": {
        "id": "tnNnNUeOtMiN"
      }
    },
    {
      "cell_type": "markdown",
      "source": [
        "**PCA**"
      ],
      "metadata": {
        "id": "nBjJ5HZ-tQ4C"
      }
    },
    {
      "cell_type": "code",
      "source": [
        "from sklearn.decomposition import PCA\n",
        "\n",
        "from sklearn import datasets\n",
        "\n",
        "iris = datasets.load_iris() \n",
        "\n",
        "df = pd.DataFrame(iris.data) \n",
        "\n",
        "df.columns = iris.feature_names \n",
        "\n",
        "df['type'] = iris.target \n",
        "\n",
        "print(iris.feature_names)\n",
        "\n",
        "print(df['type'])\n",
        "\n",
        "print(iris.target_names)\n",
        "\n",
        "print(df.head())\n",
        "\n"
      ],
      "metadata": {
        "colab": {
          "base_uri": "https://localhost:8080/"
        },
        "id": "2Sar6c5PtSZF",
        "outputId": "d970061f-dabe-4649-ca5e-ad5127b50eee"
      },
      "execution_count": null,
      "outputs": [
        {
          "output_type": "stream",
          "name": "stdout",
          "text": [
            "['sepal length (cm)', 'sepal width (cm)', 'petal length (cm)', 'petal width (cm)']\n",
            "0      0\n",
            "1      0\n",
            "2      0\n",
            "3      0\n",
            "4      0\n",
            "      ..\n",
            "145    2\n",
            "146    2\n",
            "147    2\n",
            "148    2\n",
            "149    2\n",
            "Name: type, Length: 150, dtype: int64\n",
            "['setosa' 'versicolor' 'virginica']\n",
            "   sepal length (cm)  sepal width (cm)  petal length (cm)  petal width (cm)  \\\n",
            "0                5.1               3.5                1.4               0.2   \n",
            "1                4.9               3.0                1.4               0.2   \n",
            "2                4.7               3.2                1.3               0.2   \n",
            "3                4.6               3.1                1.5               0.2   \n",
            "4                5.0               3.6                1.4               0.2   \n",
            "\n",
            "   type  \n",
            "0     0  \n",
            "1     0  \n",
            "2     0  \n",
            "3     0  \n",
            "4     0  \n"
          ]
        }
      ]
    },
    {
      "cell_type": "code",
      "source": [
        "type_dict = {\n",
        "    0:iris.target_names[0],\n",
        "    1:iris.target_names[1],\n",
        "    2:iris.target_names[2]\n",
        "}\n",
        "\n",
        "df['name'] = [type_dict[x] for x in df.type]\n",
        "\n",
        "sns.scatterplot(df['sepal length (cm)'], df['sepal width (cm)'], hue = df['name'])\n",
        "plt.title('clusters sepal length vs sepal width')\n",
        "plt.show()"
      ],
      "metadata": {
        "colab": {
          "base_uri": "https://localhost:8080/",
          "height": 350
        },
        "id": "9dyQd9eDccAw",
        "outputId": "f12c08ff-52eb-46ef-aa45-39ce27fa83b8"
      },
      "execution_count": null,
      "outputs": [
        {
          "output_type": "stream",
          "name": "stderr",
          "text": [
            "/usr/local/lib/python3.7/dist-packages/seaborn/_decorators.py:43: FutureWarning: Pass the following variables as keyword args: x, y. From version 0.12, the only valid positional argument will be `data`, and passing other arguments without an explicit keyword will result in an error or misinterpretation.\n",
            "  FutureWarning\n"
          ]
        },
        {
          "output_type": "display_data",
          "data": {
            "text/plain": [
              "<Figure size 432x288 with 1 Axes>"
            ],
            "image/png": "[encoded data removed]"
          },
          "metadata": {
            "needs_background": "light"
          }
        }
      ]
    },
    {
      "cell_type": "code",
      "source": [
        "sns.scatterplot(df['petal length (cm)'], df['petal width (cm)'], hue = df['name'])\n",
        "plt.title('clusters of petal length vs petal width')\n",
        "plt.show()"
      ],
      "metadata": {
        "colab": {
          "base_uri": "https://localhost:8080/",
          "height": 350
        },
        "id": "tOWEkMy7dJ1z",
        "outputId": "31d5d029-74e8-4f7d-a100-562738f1cf94"
      },
      "execution_count": null,
      "outputs": [
        {
          "output_type": "stream",
          "name": "stderr",
          "text": [
            "/usr/local/lib/python3.7/dist-packages/seaborn/_decorators.py:43: FutureWarning: Pass the following variables as keyword args: x, y. From version 0.12, the only valid positional argument will be `data`, and passing other arguments without an explicit keyword will result in an error or misinterpretation.\n",
            "  FutureWarning\n"
          ]
        },
        {
          "output_type": "display_data",
          "data": {
            "text/plain": [
              "<Figure size 432x288 with 1 Axes>"
            ],
            "image/png": "[encoded data removed]"
          },
          "metadata": {
            "needs_background": "light"
          }
        }
      ]
    },
    {
      "cell_type": "code",
      "source": [
        "from sklearn.preprocessing import StandardScaler\n",
        "\n",
        "x = df.drop(['type', 'name'], axis=1).values\n",
        "\n",
        "df[['petal length (cm)', 'petal width (cm)','sepal length (cm)','sepal width (cm)']]"
      ],
      "metadata": {
        "colab": {
          "base_uri": "https://localhost:8080/",
          "height": 424
        },
        "id": "ShONKp6IdX06",
        "outputId": "e57c0406-349e-4b97-ba7b-b5f329997094"
      },
      "execution_count": null,
      "outputs": [
        {
          "output_type": "execute_result",
          "data": {
            "text/plain": [
              "     petal length (cm)  petal width (cm)  sepal length (cm)  sepal width (cm)\n",
              "0                  1.4               0.2                5.1               3.5\n",
              "1                  1.4               0.2                4.9               3.0\n",
              "2                  1.3               0.2                4.7               3.2\n",
              "3                  1.5               0.2                4.6               3.1\n",
              "4                  1.4               0.2                5.0               3.6\n",
              "..                 ...               ...                ...               ...\n",
              "145                5.2               2.3                6.7               3.0\n",
              "146                5.0               1.9                6.3               2.5\n",
              "147                5.2               2.0                6.5               3.0\n",
              "148                5.4               2.3                6.2               3.4\n",
              "149                5.1               1.8                5.9               3.0\n",
              "\n",
              "[150 rows x 4 columns]"
            ],
            "text/html": [
              "\n",
              "  <div id=\"df-30e3a68a-acff-442c-9edd-0e9907b50b46\">\n",
              "    <div class=\"colab-df-container\">\n",
              "      <div>\n",
              "<style scoped>\n",
              "    .dataframe tbody tr th:only-of-type {\n",
              "        vertical-align: middle;\n",
              "    }\n",
              "\n",
              "    .dataframe tbody tr th {\n",
              "        vertical-align: top;\n",
              "    }\n",
              "\n",
              "    .dataframe thead th {\n",
              "        text-align: right;\n",
              "    }\n",
              "</style>\n",
              "<table border=\"1\" class=\"dataframe\">\n",
              "  <thead>\n",
              "    <tr style=\"text-align: right;\">\n",
              "      <th></th>\n",
              "      <th>petal length (cm)</th>\n",
              "      <th>petal width (cm)</th>\n",
              "      <th>sepal length (cm)</th>\n",
              "      <th>sepal width (cm)</th>\n",
              "    </tr>\n",
              "  </thead>\n",
              "  <tbody>\n",
              "    <tr>\n",
              "      <th>0</th>\n",
              "      <td>1.4</td>\n",
              "      <td>0.2</td>\n",
              "      <td>5.1</td>\n",
              "      <td>3.5</td>\n",
              "    </tr>\n",
              "    <tr>\n",
              "      <th>1</th>\n",
              "      <td>1.4</td>\n",
              "      <td>0.2</td>\n",
              "      <td>4.9</td>\n",
              "      <td>3.0</td>\n",
              "    </tr>\n",
              "    <tr>\n",
              "      <th>2</th>\n",
              "      <td>1.3</td>\n",
              "      <td>0.2</td>\n",
              "      <td>4.7</td>\n",
              "      <td>3.2</td>\n",
              "    </tr>\n",
              "    <tr>\n",
              "      <th>3</th>\n",
              "      <td>1.5</td>\n",
              "      <td>0.2</td>\n",
              "      <td>4.6</td>\n",
              "      <td>3.1</td>\n",
              "    </tr>\n",
              "    <tr>\n",
              "      <th>4</th>\n",
              "      <td>1.4</td>\n",
              "      <td>0.2</td>\n",
              "      <td>5.0</td>\n",
              "      <td>3.6</td>\n",
              "    </tr>\n",
              "    <tr>\n",
              "      <th>...</th>\n",
              "      <td>...</td>\n",
              "      <td>...</td>\n",
              "      <td>...</td>\n",
              "      <td>...</td>\n",
              "    </tr>\n",
              "    <tr>\n",
              "      <th>145</th>\n",
              "      <td>5.2</td>\n",
              "      <td>2.3</td>\n",
              "      <td>6.7</td>\n",
              "      <td>3.0</td>\n",
              "    </tr>\n",
              "    <tr>\n",
              "      <th>146</th>\n",
              "      <td>5.0</td>\n",
              "      <td>1.9</td>\n",
              "      <td>6.3</td>\n",
              "      <td>2.5</td>\n",
              "    </tr>\n",
              "    <tr>\n",
              "      <th>147</th>\n",
              "      <td>5.2</td>\n",
              "      <td>2.0</td>\n",
              "      <td>6.5</td>\n",
              "      <td>3.0</td>\n",
              "    </tr>\n",
              "    <tr>\n",
              "      <th>148</th>\n",
              "      <td>5.4</td>\n",
              "      <td>2.3</td>\n",
              "      <td>6.2</td>\n",
              "      <td>3.4</td>\n",
              "    </tr>\n",
              "    <tr>\n",
              "      <th>149</th>\n",
              "      <td>5.1</td>\n",
              "      <td>1.8</td>\n",
              "      <td>5.9</td>\n",
              "      <td>3.0</td>\n",
              "    </tr>\n",
              "  </tbody>\n",
              "</table>\n",
              "<p>150 rows × 4 columns</p>\n",
              "</div>\n",
              "      <button class=\"colab-df-convert\" onclick=\"convertToInteractive('df-30e3a68a-acff-442c-9edd-0e9907b50b46')\"\n",
              "              title=\"Convert this dataframe to an interactive table.\"\n",
              "              style=\"display:none;\">\n",
              "        \n",
              "  <svg xmlns=\"http://www.w3.org/2000/svg\" height=\"24px\"viewBox=\"0 0 24 24\"\n",
              "       width=\"24px\">\n",
              "    <path d=\"M0 0h24v24H0V0z\" fill=\"none\"/>\n",
              "    <path d=\"M18.56 5.44l.94 2.06.94-2.06 2.06-.94-2.06-.94-.94-2.06-.94 2.06-2.06.94zm-11 1L8.5 8.5l.94-2.06 2.06-.94-2.06-.94L8.5 2.5l-.94 2.06-2.06.94zm10 10l.94 2.06.94-2.06 2.06-.94-2.06-.94-.94-2.06-.94 2.06-2.06.94z\"/><path d=\"M17.41 7.96l-1.37-1.37c-.4-.4-.92-.59-1.43-.59-.52 0-1.04.2-1.43.59L10.3 9.45l-7.72 7.72c-.78.78-.78 2.05 0 2.83L4 21.41c.39.39.9.59 1.41.59.51 0 1.02-.2 1.41-.59l7.78-7.78 2.81-2.81c.8-.78.8-2.07 0-2.86zM5.41 20L4 18.59l7.72-7.72 1.47 1.35L5.41 20z\"/>\n",
              "  </svg>\n",
              "      </button>\n",
              "      \n",
              "  <style>\n",
              "    .colab-df-container {\n",
              "      display:flex;\n",
              "      flex-wrap:wrap;\n",
              "      gap: 12px;\n",
              "    }\n",
              "\n",
              "    .colab-df-convert {\n",
              "      background-color: #E8F0FE;\n",
              "      border: none;\n",
              "      border-radius: 50%;\n",
              "      cursor: pointer;\n",
              "      display: none;\n",
              "      fill: #1967D2;\n",
              "      height: 32px;\n",
              "      padding: 0 0 0 0;\n",
              "      width: 32px;\n",
              "    }\n",
              "\n",
              "    .colab-df-convert:hover {\n",
              "      background-color: #E2EBFA;\n",
              "      box-shadow: 0px 1px 2px rgba(60, 64, 67, 0.3), 0px 1px 3px 1px rgba(60, 64, 67, 0.15);\n",
              "      fill: #174EA6;\n",
              "    }\n",
              "\n",
              "    [theme=dark] .colab-df-convert {\n",
              "      background-color: #3B4455;\n",
              "      fill: #D2E3FC;\n",
              "    }\n",
              "\n",
              "    [theme=dark] .colab-df-convert:hover {\n",
              "      background-color: #434B5C;\n",
              "      box-shadow: 0px 1px 3px 1px rgba(0, 0, 0, 0.15);\n",
              "      filter: drop-shadow(0px 1px 2px rgba(0, 0, 0, 0.3));\n",
              "      fill: #FFFFFF;\n",
              "    }\n",
              "  </style>\n",
              "\n",
              "      <script>\n",
              "        const buttonEl =\n",
              "          document.querySelector('#df-30e3a68a-acff-442c-9edd-0e9907b50b46 button.colab-df-convert');\n",
              "        buttonEl.style.display =\n",
              "          google.colab.kernel.accessAllowed ? 'block' : 'none';\n",
              "\n",
              "        async function convertToInteractive(key) {\n",
              "          const element = document.querySelector('#df-30e3a68a-acff-442c-9edd-0e9907b50b46');\n",
              "          const dataTable =\n",
              "            await google.colab.kernel.invokeFunction('convertToInteractive',\n",
              "                                                     [key], {});\n",
              "          if (!dataTable) return;\n",
              "\n",
              "          const docLinkHtml = 'Like what you see? Visit the ' +\n",
              "            '<a target=\"_blank\" href=https://colab.research.google.com/notebooks/data_table.ipynb>data table notebook</a>'\n",
              "            + ' to learn more about interactive tables.';\n",
              "          element.innerHTML = '';\n",
              "          dataTable['output_type'] = 'display_data';\n",
              "          await google.colab.output.renderOutput(dataTable, element);\n",
              "          const docLink = document.createElement('div');\n",
              "          docLink.innerHTML = docLinkHtml;\n",
              "          element.appendChild(docLink);\n",
              "        }\n",
              "      </script>\n",
              "    </div>\n",
              "  </div>\n",
              "  "
            ]
          },
          "metadata": {},
          "execution_count": 280
        }
      ]
    },
    {
      "cell_type": "code",
      "source": [
        "x_scale = StandardScaler().fit_transform(x)\n",
        "\n",
        "print(\"Dataset after scaled\")\n",
        "pd.DataFrame(x_scale, columns = iris.feature_names)"
      ],
      "metadata": {
        "colab": {
          "base_uri": "https://localhost:8080/",
          "height": 441
        },
        "id": "uXRMMSlZdnAG",
        "outputId": "2de853f3-8b3b-4e1f-95c6-7466d99e5987"
      },
      "execution_count": null,
      "outputs": [
        {
          "output_type": "stream",
          "name": "stdout",
          "text": [
            "Dataset after scaled\n"
          ]
        },
        {
          "output_type": "execute_result",
          "data": {
            "text/plain": [
              "     sepal length (cm)  sepal width (cm)  petal length (cm)  petal width (cm)\n",
              "0            -0.900681          1.019004          -1.340227         -1.315444\n",
              "1            -1.143017         -0.131979          -1.340227         -1.315444\n",
              "2            -1.385353          0.328414          -1.397064         -1.315444\n",
              "3            -1.506521          0.098217          -1.283389         -1.315444\n",
              "4            -1.021849          1.249201          -1.340227         -1.315444\n",
              "..                 ...               ...                ...               ...\n",
              "145           1.038005         -0.131979           0.819596          1.448832\n",
              "146           0.553333         -1.282963           0.705921          0.922303\n",
              "147           0.795669         -0.131979           0.819596          1.053935\n",
              "148           0.432165          0.788808           0.933271          1.448832\n",
              "149           0.068662         -0.131979           0.762758          0.790671\n",
              "\n",
              "[150 rows x 4 columns]"
            ],
            "text/html": [
              "\n",
              "  <div id=\"df-4ebfceaa-2b22-4893-8c7d-3a00112a39f4\">\n",
              "    <div class=\"colab-df-container\">\n",
              "      <div>\n",
              "<style scoped>\n",
              "    .dataframe tbody tr th:only-of-type {\n",
              "        vertical-align: middle;\n",
              "    }\n",
              "\n",
              "    .dataframe tbody tr th {\n",
              "        vertical-align: top;\n",
              "    }\n",
              "\n",
              "    .dataframe thead th {\n",
              "        text-align: right;\n",
              "    }\n",
              "</style>\n",
              "<table border=\"1\" class=\"dataframe\">\n",
              "  <thead>\n",
              "    <tr style=\"text-align: right;\">\n",
              "      <th></th>\n",
              "      <th>sepal length (cm)</th>\n",
              "      <th>sepal width (cm)</th>\n",
              "      <th>petal length (cm)</th>\n",
              "      <th>petal width (cm)</th>\n",
              "    </tr>\n",
              "  </thead>\n",
              "  <tbody>\n",
              "    <tr>\n",
              "      <th>0</th>\n",
              "      <td>-0.900681</td>\n",
              "      <td>1.019004</td>\n",
              "      <td>-1.340227</td>\n",
              "      <td>-1.315444</td>\n",
              "    </tr>\n",
              "    <tr>\n",
              "      <th>1</th>\n",
              "      <td>-1.143017</td>\n",
              "      <td>-0.131979</td>\n",
              "      <td>-1.340227</td>\n",
              "      <td>-1.315444</td>\n",
              "    </tr>\n",
              "    <tr>\n",
              "      <th>2</th>\n",
              "      <td>-1.385353</td>\n",
              "      <td>0.328414</td>\n",
              "      <td>-1.397064</td>\n",
              "      <td>-1.315444</td>\n",
              "    </tr>\n",
              "    <tr>\n",
              "      <th>3</th>\n",
              "      <td>-1.506521</td>\n",
              "      <td>0.098217</td>\n",
              "      <td>-1.283389</td>\n",
              "      <td>-1.315444</td>\n",
              "    </tr>\n",
              "    <tr>\n",
              "      <th>4</th>\n",
              "      <td>-1.021849</td>\n",
              "      <td>1.249201</td>\n",
              "      <td>-1.340227</td>\n",
              "      <td>-1.315444</td>\n",
              "    </tr>\n",
              "    <tr>\n",
              "      <th>...</th>\n",
              "      <td>...</td>\n",
              "      <td>...</td>\n",
              "      <td>...</td>\n",
              "      <td>...</td>\n",
              "    </tr>\n",
              "    <tr>\n",
              "      <th>145</th>\n",
              "      <td>1.038005</td>\n",
              "      <td>-0.131979</td>\n",
              "      <td>0.819596</td>\n",
              "      <td>1.448832</td>\n",
              "    </tr>\n",
              "    <tr>\n",
              "      <th>146</th>\n",
              "      <td>0.553333</td>\n",
              "      <td>-1.282963</td>\n",
              "      <td>0.705921</td>\n",
              "      <td>0.922303</td>\n",
              "    </tr>\n",
              "    <tr>\n",
              "      <th>147</th>\n",
              "      <td>0.795669</td>\n",
              "      <td>-0.131979</td>\n",
              "      <td>0.819596</td>\n",
              "      <td>1.053935</td>\n",
              "    </tr>\n",
              "    <tr>\n",
              "      <th>148</th>\n",
              "      <td>0.432165</td>\n",
              "      <td>0.788808</td>\n",
              "      <td>0.933271</td>\n",
              "      <td>1.448832</td>\n",
              "    </tr>\n",
              "    <tr>\n",
              "      <th>149</th>\n",
              "      <td>0.068662</td>\n",
              "      <td>-0.131979</td>\n",
              "      <td>0.762758</td>\n",
              "      <td>0.790671</td>\n",
              "    </tr>\n",
              "  </tbody>\n",
              "</table>\n",
              "<p>150 rows × 4 columns</p>\n",
              "</div>\n",
              "      <button class=\"colab-df-convert\" onclick=\"convertToInteractive('df-4ebfceaa-2b22-4893-8c7d-3a00112a39f4')\"\n",
              "              title=\"Convert this dataframe to an interactive table.\"\n",
              "              style=\"display:none;\">\n",
              "        \n",
              "  <svg xmlns=\"http://www.w3.org/2000/svg\" height=\"24px\"viewBox=\"0 0 24 24\"\n",
              "       width=\"24px\">\n",
              "    <path d=\"M0 0h24v24H0V0z\" fill=\"none\"/>\n",
              "    <path d=\"M18.56 5.44l.94 2.06.94-2.06 2.06-.94-2.06-.94-.94-2.06-.94 2.06-2.06.94zm-11 1L8.5 8.5l.94-2.06 2.06-.94-2.06-.94L8.5 2.5l-.94 2.06-2.06.94zm10 10l.94 2.06.94-2.06 2.06-.94-2.06-.94-.94-2.06-.94 2.06-2.06.94z\"/><path d=\"M17.41 7.96l-1.37-1.37c-.4-.4-.92-.59-1.43-.59-.52 0-1.04.2-1.43.59L10.3 9.45l-7.72 7.72c-.78.78-.78 2.05 0 2.83L4 21.41c.39.39.9.59 1.41.59.51 0 1.02-.2 1.41-.59l7.78-7.78 2.81-2.81c.8-.78.8-2.07 0-2.86zM5.41 20L4 18.59l7.72-7.72 1.47 1.35L5.41 20z\"/>\n",
              "  </svg>\n",
              "      </button>\n",
              "      \n",
              "  <style>\n",
              "    .colab-df-container {\n",
              "      display:flex;\n",
              "      flex-wrap:wrap;\n",
              "      gap: 12px;\n",
              "    }\n",
              "\n",
              "    .colab-df-convert {\n",
              "      background-color: #E8F0FE;\n",
              "      border: none;\n",
              "      border-radius: 50%;\n",
              "      cursor: pointer;\n",
              "      display: none;\n",
              "      fill: #1967D2;\n",
              "      height: 32px;\n",
              "      padding: 0 0 0 0;\n",
              "      width: 32px;\n",
              "    }\n",
              "\n",
              "    .colab-df-convert:hover {\n",
              "      background-color: #E2EBFA;\n",
              "      box-shadow: 0px 1px 2px rgba(60, 64, 67, 0.3), 0px 1px 3px 1px rgba(60, 64, 67, 0.15);\n",
              "      fill: #174EA6;\n",
              "    }\n",
              "\n",
              "    [theme=dark] .colab-df-convert {\n",
              "      background-color: #3B4455;\n",
              "      fill: #D2E3FC;\n",
              "    }\n",
              "\n",
              "    [theme=dark] .colab-df-convert:hover {\n",
              "      background-color: #434B5C;\n",
              "      box-shadow: 0px 1px 3px 1px rgba(0, 0, 0, 0.15);\n",
              "      filter: drop-shadow(0px 1px 2px rgba(0, 0, 0, 0.3));\n",
              "      fill: #FFFFFF;\n",
              "    }\n",
              "  </style>\n",
              "\n",
              "      <script>\n",
              "        const buttonEl =\n",
              "          document.querySelector('#df-4ebfceaa-2b22-4893-8c7d-3a00112a39f4 button.colab-df-convert');\n",
              "        buttonEl.style.display =\n",
              "          google.colab.kernel.accessAllowed ? 'block' : 'none';\n",
              "\n",
              "        async function convertToInteractive(key) {\n",
              "          const element = document.querySelector('#df-4ebfceaa-2b22-4893-8c7d-3a00112a39f4');\n",
              "          const dataTable =\n",
              "            await google.colab.kernel.invokeFunction('convertToInteractive',\n",
              "                                                     [key], {});\n",
              "          if (!dataTable) return;\n",
              "\n",
              "          const docLinkHtml = 'Like what you see? Visit the ' +\n",
              "            '<a target=\"_blank\" href=https://colab.research.google.com/notebooks/data_table.ipynb>data table notebook</a>'\n",
              "            + ' to learn more about interactive tables.';\n",
              "          element.innerHTML = '';\n",
              "          dataTable['output_type'] = 'display_data';\n",
              "          await google.colab.output.renderOutput(dataTable, element);\n",
              "          const docLink = document.createElement('div');\n",
              "          docLink.innerHTML = docLinkHtml;\n",
              "          element.appendChild(docLink);\n",
              "        }\n",
              "      </script>\n",
              "    </div>\n",
              "  </div>\n",
              "  "
            ]
          },
          "metadata": {},
          "execution_count": 281
        }
      ]
    },
    {
      "cell_type": "code",
      "source": [
        "from sklearn.decomposition import PCA\n",
        "\n",
        "pca = PCA(n_components=2)\n",
        "\n",
        "principalComponents = pca.fit_transform(x_scale)\n",
        "\n",
        "pca2_df = pd.DataFrame(data = principalComponents, columns = ['pca1', 'pca2'])\n",
        "\n",
        "sns.scatterplot(pca2_df.pca1, pca2_df.pca2, hue = df.name)\n",
        "plt.ylabel('Principal Component 1')\n",
        "plt.xlabel('Principal Component 2')\n",
        "plt.show()"
      ],
      "metadata": {
        "colab": {
          "base_uri": "https://localhost:8080/",
          "height": 334
        },
        "id": "DFNT2r3OeOxn",
        "outputId": "fb2820a9-5abd-4440-ddfd-95881e2f9708"
      },
      "execution_count": null,
      "outputs": [
        {
          "output_type": "stream",
          "name": "stderr",
          "text": [
            "/usr/local/lib/python3.7/dist-packages/seaborn/_decorators.py:43: FutureWarning: Pass the following variables as keyword args: x, y. From version 0.12, the only valid positional argument will be `data`, and passing other arguments without an explicit keyword will result in an error or misinterpretation.\n",
            "  FutureWarning\n"
          ]
        },
        {
          "output_type": "display_data",
          "data": {
            "text/plain": [
              "<Figure size 432x288 with 1 Axes>"
            ],
            "image/png": "[encoded data removed]"
          },
          "metadata": {
            "needs_background": "light"
          }
        }
      ]
    },
    {
      "cell_type": "code",
      "source": [
        "pcasolo = PCA(n_components = 1)\n",
        "solopca_vals = pcasolo.fit_transform(x_scale)\n",
        "zeros = [0 for i in range(150)]\n",
        "\n",
        "solo_components = []\n",
        "\n",
        "for i in solopca_vals:\n",
        "    solo_components.append(i[0])\n",
        "\n",
        "\n",
        "plt.figure(figsize = (10,4))\n",
        "sns.scatterplot(solo_components, zeros, hue=df.name)\n",
        "plt.title('Iris Data Set Reduced to Only One Component')\n",
        "plt.ylabel(' Y-axis, Just for Visual Purposes')\n",
        "plt.xlabel('The Axis Representing the Single Component, Essentially Just a Number Line')\n",
        "plt.show()\n",
        "\n",
        "\n"
      ],
      "metadata": {
        "colab": {
          "base_uri": "https://localhost:8080/",
          "height": 350
        },
        "id": "vw4YCMw7ef4D",
        "outputId": "a45474b6-afd7-44a0-f30c-dc6680c74141"
      },
      "execution_count": null,
      "outputs": [
        {
          "output_type": "stream",
          "name": "stderr",
          "text": [
            "/usr/local/lib/python3.7/dist-packages/seaborn/_decorators.py:43: FutureWarning: Pass the following variables as keyword args: x, y. From version 0.12, the only valid positional argument will be `data`, and passing other arguments without an explicit keyword will result in an error or misinterpretation.\n",
            "  FutureWarning\n"
          ]
        },
        {
          "output_type": "display_data",
          "data": {
            "text/plain": [
              "<Figure size 720x288 with 1 Axes>"
            ],
            "image/png": "[encoded data removed]"
          },
          "metadata": {
            "needs_background": "light"
          }
        }
      ]
    },
    {
      "cell_type": "code",
      "source": [
        "df_solo = pd.DataFrame(data=solo_components, columns=['pca1'])\n",
        "df_solo['name'] = df.type\n",
        "pca2_df['name'] = df.type\n",
        "\n",
        "pca2_df"
      ],
      "metadata": {
        "colab": {
          "base_uri": "https://localhost:8080/",
          "height": 424
        },
        "id": "njtLC9MsgFKj",
        "outputId": "0359e932-da8a-49ee-a2d4-e4fd6baf1879"
      },
      "execution_count": null,
      "outputs": [
        {
          "output_type": "execute_result",
          "data": {
            "text/plain": [
              "         pca1      pca2  name\n",
              "0   -2.264703  0.480027     0\n",
              "1   -2.080961 -0.674134     0\n",
              "2   -2.364229 -0.341908     0\n",
              "3   -2.299384 -0.597395     0\n",
              "4   -2.389842  0.646835     0\n",
              "..        ...       ...   ...\n",
              "145  1.870503  0.386966     2\n",
              "146  1.564580 -0.896687     2\n",
              "147  1.521170  0.269069     2\n",
              "148  1.372788  1.011254     2\n",
              "149  0.960656 -0.024332     2\n",
              "\n",
              "[150 rows x 3 columns]"
            ],
            "text/html": [
              "\n",
              "  <div id=\"df-3e40aa16-b04f-4d68-a2bb-099bfa74ad18\">\n",
              "    <div class=\"colab-df-container\">\n",
              "      <div>\n",
              "<style scoped>\n",
              "    .dataframe tbody tr th:only-of-type {\n",
              "        vertical-align: middle;\n",
              "    }\n",
              "\n",
              "    .dataframe tbody tr th {\n",
              "        vertical-align: top;\n",
              "    }\n",
              "\n",
              "    .dataframe thead th {\n",
              "        text-align: right;\n",
              "    }\n",
              "</style>\n",
              "<table border=\"1\" class=\"dataframe\">\n",
              "  <thead>\n",
              "    <tr style=\"text-align: right;\">\n",
              "      <th></th>\n",
              "      <th>pca1</th>\n",
              "      <th>pca2</th>\n",
              "      <th>name</th>\n",
              "    </tr>\n",
              "  </thead>\n",
              "  <tbody>\n",
              "    <tr>\n",
              "      <th>0</th>\n",
              "      <td>-2.264703</td>\n",
              "      <td>0.480027</td>\n",
              "      <td>0</td>\n",
              "    </tr>\n",
              "    <tr>\n",
              "      <th>1</th>\n",
              "      <td>-2.080961</td>\n",
              "      <td>-0.674134</td>\n",
              "      <td>0</td>\n",
              "    </tr>\n",
              "    <tr>\n",
              "      <th>2</th>\n",
              "      <td>-2.364229</td>\n",
              "      <td>-0.341908</td>\n",
              "      <td>0</td>\n",
              "    </tr>\n",
              "    <tr>\n",
              "      <th>3</th>\n",
              "      <td>-2.299384</td>\n",
              "      <td>-0.597395</td>\n",
              "      <td>0</td>\n",
              "    </tr>\n",
              "    <tr>\n",
              "      <th>4</th>\n",
              "      <td>-2.389842</td>\n",
              "      <td>0.646835</td>\n",
              "      <td>0</td>\n",
              "    </tr>\n",
              "    <tr>\n",
              "      <th>...</th>\n",
              "      <td>...</td>\n",
              "      <td>...</td>\n",
              "      <td>...</td>\n",
              "    </tr>\n",
              "    <tr>\n",
              "      <th>145</th>\n",
              "      <td>1.870503</td>\n",
              "      <td>0.386966</td>\n",
              "      <td>2</td>\n",
              "    </tr>\n",
              "    <tr>\n",
              "      <th>146</th>\n",
              "      <td>1.564580</td>\n",
              "      <td>-0.896687</td>\n",
              "      <td>2</td>\n",
              "    </tr>\n",
              "    <tr>\n",
              "      <th>147</th>\n",
              "      <td>1.521170</td>\n",
              "      <td>0.269069</td>\n",
              "      <td>2</td>\n",
              "    </tr>\n",
              "    <tr>\n",
              "      <th>148</th>\n",
              "      <td>1.372788</td>\n",
              "      <td>1.011254</td>\n",
              "      <td>2</td>\n",
              "    </tr>\n",
              "    <tr>\n",
              "      <th>149</th>\n",
              "      <td>0.960656</td>\n",
              "      <td>-0.024332</td>\n",
              "      <td>2</td>\n",
              "    </tr>\n",
              "  </tbody>\n",
              "</table>\n",
              "<p>150 rows × 3 columns</p>\n",
              "</div>\n",
              "      <button class=\"colab-df-convert\" onclick=\"convertToInteractive('df-3e40aa16-b04f-4d68-a2bb-099bfa74ad18')\"\n",
              "              title=\"Convert this dataframe to an interactive table.\"\n",
              "              style=\"display:none;\">\n",
              "        \n",
              "  <svg xmlns=\"http://www.w3.org/2000/svg\" height=\"24px\"viewBox=\"0 0 24 24\"\n",
              "       width=\"24px\">\n",
              "    <path d=\"M0 0h24v24H0V0z\" fill=\"none\"/>\n",
              "    <path d=\"M18.56 5.44l.94 2.06.94-2.06 2.06-.94-2.06-.94-.94-2.06-.94 2.06-2.06.94zm-11 1L8.5 8.5l.94-2.06 2.06-.94-2.06-.94L8.5 2.5l-.94 2.06-2.06.94zm10 10l.94 2.06.94-2.06 2.06-.94-2.06-.94-.94-2.06-.94 2.06-2.06.94z\"/><path d=\"M17.41 7.96l-1.37-1.37c-.4-.4-.92-.59-1.43-.59-.52 0-1.04.2-1.43.59L10.3 9.45l-7.72 7.72c-.78.78-.78 2.05 0 2.83L4 21.41c.39.39.9.59 1.41.59.51 0 1.02-.2 1.41-.59l7.78-7.78 2.81-2.81c.8-.78.8-2.07 0-2.86zM5.41 20L4 18.59l7.72-7.72 1.47 1.35L5.41 20z\"/>\n",
              "  </svg>\n",
              "      </button>\n",
              "      \n",
              "  <style>\n",
              "    .colab-df-container {\n",
              "      display:flex;\n",
              "      flex-wrap:wrap;\n",
              "      gap: 12px;\n",
              "    }\n",
              "\n",
              "    .colab-df-convert {\n",
              "      background-color: #E8F0FE;\n",
              "      border: none;\n",
              "      border-radius: 50%;\n",
              "      cursor: pointer;\n",
              "      display: none;\n",
              "      fill: #1967D2;\n",
              "      height: 32px;\n",
              "      padding: 0 0 0 0;\n",
              "      width: 32px;\n",
              "    }\n",
              "\n",
              "    .colab-df-convert:hover {\n",
              "      background-color: #E2EBFA;\n",
              "      box-shadow: 0px 1px 2px rgba(60, 64, 67, 0.3), 0px 1px 3px 1px rgba(60, 64, 67, 0.15);\n",
              "      fill: #174EA6;\n",
              "    }\n",
              "\n",
              "    [theme=dark] .colab-df-convert {\n",
              "      background-color: #3B4455;\n",
              "      fill: #D2E3FC;\n",
              "    }\n",
              "\n",
              "    [theme=dark] .colab-df-convert:hover {\n",
              "      background-color: #434B5C;\n",
              "      box-shadow: 0px 1px 3px 1px rgba(0, 0, 0, 0.15);\n",
              "      filter: drop-shadow(0px 1px 2px rgba(0, 0, 0, 0.3));\n",
              "      fill: #FFFFFF;\n",
              "    }\n",
              "  </style>\n",
              "\n",
              "      <script>\n",
              "        const buttonEl =\n",
              "          document.querySelector('#df-3e40aa16-b04f-4d68-a2bb-099bfa74ad18 button.colab-df-convert');\n",
              "        buttonEl.style.display =\n",
              "          google.colab.kernel.accessAllowed ? 'block' : 'none';\n",
              "\n",
              "        async function convertToInteractive(key) {\n",
              "          const element = document.querySelector('#df-3e40aa16-b04f-4d68-a2bb-099bfa74ad18');\n",
              "          const dataTable =\n",
              "            await google.colab.kernel.invokeFunction('convertToInteractive',\n",
              "                                                     [key], {});\n",
              "          if (!dataTable) return;\n",
              "\n",
              "          const docLinkHtml = 'Like what you see? Visit the ' +\n",
              "            '<a target=\"_blank\" href=https://colab.research.google.com/notebooks/data_table.ipynb>data table notebook</a>'\n",
              "            + ' to learn more about interactive tables.';\n",
              "          element.innerHTML = '';\n",
              "          dataTable['output_type'] = 'display_data';\n",
              "          await google.colab.output.renderOutput(dataTable, element);\n",
              "          const docLink = document.createElement('div');\n",
              "          docLink.innerHTML = docLinkHtml;\n",
              "          element.appendChild(docLink);\n",
              "        }\n",
              "      </script>\n",
              "    </div>\n",
              "  </div>\n",
              "  "
            ]
          },
          "metadata": {},
          "execution_count": 284
        }
      ]
    },
    {
      "cell_type": "code",
      "source": [
        "pca1_X_train, pca1_X_test, pca1_y_train, pca1_y_test = train_test_split(df_solo.drop(['name'], axis=1), df['type'])\n",
        "\n",
        "pca2_X_train, pca2_X_test, pca2_y_train, pca2_y_test = train_test_split(pca2_df.drop(['name'], axis=1),df['type'])\n",
        "\n",
        "                                                                     "
      ],
      "metadata": {
        "id": "7v2N-3GWgL7m"
      },
      "execution_count": null,
      "outputs": []
    },
    {
      "cell_type": "markdown",
      "source": [
        "**KNN**"
      ],
      "metadata": {
        "id": "942Kv21uhT7-"
      }
    },
    {
      "cell_type": "code",
      "source": [
        "# for pca1\n",
        "from sklearn.neighbors import KNeighborsClassifier\n",
        "KNN_classifier = KNeighborsClassifier(n_neighbors = 7, metric = 'minkowski', p = 2)\n",
        "KNN_classifier.fit(pca1_X_train, pca1_y_train)"
      ],
      "metadata": {
        "colab": {
          "base_uri": "https://localhost:8080/"
        },
        "id": "7uJIc7oVhWu8",
        "outputId": "31ba4ff4-9629-4307-921b-aaea913b316e"
      },
      "execution_count": null,
      "outputs": [
        {
          "output_type": "execute_result",
          "data": {
            "text/plain": [
              "KNeighborsClassifier(n_neighbors=7)"
            ]
          },
          "metadata": {},
          "execution_count": 286
        }
      ]
    },
    {
      "cell_type": "code",
      "source": [
        "pca1_y_pred = KNN_classifier.predict(pca1_X_test)\n",
        "\n",
        "print(pca1_y_pred)"
      ],
      "metadata": {
        "colab": {
          "base_uri": "https://localhost:8080/"
        },
        "id": "v_d2uqtLh7aG",
        "outputId": "c38311ee-149f-4048-e334-c35e5e6d1f62"
      },
      "execution_count": null,
      "outputs": [
        {
          "output_type": "stream",
          "name": "stdout",
          "text": [
            "[0 1 2 0 1 2 0 0 0 0 2 0 2 1 0 0 0 0 2 2 2 1 0 1 2 1 2 2 2 2 0 1 0 0 0 2 0\n",
            " 1]\n"
          ]
        }
      ]
    },
    {
      "cell_type": "code",
      "source": [
        "from sklearn.metrics import confusion_matrix, accuracy_score\n",
        "from sklearn import metrics \n",
        "print(metrics.confusion_matrix(pca1_y_pred,pca1_y_test))\n",
        "print('The accuracy of the KNN is: ', metrics.accuracy_score(pca1_y_pred, pca1_y_test)) "
      ],
      "metadata": {
        "colab": {
          "base_uri": "https://localhost:8080/"
        },
        "id": "rEPBKcU2ir-F",
        "outputId": "56edff92-8b60-4d01-81e7-80ee94f3812b"
      },
      "execution_count": null,
      "outputs": [
        {
          "output_type": "stream",
          "name": "stdout",
          "text": [
            "[[17  0  0]\n",
            " [ 0  7  1]\n",
            " [ 0  3 10]]\n",
            "The accuracy of the KNN is:  0.8947368421052632\n"
          ]
        }
      ]
    },
    {
      "cell_type": "code",
      "source": [
        "#for pca2\n",
        "\n",
        "KNN_classifier = KNeighborsClassifier(n_neighbors = 7, metric = 'minkowski', p = 2)\n",
        "KNN_classifier.fit(pca2_X_train, pca2_y_train)"
      ],
      "metadata": {
        "colab": {
          "base_uri": "https://localhost:8080/"
        },
        "id": "Hpr0_d8rj6um",
        "outputId": "e51d50f4-77e2-4173-fac3-c539809ef7fc"
      },
      "execution_count": null,
      "outputs": [
        {
          "output_type": "execute_result",
          "data": {
            "text/plain": [
              "KNeighborsClassifier(n_neighbors=7)"
            ]
          },
          "metadata": {},
          "execution_count": 289
        }
      ]
    },
    {
      "cell_type": "code",
      "source": [
        "pca2_y_pred = KNN_classifier.predict(pca2_X_test)\n",
        "\n",
        "print(pca2_y_pred)"
      ],
      "metadata": {
        "colab": {
          "base_uri": "https://localhost:8080/"
        },
        "id": "wFPtrEZtj_e_",
        "outputId": "92dac39d-61eb-4126-a04b-26036f0dbf26"
      },
      "execution_count": null,
      "outputs": [
        {
          "output_type": "stream",
          "name": "stdout",
          "text": [
            "[2 2 1 0 1 1 2 0 1 1 2 0 0 2 1 1 1 0 0 1 1 1 0 2 0 1 0 0 1 2 0 1 1 2 0 0 1\n",
            " 0]\n"
          ]
        }
      ]
    },
    {
      "cell_type": "code",
      "source": [
        "from sklearn.metrics import confusion_matrix, accuracy_score\n",
        "from sklearn import metrics \n",
        "print(metrics.confusion_matrix(pca2_y_pred,pca2_y_test))\n",
        "print('The accuracy of the KNN is: ', metrics.accuracy_score(pca2_y_pred, pca2_y_test)) "
      ],
      "metadata": {
        "colab": {
          "base_uri": "https://localhost:8080/"
        },
        "id": "G8w6JJ3SkI-9",
        "outputId": "df178e07-3b0f-4572-806c-2ea3a7ce12ca"
      },
      "execution_count": null,
      "outputs": [
        {
          "output_type": "stream",
          "name": "stdout",
          "text": [
            "[[14  0  0]\n",
            " [ 0 13  3]\n",
            " [ 0  1  7]]\n",
            "The accuracy of the KNN is:  0.8947368421052632\n"
          ]
        }
      ]
    },
    {
      "cell_type": "markdown",
      "source": [
        "**SVM**"
      ],
      "metadata": {
        "id": "PrP6w6KrkXPq"
      }
    },
    {
      "cell_type": "code",
      "source": [
        "#for pca1\n",
        "\n",
        "from sklearn import svm\n",
        "from sklearn.metrics import confusion_matrix\n",
        "from sklearn.metrics import confusion_matrix, accuracy_score\n",
        "from sklearn import metrics \n",
        "\n",
        "SV_classifier = svm.SVC(kernel = 'linear',C = 1)\n",
        "SV_classifier.fit(pca1_X_train, pca1_y_train)\n",
        "\n",
        "pca1_y_pred = SV_classifier.predict(pca1_X_test)\n",
        "\n",
        "\n",
        "print(metrics.confusion_matrix(pca1_y_pred,pca1_y_test))\n",
        "print('The accuracy of the SVM is: ', metrics.accuracy_score(pca1_y_pred, pca1_y_test)) \n"
      ],
      "metadata": {
        "colab": {
          "base_uri": "https://localhost:8080/"
        },
        "id": "ooqUYaYzkZeX",
        "outputId": "f2dbbeae-c2c9-4e8b-d5b1-c099a22e638d"
      },
      "execution_count": null,
      "outputs": [
        {
          "output_type": "stream",
          "name": "stdout",
          "text": [
            "[[17  0  0]\n",
            " [ 0  7  0]\n",
            " [ 0  3 11]]\n",
            "The accuracy of the SVM is:  0.9210526315789473\n"
          ]
        }
      ]
    },
    {
      "cell_type": "code",
      "source": [
        "#for pca2\n",
        "\n",
        "SV_classifier = svm.SVC(kernel = 'linear',C = 1)\n",
        "SV_classifier.fit(pca2_X_train, pca2_y_train)\n",
        "\n",
        "pca2_y_pred = SV_classifier.predict(pca2_X_test)\n",
        "\n",
        "\n",
        "print(metrics.confusion_matrix(pca2_y_pred,pca2_y_test))\n",
        "print('The accuracy of the SVM is: ', metrics.accuracy_score(pca2_y_pred, pca2_y_test)) \n",
        "\n"
      ],
      "metadata": {
        "colab": {
          "base_uri": "https://localhost:8080/"
        },
        "id": "G4VtzHQfljbP",
        "outputId": "c82fc42f-3b6d-4ae2-876d-2ba24b051671"
      },
      "execution_count": null,
      "outputs": [
        {
          "output_type": "stream",
          "name": "stdout",
          "text": [
            "[[14  0  0]\n",
            " [ 0 12  2]\n",
            " [ 0  2  8]]\n",
            "The accuracy of the SVM is:  0.8947368421052632\n"
          ]
        }
      ]
    },
    {
      "cell_type": "markdown",
      "source": [
        "**Logistic Regression**"
      ],
      "metadata": {
        "id": "GcTMFqTkmAfb"
      }
    },
    {
      "cell_type": "code",
      "source": [
        "#for pca1\n",
        "from sklearn.linear_model import LogisticRegression\n",
        "from sklearn.metrics import confusion_matrix\n",
        "from sklearn.metrics import confusion_matrix, accuracy_score\n",
        "from sklearn import metrics \n",
        "\n",
        "\n",
        "LR_classifier = LogisticRegression(random_state = 0)\n",
        "LR_classifier.fit(pca1_X_train, pca1_y_train)\n",
        "\n",
        "pca1_y_pred = LR_classifier.predict(pca1_X_test)\n",
        "\n",
        "\n",
        "print(metrics.confusion_matrix(pca1_y_pred,pca1_y_test))\n",
        "print('The accuracy of the Logistic regression is: ', metrics.accuracy_score(pca1_y_pred, pca1_y_test)) "
      ],
      "metadata": {
        "colab": {
          "base_uri": "https://localhost:8080/"
        },
        "id": "Y2QNKPxTmDt6",
        "outputId": "09a69268-dc65-436a-8d51-fff5e72ed879"
      },
      "execution_count": null,
      "outputs": [
        {
          "output_type": "stream",
          "name": "stdout",
          "text": [
            "[[17  0  0]\n",
            " [ 0  7  0]\n",
            " [ 0  3 11]]\n",
            "The accuracy of the Logistic regression is:  0.9210526315789473\n"
          ]
        }
      ]
    },
    {
      "cell_type": "code",
      "source": [
        "#for pca2\n",
        "from sklearn.linear_model import LogisticRegression\n",
        "from sklearn.metrics import confusion_matrix\n",
        "from sklearn.metrics import confusion_matrix, accuracy_score\n",
        "from sklearn import metrics \n",
        "\n",
        "\n",
        "LR_classifier = LogisticRegression(random_state = 0)\n",
        "LR_classifier.fit(pca2_X_train, pca2_y_train)\n",
        "\n",
        "pca2_y_pred = LR_classifier.predict(pca2_X_test)\n",
        "\n",
        "\n",
        "print(metrics.confusion_matrix(pca2_y_pred,pca2_y_test))\n",
        "print('The accuracy of the Logistic regression is: ', metrics.accuracy_score(pca2_y_pred, pca2_y_test)) "
      ],
      "metadata": {
        "colab": {
          "base_uri": "https://localhost:8080/"
        },
        "id": "mgU4pX-knSOR",
        "outputId": "4a2a6070-47fb-4576-be8a-5ed9aff2747c"
      },
      "execution_count": null,
      "outputs": [
        {
          "output_type": "stream",
          "name": "stdout",
          "text": [
            "[[14  0  0]\n",
            " [ 0 12  2]\n",
            " [ 0  2  8]]\n",
            "The accuracy of the Logistic regression is:  0.8947368421052632\n"
          ]
        }
      ]
    },
    {
      "cell_type": "markdown",
      "source": [
        "**Multilayer Neural Network**"
      ],
      "metadata": {
        "id": "5liH75IPn0ZP"
      }
    },
    {
      "cell_type": "code",
      "source": [
        "# for pca1\n",
        "\n",
        "from sklearn.neural_network import MLPClassifier\n",
        "MLN_classifier = MLPClassifier( learning_rate='adaptive', learning_rate_init=0.005,random_state=1, max_iter=10000)\n",
        "MLN_classifier.fit(pca1_X_train, pca1_y_train)\n",
        "\n",
        "\n",
        "pca1_y_pred = MLN_classifier.predict(pca1_X_test)\n",
        "\n",
        "\n",
        "print(metrics.confusion_matrix(pca1_y_pred,pca1_y_test))\n",
        "print('The accuracy of the Multilayer neural network is: ', metrics.accuracy_score(pca1_y_pred, pca1_y_test)) \n"
      ],
      "metadata": {
        "colab": {
          "base_uri": "https://localhost:8080/"
        },
        "id": "YrojQNpXn4v7",
        "outputId": "5c542718-d949-4cbd-c5a5-11d2b613cfac"
      },
      "execution_count": null,
      "outputs": [
        {
          "output_type": "stream",
          "name": "stdout",
          "text": [
            "[[17  0  0]\n",
            " [ 0  7  0]\n",
            " [ 0  3 11]]\n",
            "The accuracy of the Multilayer neural network is:  0.9210526315789473\n"
          ]
        }
      ]
    },
    {
      "cell_type": "code",
      "source": [
        "# for pca2\n",
        "\n",
        "MLN_classifier = MLPClassifier( learning_rate='adaptive', learning_rate_init=0.005,random_state=1, max_iter=10000)\n",
        "MLN_classifier.fit(pca2_X_train, pca2_y_train)\n",
        "\n",
        "pca2_y_pred = MLN_classifier.predict(pca2_X_test)\n",
        "\n",
        "\n",
        "print(metrics.confusion_matrix(pca2_y_pred,pca2_y_test))\n",
        "print('The accuracy of the Multilayer neural network is: ', metrics.accuracy_score(pca2_y_pred, pca2_y_test)) \n",
        "\n"
      ],
      "metadata": {
        "colab": {
          "base_uri": "https://localhost:8080/"
        },
        "id": "-9QPe-RioR3q",
        "outputId": "95c2ddf6-ebb0-4bdb-c7ed-79a51f38ad89"
      },
      "execution_count": null,
      "outputs": [
        {
          "output_type": "stream",
          "name": "stdout",
          "text": [
            "[[14  0  0]\n",
            " [ 0 12  3]\n",
            " [ 0  2  7]]\n",
            "The accuracy of the Multilayer neural network is:  0.868421052631579\n"
          ]
        }
      ]
    },
    {
      "cell_type": "markdown",
      "source": [
        "**Naive Bayes**"
      ],
      "metadata": {
        "id": "PH_MEdOuoyDk"
      }
    },
    {
      "cell_type": "code",
      "source": [
        "# for pca1\n",
        "\n",
        "from sklearn.naive_bayes import GaussianNB\n",
        "NB_classifier = GaussianNB()\n",
        "NB_classifier.fit(pca1_X_train, pca1_y_train)\n",
        "\n",
        "pca1_y_pred = NB_classifier.predict(pca1_X_test)\n",
        "\n",
        "\n",
        "print(metrics.confusion_matrix(pca1_y_pred,pca1_y_test))\n",
        "print('The accuracy of the Naive Bayes is: ', metrics.accuracy_score(pca1_y_pred, pca1_y_test)) \n"
      ],
      "metadata": {
        "colab": {
          "base_uri": "https://localhost:8080/"
        },
        "id": "z-NqTwX-o1QG",
        "outputId": "ea9d80fb-a490-405a-f7a3-94d2d1ddd6dd"
      },
      "execution_count": null,
      "outputs": [
        {
          "output_type": "stream",
          "name": "stdout",
          "text": [
            "[[17  0  0]\n",
            " [ 0  7  0]\n",
            " [ 0  3 11]]\n",
            "The accuracy of the Naive Bayes is:  0.9210526315789473\n"
          ]
        }
      ]
    },
    {
      "cell_type": "code",
      "source": [
        "# for pca2\n",
        "\n",
        "NB_classifier.fit(pca2_X_train, pca2_y_train)\n",
        "\n",
        "pca2_y_pred = NB_classifier.predict(pca2_X_test)\n",
        "\n",
        "\n",
        "print(metrics.confusion_matrix(pca2_y_pred,pca2_y_test))\n",
        "print('The accuracy of the Naive Bayes  is: ', metrics.accuracy_score(pca2_y_pred, pca2_y_test)) \n",
        "\n"
      ],
      "metadata": {
        "colab": {
          "base_uri": "https://localhost:8080/"
        },
        "id": "8Igpkh92pKkB",
        "outputId": "124b42a4-725b-4482-c1e7-7c91e83b1d05"
      },
      "execution_count": null,
      "outputs": [
        {
          "output_type": "stream",
          "name": "stdout",
          "text": [
            "[[14  0  0]\n",
            " [ 0 12  3]\n",
            " [ 0  2  7]]\n",
            "The accuracy of the Naive Bayes  is:  0.868421052631579\n"
          ]
        }
      ]
    },
    {
      "cell_type": "markdown",
      "source": [
        "**Random Forest**"
      ],
      "metadata": {
        "id": "zY2vmUvUpvfC"
      }
    },
    {
      "cell_type": "code",
      "source": [
        "# for pca1\n",
        "\n",
        "from sklearn.ensemble import RandomForestClassifier\n",
        "RF_classifier = RandomForestClassifier(n_estimators = 5, random_state = 0)\n",
        "RF_classifier.fit(pca1_X_train, pca1_y_train)\n",
        "\n",
        "\n",
        "pca1_y_pred = RF_classifier.predict(pca1_X_test)\n",
        "\n",
        "\n",
        "print(metrics.confusion_matrix(pca1_y_pred,pca1_y_test))\n",
        "print('The accuracy of the Random Forest is: ', metrics.accuracy_score(pca1_y_pred, pca1_y_test)) \n"
      ],
      "metadata": {
        "colab": {
          "base_uri": "https://localhost:8080/"
        },
        "id": "4WGblFtcpx9T",
        "outputId": "9eda865a-844d-433f-a195-27ac89bde512"
      },
      "execution_count": null,
      "outputs": [
        {
          "output_type": "stream",
          "name": "stdout",
          "text": [
            "[[17  0  0]\n",
            " [ 0  9  1]\n",
            " [ 0  1 10]]\n",
            "The accuracy of the Random Forest is:  0.9473684210526315\n"
          ]
        }
      ]
    },
    {
      "cell_type": "code",
      "source": [
        "# for pca2\n",
        "\n",
        "RF_classifier.fit(pca2_X_train, pca2_y_train)\n",
        "\n",
        "pca2_y_pred = RF_classifier.predict(pca2_X_test)\n",
        "\n",
        "\n",
        "print(metrics.confusion_matrix(pca2_y_pred,pca2_y_test))\n",
        "print('The accuracy of the Random Forest  is: ', metrics.accuracy_score(pca2_y_pred, pca2_y_test)) \n",
        "\n"
      ],
      "metadata": {
        "colab": {
          "base_uri": "https://localhost:8080/"
        },
        "id": "c7LMEi0cqJmP",
        "outputId": "941f15d2-6835-4866-ae91-f97081449802"
      },
      "execution_count": null,
      "outputs": [
        {
          "output_type": "stream",
          "name": "stdout",
          "text": [
            "[[14  0  0]\n",
            " [ 0 10  2]\n",
            " [ 0  4  8]]\n",
            "The accuracy of the Random Forest  is:  0.8421052631578947\n"
          ]
        }
      ]
    },
    {
      "cell_type": "markdown",
      "source": [
        "**Decision Tree**"
      ],
      "metadata": {
        "id": "SeEnAFdWqktX"
      }
    },
    {
      "cell_type": "code",
      "source": [
        "# for pca1\n",
        "\n",
        "from sklearn.tree import DecisionTreeClassifier\n",
        "DT_classifier = DecisionTreeClassifier(criterion = 'entropy',random_state=0, max_depth=5)\n",
        "DT_classifier.fit(pca1_X_train, pca1_y_train)\n",
        "\n",
        "pca1_y_pred = DT_classifier.predict(pca1_X_test)\n",
        "\n",
        "\n",
        "print(metrics.confusion_matrix(pca1_y_pred,pca1_y_test))\n",
        "print('The accuracy of the Decision Tree is: ', metrics.accuracy_score(pca1_y_pred, pca1_y_test)) \n"
      ],
      "metadata": {
        "colab": {
          "base_uri": "https://localhost:8080/"
        },
        "id": "ySaEuVmNqnhB",
        "outputId": "42f9374f-413a-4031-d3c2-98f6c89adc6e"
      },
      "execution_count": null,
      "outputs": [
        {
          "output_type": "stream",
          "name": "stdout",
          "text": [
            "[[17  0  0]\n",
            " [ 0  9  1]\n",
            " [ 0  1 10]]\n",
            "The accuracy of the Decision Tree is:  0.9473684210526315\n"
          ]
        }
      ]
    },
    {
      "cell_type": "code",
      "source": [
        "# for pca2\n",
        "\n",
        "DT_classifier.fit(pca2_X_train, pca2_y_train)\n",
        "\n",
        "pca2_y_pred = DT_classifier.predict(pca2_X_test)\n",
        "\n",
        "\n",
        "print(metrics.confusion_matrix(pca2_y_pred,pca2_y_test))\n",
        "print('The accuracy of the Decision Tree  is: ', metrics.accuracy_score(pca2_y_pred, pca2_y_test)) \n",
        "\n",
        "\n"
      ],
      "metadata": {
        "colab": {
          "base_uri": "https://localhost:8080/"
        },
        "id": "G5YaVJGkq27C",
        "outputId": "e0cb54a1-d705-42dc-82c9-df3d4a9e3a8d"
      },
      "execution_count": null,
      "outputs": [
        {
          "output_type": "stream",
          "name": "stdout",
          "text": [
            "[[14  0  0]\n",
            " [ 0 11  1]\n",
            " [ 0  3  9]]\n",
            "The accuracy of the Decision Tree  is:  0.8947368421052632\n"
          ]
        }
      ]
    }
  ]
}